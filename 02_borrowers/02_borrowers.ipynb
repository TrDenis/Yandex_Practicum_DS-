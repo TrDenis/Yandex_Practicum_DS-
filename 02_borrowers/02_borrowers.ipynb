{
 "cells": [
  {
   "cell_type": "markdown",
   "id": "c81daeeb",
   "metadata": {
    "deletable": false,
    "id": "c81daeeb",
    "pycharm": {
     "name": "#%% md\n"
    }
   },
   "source": [
    "# Исследование надежности заемщиков\n"
   ]
  },
  {
   "cell_type": "markdown",
   "id": "827c20bf",
   "metadata": {
    "id": "827c20bf",
    "pycharm": {
     "name": "#%% md\n"
    }
   },
   "source": [
    "Во второй части проекта вы выполните шаги 3 и 4. Их вручную проверит ревьюер.\n",
    "Чтобы вам не пришлось писать код заново для шагов 1 и 2, мы добавили авторские решения в ячейки с кодом. \n",
    "\n"
   ]
  },
  {
   "cell_type": "markdown",
   "id": "744d7639",
   "metadata": {
    "deletable": false,
    "id": "744d7639",
    "pycharm": {
     "name": "#%% md\n"
    }
   },
   "source": [
    "## Откройте таблицу и изучите общую информацию о данных"
   ]
  },
  {
   "cell_type": "markdown",
   "id": "e7a14c31",
   "metadata": {
    "deletable": false,
    "id": "e7a14c31",
    "pycharm": {
     "name": "#%% md\n"
    }
   },
   "source": [
    "**Задание 1. Импортируйте библиотеку pandas. Считайте данные из csv-файла в датафрейм и сохраните в переменную `data`. Путь к файлу:**\n",
    "\n",
    "`/datasets/data.csv`"
   ]
  },
  {
   "cell_type": "code",
   "execution_count": 55,
   "id": "7bcf75c9",
   "metadata": {
    "deletable": false,
    "id": "7bcf75c9",
    "pycharm": {
     "name": "#%%\n"
    }
   },
   "outputs": [],
   "source": [
    "import pandas as pd"
   ]
  },
  {
   "cell_type": "code",
   "execution_count": null,
   "outputs": [],
   "source": [
    "try:\n",
    "    data = pd.read_csv('./datasets/data.csv')\n",
    "except:\n",
    "    data = pd.read_csv('https://***/data.csv')"
   ],
   "metadata": {
    "collapsed": false,
    "pycharm": {
     "name": "#%%\n"
    }
   }
  },
  {
   "cell_type": "markdown",
   "id": "b8038fe3",
   "metadata": {
    "deletable": false,
    "id": "b8038fe3",
    "pycharm": {
     "name": "#%% md\n"
    }
   },
   "source": [
    "**Задание 2. Выведите первые 20 строчек датафрейма `data` на экран.**"
   ]
  },
  {
   "cell_type": "code",
   "execution_count": 56,
   "id": "2a7cab99",
   "metadata": {
    "deletable": false,
    "id": "2a7cab99",
    "outputId": "1a8f3ef2-d323-4ec2-ddf7-89670b5944c4",
    "pycharm": {
     "name": "#%%\n"
    }
   },
   "outputs": [
    {
     "data": {
      "text/html": [
       "<div>\n",
       "<style scoped>\n",
       "    .dataframe tbody tr th:only-of-type {\n",
       "        vertical-align: middle;\n",
       "    }\n",
       "\n",
       "    .dataframe tbody tr th {\n",
       "        vertical-align: top;\n",
       "    }\n",
       "\n",
       "    .dataframe thead th {\n",
       "        text-align: right;\n",
       "    }\n",
       "</style>\n",
       "<table border=\"1\" class=\"dataframe\">\n",
       "  <thead>\n",
       "    <tr style=\"text-align: right;\">\n",
       "      <th></th>\n",
       "      <th>children</th>\n",
       "      <th>days_employed</th>\n",
       "      <th>dob_years</th>\n",
       "      <th>education</th>\n",
       "      <th>education_id</th>\n",
       "      <th>family_status</th>\n",
       "      <th>family_status_id</th>\n",
       "      <th>gender</th>\n",
       "      <th>income_type</th>\n",
       "      <th>debt</th>\n",
       "      <th>total_income</th>\n",
       "      <th>purpose</th>\n",
       "    </tr>\n",
       "  </thead>\n",
       "  <tbody>\n",
       "    <tr>\n",
       "      <th>0</th>\n",
       "      <td>1</td>\n",
       "      <td>-8437.673028</td>\n",
       "      <td>42</td>\n",
       "      <td>высшее</td>\n",
       "      <td>0</td>\n",
       "      <td>женат / замужем</td>\n",
       "      <td>0</td>\n",
       "      <td>F</td>\n",
       "      <td>сотрудник</td>\n",
       "      <td>0</td>\n",
       "      <td>253875.639453</td>\n",
       "      <td>покупка жилья</td>\n",
       "    </tr>\n",
       "    <tr>\n",
       "      <th>1</th>\n",
       "      <td>1</td>\n",
       "      <td>-4024.803754</td>\n",
       "      <td>36</td>\n",
       "      <td>среднее</td>\n",
       "      <td>1</td>\n",
       "      <td>женат / замужем</td>\n",
       "      <td>0</td>\n",
       "      <td>F</td>\n",
       "      <td>сотрудник</td>\n",
       "      <td>0</td>\n",
       "      <td>112080.014102</td>\n",
       "      <td>приобретение автомобиля</td>\n",
       "    </tr>\n",
       "    <tr>\n",
       "      <th>2</th>\n",
       "      <td>0</td>\n",
       "      <td>-5623.422610</td>\n",
       "      <td>33</td>\n",
       "      <td>Среднее</td>\n",
       "      <td>1</td>\n",
       "      <td>женат / замужем</td>\n",
       "      <td>0</td>\n",
       "      <td>M</td>\n",
       "      <td>сотрудник</td>\n",
       "      <td>0</td>\n",
       "      <td>145885.952297</td>\n",
       "      <td>покупка жилья</td>\n",
       "    </tr>\n",
       "    <tr>\n",
       "      <th>3</th>\n",
       "      <td>3</td>\n",
       "      <td>-4124.747207</td>\n",
       "      <td>32</td>\n",
       "      <td>среднее</td>\n",
       "      <td>1</td>\n",
       "      <td>женат / замужем</td>\n",
       "      <td>0</td>\n",
       "      <td>M</td>\n",
       "      <td>сотрудник</td>\n",
       "      <td>0</td>\n",
       "      <td>267628.550329</td>\n",
       "      <td>дополнительное образование</td>\n",
       "    </tr>\n",
       "    <tr>\n",
       "      <th>4</th>\n",
       "      <td>0</td>\n",
       "      <td>340266.072047</td>\n",
       "      <td>53</td>\n",
       "      <td>среднее</td>\n",
       "      <td>1</td>\n",
       "      <td>гражданский брак</td>\n",
       "      <td>1</td>\n",
       "      <td>F</td>\n",
       "      <td>пенсионер</td>\n",
       "      <td>0</td>\n",
       "      <td>158616.077870</td>\n",
       "      <td>сыграть свадьбу</td>\n",
       "    </tr>\n",
       "    <tr>\n",
       "      <th>5</th>\n",
       "      <td>0</td>\n",
       "      <td>-926.185831</td>\n",
       "      <td>27</td>\n",
       "      <td>высшее</td>\n",
       "      <td>0</td>\n",
       "      <td>гражданский брак</td>\n",
       "      <td>1</td>\n",
       "      <td>M</td>\n",
       "      <td>компаньон</td>\n",
       "      <td>0</td>\n",
       "      <td>255763.565419</td>\n",
       "      <td>покупка жилья</td>\n",
       "    </tr>\n",
       "    <tr>\n",
       "      <th>6</th>\n",
       "      <td>0</td>\n",
       "      <td>-2879.202052</td>\n",
       "      <td>43</td>\n",
       "      <td>высшее</td>\n",
       "      <td>0</td>\n",
       "      <td>женат / замужем</td>\n",
       "      <td>0</td>\n",
       "      <td>F</td>\n",
       "      <td>компаньон</td>\n",
       "      <td>0</td>\n",
       "      <td>240525.971920</td>\n",
       "      <td>операции с жильем</td>\n",
       "    </tr>\n",
       "    <tr>\n",
       "      <th>7</th>\n",
       "      <td>0</td>\n",
       "      <td>-152.779569</td>\n",
       "      <td>50</td>\n",
       "      <td>СРЕДНЕЕ</td>\n",
       "      <td>1</td>\n",
       "      <td>женат / замужем</td>\n",
       "      <td>0</td>\n",
       "      <td>M</td>\n",
       "      <td>сотрудник</td>\n",
       "      <td>0</td>\n",
       "      <td>135823.934197</td>\n",
       "      <td>образование</td>\n",
       "    </tr>\n",
       "    <tr>\n",
       "      <th>8</th>\n",
       "      <td>2</td>\n",
       "      <td>-6929.865299</td>\n",
       "      <td>35</td>\n",
       "      <td>ВЫСШЕЕ</td>\n",
       "      <td>0</td>\n",
       "      <td>гражданский брак</td>\n",
       "      <td>1</td>\n",
       "      <td>F</td>\n",
       "      <td>сотрудник</td>\n",
       "      <td>0</td>\n",
       "      <td>95856.832424</td>\n",
       "      <td>на проведение свадьбы</td>\n",
       "    </tr>\n",
       "    <tr>\n",
       "      <th>9</th>\n",
       "      <td>0</td>\n",
       "      <td>-2188.756445</td>\n",
       "      <td>41</td>\n",
       "      <td>среднее</td>\n",
       "      <td>1</td>\n",
       "      <td>женат / замужем</td>\n",
       "      <td>0</td>\n",
       "      <td>M</td>\n",
       "      <td>сотрудник</td>\n",
       "      <td>0</td>\n",
       "      <td>144425.938277</td>\n",
       "      <td>покупка жилья для семьи</td>\n",
       "    </tr>\n",
       "    <tr>\n",
       "      <th>10</th>\n",
       "      <td>2</td>\n",
       "      <td>-4171.483647</td>\n",
       "      <td>36</td>\n",
       "      <td>высшее</td>\n",
       "      <td>0</td>\n",
       "      <td>женат / замужем</td>\n",
       "      <td>0</td>\n",
       "      <td>M</td>\n",
       "      <td>компаньон</td>\n",
       "      <td>0</td>\n",
       "      <td>113943.491460</td>\n",
       "      <td>покупка недвижимости</td>\n",
       "    </tr>\n",
       "    <tr>\n",
       "      <th>11</th>\n",
       "      <td>0</td>\n",
       "      <td>-792.701887</td>\n",
       "      <td>40</td>\n",
       "      <td>среднее</td>\n",
       "      <td>1</td>\n",
       "      <td>женат / замужем</td>\n",
       "      <td>0</td>\n",
       "      <td>F</td>\n",
       "      <td>сотрудник</td>\n",
       "      <td>0</td>\n",
       "      <td>77069.234271</td>\n",
       "      <td>покупка коммерческой недвижимости</td>\n",
       "    </tr>\n",
       "    <tr>\n",
       "      <th>12</th>\n",
       "      <td>0</td>\n",
       "      <td>NaN</td>\n",
       "      <td>65</td>\n",
       "      <td>среднее</td>\n",
       "      <td>1</td>\n",
       "      <td>гражданский брак</td>\n",
       "      <td>1</td>\n",
       "      <td>M</td>\n",
       "      <td>пенсионер</td>\n",
       "      <td>0</td>\n",
       "      <td>NaN</td>\n",
       "      <td>сыграть свадьбу</td>\n",
       "    </tr>\n",
       "    <tr>\n",
       "      <th>13</th>\n",
       "      <td>0</td>\n",
       "      <td>-1846.641941</td>\n",
       "      <td>54</td>\n",
       "      <td>неоконченное высшее</td>\n",
       "      <td>2</td>\n",
       "      <td>женат / замужем</td>\n",
       "      <td>0</td>\n",
       "      <td>F</td>\n",
       "      <td>сотрудник</td>\n",
       "      <td>0</td>\n",
       "      <td>130458.228857</td>\n",
       "      <td>приобретение автомобиля</td>\n",
       "    </tr>\n",
       "    <tr>\n",
       "      <th>14</th>\n",
       "      <td>0</td>\n",
       "      <td>-1844.956182</td>\n",
       "      <td>56</td>\n",
       "      <td>высшее</td>\n",
       "      <td>0</td>\n",
       "      <td>гражданский брак</td>\n",
       "      <td>1</td>\n",
       "      <td>F</td>\n",
       "      <td>компаньон</td>\n",
       "      <td>1</td>\n",
       "      <td>165127.911772</td>\n",
       "      <td>покупка жилой недвижимости</td>\n",
       "    </tr>\n",
       "    <tr>\n",
       "      <th>15</th>\n",
       "      <td>1</td>\n",
       "      <td>-972.364419</td>\n",
       "      <td>26</td>\n",
       "      <td>среднее</td>\n",
       "      <td>1</td>\n",
       "      <td>женат / замужем</td>\n",
       "      <td>0</td>\n",
       "      <td>F</td>\n",
       "      <td>сотрудник</td>\n",
       "      <td>0</td>\n",
       "      <td>116820.904450</td>\n",
       "      <td>строительство собственной недвижимости</td>\n",
       "    </tr>\n",
       "    <tr>\n",
       "      <th>16</th>\n",
       "      <td>0</td>\n",
       "      <td>-1719.934226</td>\n",
       "      <td>35</td>\n",
       "      <td>среднее</td>\n",
       "      <td>1</td>\n",
       "      <td>женат / замужем</td>\n",
       "      <td>0</td>\n",
       "      <td>F</td>\n",
       "      <td>сотрудник</td>\n",
       "      <td>0</td>\n",
       "      <td>289202.704229</td>\n",
       "      <td>недвижимость</td>\n",
       "    </tr>\n",
       "    <tr>\n",
       "      <th>17</th>\n",
       "      <td>0</td>\n",
       "      <td>-2369.999720</td>\n",
       "      <td>33</td>\n",
       "      <td>высшее</td>\n",
       "      <td>0</td>\n",
       "      <td>гражданский брак</td>\n",
       "      <td>1</td>\n",
       "      <td>M</td>\n",
       "      <td>сотрудник</td>\n",
       "      <td>0</td>\n",
       "      <td>90410.586745</td>\n",
       "      <td>строительство недвижимости</td>\n",
       "    </tr>\n",
       "    <tr>\n",
       "      <th>18</th>\n",
       "      <td>0</td>\n",
       "      <td>400281.136913</td>\n",
       "      <td>53</td>\n",
       "      <td>среднее</td>\n",
       "      <td>1</td>\n",
       "      <td>вдовец / вдова</td>\n",
       "      <td>2</td>\n",
       "      <td>F</td>\n",
       "      <td>пенсионер</td>\n",
       "      <td>0</td>\n",
       "      <td>56823.777243</td>\n",
       "      <td>на покупку подержанного автомобиля</td>\n",
       "    </tr>\n",
       "    <tr>\n",
       "      <th>19</th>\n",
       "      <td>0</td>\n",
       "      <td>-10038.818549</td>\n",
       "      <td>48</td>\n",
       "      <td>СРЕДНЕЕ</td>\n",
       "      <td>1</td>\n",
       "      <td>в разводе</td>\n",
       "      <td>3</td>\n",
       "      <td>F</td>\n",
       "      <td>сотрудник</td>\n",
       "      <td>0</td>\n",
       "      <td>242831.107982</td>\n",
       "      <td>на покупку своего автомобиля</td>\n",
       "    </tr>\n",
       "  </tbody>\n",
       "</table>\n",
       "</div>"
      ],
      "text/plain": [
       "    children  days_employed  dob_years            education  education_id  \\\n",
       "0          1   -8437.673028         42               высшее             0   \n",
       "1          1   -4024.803754         36              среднее             1   \n",
       "2          0   -5623.422610         33              Среднее             1   \n",
       "3          3   -4124.747207         32              среднее             1   \n",
       "4          0  340266.072047         53              среднее             1   \n",
       "5          0    -926.185831         27               высшее             0   \n",
       "6          0   -2879.202052         43               высшее             0   \n",
       "7          0    -152.779569         50              СРЕДНЕЕ             1   \n",
       "8          2   -6929.865299         35               ВЫСШЕЕ             0   \n",
       "9          0   -2188.756445         41              среднее             1   \n",
       "10         2   -4171.483647         36               высшее             0   \n",
       "11         0    -792.701887         40              среднее             1   \n",
       "12         0            NaN         65              среднее             1   \n",
       "13         0   -1846.641941         54  неоконченное высшее             2   \n",
       "14         0   -1844.956182         56               высшее             0   \n",
       "15         1    -972.364419         26              среднее             1   \n",
       "16         0   -1719.934226         35              среднее             1   \n",
       "17         0   -2369.999720         33               высшее             0   \n",
       "18         0  400281.136913         53              среднее             1   \n",
       "19         0  -10038.818549         48              СРЕДНЕЕ             1   \n",
       "\n",
       "       family_status  family_status_id gender income_type  debt  \\\n",
       "0    женат / замужем                 0      F   сотрудник     0   \n",
       "1    женат / замужем                 0      F   сотрудник     0   \n",
       "2    женат / замужем                 0      M   сотрудник     0   \n",
       "3    женат / замужем                 0      M   сотрудник     0   \n",
       "4   гражданский брак                 1      F   пенсионер     0   \n",
       "5   гражданский брак                 1      M   компаньон     0   \n",
       "6    женат / замужем                 0      F   компаньон     0   \n",
       "7    женат / замужем                 0      M   сотрудник     0   \n",
       "8   гражданский брак                 1      F   сотрудник     0   \n",
       "9    женат / замужем                 0      M   сотрудник     0   \n",
       "10   женат / замужем                 0      M   компаньон     0   \n",
       "11   женат / замужем                 0      F   сотрудник     0   \n",
       "12  гражданский брак                 1      M   пенсионер     0   \n",
       "13   женат / замужем                 0      F   сотрудник     0   \n",
       "14  гражданский брак                 1      F   компаньон     1   \n",
       "15   женат / замужем                 0      F   сотрудник     0   \n",
       "16   женат / замужем                 0      F   сотрудник     0   \n",
       "17  гражданский брак                 1      M   сотрудник     0   \n",
       "18    вдовец / вдова                 2      F   пенсионер     0   \n",
       "19         в разводе                 3      F   сотрудник     0   \n",
       "\n",
       "     total_income                                 purpose  \n",
       "0   253875.639453                           покупка жилья  \n",
       "1   112080.014102                 приобретение автомобиля  \n",
       "2   145885.952297                           покупка жилья  \n",
       "3   267628.550329              дополнительное образование  \n",
       "4   158616.077870                         сыграть свадьбу  \n",
       "5   255763.565419                           покупка жилья  \n",
       "6   240525.971920                       операции с жильем  \n",
       "7   135823.934197                             образование  \n",
       "8    95856.832424                   на проведение свадьбы  \n",
       "9   144425.938277                 покупка жилья для семьи  \n",
       "10  113943.491460                    покупка недвижимости  \n",
       "11   77069.234271       покупка коммерческой недвижимости  \n",
       "12            NaN                         сыграть свадьбу  \n",
       "13  130458.228857                 приобретение автомобиля  \n",
       "14  165127.911772              покупка жилой недвижимости  \n",
       "15  116820.904450  строительство собственной недвижимости  \n",
       "16  289202.704229                            недвижимость  \n",
       "17   90410.586745              строительство недвижимости  \n",
       "18   56823.777243      на покупку подержанного автомобиля  \n",
       "19  242831.107982            на покупку своего автомобиля  "
      ]
     },
     "execution_count": 56,
     "metadata": {},
     "output_type": "execute_result"
    }
   ],
   "source": [
    "data.head(20)"
   ]
  },
  {
   "cell_type": "markdown",
   "id": "1c12e233",
   "metadata": {
    "deletable": false,
    "id": "1c12e233",
    "pycharm": {
     "name": "#%% md\n"
    }
   },
   "source": [
    "**Задание 3. Выведите основную информацию о датафрейме с помощью метода `info()`.**"
   ]
  },
  {
   "cell_type": "code",
   "execution_count": 57,
   "id": "2b757bca",
   "metadata": {
    "deletable": false,
    "id": "2b757bca",
    "outputId": "15376089-8dad-46c9-b520-c05248d43158",
    "pycharm": {
     "name": "#%%\n"
    }
   },
   "outputs": [
    {
     "name": "stdout",
     "output_type": "stream",
     "text": [
      "<class 'pandas.core.frame.DataFrame'>\n",
      "RangeIndex: 21525 entries, 0 to 21524\n",
      "Data columns (total 12 columns):\n",
      " #   Column            Non-Null Count  Dtype  \n",
      "---  ------            --------------  -----  \n",
      " 0   children          21525 non-null  int64  \n",
      " 1   days_employed     19351 non-null  float64\n",
      " 2   dob_years         21525 non-null  int64  \n",
      " 3   education         21525 non-null  object \n",
      " 4   education_id      21525 non-null  int64  \n",
      " 5   family_status     21525 non-null  object \n",
      " 6   family_status_id  21525 non-null  int64  \n",
      " 7   gender            21525 non-null  object \n",
      " 8   income_type       21525 non-null  object \n",
      " 9   debt              21525 non-null  int64  \n",
      " 10  total_income      19351 non-null  float64\n",
      " 11  purpose           21525 non-null  object \n",
      "dtypes: float64(2), int64(5), object(5)\n",
      "memory usage: 2.0+ MB\n"
     ]
    }
   ],
   "source": [
    "data.info()"
   ]
  },
  {
   "cell_type": "markdown",
   "id": "333ec665",
   "metadata": {
    "deletable": false,
    "id": "333ec665",
    "pycharm": {
     "name": "#%% md\n"
    }
   },
   "source": [
    "## Предобработка данных"
   ]
  },
  {
   "cell_type": "markdown",
   "id": "02d92d53",
   "metadata": {
    "deletable": false,
    "id": "02d92d53",
    "pycharm": {
     "name": "#%% md\n"
    }
   },
   "source": [
    "### Удаление пропусков"
   ]
  },
  {
   "cell_type": "markdown",
   "id": "cd84967c",
   "metadata": {
    "deletable": false,
    "id": "cd84967c",
    "pycharm": {
     "name": "#%% md\n"
    }
   },
   "source": [
    "**Задание 4. Выведите количество пропущенных значений для каждого столбца. Используйте комбинацию двух методов.**"
   ]
  },
  {
   "cell_type": "code",
   "execution_count": 58,
   "id": "7f9b2309",
   "metadata": {
    "deletable": false,
    "id": "7f9b2309",
    "outputId": "81f4d817-781c-465c-ed15-91ce4446810d",
    "pycharm": {
     "name": "#%%\n"
    }
   },
   "outputs": [
    {
     "data": {
      "text/plain": [
       "children               0\n",
       "days_employed       2174\n",
       "dob_years              0\n",
       "education              0\n",
       "education_id           0\n",
       "family_status          0\n",
       "family_status_id       0\n",
       "gender                 0\n",
       "income_type            0\n",
       "debt                   0\n",
       "total_income        2174\n",
       "purpose                0\n",
       "dtype: int64"
      ]
     },
     "execution_count": 58,
     "metadata": {},
     "output_type": "execute_result"
    }
   ],
   "source": [
    "data.isna().sum()"
   ]
  },
  {
   "cell_type": "markdown",
   "id": "db86e27b",
   "metadata": {
    "deletable": false,
    "id": "db86e27b",
    "pycharm": {
     "name": "#%% md\n"
    }
   },
   "source": [
    "**Задание 5. В двух столбцах есть пропущенные значения. Один из них — `days_employed`. Пропуски в этом столбце вы обработаете на следующем этапе. Другой столбец с пропущенными значениями — `total_income` — хранит данные о доходах. На сумму дохода сильнее всего влияет тип занятости, поэтому заполнить пропуски в этом столбце нужно медианным значением по каждому типу из столбца `income_type`. Например, у человека с типом занятости `сотрудник` пропуск в столбце `total_income` должен быть заполнен медианным доходом среди всех записей с тем же типом.**"
   ]
  },
  {
   "cell_type": "code",
   "execution_count": 59,
   "id": "42006a93",
   "metadata": {
    "deletable": false,
    "id": "42006a93",
    "pycharm": {
     "name": "#%%\n"
    }
   },
   "outputs": [],
   "source": [
    "for t in data['income_type'].unique():\n",
    "    data.loc[(data['income_type'] == t) & (data['total_income'].isna()), 'total_income'] = \\\n",
    "    data.loc[(data['income_type'] == t), 'total_income'].median()"
   ]
  },
  {
   "cell_type": "markdown",
   "id": "89da5ece",
   "metadata": {
    "deletable": false,
    "id": "89da5ece",
    "pycharm": {
     "name": "#%% md\n"
    }
   },
   "source": [
    "### Обработка аномальных значений"
   ]
  },
  {
   "cell_type": "markdown",
   "id": "57964554",
   "metadata": {
    "deletable": false,
    "id": "57964554",
    "pycharm": {
     "name": "#%% md\n"
    }
   },
   "source": [
    "**Задание 6. В данных могут встречаться артефакты (аномалии) — значения, которые не отражают действительность и появились по какой-то ошибке. таким артефактом будет отрицательное количество дней трудового стажа в столбце `days_employed`. Для реальных данных это нормально. Обработайте значения в этом столбце: замените все отрицательные значения положительными с помощью метода `abs()`.**"
   ]
  },
  {
   "cell_type": "code",
   "execution_count": 60,
   "id": "f6f055bf",
   "metadata": {
    "deletable": false,
    "id": "f6f055bf",
    "pycharm": {
     "name": "#%%\n"
    }
   },
   "outputs": [],
   "source": [
    "data['days_employed'] = data['days_employed'].abs()"
   ]
  },
  {
   "cell_type": "markdown",
   "id": "6107dd2f",
   "metadata": {
    "deletable": false,
    "id": "6107dd2f",
    "pycharm": {
     "name": "#%% md\n"
    }
   },
   "source": [
    "**Задание 7. Для каждого типа занятости выведите медианное значение трудового стажа `days_employed` в днях.**"
   ]
  },
  {
   "cell_type": "code",
   "execution_count": 61,
   "id": "85a5faf6",
   "metadata": {
    "deletable": false,
    "id": "85a5faf6",
    "outputId": "801ef80e-522b-4668-f34e-565af7432bcf",
    "pycharm": {
     "name": "#%%\n"
    }
   },
   "outputs": [
    {
     "data": {
      "text/plain": [
       "income_type\n",
       "безработный        366413.652744\n",
       "в декрете            3296.759962\n",
       "госслужащий          2689.368353\n",
       "компаньон            1547.382223\n",
       "пенсионер          365213.306266\n",
       "предприниматель       520.848083\n",
       "сотрудник            1574.202821\n",
       "студент               578.751554\n",
       "Name: days_employed, dtype: float64"
      ]
     },
     "execution_count": 61,
     "metadata": {},
     "output_type": "execute_result"
    }
   ],
   "source": [
    "data.groupby('income_type')['days_employed'].agg('median')"
   ]
  },
  {
   "cell_type": "markdown",
   "id": "38d1a030",
   "metadata": {
    "deletable": false,
    "id": "38d1a030",
    "pycharm": {
     "name": "#%% md\n"
    }
   },
   "source": [
    "У двух типов (безработные и пенсионеры) получатся аномально большие значения. Исправить такие значения сложно, поэтому оставьте их как есть. Тем более этот столбец не понадобится вам для исследования."
   ]
  },
  {
   "cell_type": "markdown",
   "id": "d8a9f147",
   "metadata": {
    "deletable": false,
    "id": "d8a9f147",
    "pycharm": {
     "name": "#%% md\n"
    }
   },
   "source": [
    "**Задание 8. Выведите перечень уникальных значений столбца `children`.**"
   ]
  },
  {
   "cell_type": "code",
   "execution_count": 62,
   "id": "ef5056eb",
   "metadata": {
    "deletable": false,
    "id": "ef5056eb",
    "outputId": "6975b15c-7f95-4697-d16d-a0c79b657b03",
    "pycharm": {
     "name": "#%%\n"
    }
   },
   "outputs": [
    {
     "data": {
      "text/plain": [
       "array([ 1,  0,  3,  2, -1,  4, 20,  5])"
      ]
     },
     "execution_count": 62,
     "metadata": {},
     "output_type": "execute_result"
    }
   ],
   "source": [
    "data['children'].unique()"
   ]
  },
  {
   "cell_type": "markdown",
   "id": "40b9ebf2",
   "metadata": {
    "deletable": false,
    "id": "40b9ebf2",
    "pycharm": {
     "name": "#%% md\n"
    }
   },
   "source": [
    "**Задание 9. В столбце `children` есть два аномальных значения. Удалите строки, в которых встречаются такие аномальные значения из датафрейма `data`.**"
   ]
  },
  {
   "cell_type": "code",
   "execution_count": 63,
   "id": "3ff9801d",
   "metadata": {
    "deletable": false,
    "id": "3ff9801d",
    "pycharm": {
     "name": "#%%\n"
    }
   },
   "outputs": [],
   "source": [
    "data = data[(data['children'] != -1) & (data['children'] != 20)]"
   ]
  },
  {
   "cell_type": "markdown",
   "id": "bbc4d0ce",
   "metadata": {
    "deletable": false,
    "id": "bbc4d0ce",
    "pycharm": {
     "name": "#%% md\n"
    }
   },
   "source": [
    "**Задание 10. Ещё раз выведите перечень уникальных значений столбца `children`, чтобы убедиться, что артефакты удалены.**"
   ]
  },
  {
   "cell_type": "code",
   "execution_count": 64,
   "id": "ad4fa8b7",
   "metadata": {
    "deletable": false,
    "id": "ad4fa8b7",
    "outputId": "b2097101-d49d-44d9-901b-32a65c9463d1",
    "pycharm": {
     "name": "#%%\n"
    }
   },
   "outputs": [
    {
     "data": {
      "text/plain": [
       "array([1, 0, 3, 2, 4, 5])"
      ]
     },
     "execution_count": 64,
     "metadata": {},
     "output_type": "execute_result"
    }
   ],
   "source": [
    "data['children'].unique()"
   ]
  },
  {
   "cell_type": "markdown",
   "id": "75440b63",
   "metadata": {
    "deletable": false,
    "id": "75440b63",
    "pycharm": {
     "name": "#%% md\n"
    }
   },
   "source": [
    "### Удаление пропусков (продолжение)"
   ]
  },
  {
   "cell_type": "markdown",
   "id": "f4ea573f",
   "metadata": {
    "deletable": false,
    "id": "f4ea573f",
    "pycharm": {
     "name": "#%% md\n"
    }
   },
   "source": [
    "**Задание 11. Заполните пропуски в столбце `days_employed` медианными значениями по каждого типа занятости `income_type`.**"
   ]
  },
  {
   "cell_type": "code",
   "execution_count": 65,
   "id": "af6b1a7e",
   "metadata": {
    "deletable": false,
    "id": "af6b1a7e",
    "pycharm": {
     "name": "#%%\n"
    }
   },
   "outputs": [],
   "source": [
    "for t in data['income_type'].unique():\n",
    "    data.loc[(data['income_type'] == t) & (data['days_employed'].isna()), 'days_employed'] = \\\n",
    "    data.loc[(data['income_type'] == t), 'days_employed'].median()"
   ]
  },
  {
   "cell_type": "markdown",
   "id": "2753f40d",
   "metadata": {
    "deletable": false,
    "id": "2753f40d",
    "pycharm": {
     "name": "#%% md\n"
    }
   },
   "source": [
    "**Задание 12. Убедитесь, что все пропуски заполнены. Проверьте себя и ещё раз выведите количество пропущенных значений для каждого столбца с помощью двух методов.**"
   ]
  },
  {
   "cell_type": "code",
   "execution_count": 66,
   "id": "55f78bc2",
   "metadata": {
    "deletable": false,
    "id": "55f78bc2",
    "outputId": "8da1e4e1-358e-4e87-98c9-f261bce0a7b2",
    "pycharm": {
     "name": "#%%\n"
    }
   },
   "outputs": [
    {
     "data": {
      "text/plain": [
       "children            0\n",
       "days_employed       0\n",
       "dob_years           0\n",
       "education           0\n",
       "education_id        0\n",
       "family_status       0\n",
       "family_status_id    0\n",
       "gender              0\n",
       "income_type         0\n",
       "debt                0\n",
       "total_income        0\n",
       "purpose             0\n",
       "dtype: int64"
      ]
     },
     "execution_count": 66,
     "metadata": {},
     "output_type": "execute_result"
    }
   ],
   "source": [
    "data.isna().sum()"
   ]
  },
  {
   "cell_type": "markdown",
   "id": "ddc81e43",
   "metadata": {
    "deletable": false,
    "id": "ddc81e43",
    "pycharm": {
     "name": "#%% md\n"
    }
   },
   "source": [
    "### Изменение типов данных"
   ]
  },
  {
   "cell_type": "markdown",
   "id": "42d19d24",
   "metadata": {
    "deletable": false,
    "id": "42d19d24",
    "pycharm": {
     "name": "#%% md\n"
    }
   },
   "source": [
    "**Задание 13. Замените вещественный тип данных в столбце `total_income` на целочисленный с помощью метода `astype()`.**"
   ]
  },
  {
   "cell_type": "code",
   "execution_count": 67,
   "id": "920b65ad",
   "metadata": {
    "deletable": false,
    "id": "920b65ad",
    "pycharm": {
     "name": "#%%\n"
    }
   },
   "outputs": [],
   "source": [
    "data['total_income'] = data['total_income'].astype(int)"
   ]
  },
  {
   "cell_type": "markdown",
   "id": "80c420ba",
   "metadata": {
    "deletable": false,
    "id": "80c420ba",
    "pycharm": {
     "name": "#%% md\n"
    }
   },
   "source": [
    "### Обработка дубликатов"
   ]
  },
  {
   "cell_type": "markdown",
   "id": "dc587695",
   "metadata": {
    "deletable": false,
    "id": "dc587695",
    "pycharm": {
     "name": "#%% md\n"
    }
   },
   "source": [
    "**Задание 14. Выведите на экран количество строк-дубликатов в данных. Если такие строки присутствуют, удалите их.**"
   ]
  },
  {
   "cell_type": "code",
   "execution_count": 68,
   "id": "3ee445e4",
   "metadata": {
    "deletable": false,
    "id": "3ee445e4",
    "outputId": "9684deba-1934-42d1-99e1-cda61740f822",
    "pycharm": {
     "name": "#%%\n"
    }
   },
   "outputs": [
    {
     "data": {
      "text/plain": [
       "54"
      ]
     },
     "execution_count": 68,
     "metadata": {},
     "output_type": "execute_result"
    }
   ],
   "source": [
    "data.duplicated().sum()"
   ]
  },
  {
   "cell_type": "code",
   "execution_count": 69,
   "id": "8575fe05",
   "metadata": {
    "deletable": false,
    "id": "8575fe05",
    "pycharm": {
     "name": "#%%\n"
    }
   },
   "outputs": [],
   "source": [
    "data = data.drop_duplicates()"
   ]
  },
  {
   "cell_type": "markdown",
   "id": "9771a76c",
   "metadata": {
    "deletable": false,
    "id": "9771a76c",
    "pycharm": {
     "name": "#%% md\n"
    }
   },
   "source": [
    "**Задание 15. Обработайте неявные дубликаты в столбце `education`. В этом столбце есть одни и те же значения, но записанные по-разному: с использованием заглавных и строчных букв. Приведите их к нижнему регистру. Проверьте остальные столбцы.**"
   ]
  },
  {
   "cell_type": "markdown",
   "id": "29df3b42",
   "metadata": {
    "pycharm": {
     "name": "#%% md\n"
    }
   },
   "source": [
    " <a id='header-2-6'></a>"
   ]
  },
  {
   "cell_type": "code",
   "execution_count": 70,
   "id": "a9f8e2bf",
   "metadata": {
    "deletable": false,
    "id": "a9f8e2bf",
    "pycharm": {
     "name": "#%%\n"
    }
   },
   "outputs": [],
   "source": [
    "data['education'] = data['education'].str.lower()"
   ]
  },
  {
   "cell_type": "markdown",
   "id": "9904cf55",
   "metadata": {
    "deletable": false,
    "id": "9904cf55",
    "pycharm": {
     "name": "#%% md\n"
    }
   },
   "source": [
    "### Категоризация данных"
   ]
  },
  {
   "cell_type": "markdown",
   "id": "72fcc8a2",
   "metadata": {
    "deletable": false,
    "id": "72fcc8a2",
    "pycharm": {
     "name": "#%% md\n"
    }
   },
   "source": [
    "**Задание 16. На основании диапазонов, указанных ниже, создайте в датафрейме `data` столбец `total_income_category` с категориями:**\n",
    "\n",
    "- 0–30000 — `'E'`;\n",
    "- 30001–50000 — `'D'`;\n",
    "- 50001–200000 — `'C'`;\n",
    "- 200001–1000000 — `'B'`;\n",
    "- 1000001 и выше — `'A'`.\n",
    "\n",
    "\n",
    "**Например, кредитополучателю с доходом 25000 нужно назначить категорию `'E'`, а клиенту, получающему 235000, — `'B'`. Используйте собственную функцию с именем `categorize_income()` и метод `apply()`.**"
   ]
  },
  {
   "cell_type": "code",
   "execution_count": 71,
   "id": "e1771346",
   "metadata": {
    "deletable": false,
    "id": "e1771346",
    "pycharm": {
     "name": "#%%\n"
    }
   },
   "outputs": [],
   "source": [
    "def categorize_income(income):\n",
    "    try:\n",
    "        if 0 <= income <= 30000:\n",
    "            return 'E'\n",
    "        elif 30001 <= income <= 50000:\n",
    "            return 'D'\n",
    "        elif 50001 <= income <= 200000:\n",
    "            return 'C'\n",
    "        elif 200001 <= income <= 1000000:\n",
    "            return 'B'\n",
    "        elif income >= 1000001:\n",
    "            return 'A'\n",
    "    except:\n",
    "        pass"
   ]
  },
  {
   "cell_type": "code",
   "execution_count": 72,
   "id": "d5f3586d",
   "metadata": {
    "deletable": false,
    "id": "d5f3586d",
    "pycharm": {
     "name": "#%%\n"
    }
   },
   "outputs": [],
   "source": [
    "data['total_income_category'] = data['total_income'].apply(categorize_income)"
   ]
  },
  {
   "cell_type": "markdown",
   "id": "dde49b5c",
   "metadata": {
    "deletable": false,
    "id": "dde49b5c",
    "pycharm": {
     "name": "#%% md\n"
    }
   },
   "source": [
    "**Задание 17. Выведите на экран перечень уникальных целей взятия кредита из столбца `purpose`.**"
   ]
  },
  {
   "cell_type": "code",
   "execution_count": 73,
   "id": "f67ce9b3",
   "metadata": {
    "deletable": false,
    "id": "f67ce9b3",
    "outputId": "673c12d9-7d7e-4ae0-9812-c622c89dd244",
    "pycharm": {
     "name": "#%%\n"
    }
   },
   "outputs": [
    {
     "data": {
      "text/plain": [
       "array(['покупка жилья', 'приобретение автомобиля',\n",
       "       'дополнительное образование', 'сыграть свадьбу',\n",
       "       'операции с жильем', 'образование', 'на проведение свадьбы',\n",
       "       'покупка жилья для семьи', 'покупка недвижимости',\n",
       "       'покупка коммерческой недвижимости', 'покупка жилой недвижимости',\n",
       "       'строительство собственной недвижимости', 'недвижимость',\n",
       "       'строительство недвижимости', 'на покупку подержанного автомобиля',\n",
       "       'на покупку своего автомобиля',\n",
       "       'операции с коммерческой недвижимостью',\n",
       "       'строительство жилой недвижимости', 'жилье',\n",
       "       'операции со своей недвижимостью', 'автомобили',\n",
       "       'заняться образованием', 'сделка с подержанным автомобилем',\n",
       "       'получение образования', 'автомобиль', 'свадьба',\n",
       "       'получение дополнительного образования', 'покупка своего жилья',\n",
       "       'операции с недвижимостью', 'получение высшего образования',\n",
       "       'свой автомобиль', 'сделка с автомобилем',\n",
       "       'профильное образование', 'высшее образование',\n",
       "       'покупка жилья для сдачи', 'на покупку автомобиля', 'ремонт жилью',\n",
       "       'заняться высшим образованием'], dtype=object)"
      ]
     },
     "execution_count": 73,
     "metadata": {},
     "output_type": "execute_result"
    }
   ],
   "source": [
    "data['purpose'].unique()"
   ]
  },
  {
   "cell_type": "markdown",
   "id": "6910de03",
   "metadata": {
    "pycharm": {
     "name": "#%% md\n"
    }
   },
   "source": [
    "<a id='task18'></a>"
   ]
  },
  {
   "cell_type": "markdown",
   "id": "85d0aef0",
   "metadata": {
    "deletable": false,
    "id": "85d0aef0",
    "pycharm": {
     "name": "#%% md\n"
    }
   },
   "source": [
    "**Задание 18. Создайте функцию, которая на основании данных из столбца `purpose` сформирует новый столбец `purpose_category`, в который войдут следующие категории:**\n",
    "\n",
    "- `'операции с автомобилем'`,\n",
    "- `'операции с недвижимостью'`,\n",
    "- `'проведение свадьбы'`,\n",
    "- `'получение образования'`.\n",
    "\n",
    "**Например, если в столбце `purpose` находится подстрока `'на покупку автомобиля'`, то в столбце `purpose_category` должна появиться строка `'операции с автомобилем'`.**\n",
    "\n",
    "**Используйте собственную функцию с именем `categorize_purpose()` и метод `apply()`. Изучите данные в столбце `purpose` и определите, какие подстроки помогут вам правильно определить категорию.**"
   ]
  },
  {
   "cell_type": "code",
   "execution_count": 74,
   "id": "e149fab4",
   "metadata": {
    "deletable": false,
    "id": "e149fab4",
    "pycharm": {
     "name": "#%%\n"
    }
   },
   "outputs": [],
   "source": [
    "def categorize_purpose(row):\n",
    "    try:\n",
    "        if 'автом' in row:\n",
    "            return 'операции с автомобилем'\n",
    "        elif 'жил' in row or 'недвиж' in row:\n",
    "            return 'операции с недвижимостью'\n",
    "        elif 'свад' in row:\n",
    "            return 'проведение свадьбы'\n",
    "        elif 'образов' in row:\n",
    "            return 'получение образования'\n",
    "    except:\n",
    "        return 'нет категории'"
   ]
  },
  {
   "cell_type": "code",
   "execution_count": 75,
   "id": "bf36e69b",
   "metadata": {
    "deletable": false,
    "id": "bf36e69b",
    "pycharm": {
     "name": "#%%\n"
    }
   },
   "outputs": [],
   "source": [
    "data['purpose_category'] = data['purpose'].apply(categorize_purpose)"
   ]
  },
  {
   "cell_type": "markdown",
   "id": "09b242bf",
   "metadata": {
    "deletable": false,
    "editable": false,
    "id": "09b242bf",
    "pycharm": {
     "name": "#%% md\n"
    }
   },
   "source": [
    "## Исследуйте данные и ответьте на вопросы"
   ]
  },
  {
   "cell_type": "markdown",
   "id": "c5d66278",
   "metadata": {
    "deletable": false,
    "editable": false,
    "id": "c5d66278",
    "pycharm": {
     "name": "#%% md\n"
    }
   },
   "source": [
    "**Задание 19. Есть ли зависимость между количеством детей и возвратом кредита в срок?**"
   ]
  },
  {
   "cell_type": "markdown",
   "id": "470c4f4f",
   "metadata": {
    "pycharm": {
     "name": "#%% md\n"
    }
   },
   "source": [
    "Сгруппируем данные по количеству детей в семье и рассчитаем суммарное количество задолженностей по кредиту в каждой категории (по количеству детей):"
   ]
  },
  {
   "cell_type": "code",
   "execution_count": 76,
   "id": "f1fcd8a0",
   "metadata": {
    "pycharm": {
     "name": "#%%\n"
    }
   },
   "outputs": [
    {
     "data": {
      "text/plain": [
       "children\n",
       "0    1063\n",
       "1     444\n",
       "2     194\n",
       "3      27\n",
       "4       4\n",
       "5       0\n",
       "Name: debt, dtype: int64"
      ]
     },
     "metadata": {},
     "output_type": "display_data"
    }
   ],
   "source": [
    "sum_debt_ch = data.groupby('children')['debt'].sum()\n",
    "display(sum_debt_ch)"
   ]
  },
  {
   "cell_type": "markdown",
   "id": "58d24b22",
   "metadata": {
    "pycharm": {
     "name": "#%% md\n"
    }
   },
   "source": [
    "Видно, что чем меньше детей, тем больше просрочек по выплатам кредита. Однако, для оценки зависимости между количеством детей и возвратом кредита этого недостаточно. Попробуем качественно оценить данные по каждой категории. Для этого выведем сводную таблицу с данными о суммарном количестве задолженностей (sum debt), общеем количестве взятых кредитов (count debt) и среднем значении по задолженности (mean debt), которое если умножить на 100, то получится процент задолженности в каждой категории (по количеству детей):"
   ]
  },
  {
   "cell_type": "code",
   "execution_count": 77,
   "id": "2cacfc4a",
   "metadata": {
    "id": "2cacfc4a",
    "pycharm": {
     "name": "#%%\n"
    }
   },
   "outputs": [
    {
     "data": {
      "text/html": [
       "<div>\n",
       "<style scoped>\n",
       "    .dataframe tbody tr th:only-of-type {\n",
       "        vertical-align: middle;\n",
       "    }\n",
       "\n",
       "    .dataframe tbody tr th {\n",
       "        vertical-align: top;\n",
       "    }\n",
       "\n",
       "    .dataframe thead tr th {\n",
       "        text-align: left;\n",
       "    }\n",
       "\n",
       "    .dataframe thead tr:last-of-type th {\n",
       "        text-align: right;\n",
       "    }\n",
       "</style>\n",
       "<table border=\"1\" class=\"dataframe\">\n",
       "  <thead>\n",
       "    <tr>\n",
       "      <th></th>\n",
       "      <th>sum</th>\n",
       "      <th>count</th>\n",
       "      <th>mean</th>\n",
       "    </tr>\n",
       "    <tr>\n",
       "      <th></th>\n",
       "      <th>debt</th>\n",
       "      <th>debt</th>\n",
       "      <th>debt</th>\n",
       "    </tr>\n",
       "    <tr>\n",
       "      <th>children</th>\n",
       "      <th></th>\n",
       "      <th></th>\n",
       "      <th></th>\n",
       "    </tr>\n",
       "  </thead>\n",
       "  <tbody>\n",
       "    <tr>\n",
       "      <th>0</th>\n",
       "      <td>1063</td>\n",
       "      <td>14107</td>\n",
       "      <td>0.075353</td>\n",
       "    </tr>\n",
       "    <tr>\n",
       "      <th>1</th>\n",
       "      <td>444</td>\n",
       "      <td>4809</td>\n",
       "      <td>0.092327</td>\n",
       "    </tr>\n",
       "    <tr>\n",
       "      <th>2</th>\n",
       "      <td>194</td>\n",
       "      <td>2052</td>\n",
       "      <td>0.094542</td>\n",
       "    </tr>\n",
       "    <tr>\n",
       "      <th>3</th>\n",
       "      <td>27</td>\n",
       "      <td>330</td>\n",
       "      <td>0.081818</td>\n",
       "    </tr>\n",
       "    <tr>\n",
       "      <th>4</th>\n",
       "      <td>4</td>\n",
       "      <td>41</td>\n",
       "      <td>0.097561</td>\n",
       "    </tr>\n",
       "    <tr>\n",
       "      <th>5</th>\n",
       "      <td>0</td>\n",
       "      <td>9</td>\n",
       "      <td>0.000000</td>\n",
       "    </tr>\n",
       "  </tbody>\n",
       "</table>\n",
       "</div>"
      ],
      "text/plain": [
       "           sum  count      mean\n",
       "          debt   debt      debt\n",
       "children                       \n",
       "0         1063  14107  0.075353\n",
       "1          444   4809  0.092327\n",
       "2          194   2052  0.094542\n",
       "3           27    330  0.081818\n",
       "4            4     41  0.097561\n",
       "5            0      9  0.000000"
      ]
     },
     "metadata": {},
     "output_type": "display_data"
    }
   ],
   "source": [
    "display(pd.pivot_table(data, index='children', values='debt', aggfunc=['sum', 'count', 'mean']))"
   ]
  },
  {
   "cell_type": "markdown",
   "id": "0be0d991",
   "metadata": {
    "pycharm": {
     "name": "#%% md\n"
    }
   },
   "source": [
    "Согласно данным, чем больше детей, тем выше процент просрочек, однако, категория с тремя детьми немного выпадает из этой тенденции (8,18%), а категорию с пятью детьми вообще трудно оценивать из-за малочисленности данной группы (малого количества выданных кредитов). Что интересно, несмотря на огромное количество просрочек в категории \"без детей\" (1063), процент задолженности минимальный (7,54%). Самый большой процент задолженности в категории \"четверо детей\" (9,76%)."
   ]
  },
  {
   "cell_type": "markdown",
   "id": "3a6b99ec",
   "metadata": {
    "deletable": false,
    "id": "3a6b99ec",
    "pycharm": {
     "name": "#%% md\n"
    }
   },
   "source": [
    "**Вывод:** чем больше детей, тем выше риски просроченных платежей, хотя разница в процентах не столь велика, кроме того, чем меньше детей, тем люди охотнее берут кредиты."
   ]
  },
  {
   "cell_type": "markdown",
   "id": "97be82ca",
   "metadata": {
    "deletable": false,
    "editable": false,
    "id": "97be82ca",
    "pycharm": {
     "name": "#%% md\n"
    }
   },
   "source": [
    "**Задание 20. Есть ли зависимость между семейным положением и возвратом кредита в срок?**"
   ]
  },
  {
   "cell_type": "markdown",
   "id": "83f5ba14",
   "metadata": {
    "pycharm": {
     "name": "#%% md\n"
    }
   },
   "source": [
    "Сразу выведем сводную таблицу, сгрупированную по семейному положению с суммарными значениями по просроченным выплатам (sum debt), общему количеству взятых кредитов (count debt) и среднем значение по задолженности (mean debt), которое если умножить на 100, то получится процент задолженности в каждой категории (семейное положение):"
   ]
  },
  {
   "cell_type": "code",
   "execution_count": 78,
   "id": "dc297647",
   "metadata": {
    "pycharm": {
     "name": "#%%\n"
    }
   },
   "outputs": [
    {
     "data": {
      "text/html": [
       "<div>\n",
       "<style scoped>\n",
       "    .dataframe tbody tr th:only-of-type {\n",
       "        vertical-align: middle;\n",
       "    }\n",
       "\n",
       "    .dataframe tbody tr th {\n",
       "        vertical-align: top;\n",
       "    }\n",
       "\n",
       "    .dataframe thead tr th {\n",
       "        text-align: left;\n",
       "    }\n",
       "\n",
       "    .dataframe thead tr:last-of-type th {\n",
       "        text-align: right;\n",
       "    }\n",
       "</style>\n",
       "<table border=\"1\" class=\"dataframe\">\n",
       "  <thead>\n",
       "    <tr>\n",
       "      <th></th>\n",
       "      <th>sum</th>\n",
       "      <th>count</th>\n",
       "      <th>mean</th>\n",
       "    </tr>\n",
       "    <tr>\n",
       "      <th></th>\n",
       "      <th>debt</th>\n",
       "      <th>debt</th>\n",
       "      <th>debt</th>\n",
       "    </tr>\n",
       "    <tr>\n",
       "      <th>family_status</th>\n",
       "      <th></th>\n",
       "      <th></th>\n",
       "      <th></th>\n",
       "    </tr>\n",
       "  </thead>\n",
       "  <tbody>\n",
       "    <tr>\n",
       "      <th>Не женат / не замужем</th>\n",
       "      <td>273</td>\n",
       "      <td>2796</td>\n",
       "      <td>0.097639</td>\n",
       "    </tr>\n",
       "    <tr>\n",
       "      <th>в разводе</th>\n",
       "      <td>84</td>\n",
       "      <td>1189</td>\n",
       "      <td>0.070648</td>\n",
       "    </tr>\n",
       "    <tr>\n",
       "      <th>вдовец / вдова</th>\n",
       "      <td>63</td>\n",
       "      <td>951</td>\n",
       "      <td>0.066246</td>\n",
       "    </tr>\n",
       "    <tr>\n",
       "      <th>гражданский брак</th>\n",
       "      <td>385</td>\n",
       "      <td>4146</td>\n",
       "      <td>0.092861</td>\n",
       "    </tr>\n",
       "    <tr>\n",
       "      <th>женат / замужем</th>\n",
       "      <td>927</td>\n",
       "      <td>12266</td>\n",
       "      <td>0.075575</td>\n",
       "    </tr>\n",
       "  </tbody>\n",
       "</table>\n",
       "</div>"
      ],
      "text/plain": [
       "                       sum  count      mean\n",
       "                      debt   debt      debt\n",
       "family_status                              \n",
       "Не женат / не замужем  273   2796  0.097639\n",
       "в разводе               84   1189  0.070648\n",
       "вдовец / вдова          63    951  0.066246\n",
       "гражданский брак       385   4146  0.092861\n",
       "женат / замужем        927  12266  0.075575"
      ]
     },
     "metadata": {},
     "output_type": "display_data"
    }
   ],
   "source": [
    "display(pd.pivot_table(data, index='family_status', values='debt', aggfunc=['sum', 'count', 'mean']))"
   ]
  },
  {
   "cell_type": "markdown",
   "id": "50a82296",
   "metadata": {
    "pycharm": {
     "name": "#%% md\n"
    }
   },
   "source": [
    "Самые ответственные граждане из категории \"вдовец/вдова\", у них минимальный процент задержки платежей (6,62%), самая безответственная категория это \"не женатые/не замужние\" (9,76%), что интересно категория \"в разводе\" имеет очень небольшой процент просрочки (7,06%)."
   ]
  },
  {
   "cell_type": "markdown",
   "id": "1cef7837",
   "metadata": {
    "deletable": false,
    "id": "1cef7837",
    "pycharm": {
     "name": "#%% md\n"
    }
   },
   "source": [
    "**Вывод:** очень интересная категория, которую обязательно надо учитывать при выдаче кредита, особенно обратить внимание на категорию \"не женат/не замужем\"."
   ]
  },
  {
   "cell_type": "markdown",
   "id": "1e8b2fca",
   "metadata": {
    "deletable": false,
    "editable": false,
    "id": "1e8b2fca",
    "pycharm": {
     "name": "#%% md\n"
    }
   },
   "source": [
    "**Задание 21. Есть ли зависимость между уровнем дохода и возвратом кредита в срок?**"
   ]
  },
  {
   "cell_type": "markdown",
   "id": "75de11f0",
   "metadata": {
    "pycharm": {
     "name": "#%% md\n"
    }
   },
   "source": [
    "Сформируем сводную таблицу, сгрупированную по категориям уровня дохода, которые мы создали и распределили по ним данные в [Задании 16](#task16):"
   ]
  },
  {
   "cell_type": "code",
   "execution_count": 79,
   "id": "cd7e3720",
   "metadata": {
    "id": "cd7e3720",
    "pycharm": {
     "name": "#%%\n"
    }
   },
   "outputs": [
    {
     "data": {
      "text/html": [
       "<div>\n",
       "<style scoped>\n",
       "    .dataframe tbody tr th:only-of-type {\n",
       "        vertical-align: middle;\n",
       "    }\n",
       "\n",
       "    .dataframe tbody tr th {\n",
       "        vertical-align: top;\n",
       "    }\n",
       "\n",
       "    .dataframe thead tr th {\n",
       "        text-align: left;\n",
       "    }\n",
       "\n",
       "    .dataframe thead tr:last-of-type th {\n",
       "        text-align: right;\n",
       "    }\n",
       "</style>\n",
       "<table border=\"1\" class=\"dataframe\">\n",
       "  <thead>\n",
       "    <tr>\n",
       "      <th></th>\n",
       "      <th>sum</th>\n",
       "      <th>count</th>\n",
       "      <th>mean</th>\n",
       "    </tr>\n",
       "    <tr>\n",
       "      <th></th>\n",
       "      <th>debt</th>\n",
       "      <th>debt</th>\n",
       "      <th>debt</th>\n",
       "    </tr>\n",
       "    <tr>\n",
       "      <th>total_income_category</th>\n",
       "      <th></th>\n",
       "      <th></th>\n",
       "      <th></th>\n",
       "    </tr>\n",
       "  </thead>\n",
       "  <tbody>\n",
       "    <tr>\n",
       "      <th>A</th>\n",
       "      <td>2</td>\n",
       "      <td>25</td>\n",
       "      <td>0.080000</td>\n",
       "    </tr>\n",
       "    <tr>\n",
       "      <th>B</th>\n",
       "      <td>354</td>\n",
       "      <td>5014</td>\n",
       "      <td>0.070602</td>\n",
       "    </tr>\n",
       "    <tr>\n",
       "      <th>C</th>\n",
       "      <td>1353</td>\n",
       "      <td>15938</td>\n",
       "      <td>0.084891</td>\n",
       "    </tr>\n",
       "    <tr>\n",
       "      <th>D</th>\n",
       "      <td>21</td>\n",
       "      <td>349</td>\n",
       "      <td>0.060172</td>\n",
       "    </tr>\n",
       "    <tr>\n",
       "      <th>E</th>\n",
       "      <td>2</td>\n",
       "      <td>22</td>\n",
       "      <td>0.090909</td>\n",
       "    </tr>\n",
       "  </tbody>\n",
       "</table>\n",
       "</div>"
      ],
      "text/plain": [
       "                        sum  count      mean\n",
       "                       debt   debt      debt\n",
       "total_income_category                       \n",
       "A                         2     25  0.080000\n",
       "B                       354   5014  0.070602\n",
       "C                      1353  15938  0.084891\n",
       "D                        21    349  0.060172\n",
       "E                         2     22  0.090909"
      ]
     },
     "metadata": {},
     "output_type": "display_data"
    }
   ],
   "source": [
    "display(pd.pivot_table(data, index='total_income_category', values='debt', aggfunc=['sum', 'count', 'mean']))"
   ]
  },
  {
   "cell_type": "markdown",
   "id": "e8593def",
   "metadata": {
    "deletable": false,
    "id": "e8593def",
    "pycharm": {
     "name": "#%% md\n"
    }
   },
   "source": [
    "**Вывод:** очевидно, что у людей с ежемесячным доходом меньше 30 тыс.₽ наблюдается и самый высокий процент задержки в выплатах (9,09%), на удивление, плохо отдают кредиты и самые обеспеченные граждане с доходом более 1 млн.₽ (8%). Самая же дисциплинированная категория имеет доход от 30 до 50 тыс.₽ у них процент просрочки 6,02%."
   ]
  },
  {
   "cell_type": "markdown",
   "id": "eac72d5e",
   "metadata": {
    "pycharm": {
     "name": "#%% md\n"
    }
   },
   "source": [
    "Самые массовые объёмы полученных кредитов наблюдаются в категорях \"С\" (объёмы доходов от 50'001₽ до 200'000₽) и \"В\" (объёмы доходов от 200'001₽ до 1'000'000₽). Вывод такой, что при увеличении доходов уменьшается количество задержек по выплатам. Но для полной уверенности, можно попробовать разбить эти категории на более узкие диапазоны доходов и посмотреть тендецию на большем количестве категорий (если пожелает заказчик или ревьювер в данном случае)."
   ]
  },
  {
   "cell_type": "markdown",
   "id": "99ecbd1f",
   "metadata": {
    "deletable": false,
    "editable": false,
    "id": "99ecbd1f",
    "pycharm": {
     "name": "#%% md\n"
    }
   },
   "source": [
    "**Задание 22. Как разные цели кредита влияют на его возврат в срок?**"
   ]
  },
  {
   "cell_type": "markdown",
   "id": "5d90eb17",
   "metadata": {
    "pycharm": {
     "name": "#%% md\n"
    }
   },
   "source": [
    "Для отображения данных по целям кредита и возврата в срок, воспользуемся столбцом \"purpose_category\", созданным нами в [Задании 18](#task18) и выведем сводную таблицу, сформированную по этим категориям:"
   ]
  },
  {
   "cell_type": "code",
   "execution_count": 80,
   "id": "2b687290",
   "metadata": {
    "id": "2b687290",
    "pycharm": {
     "name": "#%%\n"
    }
   },
   "outputs": [
    {
     "data": {
      "text/html": [
       "<div>\n",
       "<style scoped>\n",
       "    .dataframe tbody tr th:only-of-type {\n",
       "        vertical-align: middle;\n",
       "    }\n",
       "\n",
       "    .dataframe tbody tr th {\n",
       "        vertical-align: top;\n",
       "    }\n",
       "\n",
       "    .dataframe thead tr th {\n",
       "        text-align: left;\n",
       "    }\n",
       "\n",
       "    .dataframe thead tr:last-of-type th {\n",
       "        text-align: right;\n",
       "    }\n",
       "</style>\n",
       "<table border=\"1\" class=\"dataframe\">\n",
       "  <thead>\n",
       "    <tr>\n",
       "      <th></th>\n",
       "      <th>sum</th>\n",
       "      <th>count</th>\n",
       "      <th>mean</th>\n",
       "    </tr>\n",
       "    <tr>\n",
       "      <th></th>\n",
       "      <th>debt</th>\n",
       "      <th>debt</th>\n",
       "      <th>debt</th>\n",
       "    </tr>\n",
       "    <tr>\n",
       "      <th>purpose_category</th>\n",
       "      <th></th>\n",
       "      <th></th>\n",
       "      <th></th>\n",
       "    </tr>\n",
       "  </thead>\n",
       "  <tbody>\n",
       "    <tr>\n",
       "      <th>операции с автомобилем</th>\n",
       "      <td>400</td>\n",
       "      <td>4281</td>\n",
       "      <td>0.093436</td>\n",
       "    </tr>\n",
       "    <tr>\n",
       "      <th>операции с недвижимостью</th>\n",
       "      <td>780</td>\n",
       "      <td>10754</td>\n",
       "      <td>0.072531</td>\n",
       "    </tr>\n",
       "    <tr>\n",
       "      <th>получение образования</th>\n",
       "      <td>369</td>\n",
       "      <td>3989</td>\n",
       "      <td>0.092504</td>\n",
       "    </tr>\n",
       "    <tr>\n",
       "      <th>проведение свадьбы</th>\n",
       "      <td>183</td>\n",
       "      <td>2324</td>\n",
       "      <td>0.078744</td>\n",
       "    </tr>\n",
       "  </tbody>\n",
       "</table>\n",
       "</div>"
      ],
      "text/plain": [
       "                          sum  count      mean\n",
       "                         debt   debt      debt\n",
       "purpose_category                              \n",
       "операции с автомобилем    400   4281  0.093436\n",
       "операции с недвижимостью  780  10754  0.072531\n",
       "получение образования     369   3989  0.092504\n",
       "проведение свадьбы        183   2324  0.078744"
      ]
     },
     "metadata": {},
     "output_type": "display_data"
    }
   ],
   "source": [
    "display(pd.pivot_table(data, index='purpose_category', values='debt', aggfunc=['sum', 'count', 'mean']))"
   ]
  },
  {
   "cell_type": "markdown",
   "id": "db8e1557",
   "metadata": {
    "pycharm": {
     "name": "#%% md\n"
    }
   },
   "source": [
    "Это был способ через_pivot table, то же самое но через groupby():"
   ]
  },
  {
   "cell_type": "code",
   "execution_count": 81,
   "id": "40fe915c",
   "metadata": {
    "pycharm": {
     "name": "#%%\n"
    }
   },
   "outputs": [
    {
     "data": {
      "text/html": [
       "<div>\n",
       "<style scoped>\n",
       "    .dataframe tbody tr th:only-of-type {\n",
       "        vertical-align: middle;\n",
       "    }\n",
       "\n",
       "    .dataframe tbody tr th {\n",
       "        vertical-align: top;\n",
       "    }\n",
       "\n",
       "    .dataframe thead th {\n",
       "        text-align: right;\n",
       "    }\n",
       "</style>\n",
       "<table border=\"1\" class=\"dataframe\">\n",
       "  <thead>\n",
       "    <tr style=\"text-align: right;\">\n",
       "      <th></th>\n",
       "      <th>sum</th>\n",
       "      <th>count</th>\n",
       "      <th>mean</th>\n",
       "    </tr>\n",
       "    <tr>\n",
       "      <th>purpose_category</th>\n",
       "      <th></th>\n",
       "      <th></th>\n",
       "      <th></th>\n",
       "    </tr>\n",
       "  </thead>\n",
       "  <tbody>\n",
       "    <tr>\n",
       "      <th>операции с автомобилем</th>\n",
       "      <td>400</td>\n",
       "      <td>4281</td>\n",
       "      <td>0.093436</td>\n",
       "    </tr>\n",
       "    <tr>\n",
       "      <th>операции с недвижимостью</th>\n",
       "      <td>780</td>\n",
       "      <td>10754</td>\n",
       "      <td>0.072531</td>\n",
       "    </tr>\n",
       "    <tr>\n",
       "      <th>получение образования</th>\n",
       "      <td>369</td>\n",
       "      <td>3989</td>\n",
       "      <td>0.092504</td>\n",
       "    </tr>\n",
       "    <tr>\n",
       "      <th>проведение свадьбы</th>\n",
       "      <td>183</td>\n",
       "      <td>2324</td>\n",
       "      <td>0.078744</td>\n",
       "    </tr>\n",
       "  </tbody>\n",
       "</table>\n",
       "</div>"
      ],
      "text/plain": [
       "                          sum  count      mean\n",
       "purpose_category                              \n",
       "операции с автомобилем    400   4281  0.093436\n",
       "операции с недвижимостью  780  10754  0.072531\n",
       "получение образования     369   3989  0.092504\n",
       "проведение свадьбы        183   2324  0.078744"
      ]
     },
     "metadata": {},
     "output_type": "display_data"
    }
   ],
   "source": [
    "display(data.groupby('purpose_category')['debt'].agg(['sum', 'count', 'mean']))"
   ]
  },
  {
   "cell_type": "markdown",
   "id": "deecffb2",
   "metadata": {
    "pycharm": {
     "name": "#%% md\n"
    }
   },
   "source": [
    "Третий способ состоит в написании универсальной функции, в которую в качестве аргумента передаётся столбец, по которому будет производится группировка, а сама функция выполнит группировку, рассчитает и выведет на экран интересующие нас столбцы, саму функцию можно написать как на основе метода groupby() так и pivot_table:"
   ]
  },
  {
   "cell_type": "code",
   "execution_count": 97,
   "id": "c53fdebf",
   "metadata": {
    "pycharm": {
     "name": "#%%\n"
    }
   },
   "outputs": [],
   "source": [
    "def analyze_table(category):\n",
    "    data_temp = data.pivot_table(index=category, values='debt', aggfunc=['count', 'sum', 'mean'])\n",
    "    data_temp.columns = ['Количество кредитов', 'Количество должников', 'Доля должников']\n",
    "    data_temp['Процент просрочек'] = round((data_temp['Доля должников'] * 100), 2)\n",
    "    display (data_temp)"
   ]
  },
  {
   "cell_type": "markdown",
   "id": "f53f1b65",
   "metadata": {
    "pycharm": {
     "name": "#%% md\n"
    }
   },
   "source": [
    "Далее вызываем эту функцию с интересующими нас столбцами в качестве аргумента и получаем все необходимые таблицы:"
   ]
  },
  {
   "cell_type": "code",
   "execution_count": 98,
   "id": "40707110",
   "metadata": {
    "pycharm": {
     "name": "#%%\n"
    }
   },
   "outputs": [
    {
     "data": {
      "text/html": [
       "<div>\n",
       "<style scoped>\n",
       "    .dataframe tbody tr th:only-of-type {\n",
       "        vertical-align: middle;\n",
       "    }\n",
       "\n",
       "    .dataframe tbody tr th {\n",
       "        vertical-align: top;\n",
       "    }\n",
       "\n",
       "    .dataframe thead th {\n",
       "        text-align: right;\n",
       "    }\n",
       "</style>\n",
       "<table border=\"1\" class=\"dataframe\">\n",
       "  <thead>\n",
       "    <tr style=\"text-align: right;\">\n",
       "      <th></th>\n",
       "      <th>Количество кредитов</th>\n",
       "      <th>Количество должников</th>\n",
       "      <th>Доля должников</th>\n",
       "      <th>Процент просрочек</th>\n",
       "    </tr>\n",
       "    <tr>\n",
       "      <th>children</th>\n",
       "      <th></th>\n",
       "      <th></th>\n",
       "      <th></th>\n",
       "      <th></th>\n",
       "    </tr>\n",
       "  </thead>\n",
       "  <tbody>\n",
       "    <tr>\n",
       "      <th>0</th>\n",
       "      <td>14107</td>\n",
       "      <td>1063</td>\n",
       "      <td>0.075353</td>\n",
       "      <td>7.54</td>\n",
       "    </tr>\n",
       "    <tr>\n",
       "      <th>1</th>\n",
       "      <td>4809</td>\n",
       "      <td>444</td>\n",
       "      <td>0.092327</td>\n",
       "      <td>9.23</td>\n",
       "    </tr>\n",
       "    <tr>\n",
       "      <th>2</th>\n",
       "      <td>2052</td>\n",
       "      <td>194</td>\n",
       "      <td>0.094542</td>\n",
       "      <td>9.45</td>\n",
       "    </tr>\n",
       "    <tr>\n",
       "      <th>3</th>\n",
       "      <td>330</td>\n",
       "      <td>27</td>\n",
       "      <td>0.081818</td>\n",
       "      <td>8.18</td>\n",
       "    </tr>\n",
       "    <tr>\n",
       "      <th>4</th>\n",
       "      <td>41</td>\n",
       "      <td>4</td>\n",
       "      <td>0.097561</td>\n",
       "      <td>9.76</td>\n",
       "    </tr>\n",
       "    <tr>\n",
       "      <th>5</th>\n",
       "      <td>9</td>\n",
       "      <td>0</td>\n",
       "      <td>0.000000</td>\n",
       "      <td>0.00</td>\n",
       "    </tr>\n",
       "  </tbody>\n",
       "</table>\n",
       "</div>"
      ],
      "text/plain": [
       "          Количество кредитов  Количество должников  Доля должников  \\\n",
       "children                                                              \n",
       "0                       14107                  1063        0.075353   \n",
       "1                        4809                   444        0.092327   \n",
       "2                        2052                   194        0.094542   \n",
       "3                         330                    27        0.081818   \n",
       "4                          41                     4        0.097561   \n",
       "5                           9                     0        0.000000   \n",
       "\n",
       "          Процент просрочек  \n",
       "children                     \n",
       "0                      7.54  \n",
       "1                      9.23  \n",
       "2                      9.45  \n",
       "3                      8.18  \n",
       "4                      9.76  \n",
       "5                      0.00  "
      ]
     },
     "metadata": {},
     "output_type": "display_data"
    },
    {
     "data": {
      "text/html": [
       "<div>\n",
       "<style scoped>\n",
       "    .dataframe tbody tr th:only-of-type {\n",
       "        vertical-align: middle;\n",
       "    }\n",
       "\n",
       "    .dataframe tbody tr th {\n",
       "        vertical-align: top;\n",
       "    }\n",
       "\n",
       "    .dataframe thead th {\n",
       "        text-align: right;\n",
       "    }\n",
       "</style>\n",
       "<table border=\"1\" class=\"dataframe\">\n",
       "  <thead>\n",
       "    <tr style=\"text-align: right;\">\n",
       "      <th></th>\n",
       "      <th>Количество кредитов</th>\n",
       "      <th>Количество должников</th>\n",
       "      <th>Доля должников</th>\n",
       "      <th>Процент просрочек</th>\n",
       "    </tr>\n",
       "    <tr>\n",
       "      <th>family_status</th>\n",
       "      <th></th>\n",
       "      <th></th>\n",
       "      <th></th>\n",
       "      <th></th>\n",
       "    </tr>\n",
       "  </thead>\n",
       "  <tbody>\n",
       "    <tr>\n",
       "      <th>Не женат / не замужем</th>\n",
       "      <td>2796</td>\n",
       "      <td>273</td>\n",
       "      <td>0.097639</td>\n",
       "      <td>9.76</td>\n",
       "    </tr>\n",
       "    <tr>\n",
       "      <th>в разводе</th>\n",
       "      <td>1189</td>\n",
       "      <td>84</td>\n",
       "      <td>0.070648</td>\n",
       "      <td>7.06</td>\n",
       "    </tr>\n",
       "    <tr>\n",
       "      <th>вдовец / вдова</th>\n",
       "      <td>951</td>\n",
       "      <td>63</td>\n",
       "      <td>0.066246</td>\n",
       "      <td>6.62</td>\n",
       "    </tr>\n",
       "    <tr>\n",
       "      <th>гражданский брак</th>\n",
       "      <td>4146</td>\n",
       "      <td>385</td>\n",
       "      <td>0.092861</td>\n",
       "      <td>9.29</td>\n",
       "    </tr>\n",
       "    <tr>\n",
       "      <th>женат / замужем</th>\n",
       "      <td>12266</td>\n",
       "      <td>927</td>\n",
       "      <td>0.075575</td>\n",
       "      <td>7.56</td>\n",
       "    </tr>\n",
       "  </tbody>\n",
       "</table>\n",
       "</div>"
      ],
      "text/plain": [
       "                       Количество кредитов  Количество должников  \\\n",
       "family_status                                                      \n",
       "Не женат / не замужем                 2796                   273   \n",
       "в разводе                             1189                    84   \n",
       "вдовец / вдова                         951                    63   \n",
       "гражданский брак                      4146                   385   \n",
       "женат / замужем                      12266                   927   \n",
       "\n",
       "                       Доля должников  Процент просрочек  \n",
       "family_status                                             \n",
       "Не женат / не замужем        0.097639               9.76  \n",
       "в разводе                    0.070648               7.06  \n",
       "вдовец / вдова               0.066246               6.62  \n",
       "гражданский брак             0.092861               9.29  \n",
       "женат / замужем              0.075575               7.56  "
      ]
     },
     "metadata": {},
     "output_type": "display_data"
    },
    {
     "data": {
      "text/html": [
       "<div>\n",
       "<style scoped>\n",
       "    .dataframe tbody tr th:only-of-type {\n",
       "        vertical-align: middle;\n",
       "    }\n",
       "\n",
       "    .dataframe tbody tr th {\n",
       "        vertical-align: top;\n",
       "    }\n",
       "\n",
       "    .dataframe thead th {\n",
       "        text-align: right;\n",
       "    }\n",
       "</style>\n",
       "<table border=\"1\" class=\"dataframe\">\n",
       "  <thead>\n",
       "    <tr style=\"text-align: right;\">\n",
       "      <th></th>\n",
       "      <th>Количество кредитов</th>\n",
       "      <th>Количество должников</th>\n",
       "      <th>Доля должников</th>\n",
       "      <th>Процент просрочек</th>\n",
       "    </tr>\n",
       "    <tr>\n",
       "      <th>total_income_category</th>\n",
       "      <th></th>\n",
       "      <th></th>\n",
       "      <th></th>\n",
       "      <th></th>\n",
       "    </tr>\n",
       "  </thead>\n",
       "  <tbody>\n",
       "    <tr>\n",
       "      <th>A</th>\n",
       "      <td>25</td>\n",
       "      <td>2</td>\n",
       "      <td>0.080000</td>\n",
       "      <td>8.00</td>\n",
       "    </tr>\n",
       "    <tr>\n",
       "      <th>B</th>\n",
       "      <td>5014</td>\n",
       "      <td>354</td>\n",
       "      <td>0.070602</td>\n",
       "      <td>7.06</td>\n",
       "    </tr>\n",
       "    <tr>\n",
       "      <th>C</th>\n",
       "      <td>15938</td>\n",
       "      <td>1353</td>\n",
       "      <td>0.084891</td>\n",
       "      <td>8.49</td>\n",
       "    </tr>\n",
       "    <tr>\n",
       "      <th>D</th>\n",
       "      <td>349</td>\n",
       "      <td>21</td>\n",
       "      <td>0.060172</td>\n",
       "      <td>6.02</td>\n",
       "    </tr>\n",
       "    <tr>\n",
       "      <th>E</th>\n",
       "      <td>22</td>\n",
       "      <td>2</td>\n",
       "      <td>0.090909</td>\n",
       "      <td>9.09</td>\n",
       "    </tr>\n",
       "  </tbody>\n",
       "</table>\n",
       "</div>"
      ],
      "text/plain": [
       "                       Количество кредитов  Количество должников  \\\n",
       "total_income_category                                              \n",
       "A                                       25                     2   \n",
       "B                                     5014                   354   \n",
       "C                                    15938                  1353   \n",
       "D                                      349                    21   \n",
       "E                                       22                     2   \n",
       "\n",
       "                       Доля должников  Процент просрочек  \n",
       "total_income_category                                     \n",
       "A                            0.080000               8.00  \n",
       "B                            0.070602               7.06  \n",
       "C                            0.084891               8.49  \n",
       "D                            0.060172               6.02  \n",
       "E                            0.090909               9.09  "
      ]
     },
     "metadata": {},
     "output_type": "display_data"
    },
    {
     "data": {
      "text/html": [
       "<div>\n",
       "<style scoped>\n",
       "    .dataframe tbody tr th:only-of-type {\n",
       "        vertical-align: middle;\n",
       "    }\n",
       "\n",
       "    .dataframe tbody tr th {\n",
       "        vertical-align: top;\n",
       "    }\n",
       "\n",
       "    .dataframe thead th {\n",
       "        text-align: right;\n",
       "    }\n",
       "</style>\n",
       "<table border=\"1\" class=\"dataframe\">\n",
       "  <thead>\n",
       "    <tr style=\"text-align: right;\">\n",
       "      <th></th>\n",
       "      <th>Количество кредитов</th>\n",
       "      <th>Количество должников</th>\n",
       "      <th>Доля должников</th>\n",
       "      <th>Процент просрочек</th>\n",
       "    </tr>\n",
       "    <tr>\n",
       "      <th>purpose_category</th>\n",
       "      <th></th>\n",
       "      <th></th>\n",
       "      <th></th>\n",
       "      <th></th>\n",
       "    </tr>\n",
       "  </thead>\n",
       "  <tbody>\n",
       "    <tr>\n",
       "      <th>операции с автомобилем</th>\n",
       "      <td>4281</td>\n",
       "      <td>400</td>\n",
       "      <td>0.093436</td>\n",
       "      <td>9.34</td>\n",
       "    </tr>\n",
       "    <tr>\n",
       "      <th>операции с недвижимостью</th>\n",
       "      <td>10754</td>\n",
       "      <td>780</td>\n",
       "      <td>0.072531</td>\n",
       "      <td>7.25</td>\n",
       "    </tr>\n",
       "    <tr>\n",
       "      <th>получение образования</th>\n",
       "      <td>3989</td>\n",
       "      <td>369</td>\n",
       "      <td>0.092504</td>\n",
       "      <td>9.25</td>\n",
       "    </tr>\n",
       "    <tr>\n",
       "      <th>проведение свадьбы</th>\n",
       "      <td>2324</td>\n",
       "      <td>183</td>\n",
       "      <td>0.078744</td>\n",
       "      <td>7.87</td>\n",
       "    </tr>\n",
       "  </tbody>\n",
       "</table>\n",
       "</div>"
      ],
      "text/plain": [
       "                          Количество кредитов  Количество должников  \\\n",
       "purpose_category                                                      \n",
       "операции с автомобилем                   4281                   400   \n",
       "операции с недвижимостью                10754                   780   \n",
       "получение образования                    3989                   369   \n",
       "проведение свадьбы                       2324                   183   \n",
       "\n",
       "                          Доля должников  Процент просрочек  \n",
       "purpose_category                                             \n",
       "операции с автомобилем          0.093436               9.34  \n",
       "операции с недвижимостью        0.072531               7.25  \n",
       "получение образования           0.092504               9.25  \n",
       "проведение свадьбы              0.078744               7.87  "
      ]
     },
     "metadata": {},
     "output_type": "display_data"
    }
   ],
   "source": [
    "analyze_table('children')\n",
    "analyze_table('family_status')\n",
    "analyze_table('total_income_category')\n",
    "analyze_table('purpose_category')"
   ]
  },
  {
   "cell_type": "markdown",
   "id": "b4bb2ce6",
   "metadata": {
    "deletable": false,
    "id": "b4bb2ce6",
    "pycharm": {
     "name": "#%% md\n"
    }
   },
   "source": [
    "**Вывод:** самые дисциплинированные граждане в категории \"операции с недвижимостью\", видимо, не хотят рисковать своими квартирами и домами, процент задержек по выплатам 7,25%, те кто брал кредит на операции с автомобилями чаще всех задерживают выплаты (9,34%), так же большой процент задержек в категории \"получение образования\" (9,25%)."
   ]
  },
  {
   "cell_type": "markdown",
   "id": "09c3ac4c",
   "metadata": {
    "deletable": false,
    "editable": false,
    "id": "09c3ac4c",
    "pycharm": {
     "name": "#%% md\n"
    }
   },
   "source": [
    "**Задание 23. Приведите возможные причины появления пропусков в исходных данных.**"
   ]
  },
  {
   "cell_type": "markdown",
   "id": "9da2ceda",
   "metadata": {
    "deletable": false,
    "id": "9da2ceda",
    "pycharm": {
     "name": "#%% md\n"
    }
   },
   "source": [
    "*Ответ:* причинами появления пропусков может быть человеский фактор, например кто-то забыл внести данные или случайно удалил и не заметил, а также это может быть результатом технического сбоя - ошибки в программном обеспечении при объединении каких-то таблиц или данных, сбои в результате отключения электричества или поломки оборудования."
   ]
  },
  {
   "cell_type": "markdown",
   "id": "7b0487d6",
   "metadata": {
    "deletable": false,
    "editable": false,
    "id": "7b0487d6",
    "pycharm": {
     "name": "#%% md\n"
    }
   },
   "source": [
    "**Задание 24. Объясните, почему заполнить пропуски медианным значением — лучшее решение для количественных переменных.**"
   ]
  },
  {
   "cell_type": "markdown",
   "id": "7ecf2b8e",
   "metadata": {
    "deletable": false,
    "id": "7ecf2b8e",
    "pycharm": {
     "name": "#%% md\n"
    }
   },
   "source": [
    "*Ответ:* не всегда правильно заполнять пропуски медианным значением, иногда можно применить среднее арифметическое, бывают и другие методы, но когда некоторые значения сильно выделяются среди большинства, то для получения более достоверных сведений применяют медианное значение, например, среднюю температуру по больнице нельзя считать средним арифметическим, так как у большинства больных будет нормальная температура 36,6 и лишь у тех немногих, у кого воспалительные процессы температура будет повышенной."
   ]
  },
  {
   "cell_type": "markdown",
   "id": "6db5255a",
   "metadata": {
    "deletable": false,
    "editable": false,
    "id": "6db5255a",
    "pycharm": {
     "name": "#%% md\n"
    }
   },
   "source": [
    "## Общий вывод."
   ]
  },
  {
   "cell_type": "markdown",
   "id": "bad65432",
   "metadata": {
    "id": "bad65432",
    "pycharm": {
     "name": "#%% md\n"
    }
   },
   "source": [
    "Безусловно все рассмотренные категории имеют влияние на возврат кредита в срок. Если суммировать данные по этим категориям, то самая рискованная категория граждан для выдачи кредита будет \"многодетная незамужняя с четырьмя детьми, доходом менее 30 тыс.₽, которая хочет купить автомобиль\". А если серьёзно, то по полученным данным можно сформировать весовые коэффициенты, так как у нас теперь есть численные данные по конкретным категориям и автоматически считать риски при решении о выдаче кредита тому или иному гражданину."
   ]
  },
  {
   "cell_type": "markdown",
   "id": "e72dd194",
   "metadata": {
    "pycharm": {
     "name": "#%% md\n"
    }
   },
   "source": [
    "Главной целью данной работы было исследование надёжности заёмщиков. Для этого были предоставлены анкетные данные о количестве детей в семье, общем трудовом стаже, возрасте, уровне образования, семейном положении, поле клиента, типе занятости, имелась ли задолженность по кредитам, ежемесячный доход и цели получения кредита.\n",
    "\n",
    "В процессе изучения данных выявились пропуски в данных об общем трудовом стаже и ежемесячном доходе. Пропущенные данные о доходах для людей с типом занятости \"сотрудник\" были заполнены медианным значением доходов для этой категории граждан. С данными о трудовом стаже исследования не проводились, тем не менее, отрицательные значения заменены на положительные, пропущенные на соответствующие медианные значения для каждой категории занятости. В данных по количеству детей были удалены строки с аномальными данными. Следующим важным шагом были удалены найденные строки-дубликаты. Все клиенты были разделены на 5 категорий по уровню доходов для того, чтобы было можно качественно оценить задолженности в каждой категории. Для этого же все цели получения кредита были разделены на четыре простые и понятные категории.\n",
    "    \n",
    "Далее мы провели исследования на зависимость количества детей, семейного положения, уровня дохода и цели получения кредита на возврат кредита в срок. В результате выяснили, что все эти данные имеют влияние. Чем больше детей, тем выше риски просроченных платежей, состоящие или бывшие в браке заемщики более дисциплинированы, при увеличении доходов уменьшается количество задержек по выплатам, а самыми проблемными выглядят автокредиты и что удивительно на образование.\n",
    "    \n",
    "Так как большинство пропусков, ошибок и аномальных данных появлется в результате человечекого фактора можно было бы улучшить программное обеспечение для ввода анкетных данных. Например, добавить проверку на ввод отрицательных значений при заполении данных о детях и количестве дней трудового стажа. Для данных о доходах можно сделать автоматическое присвоение категорий (по количеству и значениям удобных именно для банка), также можно категорезировать цели кредита, чтобы оператор выбирал их из уже готового списка. Все эти меры значительно уменьшат количество ошибок в данных, упростят и ускорят их анализ и обработку, а также сделают результаты более точными.\n",
    "    \n",
    "По полученным данным можно сформировать весовые коэффициенты и автоматически считать риски при решении о выдаче кредита тому или иному гражданину."
   ]
  }
 ],
 "metadata": {
  "ExecuteTimeLog": [
   {
    "duration": 50,
    "start_time": "2022-08-03T16:37:42.870Z"
   },
   {
    "duration": 59,
    "start_time": "2022-08-03T16:37:49.390Z"
   },
   {
    "duration": 65,
    "start_time": "2022-08-03T16:38:05.330Z"
   },
   {
    "duration": 9,
    "start_time": "2022-08-03T16:38:24.194Z"
   },
   {
    "duration": 7,
    "start_time": "2022-08-03T16:38:50.659Z"
   },
   {
    "duration": 9,
    "start_time": "2022-08-03T16:39:08.274Z"
   },
   {
    "duration": 555,
    "start_time": "2022-08-03T16:39:16.913Z"
   },
   {
    "duration": 28,
    "start_time": "2022-08-03T16:39:17.471Z"
   },
   {
    "duration": 24,
    "start_time": "2022-08-03T16:39:17.509Z"
   },
   {
    "duration": 27,
    "start_time": "2022-08-03T16:39:17.535Z"
   },
   {
    "duration": 48,
    "start_time": "2022-08-03T16:39:17.564Z"
   },
   {
    "duration": 13,
    "start_time": "2022-08-03T16:39:17.614Z"
   },
   {
    "duration": 27,
    "start_time": "2022-08-03T16:39:17.629Z"
   },
   {
    "duration": 12,
    "start_time": "2022-08-03T16:39:17.661Z"
   },
   {
    "duration": 31,
    "start_time": "2022-08-03T16:39:17.675Z"
   },
   {
    "duration": 5,
    "start_time": "2022-08-03T16:39:17.714Z"
   },
   {
    "duration": 67,
    "start_time": "2022-08-03T16:39:17.721Z"
   },
   {
    "duration": 10,
    "start_time": "2022-08-03T16:39:17.790Z"
   },
   {
    "duration": 5,
    "start_time": "2022-08-03T16:39:17.802Z"
   },
   {
    "duration": 53,
    "start_time": "2022-08-03T16:39:17.808Z"
   },
   {
    "duration": 17,
    "start_time": "2022-08-03T16:39:17.862Z"
   },
   {
    "duration": 11,
    "start_time": "2022-08-03T16:39:17.881Z"
   },
   {
    "duration": 7,
    "start_time": "2022-08-03T16:39:17.894Z"
   },
   {
    "duration": 51,
    "start_time": "2022-08-03T16:39:17.902Z"
   },
   {
    "duration": 9,
    "start_time": "2022-08-03T16:39:17.954Z"
   },
   {
    "duration": 6,
    "start_time": "2022-08-03T16:39:17.965Z"
   },
   {
    "duration": 14,
    "start_time": "2022-08-03T16:39:17.973Z"
   },
   {
    "duration": 8,
    "start_time": "2022-08-03T16:39:17.988Z"
   },
   {
    "duration": 5,
    "start_time": "2022-08-03T16:39:17.998Z"
   },
   {
    "duration": 28,
    "start_time": "2022-08-03T16:39:18.005Z"
   },
   {
    "duration": 13,
    "start_time": "2022-08-03T16:39:18.036Z"
   },
   {
    "duration": 48,
    "start_time": "2022-08-03T16:39:27.333Z"
   },
   {
    "duration": 42,
    "start_time": "2022-08-03T16:39:32.986Z"
   },
   {
    "duration": 59,
    "start_time": "2022-08-03T16:39:39.303Z"
   },
   {
    "duration": 32,
    "start_time": "2022-08-03T16:39:45.230Z"
   },
   {
    "duration": 45,
    "start_time": "2022-08-03T16:40:01.675Z"
   },
   {
    "duration": 14,
    "start_time": "2022-08-03T16:40:03.974Z"
   },
   {
    "duration": 503,
    "start_time": "2022-08-03T16:40:11.591Z"
   },
   {
    "duration": 22,
    "start_time": "2022-08-03T16:40:12.096Z"
   },
   {
    "duration": 15,
    "start_time": "2022-08-03T16:40:12.120Z"
   },
   {
    "duration": 10,
    "start_time": "2022-08-03T16:40:12.137Z"
   },
   {
    "duration": 72,
    "start_time": "2022-08-03T16:40:12.149Z"
   },
   {
    "duration": 4,
    "start_time": "2022-08-03T16:40:12.223Z"
   },
   {
    "duration": 20,
    "start_time": "2022-08-03T16:40:12.229Z"
   },
   {
    "duration": 4,
    "start_time": "2022-08-03T16:40:12.251Z"
   },
   {
    "duration": 24,
    "start_time": "2022-08-03T16:40:12.257Z"
   },
   {
    "duration": 5,
    "start_time": "2022-08-03T16:40:12.284Z"
   },
   {
    "duration": 59,
    "start_time": "2022-08-03T16:40:12.291Z"
   },
   {
    "duration": 16,
    "start_time": "2022-08-03T16:40:12.352Z"
   },
   {
    "duration": 5,
    "start_time": "2022-08-03T16:40:12.370Z"
   },
   {
    "duration": 51,
    "start_time": "2022-08-03T16:40:12.377Z"
   },
   {
    "duration": 27,
    "start_time": "2022-08-03T16:40:12.430Z"
   },
   {
    "duration": 19,
    "start_time": "2022-08-03T16:40:12.459Z"
   },
   {
    "duration": 5,
    "start_time": "2022-08-03T16:40:12.480Z"
   },
   {
    "duration": 9,
    "start_time": "2022-08-03T16:40:12.510Z"
   },
   {
    "duration": 10,
    "start_time": "2022-08-03T16:40:12.521Z"
   },
   {
    "duration": 5,
    "start_time": "2022-08-03T16:40:12.533Z"
   },
   {
    "duration": 12,
    "start_time": "2022-08-03T16:40:12.539Z"
   },
   {
    "duration": 5,
    "start_time": "2022-08-03T16:40:12.553Z"
   },
   {
    "duration": 4,
    "start_time": "2022-08-03T16:40:12.560Z"
   },
   {
    "duration": 4,
    "start_time": "2022-08-03T16:40:12.566Z"
   },
   {
    "duration": 41,
    "start_time": "2022-08-03T16:40:12.572Z"
   },
   {
    "duration": 22,
    "start_time": "2022-08-03T16:40:27.882Z"
   },
   {
    "duration": 580,
    "start_time": "2022-08-03T16:40:35.487Z"
   },
   {
    "duration": 46,
    "start_time": "2022-08-03T16:40:36.070Z"
   },
   {
    "duration": 21,
    "start_time": "2022-08-03T16:40:36.119Z"
   },
   {
    "duration": 35,
    "start_time": "2022-08-03T16:40:36.144Z"
   },
   {
    "duration": 67,
    "start_time": "2022-08-03T16:40:36.181Z"
   },
   {
    "duration": 5,
    "start_time": "2022-08-03T16:40:36.250Z"
   },
   {
    "duration": 23,
    "start_time": "2022-08-03T16:40:36.258Z"
   },
   {
    "duration": 19,
    "start_time": "2022-08-03T16:40:36.283Z"
   },
   {
    "duration": 18,
    "start_time": "2022-08-03T16:40:36.304Z"
   },
   {
    "duration": 29,
    "start_time": "2022-08-03T16:40:36.325Z"
   },
   {
    "duration": 49,
    "start_time": "2022-08-03T16:40:36.356Z"
   },
   {
    "duration": 13,
    "start_time": "2022-08-03T16:40:36.407Z"
   },
   {
    "duration": 12,
    "start_time": "2022-08-03T16:40:36.422Z"
   },
   {
    "duration": 28,
    "start_time": "2022-08-03T16:40:36.436Z"
   },
   {
    "duration": 26,
    "start_time": "2022-08-03T16:40:36.467Z"
   },
   {
    "duration": 24,
    "start_time": "2022-08-03T16:40:36.495Z"
   },
   {
    "duration": 19,
    "start_time": "2022-08-03T16:40:36.521Z"
   },
   {
    "duration": 15,
    "start_time": "2022-08-03T16:40:36.542Z"
   },
   {
    "duration": 15,
    "start_time": "2022-08-03T16:40:36.559Z"
   },
   {
    "duration": 12,
    "start_time": "2022-08-03T16:40:36.575Z"
   },
   {
    "duration": 15,
    "start_time": "2022-08-03T16:40:36.589Z"
   },
   {
    "duration": 11,
    "start_time": "2022-08-03T16:40:36.605Z"
   },
   {
    "duration": 11,
    "start_time": "2022-08-03T16:40:36.618Z"
   },
   {
    "duration": 6,
    "start_time": "2022-08-03T16:40:36.630Z"
   },
   {
    "duration": 7,
    "start_time": "2022-08-03T16:40:36.638Z"
   },
   {
    "duration": 95,
    "start_time": "2022-08-03T16:40:55.991Z"
   },
   {
    "duration": 57,
    "start_time": "2022-08-03T16:41:01.588Z"
   },
   {
    "duration": 59,
    "start_time": "2022-08-03T16:57:05.492Z"
   },
   {
    "duration": 4,
    "start_time": "2022-08-03T16:57:10.140Z"
   },
   {
    "duration": 12,
    "start_time": "2022-08-03T16:59:27.127Z"
   },
   {
    "duration": 5,
    "start_time": "2022-08-03T16:59:45.136Z"
   },
   {
    "duration": 4,
    "start_time": "2022-08-03T16:59:57.632Z"
   },
   {
    "duration": 4,
    "start_time": "2022-08-03T17:00:09.604Z"
   },
   {
    "duration": 4,
    "start_time": "2022-08-03T17:02:08.160Z"
   },
   {
    "duration": 3,
    "start_time": "2022-08-03T17:02:16.448Z"
   },
   {
    "duration": 17,
    "start_time": "2022-08-03T17:03:41.701Z"
   },
   {
    "duration": 11,
    "start_time": "2022-08-03T17:04:04.044Z"
   },
   {
    "duration": 10,
    "start_time": "2022-08-03T17:04:17.332Z"
   },
   {
    "duration": 3,
    "start_time": "2022-08-03T17:05:46.379Z"
   },
   {
    "duration": 3,
    "start_time": "2022-08-03T17:06:02.789Z"
   },
   {
    "duration": 10,
    "start_time": "2022-08-03T17:06:17.831Z"
   },
   {
    "duration": 4,
    "start_time": "2022-08-03T17:06:37.138Z"
   },
   {
    "duration": 4,
    "start_time": "2022-08-03T17:07:30.468Z"
   },
   {
    "duration": 23,
    "start_time": "2022-08-03T17:07:50.036Z"
   },
   {
    "duration": 10,
    "start_time": "2022-08-03T17:08:16.139Z"
   },
   {
    "duration": 17,
    "start_time": "2022-08-03T17:08:40.247Z"
   },
   {
    "duration": 9,
    "start_time": "2022-08-03T17:10:32.960Z"
   },
   {
    "duration": 6,
    "start_time": "2022-08-03T17:10:51.763Z"
   },
   {
    "duration": 5,
    "start_time": "2022-08-03T17:14:30.200Z"
   },
   {
    "duration": 6,
    "start_time": "2022-08-03T17:15:32.367Z"
   },
   {
    "duration": 7,
    "start_time": "2022-08-03T17:15:57.383Z"
   },
   {
    "duration": 7,
    "start_time": "2022-08-03T17:16:44.979Z"
   },
   {
    "duration": 19,
    "start_time": "2022-08-03T17:20:27.887Z"
   },
   {
    "duration": 6,
    "start_time": "2022-08-03T17:21:10.644Z"
   },
   {
    "duration": 43,
    "start_time": "2022-08-04T00:51:57.887Z"
   },
   {
    "duration": 670,
    "start_time": "2022-08-04T00:52:04.746Z"
   },
   {
    "duration": 28,
    "start_time": "2022-08-04T00:52:05.418Z"
   },
   {
    "duration": 15,
    "start_time": "2022-08-04T00:52:05.448Z"
   },
   {
    "duration": 19,
    "start_time": "2022-08-04T00:52:05.464Z"
   },
   {
    "duration": 42,
    "start_time": "2022-08-04T00:52:05.485Z"
   },
   {
    "duration": 3,
    "start_time": "2022-08-04T00:52:05.529Z"
   },
   {
    "duration": 33,
    "start_time": "2022-08-04T00:52:05.534Z"
   },
   {
    "duration": 10,
    "start_time": "2022-08-04T00:52:05.568Z"
   },
   {
    "duration": 32,
    "start_time": "2022-08-04T00:52:05.579Z"
   },
   {
    "duration": 11,
    "start_time": "2022-08-04T00:52:05.613Z"
   },
   {
    "duration": 42,
    "start_time": "2022-08-04T00:52:05.625Z"
   },
   {
    "duration": 8,
    "start_time": "2022-08-04T00:52:05.668Z"
   },
   {
    "duration": 16,
    "start_time": "2022-08-04T00:52:05.677Z"
   },
   {
    "duration": 29,
    "start_time": "2022-08-04T00:52:05.695Z"
   },
   {
    "duration": 52,
    "start_time": "2022-08-04T00:52:05.725Z"
   },
   {
    "duration": 40,
    "start_time": "2022-08-04T00:52:05.779Z"
   },
   {
    "duration": 34,
    "start_time": "2022-08-04T00:52:05.821Z"
   },
   {
    "duration": 76,
    "start_time": "2022-08-04T00:52:05.857Z"
   },
   {
    "duration": 62,
    "start_time": "2022-08-04T00:52:05.935Z"
   },
   {
    "duration": 24,
    "start_time": "2022-08-04T00:52:05.999Z"
   },
   {
    "duration": 43,
    "start_time": "2022-08-04T00:52:06.025Z"
   },
   {
    "duration": 36,
    "start_time": "2022-08-04T00:52:06.070Z"
   },
   {
    "duration": 15,
    "start_time": "2022-08-04T00:52:06.108Z"
   },
   {
    "duration": 46,
    "start_time": "2022-08-04T00:52:06.125Z"
   },
   {
    "duration": 21,
    "start_time": "2022-08-04T00:52:06.172Z"
   },
   {
    "duration": 11,
    "start_time": "2022-08-04T03:13:55.930Z"
   },
   {
    "duration": 64,
    "start_time": "2022-08-04T04:28:26.067Z"
   },
   {
    "duration": 8,
    "start_time": "2022-08-04T04:28:32.771Z"
   },
   {
    "duration": 13,
    "start_time": "2022-08-04T04:29:30.619Z"
   },
   {
    "duration": 10,
    "start_time": "2022-08-04T04:31:54.786Z"
   },
   {
    "duration": 6,
    "start_time": "2022-08-04T04:33:48.679Z"
   },
   {
    "duration": 7,
    "start_time": "2022-08-04T04:33:50.831Z"
   },
   {
    "duration": 6,
    "start_time": "2022-08-04T04:33:59.642Z"
   },
   {
    "duration": 7,
    "start_time": "2022-08-04T04:34:00.578Z"
   },
   {
    "duration": 7,
    "start_time": "2022-08-04T04:40:05.723Z"
   },
   {
    "duration": 8,
    "start_time": "2022-08-04T04:40:38.819Z"
   },
   {
    "duration": 15,
    "start_time": "2022-08-04T04:40:52.105Z"
   },
   {
    "duration": 8,
    "start_time": "2022-08-04T04:55:29.882Z"
   },
   {
    "duration": 12,
    "start_time": "2022-08-04T04:55:39.806Z"
   },
   {
    "duration": 61,
    "start_time": "2022-08-04T05:02:39.724Z"
   },
   {
    "duration": 54,
    "start_time": "2022-08-04T05:02:46.960Z"
   },
   {
    "duration": 46,
    "start_time": "2022-08-04T05:02:58.368Z"
   },
   {
    "duration": 7,
    "start_time": "2022-08-04T05:03:22.480Z"
   },
   {
    "duration": 55,
    "start_time": "2022-08-04T05:03:38.364Z"
   },
   {
    "duration": 8,
    "start_time": "2022-08-04T05:04:42.335Z"
   },
   {
    "duration": 7,
    "start_time": "2022-08-04T05:07:27.393Z"
   },
   {
    "duration": 54,
    "start_time": "2022-08-04T05:08:08.484Z"
   },
   {
    "duration": 7,
    "start_time": "2022-08-04T05:08:23.949Z"
   },
   {
    "duration": 9,
    "start_time": "2022-08-04T05:20:27.756Z"
   },
   {
    "duration": 7,
    "start_time": "2022-08-04T05:21:09.896Z"
   },
   {
    "duration": 12,
    "start_time": "2022-08-04T05:28:18.420Z"
   },
   {
    "duration": 8,
    "start_time": "2022-08-04T07:18:00.356Z"
   },
   {
    "duration": 8,
    "start_time": "2022-08-04T07:38:46.582Z"
   },
   {
    "duration": 8,
    "start_time": "2022-08-04T10:56:29.820Z"
   },
   {
    "duration": 8,
    "start_time": "2022-08-04T10:56:57.381Z"
   },
   {
    "duration": 9,
    "start_time": "2022-08-04T11:11:18.499Z"
   },
   {
    "duration": 9,
    "start_time": "2022-08-04T11:12:24.583Z"
   },
   {
    "duration": 456,
    "start_time": "2022-08-04T11:30:15.574Z"
   },
   {
    "duration": 23,
    "start_time": "2022-08-04T11:30:16.032Z"
   },
   {
    "duration": 18,
    "start_time": "2022-08-04T11:30:16.056Z"
   },
   {
    "duration": 12,
    "start_time": "2022-08-04T11:30:16.076Z"
   },
   {
    "duration": 42,
    "start_time": "2022-08-04T11:30:16.101Z"
   },
   {
    "duration": 5,
    "start_time": "2022-08-04T11:30:16.145Z"
   },
   {
    "duration": 22,
    "start_time": "2022-08-04T11:30:16.151Z"
   },
   {
    "duration": 8,
    "start_time": "2022-08-04T11:30:16.176Z"
   },
   {
    "duration": 24,
    "start_time": "2022-08-04T11:30:16.186Z"
   },
   {
    "duration": 15,
    "start_time": "2022-08-04T11:30:16.213Z"
   },
   {
    "duration": 36,
    "start_time": "2022-08-04T11:30:16.230Z"
   },
   {
    "duration": 10,
    "start_time": "2022-08-04T11:30:16.267Z"
   },
   {
    "duration": 12,
    "start_time": "2022-08-04T11:30:16.279Z"
   },
   {
    "duration": 37,
    "start_time": "2022-08-04T11:30:16.294Z"
   },
   {
    "duration": 17,
    "start_time": "2022-08-04T11:30:16.333Z"
   },
   {
    "duration": 10,
    "start_time": "2022-08-04T11:30:16.351Z"
   },
   {
    "duration": 11,
    "start_time": "2022-08-04T11:30:16.362Z"
   },
   {
    "duration": 13,
    "start_time": "2022-08-04T11:30:16.374Z"
   },
   {
    "duration": 6,
    "start_time": "2022-08-04T11:30:16.389Z"
   },
   {
    "duration": 14,
    "start_time": "2022-08-04T11:30:16.396Z"
   },
   {
    "duration": 16,
    "start_time": "2022-08-04T11:30:16.412Z"
   },
   {
    "duration": 13,
    "start_time": "2022-08-04T11:30:16.429Z"
   },
   {
    "duration": 7,
    "start_time": "2022-08-04T11:30:16.444Z"
   },
   {
    "duration": 9,
    "start_time": "2022-08-04T11:30:16.453Z"
   },
   {
    "duration": 19,
    "start_time": "2022-08-04T11:30:16.464Z"
   },
   {
    "duration": 2,
    "start_time": "2022-08-04T11:30:16.485Z"
   },
   {
    "duration": 6,
    "start_time": "2022-08-04T11:30:16.488Z"
   },
   {
    "duration": 45,
    "start_time": "2022-08-05T11:40:15.069Z"
   },
   {
    "duration": 749,
    "start_time": "2022-08-05T11:40:25.266Z"
   },
   {
    "duration": 29,
    "start_time": "2022-08-05T11:40:26.017Z"
   },
   {
    "duration": 23,
    "start_time": "2022-08-05T11:40:26.048Z"
   },
   {
    "duration": 10,
    "start_time": "2022-08-05T11:40:26.073Z"
   },
   {
    "duration": 60,
    "start_time": "2022-08-05T11:40:26.085Z"
   },
   {
    "duration": 3,
    "start_time": "2022-08-05T11:40:26.147Z"
   },
   {
    "duration": 11,
    "start_time": "2022-08-05T11:40:26.152Z"
   },
   {
    "duration": 6,
    "start_time": "2022-08-05T11:40:26.165Z"
   },
   {
    "duration": 15,
    "start_time": "2022-08-05T11:40:26.172Z"
   },
   {
    "duration": 7,
    "start_time": "2022-08-05T11:40:26.209Z"
   },
   {
    "duration": 39,
    "start_time": "2022-08-05T11:40:26.218Z"
   },
   {
    "duration": 11,
    "start_time": "2022-08-05T11:40:26.259Z"
   },
   {
    "duration": 4,
    "start_time": "2022-08-05T11:40:26.272Z"
   },
   {
    "duration": 46,
    "start_time": "2022-08-05T11:40:26.277Z"
   },
   {
    "duration": 18,
    "start_time": "2022-08-05T11:40:26.325Z"
   },
   {
    "duration": 11,
    "start_time": "2022-08-05T11:40:26.344Z"
   },
   {
    "duration": 7,
    "start_time": "2022-08-05T11:40:26.357Z"
   },
   {
    "duration": 13,
    "start_time": "2022-08-05T11:40:26.365Z"
   },
   {
    "duration": 31,
    "start_time": "2022-08-05T11:40:26.380Z"
   },
   {
    "duration": 4,
    "start_time": "2022-08-05T11:40:26.412Z"
   },
   {
    "duration": 22,
    "start_time": "2022-08-05T11:40:26.418Z"
   },
   {
    "duration": 9,
    "start_time": "2022-08-05T11:40:26.442Z"
   },
   {
    "duration": 62,
    "start_time": "2022-08-05T11:40:26.454Z"
   },
   {
    "duration": 9,
    "start_time": "2022-08-05T11:40:26.518Z"
   },
   {
    "duration": 10,
    "start_time": "2022-08-05T11:40:26.529Z"
   },
   {
    "duration": 8,
    "start_time": "2022-08-05T11:40:26.541Z"
   },
   {
    "duration": 12,
    "start_time": "2022-08-05T11:40:26.550Z"
   },
   {
    "duration": 85,
    "start_time": "2022-08-05T11:40:59.457Z"
   },
   {
    "duration": 31,
    "start_time": "2022-08-05T11:41:28.550Z"
   },
   {
    "duration": 29,
    "start_time": "2022-08-05T11:51:28.960Z"
   },
   {
    "duration": 39,
    "start_time": "2022-08-05T12:04:08.754Z"
   },
   {
    "duration": 35,
    "start_time": "2022-08-05T12:35:54.325Z"
   },
   {
    "duration": 1142,
    "start_time": "2022-08-05T12:51:59.235Z"
   },
   {
    "duration": 29,
    "start_time": "2022-08-05T12:58:55.452Z"
   },
   {
    "duration": 26,
    "start_time": "2022-08-05T13:01:12.052Z"
   },
   {
    "duration": 28,
    "start_time": "2022-08-05T13:01:31.064Z"
   },
   {
    "duration": 26,
    "start_time": "2022-08-05T13:01:50.480Z"
   },
   {
    "duration": 42,
    "start_time": "2022-08-05T13:02:27.744Z"
   },
   {
    "duration": 27,
    "start_time": "2022-08-05T13:02:54.328Z"
   },
   {
    "duration": 26,
    "start_time": "2022-08-05T13:03:07.607Z"
   },
   {
    "duration": 26,
    "start_time": "2022-08-05T13:03:20.136Z"
   },
   {
    "duration": 32,
    "start_time": "2022-08-05T13:03:35.164Z"
   },
   {
    "duration": 31,
    "start_time": "2022-08-05T13:16:29.324Z"
   },
   {
    "duration": 31,
    "start_time": "2022-08-05T13:17:18.492Z"
   },
   {
    "duration": 53,
    "start_time": "2022-08-05T13:18:24.176Z"
   },
   {
    "duration": 45,
    "start_time": "2022-08-05T13:19:38.444Z"
   },
   {
    "duration": 33,
    "start_time": "2022-08-05T13:20:31.412Z"
   },
   {
    "duration": 488,
    "start_time": "2022-08-05T13:21:36.603Z"
   },
   {
    "duration": 24,
    "start_time": "2022-08-05T13:21:37.093Z"
   },
   {
    "duration": 16,
    "start_time": "2022-08-05T13:21:37.118Z"
   },
   {
    "duration": 9,
    "start_time": "2022-08-05T13:21:37.137Z"
   },
   {
    "duration": 35,
    "start_time": "2022-08-05T13:21:37.148Z"
   },
   {
    "duration": 24,
    "start_time": "2022-08-05T13:21:37.185Z"
   },
   {
    "duration": 9,
    "start_time": "2022-08-05T13:21:37.210Z"
   },
   {
    "duration": 7,
    "start_time": "2022-08-05T13:21:37.220Z"
   },
   {
    "duration": 10,
    "start_time": "2022-08-05T13:21:37.228Z"
   },
   {
    "duration": 5,
    "start_time": "2022-08-05T13:21:37.242Z"
   },
   {
    "duration": 68,
    "start_time": "2022-08-05T13:21:37.249Z"
   },
   {
    "duration": 14,
    "start_time": "2022-08-05T13:21:37.319Z"
   },
   {
    "duration": 9,
    "start_time": "2022-08-05T13:21:37.335Z"
   },
   {
    "duration": 41,
    "start_time": "2022-08-05T13:21:37.346Z"
   },
   {
    "duration": 38,
    "start_time": "2022-08-05T13:21:37.389Z"
   },
   {
    "duration": 14,
    "start_time": "2022-08-05T13:21:37.430Z"
   },
   {
    "duration": 11,
    "start_time": "2022-08-05T13:21:37.446Z"
   },
   {
    "duration": 23,
    "start_time": "2022-08-05T13:21:37.459Z"
   },
   {
    "duration": 14,
    "start_time": "2022-08-05T13:21:37.485Z"
   },
   {
    "duration": 10,
    "start_time": "2022-08-05T13:21:37.501Z"
   },
   {
    "duration": 20,
    "start_time": "2022-08-05T13:21:37.513Z"
   },
   {
    "duration": 20,
    "start_time": "2022-08-05T13:21:37.535Z"
   },
   {
    "duration": 97,
    "start_time": "2022-08-05T13:21:37.557Z"
   },
   {
    "duration": 0,
    "start_time": "2022-08-05T13:21:37.656Z"
   },
   {
    "duration": 0,
    "start_time": "2022-08-05T13:21:37.657Z"
   },
   {
    "duration": 0,
    "start_time": "2022-08-05T13:21:37.658Z"
   },
   {
    "duration": 0,
    "start_time": "2022-08-05T13:21:37.659Z"
   },
   {
    "duration": 37,
    "start_time": "2022-08-05T13:22:13.063Z"
   },
   {
    "duration": 34,
    "start_time": "2022-08-05T13:23:34.436Z"
   },
   {
    "duration": 512,
    "start_time": "2022-08-05T13:24:00.300Z"
   },
   {
    "duration": 22,
    "start_time": "2022-08-05T13:24:00.814Z"
   },
   {
    "duration": 17,
    "start_time": "2022-08-05T13:24:00.838Z"
   },
   {
    "duration": 21,
    "start_time": "2022-08-05T13:24:00.857Z"
   },
   {
    "duration": 67,
    "start_time": "2022-08-05T13:24:00.879Z"
   },
   {
    "duration": 4,
    "start_time": "2022-08-05T13:24:00.947Z"
   },
   {
    "duration": 22,
    "start_time": "2022-08-05T13:24:00.953Z"
   },
   {
    "duration": 15,
    "start_time": "2022-08-05T13:24:00.977Z"
   },
   {
    "duration": 48,
    "start_time": "2022-08-05T13:24:00.994Z"
   },
   {
    "duration": 28,
    "start_time": "2022-08-05T13:24:01.046Z"
   },
   {
    "duration": 80,
    "start_time": "2022-08-05T13:24:01.076Z"
   },
   {
    "duration": 10,
    "start_time": "2022-08-05T13:24:01.158Z"
   },
   {
    "duration": 71,
    "start_time": "2022-08-05T13:24:01.169Z"
   },
   {
    "duration": 47,
    "start_time": "2022-08-05T13:24:01.242Z"
   },
   {
    "duration": 18,
    "start_time": "2022-08-05T13:24:01.290Z"
   },
   {
    "duration": 28,
    "start_time": "2022-08-05T13:24:01.310Z"
   },
   {
    "duration": 23,
    "start_time": "2022-08-05T13:24:01.340Z"
   },
   {
    "duration": 20,
    "start_time": "2022-08-05T13:24:01.365Z"
   },
   {
    "duration": 43,
    "start_time": "2022-08-05T13:24:01.387Z"
   },
   {
    "duration": 21,
    "start_time": "2022-08-05T13:24:01.432Z"
   },
   {
    "duration": 27,
    "start_time": "2022-08-05T13:24:01.456Z"
   },
   {
    "duration": 25,
    "start_time": "2022-08-05T13:24:01.485Z"
   },
   {
    "duration": 188,
    "start_time": "2022-08-05T13:24:01.512Z"
   },
   {
    "duration": 0,
    "start_time": "2022-08-05T13:24:01.710Z"
   },
   {
    "duration": 0,
    "start_time": "2022-08-05T13:24:01.711Z"
   },
   {
    "duration": 0,
    "start_time": "2022-08-05T13:24:01.717Z"
   },
   {
    "duration": 0,
    "start_time": "2022-08-05T13:24:01.718Z"
   },
   {
    "duration": 44,
    "start_time": "2022-08-05T13:24:53.528Z"
   },
   {
    "duration": 38,
    "start_time": "2022-08-05T13:25:18.991Z"
   },
   {
    "duration": 47,
    "start_time": "2022-08-05T13:29:19.664Z"
   },
   {
    "duration": 35,
    "start_time": "2022-08-05T13:29:48.836Z"
   },
   {
    "duration": 46,
    "start_time": "2022-08-05T13:30:02.661Z"
   },
   {
    "duration": 33,
    "start_time": "2022-08-05T13:30:13.136Z"
   },
   {
    "duration": 30,
    "start_time": "2022-08-05T13:30:40.892Z"
   },
   {
    "duration": 436,
    "start_time": "2022-08-05T13:30:49.964Z"
   },
   {
    "duration": 24,
    "start_time": "2022-08-05T13:30:50.402Z"
   },
   {
    "duration": 17,
    "start_time": "2022-08-05T13:30:50.427Z"
   },
   {
    "duration": 10,
    "start_time": "2022-08-05T13:30:50.446Z"
   },
   {
    "duration": 59,
    "start_time": "2022-08-05T13:30:50.458Z"
   },
   {
    "duration": 3,
    "start_time": "2022-08-05T13:30:50.519Z"
   },
   {
    "duration": 22,
    "start_time": "2022-08-05T13:30:50.524Z"
   },
   {
    "duration": 13,
    "start_time": "2022-08-05T13:30:50.548Z"
   },
   {
    "duration": 22,
    "start_time": "2022-08-05T13:30:50.562Z"
   },
   {
    "duration": 14,
    "start_time": "2022-08-05T13:30:50.586Z"
   },
   {
    "duration": 47,
    "start_time": "2022-08-05T13:30:50.602Z"
   },
   {
    "duration": 10,
    "start_time": "2022-08-05T13:30:50.651Z"
   },
   {
    "duration": 20,
    "start_time": "2022-08-05T13:30:50.662Z"
   },
   {
    "duration": 28,
    "start_time": "2022-08-05T13:30:50.684Z"
   },
   {
    "duration": 18,
    "start_time": "2022-08-05T13:30:50.713Z"
   },
   {
    "duration": 12,
    "start_time": "2022-08-05T13:30:50.733Z"
   },
   {
    "duration": 17,
    "start_time": "2022-08-05T13:30:50.746Z"
   },
   {
    "duration": 21,
    "start_time": "2022-08-05T13:30:50.765Z"
   },
   {
    "duration": 20,
    "start_time": "2022-08-05T13:30:50.787Z"
   },
   {
    "duration": 8,
    "start_time": "2022-08-05T13:30:50.809Z"
   },
   {
    "duration": 14,
    "start_time": "2022-08-05T13:30:50.818Z"
   },
   {
    "duration": 12,
    "start_time": "2022-08-05T13:30:50.834Z"
   },
   {
    "duration": 99,
    "start_time": "2022-08-05T13:30:50.848Z"
   },
   {
    "duration": 0,
    "start_time": "2022-08-05T13:30:50.949Z"
   },
   {
    "duration": 0,
    "start_time": "2022-08-05T13:30:50.950Z"
   },
   {
    "duration": 0,
    "start_time": "2022-08-05T13:30:50.952Z"
   },
   {
    "duration": 0,
    "start_time": "2022-08-05T13:30:50.953Z"
   },
   {
    "duration": 889,
    "start_time": "2022-08-05T13:31:19.888Z"
   },
   {
    "duration": 36,
    "start_time": "2022-08-05T13:31:53.380Z"
   },
   {
    "duration": 542,
    "start_time": "2022-08-05T13:32:08.191Z"
   },
   {
    "duration": 31,
    "start_time": "2022-08-05T13:32:08.736Z"
   },
   {
    "duration": 40,
    "start_time": "2022-08-05T13:32:08.769Z"
   },
   {
    "duration": 19,
    "start_time": "2022-08-05T13:32:08.812Z"
   },
   {
    "duration": 54,
    "start_time": "2022-08-05T13:32:08.833Z"
   },
   {
    "duration": 4,
    "start_time": "2022-08-05T13:32:08.889Z"
   },
   {
    "duration": 22,
    "start_time": "2022-08-05T13:32:08.909Z"
   },
   {
    "duration": 7,
    "start_time": "2022-08-05T13:32:08.933Z"
   },
   {
    "duration": 14,
    "start_time": "2022-08-05T13:32:08.942Z"
   },
   {
    "duration": 5,
    "start_time": "2022-08-05T13:32:08.962Z"
   },
   {
    "duration": 47,
    "start_time": "2022-08-05T13:32:08.969Z"
   },
   {
    "duration": 11,
    "start_time": "2022-08-05T13:32:09.018Z"
   },
   {
    "duration": 12,
    "start_time": "2022-08-05T13:32:09.031Z"
   },
   {
    "duration": 31,
    "start_time": "2022-08-05T13:32:09.045Z"
   },
   {
    "duration": 31,
    "start_time": "2022-08-05T13:32:09.078Z"
   },
   {
    "duration": 12,
    "start_time": "2022-08-05T13:32:09.112Z"
   },
   {
    "duration": 9,
    "start_time": "2022-08-05T13:32:09.126Z"
   },
   {
    "duration": 24,
    "start_time": "2022-08-05T13:32:09.137Z"
   },
   {
    "duration": 15,
    "start_time": "2022-08-05T13:32:09.163Z"
   },
   {
    "duration": 14,
    "start_time": "2022-08-05T13:32:09.179Z"
   },
   {
    "duration": 27,
    "start_time": "2022-08-05T13:32:09.194Z"
   },
   {
    "duration": 16,
    "start_time": "2022-08-05T13:32:09.223Z"
   },
   {
    "duration": 91,
    "start_time": "2022-08-05T13:32:09.241Z"
   },
   {
    "duration": 0,
    "start_time": "2022-08-05T13:32:09.333Z"
   },
   {
    "duration": 0,
    "start_time": "2022-08-05T13:32:09.335Z"
   },
   {
    "duration": 0,
    "start_time": "2022-08-05T13:32:09.337Z"
   },
   {
    "duration": 0,
    "start_time": "2022-08-05T13:32:09.338Z"
   },
   {
    "duration": 37,
    "start_time": "2022-08-05T13:32:42.880Z"
   },
   {
    "duration": 480,
    "start_time": "2022-08-05T13:32:51.873Z"
   },
   {
    "duration": 22,
    "start_time": "2022-08-05T13:32:52.354Z"
   },
   {
    "duration": 16,
    "start_time": "2022-08-05T13:32:52.378Z"
   },
   {
    "duration": 23,
    "start_time": "2022-08-05T13:32:52.396Z"
   },
   {
    "duration": 45,
    "start_time": "2022-08-05T13:32:52.421Z"
   },
   {
    "duration": 4,
    "start_time": "2022-08-05T13:32:52.468Z"
   },
   {
    "duration": 17,
    "start_time": "2022-08-05T13:32:52.473Z"
   },
   {
    "duration": 6,
    "start_time": "2022-08-05T13:32:52.509Z"
   },
   {
    "duration": 9,
    "start_time": "2022-08-05T13:32:52.517Z"
   },
   {
    "duration": 6,
    "start_time": "2022-08-05T13:32:52.528Z"
   },
   {
    "duration": 37,
    "start_time": "2022-08-05T13:32:52.536Z"
   },
   {
    "duration": 40,
    "start_time": "2022-08-05T13:32:52.575Z"
   },
   {
    "duration": 7,
    "start_time": "2022-08-05T13:32:52.617Z"
   },
   {
    "duration": 26,
    "start_time": "2022-08-05T13:32:52.628Z"
   },
   {
    "duration": 16,
    "start_time": "2022-08-05T13:32:52.656Z"
   },
   {
    "duration": 13,
    "start_time": "2022-08-05T13:32:52.674Z"
   },
   {
    "duration": 3,
    "start_time": "2022-08-05T13:32:52.710Z"
   },
   {
    "duration": 18,
    "start_time": "2022-08-05T13:32:52.716Z"
   },
   {
    "duration": 14,
    "start_time": "2022-08-05T13:32:52.735Z"
   },
   {
    "duration": 5,
    "start_time": "2022-08-05T13:32:52.752Z"
   },
   {
    "duration": 23,
    "start_time": "2022-08-05T13:32:52.759Z"
   },
   {
    "duration": 9,
    "start_time": "2022-08-05T13:32:52.784Z"
   },
   {
    "duration": 108,
    "start_time": "2022-08-05T13:32:52.808Z"
   },
   {
    "duration": 0,
    "start_time": "2022-08-05T13:32:52.918Z"
   },
   {
    "duration": 0,
    "start_time": "2022-08-05T13:32:52.920Z"
   },
   {
    "duration": 0,
    "start_time": "2022-08-05T13:32:52.921Z"
   },
   {
    "duration": 0,
    "start_time": "2022-08-05T13:32:52.922Z"
   },
   {
    "duration": 44,
    "start_time": "2022-08-05T13:34:37.665Z"
   },
   {
    "duration": 445,
    "start_time": "2022-08-05T13:34:50.860Z"
   },
   {
    "duration": 24,
    "start_time": "2022-08-05T13:34:51.308Z"
   },
   {
    "duration": 26,
    "start_time": "2022-08-05T13:34:51.334Z"
   },
   {
    "duration": 16,
    "start_time": "2022-08-05T13:34:51.363Z"
   },
   {
    "duration": 64,
    "start_time": "2022-08-05T13:34:51.380Z"
   },
   {
    "duration": 4,
    "start_time": "2022-08-05T13:34:51.446Z"
   },
   {
    "duration": 14,
    "start_time": "2022-08-05T13:34:51.452Z"
   },
   {
    "duration": 6,
    "start_time": "2022-08-05T13:34:51.469Z"
   },
   {
    "duration": 17,
    "start_time": "2022-08-05T13:34:51.477Z"
   },
   {
    "duration": 14,
    "start_time": "2022-08-05T13:34:51.498Z"
   },
   {
    "duration": 39,
    "start_time": "2022-08-05T13:34:51.513Z"
   },
   {
    "duration": 10,
    "start_time": "2022-08-05T13:34:51.554Z"
   },
   {
    "duration": 5,
    "start_time": "2022-08-05T13:34:51.566Z"
   },
   {
    "duration": 45,
    "start_time": "2022-08-05T13:34:51.573Z"
   },
   {
    "duration": 18,
    "start_time": "2022-08-05T13:34:51.619Z"
   },
   {
    "duration": 13,
    "start_time": "2022-08-05T13:34:51.638Z"
   },
   {
    "duration": 19,
    "start_time": "2022-08-05T13:34:51.652Z"
   },
   {
    "duration": 22,
    "start_time": "2022-08-05T13:34:51.673Z"
   },
   {
    "duration": 19,
    "start_time": "2022-08-05T13:34:51.697Z"
   },
   {
    "duration": 8,
    "start_time": "2022-08-05T13:34:51.719Z"
   },
   {
    "duration": 16,
    "start_time": "2022-08-05T13:34:51.729Z"
   },
   {
    "duration": 8,
    "start_time": "2022-08-05T13:34:51.747Z"
   },
   {
    "duration": 99,
    "start_time": "2022-08-05T13:34:51.758Z"
   },
   {
    "duration": 0,
    "start_time": "2022-08-05T13:34:51.859Z"
   },
   {
    "duration": 0,
    "start_time": "2022-08-05T13:34:51.860Z"
   },
   {
    "duration": 0,
    "start_time": "2022-08-05T13:34:51.862Z"
   },
   {
    "duration": 0,
    "start_time": "2022-08-05T13:34:51.863Z"
   },
   {
    "duration": 50,
    "start_time": "2022-08-05T13:37:18.771Z"
   },
   {
    "duration": 32,
    "start_time": "2022-08-05T13:37:27.467Z"
   },
   {
    "duration": 459,
    "start_time": "2022-08-05T13:37:35.345Z"
   },
   {
    "duration": 24,
    "start_time": "2022-08-05T13:37:35.806Z"
   },
   {
    "duration": 16,
    "start_time": "2022-08-05T13:37:35.832Z"
   },
   {
    "duration": 10,
    "start_time": "2022-08-05T13:37:35.850Z"
   },
   {
    "duration": 69,
    "start_time": "2022-08-05T13:37:35.861Z"
   },
   {
    "duration": 3,
    "start_time": "2022-08-05T13:37:35.932Z"
   },
   {
    "duration": 22,
    "start_time": "2022-08-05T13:37:35.937Z"
   },
   {
    "duration": 11,
    "start_time": "2022-08-05T13:37:35.961Z"
   },
   {
    "duration": 12,
    "start_time": "2022-08-05T13:37:35.974Z"
   },
   {
    "duration": 19,
    "start_time": "2022-08-05T13:37:35.991Z"
   },
   {
    "duration": 49,
    "start_time": "2022-08-05T13:37:36.012Z"
   },
   {
    "duration": 11,
    "start_time": "2022-08-05T13:37:36.064Z"
   },
   {
    "duration": 14,
    "start_time": "2022-08-05T13:37:36.077Z"
   },
   {
    "duration": 31,
    "start_time": "2022-08-05T13:37:36.093Z"
   },
   {
    "duration": 18,
    "start_time": "2022-08-05T13:37:36.125Z"
   },
   {
    "duration": 12,
    "start_time": "2022-08-05T13:37:36.144Z"
   },
   {
    "duration": 9,
    "start_time": "2022-08-05T13:37:36.158Z"
   },
   {
    "duration": 20,
    "start_time": "2022-08-05T13:37:36.169Z"
   },
   {
    "duration": 9,
    "start_time": "2022-08-05T13:37:36.209Z"
   },
   {
    "duration": 4,
    "start_time": "2022-08-05T13:37:36.221Z"
   },
   {
    "duration": 18,
    "start_time": "2022-08-05T13:37:36.227Z"
   },
   {
    "duration": 8,
    "start_time": "2022-08-05T13:37:36.247Z"
   },
   {
    "duration": 119,
    "start_time": "2022-08-05T13:37:36.257Z"
   },
   {
    "duration": 0,
    "start_time": "2022-08-05T13:37:36.378Z"
   },
   {
    "duration": 0,
    "start_time": "2022-08-05T13:37:36.380Z"
   },
   {
    "duration": 0,
    "start_time": "2022-08-05T13:37:36.382Z"
   },
   {
    "duration": 0,
    "start_time": "2022-08-05T13:37:36.383Z"
   },
   {
    "duration": 28,
    "start_time": "2022-08-05T13:39:37.873Z"
   },
   {
    "duration": 57,
    "start_time": "2022-08-05T13:39:47.469Z"
   },
   {
    "duration": 45,
    "start_time": "2022-08-05T13:40:46.729Z"
   },
   {
    "duration": 51,
    "start_time": "2022-08-05T13:41:41.385Z"
   },
   {
    "duration": 46,
    "start_time": "2022-08-05T13:41:53.817Z"
   },
   {
    "duration": 22,
    "start_time": "2022-08-05T13:42:42.529Z"
   },
   {
    "duration": 27,
    "start_time": "2022-08-05T13:43:08.537Z"
   },
   {
    "duration": 24,
    "start_time": "2022-08-05T13:43:24.399Z"
   },
   {
    "duration": 9,
    "start_time": "2022-08-05T14:12:02.444Z"
   },
   {
    "duration": 28,
    "start_time": "2022-08-05T14:12:26.344Z"
   },
   {
    "duration": 25,
    "start_time": "2022-08-05T14:13:25.629Z"
   },
   {
    "duration": 23,
    "start_time": "2022-08-05T14:15:41.216Z"
   },
   {
    "duration": 36,
    "start_time": "2022-08-05T14:26:33.333Z"
   },
   {
    "duration": 7,
    "start_time": "2022-08-05T14:28:12.893Z"
   },
   {
    "duration": 29,
    "start_time": "2022-08-05T14:28:22.904Z"
   },
   {
    "duration": 28,
    "start_time": "2022-08-05T14:28:44.217Z"
   },
   {
    "duration": 38,
    "start_time": "2022-08-05T14:28:53.645Z"
   },
   {
    "duration": 30,
    "start_time": "2022-08-05T14:29:07.440Z"
   },
   {
    "duration": 51,
    "start_time": "2022-08-05T14:46:06.285Z"
   },
   {
    "duration": 33,
    "start_time": "2022-08-05T14:48:01.729Z"
   },
   {
    "duration": 33,
    "start_time": "2022-08-05T14:49:00.213Z"
   },
   {
    "duration": 28,
    "start_time": "2022-08-05T16:11:45.415Z"
   },
   {
    "duration": 44,
    "start_time": "2022-08-06T09:06:25.630Z"
   },
   {
    "duration": 685,
    "start_time": "2022-08-06T09:06:37.904Z"
   },
   {
    "duration": 21,
    "start_time": "2022-08-06T09:06:38.590Z"
   },
   {
    "duration": 13,
    "start_time": "2022-08-06T09:06:38.612Z"
   },
   {
    "duration": 8,
    "start_time": "2022-08-06T09:06:38.627Z"
   },
   {
    "duration": 27,
    "start_time": "2022-08-06T09:06:38.636Z"
   },
   {
    "duration": 3,
    "start_time": "2022-08-06T09:06:38.664Z"
   },
   {
    "duration": 33,
    "start_time": "2022-08-06T09:06:38.669Z"
   },
   {
    "duration": 4,
    "start_time": "2022-08-06T09:06:38.704Z"
   },
   {
    "duration": 8,
    "start_time": "2022-08-06T09:06:38.709Z"
   },
   {
    "duration": 4,
    "start_time": "2022-08-06T09:06:38.719Z"
   },
   {
    "duration": 28,
    "start_time": "2022-08-06T09:06:38.725Z"
   },
   {
    "duration": 8,
    "start_time": "2022-08-06T09:06:38.754Z"
   },
   {
    "duration": 9,
    "start_time": "2022-08-06T09:06:38.763Z"
   },
   {
    "duration": 41,
    "start_time": "2022-08-06T09:06:38.773Z"
   },
   {
    "duration": 15,
    "start_time": "2022-08-06T09:06:38.816Z"
   },
   {
    "duration": 9,
    "start_time": "2022-08-06T09:06:38.833Z"
   },
   {
    "duration": 8,
    "start_time": "2022-08-06T09:06:38.844Z"
   },
   {
    "duration": 13,
    "start_time": "2022-08-06T09:06:38.853Z"
   },
   {
    "duration": 9,
    "start_time": "2022-08-06T09:06:38.867Z"
   },
   {
    "duration": 24,
    "start_time": "2022-08-06T09:06:38.877Z"
   },
   {
    "duration": 11,
    "start_time": "2022-08-06T09:06:38.902Z"
   },
   {
    "duration": 8,
    "start_time": "2022-08-06T09:06:38.914Z"
   },
   {
    "duration": 39,
    "start_time": "2022-08-06T09:06:38.924Z"
   },
   {
    "duration": 41,
    "start_time": "2022-08-06T09:06:38.964Z"
   },
   {
    "duration": 24,
    "start_time": "2022-08-06T09:06:39.007Z"
   },
   {
    "duration": 26,
    "start_time": "2022-08-06T09:06:39.033Z"
   },
   {
    "duration": 35,
    "start_time": "2022-08-06T09:07:35.037Z"
   },
   {
    "duration": 34,
    "start_time": "2022-08-06T09:09:18.269Z"
   },
   {
    "duration": 23,
    "start_time": "2022-08-06T12:28:04.951Z"
   },
   {
    "duration": 20,
    "start_time": "2022-08-06T12:42:40.208Z"
   },
   {
    "duration": 13,
    "start_time": "2022-08-06T12:54:12.979Z"
   },
   {
    "duration": 62,
    "start_time": "2022-08-06T13:11:06.369Z"
   },
   {
    "duration": 48,
    "start_time": "2022-08-06T13:11:17.169Z"
   },
   {
    "duration": 663,
    "start_time": "2022-08-06T17:06:31.633Z"
   },
   {
    "duration": 25,
    "start_time": "2022-08-06T17:06:32.298Z"
   },
   {
    "duration": 12,
    "start_time": "2022-08-06T17:06:32.326Z"
   },
   {
    "duration": 7,
    "start_time": "2022-08-06T17:06:32.340Z"
   },
   {
    "duration": 55,
    "start_time": "2022-08-06T17:06:32.348Z"
   },
   {
    "duration": 3,
    "start_time": "2022-08-06T17:06:32.405Z"
   },
   {
    "duration": 12,
    "start_time": "2022-08-06T17:06:32.410Z"
   },
   {
    "duration": 6,
    "start_time": "2022-08-06T17:06:32.423Z"
   },
   {
    "duration": 9,
    "start_time": "2022-08-06T17:06:32.432Z"
   },
   {
    "duration": 4,
    "start_time": "2022-08-06T17:06:32.442Z"
   },
   {
    "duration": 30,
    "start_time": "2022-08-06T17:06:32.447Z"
   },
   {
    "duration": 11,
    "start_time": "2022-08-06T17:06:32.499Z"
   },
   {
    "duration": 9,
    "start_time": "2022-08-06T17:06:32.512Z"
   },
   {
    "duration": 18,
    "start_time": "2022-08-06T17:06:32.522Z"
   },
   {
    "duration": 18,
    "start_time": "2022-08-06T17:06:32.541Z"
   },
   {
    "duration": 12,
    "start_time": "2022-08-06T17:06:32.560Z"
   },
   {
    "duration": 4,
    "start_time": "2022-08-06T17:06:32.574Z"
   },
   {
    "duration": 10,
    "start_time": "2022-08-06T17:06:32.599Z"
   },
   {
    "duration": 9,
    "start_time": "2022-08-06T17:06:32.611Z"
   },
   {
    "duration": 13,
    "start_time": "2022-08-06T17:06:32.621Z"
   },
   {
    "duration": 37,
    "start_time": "2022-08-06T17:06:32.635Z"
   },
   {
    "duration": 10,
    "start_time": "2022-08-06T17:06:32.673Z"
   },
   {
    "duration": 37,
    "start_time": "2022-08-06T17:06:32.685Z"
   },
   {
    "duration": 23,
    "start_time": "2022-08-06T17:06:32.724Z"
   },
   {
    "duration": 24,
    "start_time": "2022-08-06T17:06:32.748Z"
   },
   {
    "duration": 41,
    "start_time": "2022-08-06T17:06:32.773Z"
   },
   {
    "duration": 47,
    "start_time": "2022-08-06T18:26:31.044Z"
   },
   {
    "duration": 648,
    "start_time": "2022-08-06T18:26:39.356Z"
   },
   {
    "duration": 22,
    "start_time": "2022-08-06T18:26:43.540Z"
   },
   {
    "duration": 43,
    "start_time": "2022-08-06T18:26:47.508Z"
   },
   {
    "duration": 15,
    "start_time": "2022-08-06T18:27:25.864Z"
   },
   {
    "duration": 43,
    "start_time": "2022-08-06T18:32:10.000Z"
   },
   {
    "duration": 480,
    "start_time": "2022-08-06T18:41:47.698Z"
   },
   {
    "duration": 21,
    "start_time": "2022-08-06T18:41:48.180Z"
   },
   {
    "duration": 15,
    "start_time": "2022-08-06T18:41:48.202Z"
   },
   {
    "duration": 10,
    "start_time": "2022-08-06T18:41:48.220Z"
   },
   {
    "duration": 35,
    "start_time": "2022-08-06T18:41:48.232Z"
   },
   {
    "duration": 3,
    "start_time": "2022-08-06T18:41:48.269Z"
   },
   {
    "duration": 38,
    "start_time": "2022-08-06T18:41:48.273Z"
   },
   {
    "duration": 4,
    "start_time": "2022-08-06T18:41:48.313Z"
   },
   {
    "duration": 9,
    "start_time": "2022-08-06T18:41:48.318Z"
   },
   {
    "duration": 14,
    "start_time": "2022-08-06T18:41:48.330Z"
   },
   {
    "duration": 31,
    "start_time": "2022-08-06T18:41:48.345Z"
   },
   {
    "duration": 33,
    "start_time": "2022-08-06T18:41:48.378Z"
   },
   {
    "duration": 3,
    "start_time": "2022-08-06T18:41:48.413Z"
   },
   {
    "duration": 21,
    "start_time": "2022-08-06T18:41:48.418Z"
   },
   {
    "duration": 16,
    "start_time": "2022-08-06T18:41:48.440Z"
   },
   {
    "duration": 10,
    "start_time": "2022-08-06T18:41:48.458Z"
   },
   {
    "duration": 6,
    "start_time": "2022-08-06T18:41:48.470Z"
   },
   {
    "duration": 32,
    "start_time": "2022-08-06T18:41:48.477Z"
   },
   {
    "duration": 5,
    "start_time": "2022-08-06T18:41:48.511Z"
   },
   {
    "duration": 6,
    "start_time": "2022-08-06T18:41:48.517Z"
   },
   {
    "duration": 10,
    "start_time": "2022-08-06T18:41:48.524Z"
   },
   {
    "duration": 6,
    "start_time": "2022-08-06T18:41:48.536Z"
   },
   {
    "duration": 28,
    "start_time": "2022-08-06T18:41:48.543Z"
   },
   {
    "duration": 59,
    "start_time": "2022-08-06T18:41:48.572Z"
   },
   {
    "duration": 25,
    "start_time": "2022-08-06T18:41:48.633Z"
   },
   {
    "duration": 28,
    "start_time": "2022-08-06T18:41:48.660Z"
   },
   {
    "duration": 5,
    "start_time": "2022-08-06T18:42:17.582Z"
   },
   {
    "duration": 18,
    "start_time": "2022-08-06T18:44:23.258Z"
   },
   {
    "duration": 13,
    "start_time": "2022-08-06T18:45:16.234Z"
   },
   {
    "duration": 4,
    "start_time": "2022-08-06T18:45:41.086Z"
   },
   {
    "duration": 574,
    "start_time": "2022-08-07T08:05:39.919Z"
   },
   {
    "duration": 23,
    "start_time": "2022-08-07T08:05:40.495Z"
   },
   {
    "duration": 15,
    "start_time": "2022-08-07T08:05:40.519Z"
   },
   {
    "duration": 9,
    "start_time": "2022-08-07T08:05:40.535Z"
   },
   {
    "duration": 33,
    "start_time": "2022-08-07T08:05:40.545Z"
   },
   {
    "duration": 3,
    "start_time": "2022-08-07T08:05:40.580Z"
   },
   {
    "duration": 9,
    "start_time": "2022-08-07T08:05:40.584Z"
   },
   {
    "duration": 4,
    "start_time": "2022-08-07T08:05:40.595Z"
   },
   {
    "duration": 8,
    "start_time": "2022-08-07T08:05:40.601Z"
   },
   {
    "duration": 7,
    "start_time": "2022-08-07T08:05:40.612Z"
   },
   {
    "duration": 55,
    "start_time": "2022-08-07T08:05:40.621Z"
   },
   {
    "duration": 9,
    "start_time": "2022-08-07T08:05:40.677Z"
   },
   {
    "duration": 5,
    "start_time": "2022-08-07T08:05:40.687Z"
   },
   {
    "duration": 19,
    "start_time": "2022-08-07T08:05:40.693Z"
   },
   {
    "duration": 15,
    "start_time": "2022-08-07T08:05:40.713Z"
   },
   {
    "duration": 28,
    "start_time": "2022-08-07T08:05:40.729Z"
   },
   {
    "duration": 5,
    "start_time": "2022-08-07T08:05:40.759Z"
   },
   {
    "duration": 11,
    "start_time": "2022-08-07T08:05:40.766Z"
   },
   {
    "duration": 8,
    "start_time": "2022-08-07T08:05:40.779Z"
   },
   {
    "duration": 3,
    "start_time": "2022-08-07T08:05:40.788Z"
   },
   {
    "duration": 12,
    "start_time": "2022-08-07T08:05:40.793Z"
   },
   {
    "duration": 7,
    "start_time": "2022-08-07T08:05:40.806Z"
   },
   {
    "duration": 51,
    "start_time": "2022-08-07T08:05:40.814Z"
   },
   {
    "duration": 26,
    "start_time": "2022-08-07T08:05:40.866Z"
   },
   {
    "duration": 24,
    "start_time": "2022-08-07T08:05:40.893Z"
   },
   {
    "duration": 48,
    "start_time": "2022-08-07T08:05:40.918Z"
   }
  ],
  "celltoolbar": "Необработанный формат ячейки",
  "colab": {
   "name": "dpp_template_part2.ipynb",
   "provenance": []
  },
  "kernelspec": {
   "display_name": "Python 3 (ipykernel)",
   "language": "python",
   "name": "python3"
  },
  "language_info": {
   "codemirror_mode": {
    "name": "ipython",
    "version": 3
   },
   "file_extension": ".py",
   "mimetype": "text/x-python",
   "name": "python",
   "nbconvert_exporter": "python",
   "pygments_lexer": "ipython3",
   "version": "3.9.12"
  },
  "toc": {
   "base_numbering": 1,
   "nav_menu": {},
   "number_sections": true,
   "sideBar": true,
   "skip_h1_title": true,
   "title_cell": "Table of Contents",
   "title_sidebar": "Contents",
   "toc_cell": false,
   "toc_position": {},
   "toc_section_display": true,
   "toc_window_display": false
  },
  "vscode": {
   "interpreter": {
    "hash": "db35a858cc7c219ae804cf87746c56a7e6be4ba1ac5f668d07d78216c1333dba"
   }
  }
 },
 "nbformat": 4,
 "nbformat_minor": 5
}