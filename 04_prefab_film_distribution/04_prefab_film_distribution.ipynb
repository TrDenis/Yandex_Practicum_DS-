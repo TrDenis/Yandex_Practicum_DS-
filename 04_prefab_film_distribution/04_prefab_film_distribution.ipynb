{
 "cells": [
  {
   "cell_type": "markdown",
   "metadata": {
    "id": "sIfNaMOxgFyK"
   },
   "source": [
    "# Исследование данных о российском кинопрокате\n",
    "\n"
   ]
  },
  {
   "cell_type": "markdown",
   "metadata": {},
   "source": [
    " "
   ]
  },
  {
   "cell_type": "markdown",
   "metadata": {
    "toc": true
   },
   "source": [
    "<h1>Содержание<span class=\"tocSkip\"></span></h1>\n",
    "<div class=\"toc\"><ul class=\"toc-item\"><li><span><a href=\"#Введение\" data-toc-modified-id=\"Введение-1\"><span class=\"toc-item-num\">1&nbsp;&nbsp;</span>Введение</a></span></li><li><span><a href=\"#Откроем-файлы-с-данными-и-объединим-их-в-один-датафрейм.\" data-toc-modified-id=\"Откроем-файлы-с-данными-и-объединим-их-в-один-датафрейм.-2\"><span class=\"toc-item-num\">2&nbsp;&nbsp;</span>Откроем файлы с данными и объединим их в один датафрейм.</a></span><ul class=\"toc-item\"><li><span><a href=\"#Импортируем-используемые-библиотеки\" data-toc-modified-id=\"Импортируем-используемые-библиотеки-2.1\"><span class=\"toc-item-num\">2.1&nbsp;&nbsp;</span>Импортируем используемые библиотеки</a></span></li><li><span><a href=\"#Настроим-стили-и-форматы-вывода\" data-toc-modified-id=\"Настроим-стили-и-форматы-вывода-2.2\"><span class=\"toc-item-num\">2.2&nbsp;&nbsp;</span>Настроим стили и форматы вывода</a></span></li><li><span><a href=\"#Прочитаем-данные\" data-toc-modified-id=\"Прочитаем-данные-2.3\"><span class=\"toc-item-num\">2.3&nbsp;&nbsp;</span>Прочитаем данные</a></span></li><li><span><a href=\"#Изучим-общую-информацию-о-полученных-датафреймах\" data-toc-modified-id=\"Изучим-общую-информацию-о-полученных-датафреймах-2.4\"><span class=\"toc-item-num\">2.4&nbsp;&nbsp;</span>Изучим общую информацию о полученных датафреймах</a></span></li><li><span><a href=\"#Предварительные-выводы\" data-toc-modified-id=\"Предварительные-выводы-2.5\"><span class=\"toc-item-num\">2.5&nbsp;&nbsp;</span>Предварительные выводы</a></span></li><li><span><a href=\"#Объединим-данные\" data-toc-modified-id=\"Объединим-данные-2.6\"><span class=\"toc-item-num\">2.6&nbsp;&nbsp;</span>Объединим данные</a></span></li></ul></li><li><span><a href=\"#Предобработка-данных\" data-toc-modified-id=\"Предобработка-данных-3\"><span class=\"toc-item-num\">3&nbsp;&nbsp;</span>Предобработка данных</a></span><ul class=\"toc-item\"><li><span><a href=\"#Проверим-данные-на-явные-дубликаты\" data-toc-modified-id=\"Проверим-данные-на-явные-дубликаты-3.1\"><span class=\"toc-item-num\">3.1&nbsp;&nbsp;</span>Проверим данные на явные дубликаты</a></span></li><li><span><a href=\"#Проверим-типы-данных\" data-toc-modified-id=\"Проверим-типы-данных-3.2\"><span class=\"toc-item-num\">3.2&nbsp;&nbsp;</span>Проверим типы данных</a></span></li><li><span><a href=\"#Изучим-пропуски-в-датафрейме\" data-toc-modified-id=\"Изучим-пропуски-в-датафрейме-3.3\"><span class=\"toc-item-num\">3.3&nbsp;&nbsp;</span>Изучим пропуски в датафрейме</a></span></li><li><span><a href=\"#Изучим-дубликаты-в-датафрейме\" data-toc-modified-id=\"Изучим-дубликаты-в-датафрейме-3.4\"><span class=\"toc-item-num\">3.4&nbsp;&nbsp;</span>Изучим дубликаты в датафрейме</a></span></li><li><span><a href=\"#Изучим-категориальные-значения\" data-toc-modified-id=\"Изучим-категориальные-значения-3.5\"><span class=\"toc-item-num\">3.5&nbsp;&nbsp;</span>Изучим категориальные значения</a></span></li><li><span><a href=\"#Проверим-количественные-значения\" data-toc-modified-id=\"Проверим-количественные-значения-3.6\"><span class=\"toc-item-num\">3.6&nbsp;&nbsp;</span>Проверим количественные значения</a></span></li><li><span><a href=\"#Добавим-новые-столбцы\" data-toc-modified-id=\"Добавим-новые-столбцы-3.7\"><span class=\"toc-item-num\">3.7&nbsp;&nbsp;</span>Добавим новые столбцы</a></span></li><li><span><a href=\"#Выводы-по-предобработке-данных\" data-toc-modified-id=\"Выводы-по-предобработке-данных-3.8\"><span class=\"toc-item-num\">3.8&nbsp;&nbsp;</span>Выводы по предобработке данных</a></span></li></ul></li><li><span><a href=\"#Исследовательский-анализ-данных\" data-toc-modified-id=\"Исследовательский-анализ-данных-4\"><span class=\"toc-item-num\">4&nbsp;&nbsp;</span>Исследовательский анализ данных</a></span><ul class=\"toc-item\"><li><span><a href=\"#Анализ-данных-по-годам\" data-toc-modified-id=\"Анализ-данных-по-годам-4.1\"><span class=\"toc-item-num\">4.1&nbsp;&nbsp;</span>Анализ данных по годам</a></span></li><li><span><a href=\"#Исследование-данных-по-возрастным-категориям\" data-toc-modified-id=\"Исследование-данных-по-возрастным-категориям-4.2\"><span class=\"toc-item-num\">4.2&nbsp;&nbsp;</span>Исследование данных по возрастным категориям</a></span></li><li><span><a href=\"#Выявление-текущих-трендов\" data-toc-modified-id=\"Выявление-текущих-трендов-4.3\"><span class=\"toc-item-num\">4.3&nbsp;&nbsp;</span>Выявление текущих трендов</a></span></li></ul></li><li><span><a href=\"#Исследуем-фильмы,-которые-получили-государственную-поддержку\" data-toc-modified-id=\"Исследуем-фильмы,-которые-получили-государственную-поддержку-5\"><span class=\"toc-item-num\">5&nbsp;&nbsp;</span>Исследуем фильмы, которые получили государственную поддержку</a></span><ul class=\"toc-item\"><li><span><a href=\"#Общие-объёмы-государственного-финансирования\" data-toc-modified-id=\"Общие-объёмы-государственного-финансирования-5.1\"><span class=\"toc-item-num\">5.1&nbsp;&nbsp;</span>Общие объёмы государственного финансирования</a></span></li><li><span><a href=\"#Распределение-государственной-поддержки-по-годам\" data-toc-modified-id=\"Распределение-государственной-поддержки-по-годам-5.2\"><span class=\"toc-item-num\">5.2&nbsp;&nbsp;</span>Распределение государственной поддержки по годам</a></span></li><li><span><a href=\"#Окупаемость-фильмов,-получивших-государственное-финансирование\" data-toc-modified-id=\"Окупаемость-фильмов,-получивших-государственное-финансирование-5.3\"><span class=\"toc-item-num\">5.3&nbsp;&nbsp;</span>Окупаемость фильмов, получивших государственное финансирование</a></span></li><li><span><a href=\"#Зависимость-финансовых-показателей-от-рейтинга-фильма\" data-toc-modified-id=\"Зависимость-финансовых-показателей-от-рейтинга-фильма-5.4\"><span class=\"toc-item-num\">5.4&nbsp;&nbsp;</span>Зависимость финансовых показателей от рейтинга фильма</a></span></li><li><span><a href=\"#Изучим-фильмы-с-самой-большой-государственной-поддержкой\" data-toc-modified-id=\"Изучим-фильмы-с-самой-большой-государственной-поддержкой-5.5\"><span class=\"toc-item-num\">5.5&nbsp;&nbsp;</span>Изучим фильмы с самой большой государственной поддержкой</a></span></li></ul></li><li><span><a href=\"#Общий-вывод-исследования-данных-о-российском-кинопрокате\" data-toc-modified-id=\"Общий-вывод-исследования-данных-о-российском-кинопрокате-6\"><span class=\"toc-item-num\">6&nbsp;&nbsp;</span>Общий вывод исследования данных о российском кинопрокате</a></span></li></ul></div>"
   ]
  },
  {
   "cell_type": "markdown",
   "metadata": {},
   "source": [
    " "
   ]
  },
  {
   "cell_type": "markdown",
   "metadata": {},
   "source": [
    "### Введение\n"
   ]
  },
  {
   "cell_type": "markdown",
   "metadata": {},
   "source": [
    "Заказчик этого исследования — Министерство культуры Российской Федерации.\n",
    "\n",
    "Нам нужно изучить рынок российского кинопроката и выявить текущие тренды.\n",
    "Обратить внимание на фильмы, которые получили государственную поддержку. Изучить, насколько такие фильмы интересны зрителю.\n",
    "\n",
    "Мы будем работать с данными, опубликованными на [портале открытых данных](http://opendata.mkrf.ru/).\n",
    "\n",
    "Набор данных содержит информацию о прокатных удостоверениях, сборах и государственной поддержке фильмов, а также информацию с сайта ['КиноПоиск'](https://www.kinopoisk.ru/)."
   ]
  },
  {
   "cell_type": "markdown",
   "metadata": {},
   "source": [
    " "
   ]
  },
  {
   "cell_type": "markdown",
   "metadata": {},
   "source": [
    "### Откроем файлы с данными и объединим их в один датафрейм. "
   ]
  },
  {
   "cell_type": "markdown",
   "metadata": {},
   "source": [
    "Объединим данные таким образом, чтобы все объекты из датасета `mkrf_movies` обязательно вошли в получившийся датафрейм."
   ]
  },
  {
   "cell_type": "markdown",
   "metadata": {},
   "source": [
    " "
   ]
  },
  {
   "cell_type": "markdown",
   "metadata": {},
   "source": [
    "#### Импортируем используемые библиотеки"
   ]
  },
  {
   "cell_type": "code",
   "execution_count": 3,
   "metadata": {},
   "outputs": [],
   "source": [
    "# импортируем библиотеки pandas, numpy, pylab, matplotlib (пакет pyplot)\n",
    "import pandas as pd\n",
    "import numpy as np\n",
    "from pylab import rcParams\n",
    "import matplotlib.pyplot as plt"
   ]
  },
  {
   "cell_type": "markdown",
   "metadata": {},
   "source": [
    " "
   ]
  },
  {
   "cell_type": "markdown",
   "metadata": {},
   "source": [
    "#### Настроим стили и форматы вывода"
   ]
  },
  {
   "cell_type": "code",
   "execution_count": 4,
   "metadata": {},
   "outputs": [],
   "source": [
    "# настроим точность вывода до 2-х десятичных знаков и разделители тысяч (групп разрядов) для больших чисел\n",
    "pd.set_option('display.float_format', '{:,.2f}'.format)\n",
    "\n",
    "# установим графическую тему для графиков и гистограмм\n",
    "plt.style.use('seaborn')\n",
    "\n",
    "# зададим размеры фигуры для вывода графиков и гистограмм\n",
    "rcParams['figure.figsize'] = 15, 10\n",
    "\n",
    "# настроим местоположение и размер шрифта для легенды графиков и гистограмм\n",
    "rcParams['legend.loc'] = 'upper left'\n",
    "rcParams['legend.fontsize'] = 14"
   ]
  },
  {
   "cell_type": "markdown",
   "metadata": {},
   "source": [
    " "
   ]
  },
  {
   "cell_type": "markdown",
   "metadata": {},
   "source": [
    "#### Прочитаем данные"
   ]
  },
  {
   "cell_type": "code",
   "execution_count": 5,
   "metadata": {},
   "outputs": [],
   "source": [
    "# читаем данные в датафреймы с локального ПК, а если не получится, то из интернета\n",
    "try:\n",
    "    df_movies = pd.read_csv('./datasets/mkrf_movies.csv', sep=',')\n",
    "except:\n",
    "    print('ОШИБКА: Данные о прокатных удостоверениях не были прочитаны, читаем из интернета!')\n",
    "    df_movies = pd.read_csv('***', sep=',')\n",
    "try:\n",
    "    df_shows = pd.read_csv('./datasets/mkrf_shows.csv', sep=',')\n",
    "except:\n",
    "    print('ОШИБКА: Данные о прокате в российских кинотеатрах не были прочитаны, читаем из интернета!')\n",
    "    df_shows = pd.read_csv('***', sep=',')"
   ]
  },
  {
   "cell_type": "markdown",
   "metadata": {},
   "source": [
    " "
   ]
  },
  {
   "cell_type": "markdown",
   "metadata": {},
   "source": [
    "#### Изучим общую информацию о полученных датафреймах"
   ]
  },
  {
   "cell_type": "markdown",
   "metadata": {},
   "source": [
    "Выведем случайные 5 записей из наборов данных, посмотрим основные характеристики датасетов, сравним количество строк, содержащихся в них."
   ]
  },
  {
   "cell_type": "code",
   "execution_count": 6,
   "metadata": {
    "scrolled": false
   },
   "outputs": [
    {
     "data": {
      "text/plain": "                                                  title   puNumber  \\\n7141                                          Манхэттен  121023219   \n196                                              Катала  111024214   \n3979  1937. Время смерти (\"Судоходное кладбище\", \"Тр...  212035010   \n2612                                       Визит (2015)  221025116   \n1628                                      Мерзлая земля  121019013   \n\n               show_start_date             type  \\\n7141  2019-08-26T12:00:00.000Z   Художественный   \n196   2014-12-24T12:00:00.000Z   Художественный   \n3979  2010-09-03T12:00:00.000Z   Художественный   \n2612  2016-05-30T12:00:00.000Z   Художественный   \n1628  2013-07-19T12:00:00.000Z   Художественный   \n\n                                            film_studio production_country  \\\n7141              Джек Роллинз и Чарльз Йоффе Продакшнс                США   \n196                               Киностудия \"Мосфильм\"               СССР   \n3979                            ООО Киностудия \"Гамаюн\"             Россия   \n2612           Блиндинг Эдж Пикчерз, Блюмхауз Продакшнз                США   \n1628  Грайндстоун Интертейнмент, Эммет/Фурла Филмз, ...                США   \n\n                   director  \\\n7141             Вуди Аллен   \n196   С.Бодров, А.Буравский   \n3979   Д.Мастеров, Н.Попова   \n2612       М. Найт Шьямалан   \n1628            Скотт Уокер   \n\n                                               producer  \\\n7141       Чарльз Х.Джофф, Роберт Гринхат, Джек Роллинз   \n196                                                 NaN   \n3979                                                NaN   \n2612      Джейсон Блум, Марк Бьенсток, М. Найт Шьямалан   \n1628  Барри Брукер, Энтони Гудас, Фредерик Малмберг,...   \n\n                      age_restriction  refundable_support  \\\n7141      «18+» - запрещено для детей                 NaN   \n196   «12+» - для детей старше 12 лет                 NaN   \n3979  «12+» - для детей старше 12 лет                 NaN   \n2612  «16+» - для детей старше 16 лет                 NaN   \n1628  «16+» - для детей старше 16 лет                 NaN   \n\n      nonrefundable_support  budget financing_source ratings  \\\n7141                    NaN     NaN              NaN     7.8   \n196                     NaN     NaN              NaN     6.7   \n3979                    NaN     NaN              NaN     NaN   \n2612                    NaN     NaN              NaN     6.1   \n1628                    NaN     NaN              NaN     6.4   \n\n                       genres  \n7141  драма,мелодрама,комедия  \n196        мелодрама,криминал  \n3979                      NaN  \n2612   ужасы,триллер,детектив  \n1628   триллер,драма,криминал  ",
      "text/html": "<div>\n<style scoped>\n    .dataframe tbody tr th:only-of-type {\n        vertical-align: middle;\n    }\n\n    .dataframe tbody tr th {\n        vertical-align: top;\n    }\n\n    .dataframe thead th {\n        text-align: right;\n    }\n</style>\n<table border=\"1\" class=\"dataframe\">\n  <thead>\n    <tr style=\"text-align: right;\">\n      <th></th>\n      <th>title</th>\n      <th>puNumber</th>\n      <th>show_start_date</th>\n      <th>type</th>\n      <th>film_studio</th>\n      <th>production_country</th>\n      <th>director</th>\n      <th>producer</th>\n      <th>age_restriction</th>\n      <th>refundable_support</th>\n      <th>nonrefundable_support</th>\n      <th>budget</th>\n      <th>financing_source</th>\n      <th>ratings</th>\n      <th>genres</th>\n    </tr>\n  </thead>\n  <tbody>\n    <tr>\n      <th>7141</th>\n      <td>Манхэттен</td>\n      <td>121023219</td>\n      <td>2019-08-26T12:00:00.000Z</td>\n      <td>Художественный</td>\n      <td>Джек Роллинз и Чарльз Йоффе Продакшнс</td>\n      <td>США</td>\n      <td>Вуди Аллен</td>\n      <td>Чарльз Х.Джофф, Роберт Гринхат, Джек Роллинз</td>\n      <td>«18+» - запрещено для детей</td>\n      <td>NaN</td>\n      <td>NaN</td>\n      <td>NaN</td>\n      <td>NaN</td>\n      <td>7.8</td>\n      <td>драма,мелодрама,комедия</td>\n    </tr>\n    <tr>\n      <th>196</th>\n      <td>Катала</td>\n      <td>111024214</td>\n      <td>2014-12-24T12:00:00.000Z</td>\n      <td>Художественный</td>\n      <td>Киностудия \"Мосфильм\"</td>\n      <td>СССР</td>\n      <td>С.Бодров, А.Буравский</td>\n      <td>NaN</td>\n      <td>«12+» - для детей старше 12 лет</td>\n      <td>NaN</td>\n      <td>NaN</td>\n      <td>NaN</td>\n      <td>NaN</td>\n      <td>6.7</td>\n      <td>мелодрама,криминал</td>\n    </tr>\n    <tr>\n      <th>3979</th>\n      <td>1937. Время смерти (\"Судоходное кладбище\", \"Тр...</td>\n      <td>212035010</td>\n      <td>2010-09-03T12:00:00.000Z</td>\n      <td>Художественный</td>\n      <td>ООО Киностудия \"Гамаюн\"</td>\n      <td>Россия</td>\n      <td>Д.Мастеров, Н.Попова</td>\n      <td>NaN</td>\n      <td>«12+» - для детей старше 12 лет</td>\n      <td>NaN</td>\n      <td>NaN</td>\n      <td>NaN</td>\n      <td>NaN</td>\n      <td>NaN</td>\n      <td>NaN</td>\n    </tr>\n    <tr>\n      <th>2612</th>\n      <td>Визит (2015)</td>\n      <td>221025116</td>\n      <td>2016-05-30T12:00:00.000Z</td>\n      <td>Художественный</td>\n      <td>Блиндинг Эдж Пикчерз, Блюмхауз Продакшнз</td>\n      <td>США</td>\n      <td>М. Найт Шьямалан</td>\n      <td>Джейсон Блум, Марк Бьенсток, М. Найт Шьямалан</td>\n      <td>«16+» - для детей старше 16 лет</td>\n      <td>NaN</td>\n      <td>NaN</td>\n      <td>NaN</td>\n      <td>NaN</td>\n      <td>6.1</td>\n      <td>ужасы,триллер,детектив</td>\n    </tr>\n    <tr>\n      <th>1628</th>\n      <td>Мерзлая земля</td>\n      <td>121019013</td>\n      <td>2013-07-19T12:00:00.000Z</td>\n      <td>Художественный</td>\n      <td>Грайндстоун Интертейнмент, Эммет/Фурла Филмз, ...</td>\n      <td>США</td>\n      <td>Скотт Уокер</td>\n      <td>Барри Брукер, Энтони Гудас, Фредерик Малмберг,...</td>\n      <td>«16+» - для детей старше 16 лет</td>\n      <td>NaN</td>\n      <td>NaN</td>\n      <td>NaN</td>\n      <td>NaN</td>\n      <td>6.4</td>\n      <td>триллер,драма,криминал</td>\n    </tr>\n  </tbody>\n</table>\n</div>"
     },
     "metadata": {},
     "output_type": "display_data"
    },
    {
     "data": {
      "text/plain": "       puNumber       box_office\n2713  124001617 1,390,392,637.00\n1053  121003017    21,241,907.00\n2631  124000517    78,977,834.00\n20    111000512         6,000.00\n2458  121030319     4,498,564.10",
      "text/html": "<div>\n<style scoped>\n    .dataframe tbody tr th:only-of-type {\n        vertical-align: middle;\n    }\n\n    .dataframe tbody tr th {\n        vertical-align: top;\n    }\n\n    .dataframe thead th {\n        text-align: right;\n    }\n</style>\n<table border=\"1\" class=\"dataframe\">\n  <thead>\n    <tr style=\"text-align: right;\">\n      <th></th>\n      <th>puNumber</th>\n      <th>box_office</th>\n    </tr>\n  </thead>\n  <tbody>\n    <tr>\n      <th>2713</th>\n      <td>124001617</td>\n      <td>1,390,392,637.00</td>\n    </tr>\n    <tr>\n      <th>1053</th>\n      <td>121003017</td>\n      <td>21,241,907.00</td>\n    </tr>\n    <tr>\n      <th>2631</th>\n      <td>124000517</td>\n      <td>78,977,834.00</td>\n    </tr>\n    <tr>\n      <th>20</th>\n      <td>111000512</td>\n      <td>6,000.00</td>\n    </tr>\n    <tr>\n      <th>2458</th>\n      <td>121030319</td>\n      <td>4,498,564.10</td>\n    </tr>\n  </tbody>\n</table>\n</div>"
     },
     "metadata": {},
     "output_type": "display_data"
    },
    {
     "data": {
      "text/plain": "       refundable_support  nonrefundable_support           budget\ncount              332.00                 332.00           332.00\nmean        11,864,457.83          48,980,988.89   127,229,716.68\nstd         24,916,555.26          59,980,117.92   188,588,333.12\nmin                  0.00                   0.00             0.00\n25%                  0.00          25,000,000.00    42,000,000.00\n50%                  0.00          30,000,000.00    68,649,916.00\n75%         15,000,000.00          40,375,000.00   141,985,319.50\nmax        180,000,000.00         400,000,000.00 2,305,074,303.00",
      "text/html": "<div>\n<style scoped>\n    .dataframe tbody tr th:only-of-type {\n        vertical-align: middle;\n    }\n\n    .dataframe tbody tr th {\n        vertical-align: top;\n    }\n\n    .dataframe thead th {\n        text-align: right;\n    }\n</style>\n<table border=\"1\" class=\"dataframe\">\n  <thead>\n    <tr style=\"text-align: right;\">\n      <th></th>\n      <th>refundable_support</th>\n      <th>nonrefundable_support</th>\n      <th>budget</th>\n    </tr>\n  </thead>\n  <tbody>\n    <tr>\n      <th>count</th>\n      <td>332.00</td>\n      <td>332.00</td>\n      <td>332.00</td>\n    </tr>\n    <tr>\n      <th>mean</th>\n      <td>11,864,457.83</td>\n      <td>48,980,988.89</td>\n      <td>127,229,716.68</td>\n    </tr>\n    <tr>\n      <th>std</th>\n      <td>24,916,555.26</td>\n      <td>59,980,117.92</td>\n      <td>188,588,333.12</td>\n    </tr>\n    <tr>\n      <th>min</th>\n      <td>0.00</td>\n      <td>0.00</td>\n      <td>0.00</td>\n    </tr>\n    <tr>\n      <th>25%</th>\n      <td>0.00</td>\n      <td>25,000,000.00</td>\n      <td>42,000,000.00</td>\n    </tr>\n    <tr>\n      <th>50%</th>\n      <td>0.00</td>\n      <td>30,000,000.00</td>\n      <td>68,649,916.00</td>\n    </tr>\n    <tr>\n      <th>75%</th>\n      <td>15,000,000.00</td>\n      <td>40,375,000.00</td>\n      <td>141,985,319.50</td>\n    </tr>\n    <tr>\n      <th>max</th>\n      <td>180,000,000.00</td>\n      <td>400,000,000.00</td>\n      <td>2,305,074,303.00</td>\n    </tr>\n  </tbody>\n</table>\n</div>"
     },
     "metadata": {},
     "output_type": "display_data"
    },
    {
     "data": {
      "text/plain": "            puNumber       box_office\ncount       3,158.00         3,158.00\nmean  120,187,475.32    76,478,696.16\nstd    12,383,941.15   240,353,122.82\nmin   111,000,113.00             0.00\n25%   113,000,191.75        86,239.00\n50%   121,013,114.50     2,327,987.55\n75%   121,028,317.75    23,979,671.02\nmax   224,026,410.00 3,073,568,690.79",
      "text/html": "<div>\n<style scoped>\n    .dataframe tbody tr th:only-of-type {\n        vertical-align: middle;\n    }\n\n    .dataframe tbody tr th {\n        vertical-align: top;\n    }\n\n    .dataframe thead th {\n        text-align: right;\n    }\n</style>\n<table border=\"1\" class=\"dataframe\">\n  <thead>\n    <tr style=\"text-align: right;\">\n      <th></th>\n      <th>puNumber</th>\n      <th>box_office</th>\n    </tr>\n  </thead>\n  <tbody>\n    <tr>\n      <th>count</th>\n      <td>3,158.00</td>\n      <td>3,158.00</td>\n    </tr>\n    <tr>\n      <th>mean</th>\n      <td>120,187,475.32</td>\n      <td>76,478,696.16</td>\n    </tr>\n    <tr>\n      <th>std</th>\n      <td>12,383,941.15</td>\n      <td>240,353,122.82</td>\n    </tr>\n    <tr>\n      <th>min</th>\n      <td>111,000,113.00</td>\n      <td>0.00</td>\n    </tr>\n    <tr>\n      <th>25%</th>\n      <td>113,000,191.75</td>\n      <td>86,239.00</td>\n    </tr>\n    <tr>\n      <th>50%</th>\n      <td>121,013,114.50</td>\n      <td>2,327,987.55</td>\n    </tr>\n    <tr>\n      <th>75%</th>\n      <td>121,028,317.75</td>\n      <td>23,979,671.02</td>\n    </tr>\n    <tr>\n      <th>max</th>\n      <td>224,026,410.00</td>\n      <td>3,073,568,690.79</td>\n    </tr>\n  </tbody>\n</table>\n</div>"
     },
     "metadata": {},
     "output_type": "display_data"
    },
    {
     "name": "stdout",
     "output_type": "stream",
     "text": [
      "Число записей в мировом прокате: 7486, количество столбцов: 15\n",
      "Число записей в Российском прокате: 3158, количество столбцов: 2\n",
      "В Российском прокате представлены: 42.19% кинофильмов от кинопроектов мирового проката\n"
     ]
    }
   ],
   "source": [
    "display(df_movies.sample(5))\n",
    "display(df_shows.sample(5))\n",
    "display(df_movies.describe())\n",
    "display(df_shows.describe())\n",
    "\n",
    "print(f'Число записей в мировом прокате: {df_movies.shape[0]}, количество столбцов: {df_movies.shape[1]}')\n",
    "print(f'Число записей в Российском прокате: {df_shows.shape[0]}, количество столбцов: {df_shows.shape[1]}')\n",
    "print(f'В Российском прокате представлены: ' \\\n",
    "      f'{(len(df_shows) / len(df_movies)):.2%} кинофильмов от кинопроектов мирового проката')"
   ]
  },
  {
   "cell_type": "markdown",
   "metadata": {},
   "source": [
    " "
   ]
  },
  {
   "cell_type": "markdown",
   "metadata": {},
   "source": [
    "#### Предварительные выводы"
   ]
  },
  {
   "cell_type": "markdown",
   "metadata": {},
   "source": [
    "Итак, у нас есть два датафрейма, с общим столбцом `'puNumber'`, по которому мы и будем их объединять.\n",
    "В таблице `mkrf_movies` наблюдаем большое число пропусков.\n",
    "Количество записей в таблице `mkrf_shows` практически в два раза меньше, чем `mkrf_movies`.\n",
    "Радует грамотное название колонок и наличие описания (кроме названия колонки `'puNumber'`, которую переименуем после объединения датасетов)."
   ]
  },
  {
   "cell_type": "markdown",
   "metadata": {},
   "source": [
    " "
   ]
  },
  {
   "cell_type": "markdown",
   "metadata": {},
   "source": [
    "#### Объединим данные"
   ]
  },
  {
   "cell_type": "markdown",
   "metadata": {},
   "source": [
    "Чтобы объединить две таблицы, необходимо преобразовать в целочисленный тип столбца `'puNumber'` в таблице `df_movies`. Но сначала необходимо избавиться от слова `'нет'` в этом столбце, посмотрим, что там за данные."
   ]
  },
  {
   "cell_type": "code",
   "execution_count": 73,
   "metadata": {
    "scrolled": false
   },
   "outputs": [
    {
     "data": {
      "text/html": [
       "<div>\n",
       "<style scoped>\n",
       "    .dataframe tbody tr th:only-of-type {\n",
       "        vertical-align: middle;\n",
       "    }\n",
       "\n",
       "    .dataframe tbody tr th {\n",
       "        vertical-align: top;\n",
       "    }\n",
       "\n",
       "    .dataframe thead th {\n",
       "        text-align: right;\n",
       "    }\n",
       "</style>\n",
       "<table border=\"1\" class=\"dataframe\">\n",
       "  <thead>\n",
       "    <tr style=\"text-align: right;\">\n",
       "      <th></th>\n",
       "      <th>title</th>\n",
       "      <th>puNumber</th>\n",
       "      <th>production_country</th>\n",
       "      <th>director</th>\n",
       "      <th>producer</th>\n",
       "    </tr>\n",
       "  </thead>\n",
       "  <tbody>\n",
       "    <tr>\n",
       "      <th>1797</th>\n",
       "      <td>Курбан-роман. (История с жертвой)</td>\n",
       "      <td>нет</td>\n",
       "      <td>Россия</td>\n",
       "      <td>С.Юзеев</td>\n",
       "      <td>М.Галицкая</td>\n",
       "    </tr>\n",
       "  </tbody>\n",
       "</table>\n",
       "</div>"
      ],
      "text/plain": [
       "                                  title puNumber production_country director  \\\n",
       "1797  Курбан-роман. (История с жертвой)      нет             Россия  С.Юзеев   \n",
       "\n",
       "        producer  \n",
       "1797  М.Галицкая  "
      ]
     },
     "metadata": {},
     "output_type": "display_data"
    }
   ],
   "source": [
    "# выведем запись со словом 'нет' в столбце 'puNumber'\n",
    "display(df_movies.loc[df_movies['puNumber'] == 'нет', \n",
    "                      ['title', 'puNumber', 'production_country', 'director', 'producer']])"
   ]
  },
  {
   "cell_type": "markdown",
   "metadata": {},
   "source": [
    "Номер прокатного удостоверения отсутствует только у фильма `'Курбан-роман. (История с жертвой)'`, режиссёра `С. Юзеева`. Попробуем найти о нём информацию на сайте [Министерства Культуры РФ](https://culture.gov.ru/). Результат поиска выдал номер `111009614`, его и запишем вместо слова `'нет'`. Затем преобразуем тип колонки `'puNumber'` и объединим две таблицы. Столбец `'puNumber'` переименуем в стиле *'змеиного регистра'*, т.е. дадим ему название `'pu_number'`. Проверим как прошло объединение, не пропали ли записи из датафрейма `'df_movies'`."
   ]
  },
  {
   "cell_type": "code",
   "execution_count": 74,
   "metadata": {},
   "outputs": [
    {
     "name": "stdout",
     "output_type": "stream",
     "text": [
      "В результате слияния добавились столбцы: ['box_office']\n",
      "Число записей: 7486, Количество столбцов: 16\n"
     ]
    }
   ],
   "source": [
    "# запишем 111009614 вместо слова 'нет' в столбце 'puNumber'\n",
    "df_movies.loc[df_movies['puNumber'] == 'нет', 'puNumber'] = 111009614\n",
    "\n",
    "# преобразуем тип столбца 'puNumber' в int64\n",
    "df_movies['puNumber'] = df_movies['puNumber'].astype('int64')\n",
    "\n",
    "# объединим два датафрейма\n",
    "df = df_movies.merge(df_shows, on='puNumber', how='left')\n",
    "\n",
    "# сравним списки столбцов и выведем какие столбцы были добавлены\n",
    "print('В результате слияния добавились столбцы:', \n",
    "      list(set(df.columns.tolist()) - set(df_movies.columns.tolist())))\n",
    "\n",
    "# переименуем столбец 'puNumber' в 'pu_number'\n",
    "df.rename(columns = {'puNumber': 'pu_number'}, inplace=True)\n",
    "\n",
    "# выведем размеры объединенного датасета\n",
    "print(f'Число записей: {df.shape[0]}, Количество столбцов: {df.shape[1]}')"
   ]
  },
  {
   "cell_type": "markdown",
   "metadata": {},
   "source": [
    "Данные собраны в единый датафрейм с удобным коротким названием `'df'`, количество записей совпадает с изначальным значением, добавился столбец `'box_office'`, теперь можно приступать к предобработке."
   ]
  },
  {
   "cell_type": "markdown",
   "metadata": {},
   "source": [
    " "
   ]
  },
  {
   "cell_type": "markdown",
   "metadata": {
    "id": "KLDGpPG0gFyM"
   },
   "source": [
    "### Предобработка данных"
   ]
  },
  {
   "cell_type": "markdown",
   "metadata": {},
   "source": [
    "#### Проверим данные на явные дубликаты"
   ]
  },
  {
   "cell_type": "markdown",
   "metadata": {},
   "source": [
    "Прежде чем начинать работу с данными, необходимо проверить их на наличие явных дубликатов и если они есть удалить данные методом `drop_duplicates()`. Это позволит уменьшить объём данных и сэкономить время дальнейшей обработки."
   ]
  },
  {
   "cell_type": "code",
   "execution_count": 75,
   "metadata": {},
   "outputs": [
    {
     "name": "stdout",
     "output_type": "stream",
     "text": [
      "Количество дубликатов строк: 0\n"
     ]
    }
   ],
   "source": [
    "# выведем количество дубликатов строк\n",
    "print('Количество дубликатов строк:', df.duplicated().sum())"
   ]
  },
  {
   "cell_type": "markdown",
   "metadata": {},
   "source": [
    "В нашем датафрейме явные дубликаты не обнаружены."
   ]
  },
  {
   "cell_type": "markdown",
   "metadata": {},
   "source": [
    " "
   ]
  },
  {
   "cell_type": "markdown",
   "metadata": {
    "id": "ssWwKXsxgFyO"
   },
   "source": [
    "#### Проверим типы данных"
   ]
  },
  {
   "cell_type": "markdown",
   "metadata": {},
   "source": [
    "Проверим типы данных в датафрейме и преобразуем их там, где это необходимо."
   ]
  },
  {
   "cell_type": "code",
   "execution_count": 76,
   "metadata": {
    "id": "kVGSplJOgFyO"
   },
   "outputs": [
    {
     "data": {
      "text/plain": [
       "title                     object\n",
       "pu_number                  int64\n",
       "show_start_date           object\n",
       "type                      object\n",
       "film_studio               object\n",
       "production_country        object\n",
       "director                  object\n",
       "producer                  object\n",
       "age_restriction           object\n",
       "refundable_support       float64\n",
       "nonrefundable_support    float64\n",
       "budget                   float64\n",
       "financing_source          object\n",
       "ratings                   object\n",
       "genres                    object\n",
       "box_office               float64\n",
       "dtype: object"
      ]
     },
     "execution_count": 76,
     "metadata": {},
     "output_type": "execute_result"
    }
   ],
   "source": [
    "# посмотрим на типы данных\n",
    "df.dtypes"
   ]
  },
  {
   "cell_type": "markdown",
   "metadata": {},
   "source": [
    "Для удобного и корректного расчёта зависимостей, исследований и вычислений тип данных должен соответствовать самим данным. Рассмотрим подробнее столбцы с некорректным типом данных:\n",
    "\n",
    "1. `'show_start_date'` - `object`, должен быть `datetime64`\n",
    "2. `'ratings'` - `object`, должен быть `float64`\n",
    "\n",
    "Изменим типы данных этих колонок. Со столбцом `'show_start_date'` проблем нет, применим метод `to_datetime()` из библиотеки `pandas`."
   ]
  },
  {
   "cell_type": "code",
   "execution_count": 77,
   "metadata": {},
   "outputs": [],
   "source": [
    "# изменим тип столбца на 'datetime64'\n",
    "df['show_start_date'] = pd.to_datetime(df['show_start_date'])"
   ]
  },
  {
   "cell_type": "markdown",
   "metadata": {},
   "source": [
    "Со столбцом `'ratings'` всё немного сложнее. Рассмотрим его внимательнее. Выведем уникальные значения этого столбца."
   ]
  },
  {
   "cell_type": "code",
   "execution_count": 78,
   "metadata": {},
   "outputs": [
    {
     "data": {
      "text/plain": [
       "array(['7.2', '6.6', '6.8', '7.7', '8.3', '8.0', '7.8', '8.1', '7.1',\n",
       "       '6.0', '7.4', '5.8', '8.7', '6.3', '6.9', '5.0', '4.3', '7.3',\n",
       "       '7.0', '6.4', nan, '8.2', '7.5', '6.7', '7.9', '5.9', '6.2', '5.6',\n",
       "       '6.5', '2.4', '7.6', '6.1', '8.6', '8.5', '8.8', '5.5', '5.1',\n",
       "       '5.7', '5.4', '99%', '4.4', '4.5', '5.3', '4.1', '8.4', '2.6',\n",
       "       '3.8', '4.6', '4.8', '4.0', '3.0', '1.6', '4.2', '5.2', '4.7',\n",
       "       '4.9', '3.9', '2.7', '3.3', '2.9', '28%', '3.7', '1.4', '3.1',\n",
       "       '97%', '3.5', '3.2', '2.8', '1.5', '2.1', '2.5', '9.2', '3.4',\n",
       "       '1.1', '3.6', '83%', '64%', '91%', '94%', '62%', '79%', '90%',\n",
       "       '19%', '88%', '1.0', '89%', '1.3', '1.9', '1.8', '1.2', '1.7',\n",
       "       '9.0', '98%', '8.9', '9.1'], dtype=object)"
      ]
     },
     "metadata": {},
     "output_type": "display_data"
    }
   ],
   "source": [
    "display(df['ratings'].unique())"
   ]
  },
  {
   "cell_type": "markdown",
   "metadata": {},
   "source": [
    "Видим пропущенные значения и некоторые значения в процентах. В то время, как рейтинг ['КиноПоиск'](https://www.kinopoisk.ru/) это вещественные числа от 0 до 10 (теоретически). Выведем несколько строк с фильмами, у которых рейтинг записан в процентах."
   ]
  },
  {
   "cell_type": "code",
   "execution_count": 79,
   "metadata": {},
   "outputs": [
    {
     "data": {
      "text/html": [
       "<div>\n",
       "<style scoped>\n",
       "    .dataframe tbody tr th:only-of-type {\n",
       "        vertical-align: middle;\n",
       "    }\n",
       "\n",
       "    .dataframe tbody tr th {\n",
       "        vertical-align: top;\n",
       "    }\n",
       "\n",
       "    .dataframe thead th {\n",
       "        text-align: right;\n",
       "    }\n",
       "</style>\n",
       "<table border=\"1\" class=\"dataframe\">\n",
       "  <thead>\n",
       "    <tr style=\"text-align: right;\">\n",
       "      <th></th>\n",
       "      <th>title</th>\n",
       "      <th>pu_number</th>\n",
       "      <th>genres</th>\n",
       "      <th>ratings</th>\n",
       "    </tr>\n",
       "  </thead>\n",
       "  <tbody>\n",
       "    <tr>\n",
       "      <th>3446</th>\n",
       "      <td>Короткие истории о любви - 4</td>\n",
       "      <td>126006316</td>\n",
       "      <td>NaN</td>\n",
       "      <td>83%</td>\n",
       "    </tr>\n",
       "    <tr>\n",
       "      <th>1899</th>\n",
       "      <td>Золушка /По сказке Шарля Перро/. Холодное торж...</td>\n",
       "      <td>121003615</td>\n",
       "      <td>мюзикл,фэнтези,мелодрама</td>\n",
       "      <td>64%</td>\n",
       "    </tr>\n",
       "    <tr>\n",
       "      <th>7277</th>\n",
       "      <td>Добыча</td>\n",
       "      <td>121028319</td>\n",
       "      <td>фантастика,боевик,триллер</td>\n",
       "      <td>88%</td>\n",
       "    </tr>\n",
       "    <tr>\n",
       "      <th>3948</th>\n",
       "      <td>Круиз.</td>\n",
       "      <td>211038210</td>\n",
       "      <td>приключения,комедия,фэнтези</td>\n",
       "      <td>97%</td>\n",
       "    </tr>\n",
       "    <tr>\n",
       "      <th>6737</th>\n",
       "      <td>Колесо времени</td>\n",
       "      <td>111003219</td>\n",
       "      <td>фэнтези,приключения</td>\n",
       "      <td>98%</td>\n",
       "    </tr>\n",
       "  </tbody>\n",
       "</table>\n",
       "</div>"
      ],
      "text/plain": [
       "                                                  title  pu_number  \\\n",
       "3446                       Короткие истории о любви - 4  126006316   \n",
       "1899  Золушка /По сказке Шарля Перро/. Холодное торж...  121003615   \n",
       "7277                                             Добыча  121028319   \n",
       "3948                                             Круиз.  211038210   \n",
       "6737                                     Колесо времени  111003219   \n",
       "\n",
       "                           genres ratings  \n",
       "3446                          NaN     83%  \n",
       "1899     мюзикл,фэнтези,мелодрама     64%  \n",
       "7277    фантастика,боевик,триллер     88%  \n",
       "3948  приключения,комедия,фэнтези     97%  \n",
       "6737          фэнтези,приключения     98%  "
      ]
     },
     "execution_count": 79,
     "metadata": {},
     "output_type": "execute_result"
    }
   ],
   "source": [
    "# чтобы корректно работал метод str.contains() необходимо исключить записи с пропусками\n",
    "df.loc[(df['ratings'].isna() == False) & \n",
    "       (df['ratings'].str.contains('%')), ['title', 'pu_number', 'genres', 'ratings']].sample(5)"
   ]
  },
  {
   "cell_type": "markdown",
   "metadata": {},
   "source": [
    "На сайте ['Кинопоиск'](https://www.kinopoisk.ru/) у этих фильмов рейтинг тоже отсутствует и написано `'Недостаточно оценок, рейтинг формируется'`. Зная, [формулу расчёта рейтинга](https://yandex.ru/support/kinopoisk/rating.html), можно предположить, что эти проценты это количество оценок для формирования рейтинга или, наоборот, сколько не хватает процентов для того, чтобы рейтинг сформировался.\n",
    "Поэтому, на данном этапе, заменим процентные значения пропусками и изменим тип данных на вещественный."
   ]
  },
  {
   "cell_type": "code",
   "execution_count": 80,
   "metadata": {},
   "outputs": [
    {
     "data": {
      "text/plain": [
       "title                                 object\n",
       "pu_number                              int64\n",
       "show_start_date          datetime64[ns, UTC]\n",
       "type                                  object\n",
       "film_studio                           object\n",
       "production_country                    object\n",
       "director                              object\n",
       "producer                              object\n",
       "age_restriction                       object\n",
       "refundable_support                   float64\n",
       "nonrefundable_support                float64\n",
       "budget                               float64\n",
       "financing_source                      object\n",
       "ratings                              float64\n",
       "genres                                object\n",
       "box_office                           float64\n",
       "dtype: object"
      ]
     },
     "execution_count": 80,
     "metadata": {},
     "output_type": "execute_result"
    }
   ],
   "source": [
    "# запишем пропуски вместо значений в процентах\n",
    "df.loc[(df['ratings'].isna() == False) & \n",
    "       (df['ratings'].str.contains('%')), 'ratings'] = np.nan\n",
    "\n",
    "# поменяем тип столбца на float64\n",
    "df['ratings'] = df['ratings'].astype('float64')\n",
    "\n",
    "# проверим результат изменения типов данных\n",
    "df.dtypes"
   ]
  },
  {
   "cell_type": "markdown",
   "metadata": {},
   "source": [
    "В результате проделанной работы мы получили датасет с корректными типами данных, готовыми для дальнейшей обработки."
   ]
  },
  {
   "cell_type": "markdown",
   "metadata": {},
   "source": [
    " "
   ]
  },
  {
   "cell_type": "markdown",
   "metadata": {
    "id": "i0MOLbF-gFyP"
   },
   "source": [
    "#### Изучим пропуски в датафрейме"
   ]
  },
  {
   "cell_type": "markdown",
   "metadata": {},
   "source": [
    "Посчитаем количество пропусков в столбцах в процентах. Попробуем понять причины их появления и по необходимости заполнить."
   ]
  },
  {
   "cell_type": "code",
   "execution_count": 81,
   "metadata": {
    "id": "8MJD_lkngFyP"
   },
   "outputs": [
    {
     "data": {
      "text/html": [
       "<style type=\"text/css\">\n",
       "#T_a3bcb_row0_col0, #T_a3bcb_row1_col0, #T_a3bcb_row2_col0, #T_a3bcb_row3_col0 {\n",
       "  background-color: #003c30;\n",
       "  color: #f1f1f1;\n",
       "}\n",
       "#T_a3bcb_row4_col0 {\n",
       "  background-color: #c4e9e4;\n",
       "  color: #000000;\n",
       "}\n",
       "#T_a3bcb_row5_col0 {\n",
       "  background-color: #9f6317;\n",
       "  color: #f1f1f1;\n",
       "}\n",
       "#T_a3bcb_row6_col0 {\n",
       "  background-color: #9d6116;\n",
       "  color: #f1f1f1;\n",
       "}\n",
       "#T_a3bcb_row7_col0 {\n",
       "  background-color: #804a09;\n",
       "  color: #f1f1f1;\n",
       "}\n",
       "#T_a3bcb_row8_col0, #T_a3bcb_row9_col0, #T_a3bcb_row10_col0, #T_a3bcb_row11_col0, #T_a3bcb_row12_col0, #T_a3bcb_row13_col0, #T_a3bcb_row14_col0, #T_a3bcb_row15_col0 {\n",
       "  background-color: #543005;\n",
       "  color: #f1f1f1;\n",
       "}\n",
       "</style>\n",
       "<table id=\"T_a3bcb\">\n",
       "  <thead>\n",
       "    <tr>\n",
       "      <th class=\"blank level0\" >&nbsp;</th>\n",
       "      <th id=\"T_a3bcb_level0_col0\" class=\"col_heading level0 col0\" >0</th>\n",
       "    </tr>\n",
       "  </thead>\n",
       "  <tbody>\n",
       "    <tr>\n",
       "      <th id=\"T_a3bcb_level0_row0\" class=\"row_heading level0 row0\" >refundable_support</th>\n",
       "      <td id=\"T_a3bcb_row0_col0\" class=\"data row0 col0\" >95.57%</td>\n",
       "    </tr>\n",
       "    <tr>\n",
       "      <th id=\"T_a3bcb_level0_row1\" class=\"row_heading level0 row1\" >nonrefundable_support</th>\n",
       "      <td id=\"T_a3bcb_row1_col0\" class=\"data row1 col0\" >95.57%</td>\n",
       "    </tr>\n",
       "    <tr>\n",
       "      <th id=\"T_a3bcb_level0_row2\" class=\"row_heading level0 row2\" >budget</th>\n",
       "      <td id=\"T_a3bcb_row2_col0\" class=\"data row2 col0\" >95.57%</td>\n",
       "    </tr>\n",
       "    <tr>\n",
       "      <th id=\"T_a3bcb_level0_row3\" class=\"row_heading level0 row3\" >financing_source</th>\n",
       "      <td id=\"T_a3bcb_row3_col0\" class=\"data row3 col0\" >95.57%</td>\n",
       "    </tr>\n",
       "    <tr>\n",
       "      <th id=\"T_a3bcb_level0_row4\" class=\"row_heading level0 row4\" >box_office</th>\n",
       "      <td id=\"T_a3bcb_row4_col0\" class=\"data row4 col0\" >57.80%</td>\n",
       "    </tr>\n",
       "    <tr>\n",
       "      <th id=\"T_a3bcb_level0_row5\" class=\"row_heading level0 row5\" >ratings</th>\n",
       "      <td id=\"T_a3bcb_row5_col0\" class=\"data row5 col0\" >13.30%</td>\n",
       "    </tr>\n",
       "    <tr>\n",
       "      <th id=\"T_a3bcb_level0_row6\" class=\"row_heading level0 row6\" >genres</th>\n",
       "      <td id=\"T_a3bcb_row6_col0\" class=\"data row6 col0\" >13.04%</td>\n",
       "    </tr>\n",
       "    <tr>\n",
       "      <th id=\"T_a3bcb_level0_row7\" class=\"row_heading level0 row7\" >producer</th>\n",
       "      <td id=\"T_a3bcb_row7_col0\" class=\"data row7 col0\" >7.59%</td>\n",
       "    </tr>\n",
       "    <tr>\n",
       "      <th id=\"T_a3bcb_level0_row8\" class=\"row_heading level0 row8\" >film_studio</th>\n",
       "      <td id=\"T_a3bcb_row8_col0\" class=\"data row8 col0\" >0.24%</td>\n",
       "    </tr>\n",
       "    <tr>\n",
       "      <th id=\"T_a3bcb_level0_row9\" class=\"row_heading level0 row9\" >director</th>\n",
       "      <td id=\"T_a3bcb_row9_col0\" class=\"data row9 col0\" >0.12%</td>\n",
       "    </tr>\n",
       "    <tr>\n",
       "      <th id=\"T_a3bcb_level0_row10\" class=\"row_heading level0 row10\" >production_country</th>\n",
       "      <td id=\"T_a3bcb_row10_col0\" class=\"data row10 col0\" >0.03%</td>\n",
       "    </tr>\n",
       "    <tr>\n",
       "      <th id=\"T_a3bcb_level0_row11\" class=\"row_heading level0 row11\" >title</th>\n",
       "      <td id=\"T_a3bcb_row11_col0\" class=\"data row11 col0\" >0.00%</td>\n",
       "    </tr>\n",
       "    <tr>\n",
       "      <th id=\"T_a3bcb_level0_row12\" class=\"row_heading level0 row12\" >pu_number</th>\n",
       "      <td id=\"T_a3bcb_row12_col0\" class=\"data row12 col0\" >0.00%</td>\n",
       "    </tr>\n",
       "    <tr>\n",
       "      <th id=\"T_a3bcb_level0_row13\" class=\"row_heading level0 row13\" >show_start_date</th>\n",
       "      <td id=\"T_a3bcb_row13_col0\" class=\"data row13 col0\" >0.00%</td>\n",
       "    </tr>\n",
       "    <tr>\n",
       "      <th id=\"T_a3bcb_level0_row14\" class=\"row_heading level0 row14\" >type</th>\n",
       "      <td id=\"T_a3bcb_row14_col0\" class=\"data row14 col0\" >0.00%</td>\n",
       "    </tr>\n",
       "    <tr>\n",
       "      <th id=\"T_a3bcb_level0_row15\" class=\"row_heading level0 row15\" >age_restriction</th>\n",
       "      <td id=\"T_a3bcb_row15_col0\" class=\"data row15 col0\" >0.00%</td>\n",
       "    </tr>\n",
       "  </tbody>\n",
       "</table>\n"
      ],
      "text/plain": [
       "<pandas.io.formats.style.Styler at 0x7fefbc292ca0>"
      ]
     },
     "metadata": {},
     "output_type": "display_data"
    }
   ],
   "source": [
    "# отсортируем по убыванию и выведем количество пропусков в столбцах в процентах\n",
    "display(pd.DataFrame(df.isna().mean()).sort_values(0, ascending=False).style\n",
    "        .background_gradient(cmap='BrBG').format({0: '{:.2%}'}))"
   ]
  },
  {
   "cell_type": "markdown",
   "metadata": {},
   "source": [
    "Количество порпусков может испугать, но только не студента Яндекс Практикума! По порядку изучим пропуски в каждом столбце.\n",
    "\n",
    "Колонки `'refundable_support'`, `'nonrefundable_support'`, `'budget'` и `'financing_source'` имеют одинаковое огромное количество пропусков. В описании данных сказано, что столбец `'budget'` уже включает в себя полный объём государственной поддержки. Значит, отсутствующие данные в столбцах типа `float64` нельзя заполнять никакими значениями, потому что даже нулевые значения исказят статистику, а пропущенные значения не учитываются. По той же причине оставим пропуски в столбцах `'box_office'` и `'ratings'`. В столбце `'financing_source'` пропущенные значения надо заменить на текстовые, например на `'не указан'`."
   ]
  },
  {
   "cell_type": "code",
   "execution_count": 82,
   "metadata": {},
   "outputs": [],
   "source": [
    "df['financing_source'] = df['financing_source'].fillna('не указан')"
   ]
  },
  {
   "cell_type": "markdown",
   "metadata": {},
   "source": [
    "- Столбец `'genres'`\n",
    "\n",
    "Сгруппируем данные о жанрах по уникальным значениям столбца `'type'` (тип фильма). Также выведем какие есть типы фильма для пропущенных значений в колонке `'genres'`."
   ]
  },
  {
   "cell_type": "code",
   "execution_count": 83,
   "metadata": {
    "scrolled": false
   },
   "outputs": [
    {
     "data": {
      "text/plain": [
       "type\n",
       " Анимационный                                  [мультфильм,комедия,приключения]\n",
       " Художественный               [триллер,комедия, военный,драма,история, комед...\n",
       "Анимационный                  [мультфильм,фантастика,фэнтези, мультфильм,фэн...\n",
       "Документальный                [документальный,короткометражка, документальны...\n",
       "Музыкально-развлекательный                                     [документальный]\n",
       "Научно-популярный             [аниме,мультфильм,мелодрама, триллер,драма, фа...\n",
       "Прочие                        [мультфильм,приключения,семейный, документальн...\n",
       "Художественный                [боевик,драма,мелодрама, драма,военный, фантас...\n",
       "Name: genres, dtype: object"
      ]
     },
     "metadata": {},
     "output_type": "display_data"
    },
    {
     "name": "stdout",
     "output_type": "stream",
     "text": [
      "Художественный\n",
      "Прочие\n",
      "Документальный\n",
      "Анимационный\n",
      "Научно-популярный\n",
      " Художественный\n"
     ]
    }
   ],
   "source": [
    "display(df.groupby('type')['genres'].unique())\n",
    "\n",
    "# для наглядности выведем значения построчно\n",
    "print('\\n'.join(df.loc[df['genres'].isna(), 'type'].unique()))"
   ]
  },
  {
   "cell_type": "markdown",
   "metadata": {},
   "source": [
    "Заполним пропуски в столбце `'genres'` для типа фильма `'Анимационный'` значением `'мультфильм'`, для типа фильма `'Документальный'` и `'Научно-популярный'` значением `'документальный'`, оставшиеся пропуски заменим на значение `'не указан'`."
   ]
  },
  {
   "cell_type": "code",
   "execution_count": 84,
   "metadata": {},
   "outputs": [],
   "source": [
    "df.loc[(df['type'] == 'Анимационный') & (df['genres'].isna()), 'genres'] = 'мультфильм'\n",
    "df.loc[((df['type'] == 'Документальный') | (df['type'] == 'Научно-популярный')) & \n",
    "       (df['genres'].isna()), 'genres'] = 'документальный'\n",
    "df['genres'] = df['genres'].fillna('не указан')"
   ]
  },
  {
   "cell_type": "markdown",
   "metadata": {},
   "source": [
    "- Столбец `'producer'`\n",
    "\n",
    "Выведем случайных 10 строк с пропусками в столбце `'producer'` и попробуем найти причины этих пропусков в данных из других столбцов таблицы."
   ]
  },
  {
   "cell_type": "code",
   "execution_count": 85,
   "metadata": {},
   "outputs": [
    {
     "data": {
      "text/html": [
       "<div>\n",
       "<style scoped>\n",
       "    .dataframe tbody tr th:only-of-type {\n",
       "        vertical-align: middle;\n",
       "    }\n",
       "\n",
       "    .dataframe tbody tr th {\n",
       "        vertical-align: top;\n",
       "    }\n",
       "\n",
       "    .dataframe thead th {\n",
       "        text-align: right;\n",
       "    }\n",
       "</style>\n",
       "<table border=\"1\" class=\"dataframe\">\n",
       "  <thead>\n",
       "    <tr style=\"text-align: right;\">\n",
       "      <th></th>\n",
       "      <th>title</th>\n",
       "      <th>pu_number</th>\n",
       "      <th>film_studio</th>\n",
       "      <th>production_country</th>\n",
       "      <th>director</th>\n",
       "      <th>producer</th>\n",
       "    </tr>\n",
       "  </thead>\n",
       "  <tbody>\n",
       "    <tr>\n",
       "      <th>747</th>\n",
       "      <td>Груффало /По мотивам книги Джулии Дональдсон и...</td>\n",
       "      <td>124001713</td>\n",
       "      <td>Меджик Лайт Пикчерз, Орандж Ай, Студио Сой, Би...</td>\n",
       "      <td>Великобритания - Германия</td>\n",
       "      <td>Йоганнес Вайланд, Макс Ланг, Уве Хайдшёттер, Я...</td>\n",
       "      <td>NaN</td>\n",
       "    </tr>\n",
       "    <tr>\n",
       "      <th>85</th>\n",
       "      <td>Валентин и Валентина</td>\n",
       "      <td>111012613</td>\n",
       "      <td>Киностудия \"Мосфильм\"</td>\n",
       "      <td>СССР</td>\n",
       "      <td>Г.Натансон</td>\n",
       "      <td>NaN</td>\n",
       "    </tr>\n",
       "    <tr>\n",
       "      <th>6052</th>\n",
       "      <td>ЗВЕЗДА И СМЕРТЬ ГРАФА ВРОНСКОГО. СЕРБСКИЙ ГАМБИТ</td>\n",
       "      <td>112003418</td>\n",
       "      <td>ООО \"Фонд национального кино \"Патриот\"</td>\n",
       "      <td>Россия</td>\n",
       "      <td>М.Елкин</td>\n",
       "      <td>NaN</td>\n",
       "    </tr>\n",
       "    <tr>\n",
       "      <th>4160</th>\n",
       "      <td>SaLsa Belly Dance - часть 1 и 2</td>\n",
       "      <td>217019910</td>\n",
       "      <td>ООО \"Дивиди Лэнд\"</td>\n",
       "      <td>Россия</td>\n",
       "      <td>Л.Шалгачева</td>\n",
       "      <td>NaN</td>\n",
       "    </tr>\n",
       "    <tr>\n",
       "      <th>3804</th>\n",
       "      <td>Добро пожаловать, Ю.Гагарин!</td>\n",
       "      <td>113000110</td>\n",
       "      <td>Киностудия \"Центрнаучфильм\"</td>\n",
       "      <td>СССР</td>\n",
       "      <td>Д.Боголепов</td>\n",
       "      <td>NaN</td>\n",
       "    </tr>\n",
       "    <tr>\n",
       "      <th>1963</th>\n",
       "      <td>Где находится Нофелет?</td>\n",
       "      <td>111016314</td>\n",
       "      <td>Киностудия \"Мосфильм\"</td>\n",
       "      <td>СССР</td>\n",
       "      <td>Г.Бежанов</td>\n",
       "      <td>NaN</td>\n",
       "    </tr>\n",
       "    <tr>\n",
       "      <th>1376</th>\n",
       "      <td>Людвиг Минкус. Дон Кихот /По роману Мигеля Сер...</td>\n",
       "      <td>126004213</td>\n",
       "      <td>Опера де Пари, Эр А И Синема</td>\n",
       "      <td>Италия</td>\n",
       "      <td>Франсуа Россильон, хореография Рудольфа Нуреев...</td>\n",
       "      <td>NaN</td>\n",
       "    </tr>\n",
       "    <tr>\n",
       "      <th>2020</th>\n",
       "      <td>Еще одна комедия</td>\n",
       "      <td>221004114</td>\n",
       "      <td>Колор Грин Филмз, Инстинкт Продакшнз</td>\n",
       "      <td>США</td>\n",
       "      <td>Дэвид Мерфи</td>\n",
       "      <td>NaN</td>\n",
       "    </tr>\n",
       "    <tr>\n",
       "      <th>199</th>\n",
       "      <td>Кавказская пленница, или Новые приключения Шурика</td>\n",
       "      <td>111006513</td>\n",
       "      <td>Киностудия \"Мосфильм\"</td>\n",
       "      <td>СССР</td>\n",
       "      <td>Л.Гайдай</td>\n",
       "      <td>NaN</td>\n",
       "    </tr>\n",
       "    <tr>\n",
       "      <th>4418</th>\n",
       "      <td>Джакомо Пуччини. Мадам Баттерфляй /По мотивам ...</td>\n",
       "      <td>126001610</td>\n",
       "      <td>Ризинг Альтернатив</td>\n",
       "      <td>США</td>\n",
       "      <td>Кэтлин Бельхер</td>\n",
       "      <td>NaN</td>\n",
       "    </tr>\n",
       "  </tbody>\n",
       "</table>\n",
       "</div>"
      ],
      "text/plain": [
       "                                                  title  pu_number  \\\n",
       "747   Груффало /По мотивам книги Джулии Дональдсон и...  124001713   \n",
       "85                                 Валентин и Валентина  111012613   \n",
       "6052   ЗВЕЗДА И СМЕРТЬ ГРАФА ВРОНСКОГО. СЕРБСКИЙ ГАМБИТ  112003418   \n",
       "4160                    SaLsa Belly Dance - часть 1 и 2  217019910   \n",
       "3804                       Добро пожаловать, Ю.Гагарин!  113000110   \n",
       "1963                             Где находится Нофелет?  111016314   \n",
       "1376  Людвиг Минкус. Дон Кихот /По роману Мигеля Сер...  126004213   \n",
       "2020                                   Еще одна комедия  221004114   \n",
       "199   Кавказская пленница, или Новые приключения Шурика  111006513   \n",
       "4418  Джакомо Пуччини. Мадам Баттерфляй /По мотивам ...  126001610   \n",
       "\n",
       "                                            film_studio  \\\n",
       "747   Меджик Лайт Пикчерз, Орандж Ай, Студио Сой, Би...   \n",
       "85                                Киностудия \"Мосфильм\"   \n",
       "6052             ООО \"Фонд национального кино \"Патриот\"   \n",
       "4160                                  ООО \"Дивиди Лэнд\"   \n",
       "3804                        Киностудия \"Центрнаучфильм\"   \n",
       "1963                              Киностудия \"Мосфильм\"   \n",
       "1376                       Опера де Пари, Эр А И Синема   \n",
       "2020               Колор Грин Филмз, Инстинкт Продакшнз   \n",
       "199                               Киностудия \"Мосфильм\"   \n",
       "4418                                 Ризинг Альтернатив   \n",
       "\n",
       "             production_country  \\\n",
       "747   Великобритания - Германия   \n",
       "85                         СССР   \n",
       "6052                     Россия   \n",
       "4160                     Россия   \n",
       "3804                       СССР   \n",
       "1963                       СССР   \n",
       "1376                     Италия   \n",
       "2020                        США   \n",
       "199                        СССР   \n",
       "4418                        США   \n",
       "\n",
       "                                               director producer  \n",
       "747   Йоганнес Вайланд, Макс Ланг, Уве Хайдшёттер, Я...      NaN  \n",
       "85                                           Г.Натансон      NaN  \n",
       "6052                                            М.Елкин      NaN  \n",
       "4160                                        Л.Шалгачева      NaN  \n",
       "3804                                        Д.Боголепов      NaN  \n",
       "1963                                          Г.Бежанов      NaN  \n",
       "1376  Франсуа Россильон, хореография Рудольфа Нуреев...      NaN  \n",
       "2020                                        Дэвид Мерфи      NaN  \n",
       "199                                            Л.Гайдай      NaN  \n",
       "4418                                     Кэтлин Бельхер      NaN  "
      ]
     },
     "execution_count": 85,
     "metadata": {},
     "output_type": "execute_result"
    }
   ],
   "source": [
    "df.loc[df['producer'].isna(), ['title', 'pu_number', 'film_studio', \n",
    "                               'production_country', 'director', 'producer']].sample(10)"
   ]
  },
  {
   "cell_type": "markdown",
   "metadata": {},
   "source": [
    "Эти пропуски явно связаны со страной-производителем. В колонке `'production_country'` все значения `'СССР'`. Во времена существования СССР все крупные производства (в том числи и кинопроизводство) контролировались и принадлежали государству, а продюсированием фильмов занимался Государственный комитет СССР по кинематографии (Госкино СССР). Заполним пропуски в столбце `'producer'` и со страной-производителем `'СССР'`, значением `'Госкино СССР'`. Для оставшихся записей с пропусками установить продюсера сложно, заменим пропуски на `'не указан'`."
   ]
  },
  {
   "cell_type": "code",
   "execution_count": 86,
   "metadata": {},
   "outputs": [],
   "source": [
    "# заполним пропуски продюсеров для записей со страной-производителем 'СССР'\n",
    "df.loc[(df['producer'].isna()) & \n",
    "        (df['production_country'].str.contains('СССР')), 'producer'] = 'Госкино СССР'\n",
    "\n",
    "# заполним оставшиеся пропуски значением 'не указан'\n",
    "df['producer'] = df['producer'].fillna('не указан')"
   ]
  },
  {
   "cell_type": "markdown",
   "metadata": {},
   "source": [
    "- Столбец `'film_studio'`\n",
    "\n",
    "Пропусков в этом столбце 0.24% или всего 17 записей, поиски в интернете ничего не дали. Скорее всего это малоизвестные студии-производители или вообще самодеятельность отдельных людей. Заполним попущенные значения на `'не указана'`."
   ]
  },
  {
   "cell_type": "code",
   "execution_count": 87,
   "metadata": {},
   "outputs": [],
   "source": [
    "df['film_studio'] = df['film_studio'].fillna('не указана')"
   ]
  },
  {
   "cell_type": "markdown",
   "metadata": {},
   "source": [
    "- Столбец `'director'`\n",
    "\n",
    "Выведем пропуски в этом столбце, их там не много, и попробуем по названию найти режиссёра в открытых источниках, если не найдём, то запишем значение `'не указан'`.\n"
   ]
  },
  {
   "cell_type": "code",
   "execution_count": 88,
   "metadata": {},
   "outputs": [
    {
     "data": {
      "text/html": [
       "<div>\n",
       "<style scoped>\n",
       "    .dataframe tbody tr th:only-of-type {\n",
       "        vertical-align: middle;\n",
       "    }\n",
       "\n",
       "    .dataframe tbody tr th {\n",
       "        vertical-align: top;\n",
       "    }\n",
       "\n",
       "    .dataframe thead th {\n",
       "        text-align: right;\n",
       "    }\n",
       "</style>\n",
       "<table border=\"1\" class=\"dataframe\">\n",
       "  <thead>\n",
       "    <tr style=\"text-align: right;\">\n",
       "      <th></th>\n",
       "      <th>title</th>\n",
       "      <th>pu_number</th>\n",
       "      <th>film_studio</th>\n",
       "      <th>production_country</th>\n",
       "      <th>director</th>\n",
       "      <th>producer</th>\n",
       "    </tr>\n",
       "  </thead>\n",
       "  <tbody>\n",
       "    <tr>\n",
       "      <th>764</th>\n",
       "      <td>Три звезды. Концерт в Waldbuhne Theater, Берли...</td>\n",
       "      <td>126003512</td>\n",
       "      <td>Райзинг Алтернатив</td>\n",
       "      <td>Великобритания</td>\n",
       "      <td>NaN</td>\n",
       "      <td>Вальдбюне Театр</td>\n",
       "    </tr>\n",
       "    <tr>\n",
       "      <th>1735</th>\n",
       "      <td>Помпеи. Британский музей</td>\n",
       "      <td>126003413</td>\n",
       "      <td>МортуСкрин, Британский музей</td>\n",
       "      <td>Великобритания</td>\n",
       "      <td>NaN</td>\n",
       "      <td>Британский музей</td>\n",
       "    </tr>\n",
       "    <tr>\n",
       "      <th>3840</th>\n",
       "      <td>Зур концерт (Большой концерт).</td>\n",
       "      <td>217027010</td>\n",
       "      <td>ООО \"Барс Рекордс\"</td>\n",
       "      <td>Россия</td>\n",
       "      <td>NaN</td>\n",
       "      <td>не указан</td>\n",
       "    </tr>\n",
       "    <tr>\n",
       "      <th>4052</th>\n",
       "      <td>Ганс Сэйфуллин \"Авылым чишмэлэре. Ганс Сэйфулл...</td>\n",
       "      <td>217017310</td>\n",
       "      <td>ООО \"Барс-Рекордс\"</td>\n",
       "      <td>Россия</td>\n",
       "      <td>NaN</td>\n",
       "      <td>не указан</td>\n",
       "    </tr>\n",
       "    <tr>\n",
       "      <th>4298</th>\n",
       "      <td>Изге Вэли (Святой Валентин)</td>\n",
       "      <td>217020610</td>\n",
       "      <td>ООО \"Барс Рекордс\"</td>\n",
       "      <td>Россия</td>\n",
       "      <td>NaN</td>\n",
       "      <td>не указан</td>\n",
       "    </tr>\n",
       "    <tr>\n",
       "      <th>4415</th>\n",
       "      <td>Bon Jovi. The Circle Tour</td>\n",
       "      <td>126001710</td>\n",
       "      <td>Эншутц Интертейнмент Груп</td>\n",
       "      <td>США</td>\n",
       "      <td>NaN</td>\n",
       "      <td>Эншутц Интертейнмент Груп</td>\n",
       "    </tr>\n",
       "    <tr>\n",
       "      <th>4441</th>\n",
       "      <td>Мульт личности. Выпуск 5</td>\n",
       "      <td>214000410</td>\n",
       "      <td>не указана</td>\n",
       "      <td>NaN</td>\n",
       "      <td>NaN</td>\n",
       "      <td>не указан</td>\n",
       "    </tr>\n",
       "    <tr>\n",
       "      <th>4923</th>\n",
       "      <td>Георг Фридрих Гендель. Мессия. Оратория. Корол...</td>\n",
       "      <td>126001111</td>\n",
       "      <td>Опус Арт</td>\n",
       "      <td>Великобритания</td>\n",
       "      <td>NaN</td>\n",
       "      <td>Короевский колледж Кембриджа</td>\n",
       "    </tr>\n",
       "    <tr>\n",
       "      <th>4942</th>\n",
       "      <td>Питер Гэбриэл и New Blood Orchestra 3D</td>\n",
       "      <td>126002711</td>\n",
       "      <td>Омниверс Визион</td>\n",
       "      <td>Великобритания</td>\n",
       "      <td>NaN</td>\n",
       "      <td>Омниверс Визион</td>\n",
       "    </tr>\n",
       "  </tbody>\n",
       "</table>\n",
       "</div>"
      ],
      "text/plain": [
       "                                                  title  pu_number  \\\n",
       "764   Три звезды. Концерт в Waldbuhne Theater, Берли...  126003512   \n",
       "1735                           Помпеи. Британский музей  126003413   \n",
       "3840                     Зур концерт (Большой концерт).  217027010   \n",
       "4052  Ганс Сэйфуллин \"Авылым чишмэлэре. Ганс Сэйфулл...  217017310   \n",
       "4298                        Изге Вэли (Святой Валентин)  217020610   \n",
       "4415                          Bon Jovi. The Circle Tour  126001710   \n",
       "4441                           Мульт личности. Выпуск 5  214000410   \n",
       "4923  Георг Фридрих Гендель. Мессия. Оратория. Корол...  126001111   \n",
       "4942             Питер Гэбриэл и New Blood Orchestra 3D  126002711   \n",
       "\n",
       "                       film_studio production_country director  \\\n",
       "764             Райзинг Алтернатив     Великобритания      NaN   \n",
       "1735  МортуСкрин, Британский музей     Великобритания      NaN   \n",
       "3840            ООО \"Барс Рекордс\"             Россия      NaN   \n",
       "4052            ООО \"Барс-Рекордс\"             Россия      NaN   \n",
       "4298            ООО \"Барс Рекордс\"             Россия      NaN   \n",
       "4415     Эншутц Интертейнмент Груп                США      NaN   \n",
       "4441                    не указана                NaN      NaN   \n",
       "4923                      Опус Арт     Великобритания      NaN   \n",
       "4942               Омниверс Визион     Великобритания      NaN   \n",
       "\n",
       "                          producer  \n",
       "764                Вальдбюне Театр  \n",
       "1735              Британский музей  \n",
       "3840                     не указан  \n",
       "4052                     не указан  \n",
       "4298                     не указан  \n",
       "4415     Эншутц Интертейнмент Груп  \n",
       "4441                     не указан  \n",
       "4923  Короевский колледж Кембриджа  \n",
       "4942               Омниверс Визион  "
      ]
     },
     "execution_count": 88,
     "metadata": {},
     "output_type": "execute_result"
    }
   ],
   "source": [
    "df.loc[df['director'].isna(),\n",
    "      ['title', 'pu_number', 'film_studio', 'production_country', 'director', 'producer']]"
   ]
  },
  {
   "cell_type": "code",
   "execution_count": 89,
   "metadata": {},
   "outputs": [],
   "source": [
    "# добавим известных нам режиссёров вместо пропусков\n",
    "df.loc[764, 'director'] = 'не указан'\n",
    "df.loc[1735, 'director'] = 'Джон Руни'\n",
    "df.loc[3840, 'director'] = 'Вера Строева'\n",
    "df.loc[4052, 'director'] = 'Кристиан Тееде'\n",
    "df.loc[4298, 'director'] = 'не указан'\n",
    "df.loc[4415, 'director'] = 'Энтони Бонджови'\n",
    "df.loc[4441, 'director'] = 'Василий Пичул'\n",
    "df.loc[4923, 'director'] = 'Стивен Клеобери'\n",
    "df.loc[4942, 'director'] = 'Блу Лич'"
   ]
  },
  {
   "cell_type": "markdown",
   "metadata": {},
   "source": [
    "- Столбец `'production_country'`\n",
    "\n",
    "Посмотрим на записи с пропусками страны-производителя."
   ]
  },
  {
   "cell_type": "code",
   "execution_count": 90,
   "metadata": {},
   "outputs": [
    {
     "data": {
      "text/html": [
       "<div>\n",
       "<style scoped>\n",
       "    .dataframe tbody tr th:only-of-type {\n",
       "        vertical-align: middle;\n",
       "    }\n",
       "\n",
       "    .dataframe tbody tr th {\n",
       "        vertical-align: top;\n",
       "    }\n",
       "\n",
       "    .dataframe thead th {\n",
       "        text-align: right;\n",
       "    }\n",
       "</style>\n",
       "<table border=\"1\" class=\"dataframe\">\n",
       "  <thead>\n",
       "    <tr style=\"text-align: right;\">\n",
       "      <th></th>\n",
       "      <th>title</th>\n",
       "      <th>pu_number</th>\n",
       "      <th>film_studio</th>\n",
       "      <th>production_country</th>\n",
       "      <th>director</th>\n",
       "      <th>producer</th>\n",
       "    </tr>\n",
       "  </thead>\n",
       "  <tbody>\n",
       "    <tr>\n",
       "      <th>3186</th>\n",
       "      <td>Детский юмористический киножурнал \"Ералаш. Ну ...</td>\n",
       "      <td>111001216</td>\n",
       "      <td>ООО \"Продюсерский центр ЕРАЛАШ\"</td>\n",
       "      <td>NaN</td>\n",
       "      <td>Р.Светлов, И.Магитон, А.Арутюнян, Л.Мирский, А...</td>\n",
       "      <td>ООО \"Продюсерский центр ЕРАЛАШ\"</td>\n",
       "    </tr>\n",
       "    <tr>\n",
       "      <th>4441</th>\n",
       "      <td>Мульт личности. Выпуск 5</td>\n",
       "      <td>214000410</td>\n",
       "      <td>не указана</td>\n",
       "      <td>NaN</td>\n",
       "      <td>Василий Пичул</td>\n",
       "      <td>не указан</td>\n",
       "    </tr>\n",
       "  </tbody>\n",
       "</table>\n",
       "</div>"
      ],
      "text/plain": [
       "                                                  title  pu_number  \\\n",
       "3186  Детский юмористический киножурнал \"Ералаш. Ну ...  111001216   \n",
       "4441                           Мульт личности. Выпуск 5  214000410   \n",
       "\n",
       "                          film_studio production_country  \\\n",
       "3186  ООО \"Продюсерский центр ЕРАЛАШ\"                NaN   \n",
       "4441                       не указана                NaN   \n",
       "\n",
       "                                               director  \\\n",
       "3186  Р.Светлов, И.Магитон, А.Арутюнян, Л.Мирский, А...   \n",
       "4441                                      Василий Пичул   \n",
       "\n",
       "                             producer  \n",
       "3186  ООО \"Продюсерский центр ЕРАЛАШ\"  \n",
       "4441                        не указан  "
      ]
     },
     "execution_count": 90,
     "metadata": {},
     "output_type": "execute_result"
    }
   ],
   "source": [
    "df.loc[df['production_country'].isna(), \n",
    "       ['title', 'pu_number', 'film_studio', 'production_country', 'director', 'producer']]"
   ]
  },
  {
   "cell_type": "markdown",
   "metadata": {},
   "source": [
    "Всего две записи и в обоих случаях очевидно, что страна-производитель Россия. Заполним эти пропущенные значения. И проверим, что в итоге получилось."
   ]
  },
  {
   "cell_type": "code",
   "execution_count": 91,
   "metadata": {},
   "outputs": [
    {
     "data": {
      "text/html": [
       "<style type=\"text/css\">\n",
       "#T_d102d_row0_col0, #T_d102d_row1_col0, #T_d102d_row2_col0 {\n",
       "  background-color: #003c30;\n",
       "  color: #f1f1f1;\n",
       "}\n",
       "#T_d102d_row3_col0 {\n",
       "  background-color: #c4e9e4;\n",
       "  color: #000000;\n",
       "}\n",
       "#T_d102d_row4_col0 {\n",
       "  background-color: #9f6317;\n",
       "  color: #f1f1f1;\n",
       "}\n",
       "#T_d102d_row5_col0, #T_d102d_row6_col0, #T_d102d_row7_col0, #T_d102d_row8_col0, #T_d102d_row9_col0, #T_d102d_row10_col0, #T_d102d_row11_col0, #T_d102d_row12_col0, #T_d102d_row13_col0, #T_d102d_row14_col0, #T_d102d_row15_col0 {\n",
       "  background-color: #543005;\n",
       "  color: #f1f1f1;\n",
       "}\n",
       "</style>\n",
       "<table id=\"T_d102d\">\n",
       "  <thead>\n",
       "    <tr>\n",
       "      <th class=\"blank level0\" >&nbsp;</th>\n",
       "      <th id=\"T_d102d_level0_col0\" class=\"col_heading level0 col0\" >0</th>\n",
       "    </tr>\n",
       "  </thead>\n",
       "  <tbody>\n",
       "    <tr>\n",
       "      <th id=\"T_d102d_level0_row0\" class=\"row_heading level0 row0\" >refundable_support</th>\n",
       "      <td id=\"T_d102d_row0_col0\" class=\"data row0 col0\" >95.57%</td>\n",
       "    </tr>\n",
       "    <tr>\n",
       "      <th id=\"T_d102d_level0_row1\" class=\"row_heading level0 row1\" >nonrefundable_support</th>\n",
       "      <td id=\"T_d102d_row1_col0\" class=\"data row1 col0\" >95.57%</td>\n",
       "    </tr>\n",
       "    <tr>\n",
       "      <th id=\"T_d102d_level0_row2\" class=\"row_heading level0 row2\" >budget</th>\n",
       "      <td id=\"T_d102d_row2_col0\" class=\"data row2 col0\" >95.57%</td>\n",
       "    </tr>\n",
       "    <tr>\n",
       "      <th id=\"T_d102d_level0_row3\" class=\"row_heading level0 row3\" >box_office</th>\n",
       "      <td id=\"T_d102d_row3_col0\" class=\"data row3 col0\" >57.80%</td>\n",
       "    </tr>\n",
       "    <tr>\n",
       "      <th id=\"T_d102d_level0_row4\" class=\"row_heading level0 row4\" >ratings</th>\n",
       "      <td id=\"T_d102d_row4_col0\" class=\"data row4 col0\" >13.30%</td>\n",
       "    </tr>\n",
       "    <tr>\n",
       "      <th id=\"T_d102d_level0_row5\" class=\"row_heading level0 row5\" >title</th>\n",
       "      <td id=\"T_d102d_row5_col0\" class=\"data row5 col0\" >0.00%</td>\n",
       "    </tr>\n",
       "    <tr>\n",
       "      <th id=\"T_d102d_level0_row6\" class=\"row_heading level0 row6\" >pu_number</th>\n",
       "      <td id=\"T_d102d_row6_col0\" class=\"data row6 col0\" >0.00%</td>\n",
       "    </tr>\n",
       "    <tr>\n",
       "      <th id=\"T_d102d_level0_row7\" class=\"row_heading level0 row7\" >show_start_date</th>\n",
       "      <td id=\"T_d102d_row7_col0\" class=\"data row7 col0\" >0.00%</td>\n",
       "    </tr>\n",
       "    <tr>\n",
       "      <th id=\"T_d102d_level0_row8\" class=\"row_heading level0 row8\" >type</th>\n",
       "      <td id=\"T_d102d_row8_col0\" class=\"data row8 col0\" >0.00%</td>\n",
       "    </tr>\n",
       "    <tr>\n",
       "      <th id=\"T_d102d_level0_row9\" class=\"row_heading level0 row9\" >film_studio</th>\n",
       "      <td id=\"T_d102d_row9_col0\" class=\"data row9 col0\" >0.00%</td>\n",
       "    </tr>\n",
       "    <tr>\n",
       "      <th id=\"T_d102d_level0_row10\" class=\"row_heading level0 row10\" >production_country</th>\n",
       "      <td id=\"T_d102d_row10_col0\" class=\"data row10 col0\" >0.00%</td>\n",
       "    </tr>\n",
       "    <tr>\n",
       "      <th id=\"T_d102d_level0_row11\" class=\"row_heading level0 row11\" >director</th>\n",
       "      <td id=\"T_d102d_row11_col0\" class=\"data row11 col0\" >0.00%</td>\n",
       "    </tr>\n",
       "    <tr>\n",
       "      <th id=\"T_d102d_level0_row12\" class=\"row_heading level0 row12\" >producer</th>\n",
       "      <td id=\"T_d102d_row12_col0\" class=\"data row12 col0\" >0.00%</td>\n",
       "    </tr>\n",
       "    <tr>\n",
       "      <th id=\"T_d102d_level0_row13\" class=\"row_heading level0 row13\" >age_restriction</th>\n",
       "      <td id=\"T_d102d_row13_col0\" class=\"data row13 col0\" >0.00%</td>\n",
       "    </tr>\n",
       "    <tr>\n",
       "      <th id=\"T_d102d_level0_row14\" class=\"row_heading level0 row14\" >financing_source</th>\n",
       "      <td id=\"T_d102d_row14_col0\" class=\"data row14 col0\" >0.00%</td>\n",
       "    </tr>\n",
       "    <tr>\n",
       "      <th id=\"T_d102d_level0_row15\" class=\"row_heading level0 row15\" >genres</th>\n",
       "      <td id=\"T_d102d_row15_col0\" class=\"data row15 col0\" >0.00%</td>\n",
       "    </tr>\n",
       "  </tbody>\n",
       "</table>\n"
      ],
      "text/plain": [
       "<pandas.io.formats.style.Styler at 0x7fefbbd7abe0>"
      ]
     },
     "metadata": {},
     "output_type": "display_data"
    }
   ],
   "source": [
    "df['production_country'] = df['production_country'].fillna('Россия')\n",
    "\n",
    "# отсортируем по убыванию и выведем количество пропусков в столбцах в процентах\n",
    "display(pd.DataFrame(df.isna().mean()).sort_values(0, ascending=False).style\n",
    "        .background_gradient(cmap='BrBG').format({0: '{:.2%}'}))"
   ]
  },
  {
   "cell_type": "markdown",
   "metadata": {},
   "source": [
    "Проделана работа по изучению пропусков и причин их появления, по возможности, попытались их заполнить достоверными значениями. В столбцах с вещественным типом, чтобы не исказить статистические исследования пропуски пришлось оставить, в колонках с текстовыми данными, оствашиеся пропущенные значения были заменены на значения `'не указан'` или `'не указана'` соответственно. Данные готовы к следующему этапу предобработки."
   ]
  },
  {
   "cell_type": "markdown",
   "metadata": {},
   "source": [
    " "
   ]
  },
  {
   "cell_type": "markdown",
   "metadata": {
    "id": "4c6k1t9ygFyQ"
   },
   "source": [
    "#### Изучим дубликаты в датафрейме"
   ]
  },
  {
   "cell_type": "markdown",
   "metadata": {},
   "source": [
    "Проверим, есть ли в данных дубликаты. Попробуем определить причины, которые могли повлиять на появление дублей.\n",
    "\n",
    "- Столбец `'pu_number'`\n",
    "\n",
    "Выведем записи с дубликатами прокатных удостоверений."
   ]
  },
  {
   "cell_type": "code",
   "execution_count": 92,
   "metadata": {},
   "outputs": [
    {
     "data": {
      "text/html": [
       "<div>\n",
       "<style scoped>\n",
       "    .dataframe tbody tr th:only-of-type {\n",
       "        vertical-align: middle;\n",
       "    }\n",
       "\n",
       "    .dataframe tbody tr th {\n",
       "        vertical-align: top;\n",
       "    }\n",
       "\n",
       "    .dataframe thead th {\n",
       "        text-align: right;\n",
       "    }\n",
       "</style>\n",
       "<table border=\"1\" class=\"dataframe\">\n",
       "  <thead>\n",
       "    <tr style=\"text-align: right;\">\n",
       "      <th></th>\n",
       "      <th>title</th>\n",
       "      <th>pu_number</th>\n",
       "      <th>director</th>\n",
       "    </tr>\n",
       "  </thead>\n",
       "  <tbody>\n",
       "    <tr>\n",
       "      <th>1797</th>\n",
       "      <td>Курбан-роман. (История с жертвой)</td>\n",
       "      <td>111009614</td>\n",
       "      <td>С.Юзеев</td>\n",
       "    </tr>\n",
       "    <tr>\n",
       "      <th>2078</th>\n",
       "      <td>Курбан-роман. (История с жертвой).</td>\n",
       "      <td>111009614</td>\n",
       "      <td>С.Юзеев</td>\n",
       "    </tr>\n",
       "    <tr>\n",
       "      <th>4638</th>\n",
       "      <td>Как жениться и остаться холостым</td>\n",
       "      <td>221154310</td>\n",
       "      <td>Эрик Лартиго</td>\n",
       "    </tr>\n",
       "    <tr>\n",
       "      <th>4639</th>\n",
       "      <td>Иоанна - женщина на папском престоле /По роман...</td>\n",
       "      <td>221154310</td>\n",
       "      <td>Зенке Вортманн</td>\n",
       "    </tr>\n",
       "    <tr>\n",
       "      <th>5067</th>\n",
       "      <td>Анализируй это!</td>\n",
       "      <td>221054410</td>\n",
       "      <td>ХЭрольд Рэмис</td>\n",
       "    </tr>\n",
       "    <tr>\n",
       "      <th>5068</th>\n",
       "      <td>Анализируй то!</td>\n",
       "      <td>221054410</td>\n",
       "      <td>Гарольд Реймис</td>\n",
       "    </tr>\n",
       "  </tbody>\n",
       "</table>\n",
       "</div>"
      ],
      "text/plain": [
       "                                                  title  pu_number  \\\n",
       "1797                  Курбан-роман. (История с жертвой)  111009614   \n",
       "2078                 Курбан-роман. (История с жертвой).  111009614   \n",
       "4638                   Как жениться и остаться холостым  221154310   \n",
       "4639  Иоанна - женщина на папском престоле /По роман...  221154310   \n",
       "5067                                    Анализируй это!  221054410   \n",
       "5068                                     Анализируй то!  221054410   \n",
       "\n",
       "            director  \n",
       "1797         С.Юзеев  \n",
       "2078         С.Юзеев  \n",
       "4638    Эрик Лартиго  \n",
       "4639  Зенке Вортманн  \n",
       "5067   ХЭрольд Рэмис  \n",
       "5068  Гарольд Реймис  "
      ]
     },
     "execution_count": 92,
     "metadata": {},
     "output_type": "execute_result"
    }
   ],
   "source": [
    "df.loc[df['pu_number'].duplicated(keep=False), ['title', 'pu_number', 'director']]"
   ]
  },
  {
   "cell_type": "markdown",
   "metadata": {},
   "source": [
    "Дубликат кинокартиины `'Курбан-роман. (История с жертвой)'` появился в результате того, что при заполнении сначала пропустили номер прокатного удостоверения и мы сами его же прописали. На этапе поиска явных дубликатов это не удалось выявить из-за разных дат премьеры и точки в конце названия фильма в одной из записей.\n",
    "\n",
    "В фильме `'Как жениться и остаться холостым'` неправильный номер прокатного удостоверения, согласно сайту [Министерства Культуры РФ](https://culture.gov.ru/services/reestr-prokatnykh-udostovereniy/557865/), настоящий номер `'221333607'`. Ошибка появилась, скорее всего, в результате копирования номера следующей записи, фильма `'Иоанна - женщина на папском престоле'`. Кинофильмы `'Анализируй это!'` и `'Анализируй то!'` разные. Правильный номер фильма `'Анализируй то!'` - `'121004303'`.\n",
    "\n",
    "Заменим в датасете неправильные значения номеров прокатных удостоверений, а строку `'1797'` удалим."
   ]
  },
  {
   "cell_type": "code",
   "execution_count": 93,
   "metadata": {},
   "outputs": [],
   "source": [
    "# удалим строку с индексом 1797\n",
    "df = df.loc[df.index != 1797]\n",
    "\n",
    "# заменим номера прокатных удостоверений\n",
    "df.loc[4638, 'pu_number'] = 221333607\n",
    "df.loc[5068, 'pu_number'] = 121004303"
   ]
  },
  {
   "cell_type": "markdown",
   "metadata": {},
   "source": [
    "- Столбец `'title'`\n",
    "\n",
    "Дубликаты в названиях фильма возникают из-за разных дат запуска в прокат, при этом номера прокатных удостоверений будут разные, в этом мы уже убедились в результате предыдущего исследования."
   ]
  },
  {
   "cell_type": "markdown",
   "metadata": {},
   "source": [
    " "
   ]
  },
  {
   "cell_type": "markdown",
   "metadata": {
    "id": "52fOPrEBgFyQ"
   },
   "source": [
    "#### Изучим категориальные значения"
   ]
  },
  {
   "cell_type": "markdown",
   "metadata": {},
   "source": [
    "Выведем уникальные значения столбца `'type'` и посмотрим какие ошибки могут быть в типах фильма."
   ]
  },
  {
   "cell_type": "code",
   "execution_count": 94,
   "metadata": {
    "scrolled": true
   },
   "outputs": [
    {
     "name": "stdout",
     "output_type": "stream",
     "text": [
      "Художественный\n",
      "Анимационный\n",
      "Прочие\n",
      "Документальный\n",
      "Научно-популярный\n",
      " Художественный\n",
      " Анимационный\n",
      "Музыкально-развлекательный\n"
     ]
    }
   ],
   "source": [
    "print('\\n'.join(df['type'].unique()))"
   ]
  },
  {
   "cell_type": "markdown",
   "metadata": {},
   "source": [
    "Видим лишние пробелы перед некоторыми значениями. Эта проблема может быть во всех столбцах с текстовыми данными, которые обычно заполняются вручную - в результате ввода вначале и в конце могут появиться различные лишние символы. Составим список таких столбцов и обработаем их, удалив пробелы, точки, тире и нижние подчёркивания в начале и в конце каждого значения. Выведем результаты этой обработки."
   ]
  },
  {
   "cell_type": "code",
   "execution_count": 95,
   "metadata": {
    "scrolled": false
   },
   "outputs": [
    {
     "name": "stdout",
     "output_type": "stream",
     "text": [
      "Количество уникальных значений для столбца title сократилось на 72\n",
      "Количество уникальных значений для столбца type сократилось на 2\n",
      "Количество уникальных значений для столбца film_studio сократилось на 30\n",
      "Количество уникальных значений для столбца production_country сократилось на 16\n",
      "Количество уникальных значений для столбца director сократилось на 11\n",
      "Количество уникальных значений для столбца producer сократилось на 15\n",
      "Количество уникальных значений для столбца age_restriction сократилось на 0\n",
      "Количество уникальных значений для столбца financing_source сократилось на 0\n",
      "Количество уникальных значений для столбца genres сократилось на 0\n"
     ]
    }
   ],
   "source": [
    "# составим список столбцов типа 'object'\n",
    "columns = df.select_dtypes(include='object').columns.to_list()\n",
    "\n",
    "# создадим список из символов, которые надо удалить\n",
    "list_symb = [' ', '.', '-', '_']\n",
    "\n",
    "# напишем цикл для обработки всех значений из списка 'columns'\n",
    "for column in columns:\n",
    "    # сохраним в переменной 'first_len' изначальное количество уникальных значений\n",
    "    first_len = len(df[column].unique())\n",
    "    # удалим в цикле все символы из списка 'list_symb' в текущем столбце\n",
    "    for symb in list_symb:\n",
    "        df[column] = df[column].str.strip(symb)\n",
    "    # рассчитаем разницу между начальным и конечным количеством уникальных значений\n",
    "    dif_len = first_len - len(df[column].unique())\n",
    "    # выведем на экран результаты\n",
    "    print(f'Количество уникальных значений для столбца {column} сократилось на {dif_len}')"
   ]
  },
  {
   "cell_type": "markdown",
   "metadata": {},
   "source": [
    "Проверим уникальные значения столбца `'production_country'` (страны-производители)."
   ]
  },
  {
   "cell_type": "code",
   "execution_count": 96,
   "metadata": {},
   "outputs": [
    {
     "name": "stdout",
     "output_type": "stream",
     "text": [
      "['США' 'СССР' 'Франция' 'СССР, Венгрия' 'Германия-Великобритания'\n",
      " 'Великобритания - Италия' 'Чехословакия' 'США - Франция - Турция'\n",
      " 'Новая Зеландия' 'Канада - Франция - Испания' 'США-Германия'\n",
      " 'США - Великобритания' 'Великобритания' 'США - Германия'\n",
      " 'Франция - Мексика - США' 'Россия, Казахстан, США' 'СССР, Швеция'\n",
      " 'СССР, Франция, Англия, Куба, ГДР' 'Германия'\n",
      " 'Великобритания-США-Германия-КНР' 'СССР, ЧССР, Западный Берлин, ПНР'\n",
      " 'СССР, Италия' 'Гонконг, КНР' 'США - Франция'\n",
      " 'США - Япония - Франция - Великобритания'\n",
      " 'Гонконг - Сингапур - Таиланд - Великобритания' 'США-Канада'\n",
      " 'Франция - Италия - Великобритания - США' 'Франция - США'\n",
      " 'Ирландия-Великобритания-Германия' 'Чехия' 'США-Австралия'\n",
      " 'СССР, Финляндия' 'США-Франция-Великобритания-Австрия' 'США - Бельгия'\n",
      " 'США - Ирландия - Великобритания' 'Великобритания - США'\n",
      " 'Люксембург - Нидерланды - Испания - Великобритания - США - Италия'\n",
      " 'Великобритания - Франция - США' 'Новая Зеландия - США'\n",
      " 'США - Великобритания - Чехия' 'Канада - Франция - Великобритания'\n",
      " 'Ирландия' 'Великобритания - Германия - США'\n",
      " 'США - Франция - Великобритания' 'Япония' 'СССР, Польша'\n",
      " 'Франция - Испания' 'Канада-Франция' 'Германия - Италия - США'\n",
      " 'Аргентина - Бразилия' 'Дания - Швейцария - Бельгия - Франция'\n",
      " 'США - Испания' 'Германия - США'\n",
      " 'Франция - Австрия - Германия - Италия - США' 'Австрия'\n",
      " 'США - Канада - Германия' 'США - Канада' 'СССР - Швейцария - Франция'\n",
      " 'Россия - Казахстан' 'Гонконг' 'Италия' 'США - ОАЭ' 'Россия'\n",
      " 'США - Франция - Испания - Великобритания' 'Великобритания - Франция'\n",
      " 'США-Италия-Испания-Аргентина' 'Франция-Великобритания' 'КНР - Гонконг'\n",
      " 'Франция - Италия - Швейцария' 'США - Новая Зеландия' 'Франция - Бельгия'\n",
      " 'КНР' 'Германия - Великобритания - Австрия'\n",
      " 'Великобритания - Израиль - Франция - Япония - США' 'Швеция' 'Испания'\n",
      " 'Дания' 'Франция - Бельгия - Люксембург' 'США - Индия - ОАЭ'\n",
      " 'Германия-Канада-Великобритания-Швейцария-Франция' 'Мексика - Чили'\n",
      " 'Аргентина' 'Бразилия' 'Чили' 'Австралия' 'Португалия - Франция'\n",
      " 'США - ЮАР' 'Исландия-Ирландия-Германия' 'США-Индонезия' 'Южная Корея'\n",
      " 'Мексика - Испания - Дания - США' 'Великобритания-США' 'Франция - Италия'\n",
      " 'США-Франция' 'США - Венгрия - Великобритания' 'Бельгия-Франция-Италия'\n",
      " 'Чехия - Германия' 'Германия - Франция' 'США-Нидерланды' 'Украина'\n",
      " 'Великобритания - Германия' 'Франция-Бельгия' 'США-Франция-Испания'\n",
      " 'Италия - Франция' 'Канада' 'Швеция-Франция-Дания'\n",
      " 'Германия-Франция-Польша' 'Франция-Великобритания - Германия'\n",
      " 'США - Бразилия - Франция - Австралия - Великобритания - Германия'\n",
      " 'Германия-Австрия' 'Германия-Италия- Шри-Ланка'\n",
      " 'Великобритания - Испания' 'США - Великобритания - Канада - Швеция'\n",
      " 'Босния и Герцеговина - Франция - Великобритания - Германия - Словения - Бельгия - Сербия'\n",
      " 'Великобритания - Франция - Италия - США' 'США-ОАЭ' 'Испания - Франция'\n",
      " 'США-Великобритания' 'США-ЮАР' 'Великобритания-Австралия - США'\n",
      " 'Норвегия - Швеция - Дания - Германия' 'Норвегия' 'Швейцария'\n",
      " 'Греция - Германия - Франция' 'Норвения' 'Южная Корея - США'\n",
      " 'Чили - Франция - США' 'Австрия - Германия - Франция' 'Швеция - Дания'\n",
      " 'Великобритания - Франция - Бельгия - Италия' 'Франция - Германия'\n",
      " 'Грузия - Франция - Люксембург'\n",
      " 'США - Франция - Великобритания - Бразилия' 'США - КНР'\n",
      " 'Мексика - Франция' 'США - Германия - Гонконг - Сингапур'\n",
      " 'Финляндия - Австрия - Россия' 'Испания - Куба' 'Великобритания - ЮАР'\n",
      " 'Великобритания - Ирландия' 'Израиль'\n",
      " 'Бразилия - Германия - Порртугалия - Франция'\n",
      " 'Франция - Канада - Бельгия' 'Франция-Испания'\n",
      " 'Испания - Канада - Япония' 'Иран' 'Швеция-Куба'\n",
      " 'США-Великобритания-Ирландия' 'Гонконг - КНР' 'Нидерланды'\n",
      " 'Испания - Канада' 'Япония-Великобритания'\n",
      " 'Великобритания - Норвегия - Дания - Германия'\n",
      " 'Финляндия - Франция - Германия'\n",
      " 'Мексика - Франция - Нидерланды - Германия' 'США - Индия'\n",
      " 'США-Великобритания-Индия' 'США-Канада-Бельгия' 'Республика Узбекистан'\n",
      " 'Турция' 'Сербия - Словения - Хорватия - Черногория - Македония'\n",
      " 'Киргизия' 'Германия - Нидерланды - Беларусь - Россия - Латвия' 'Индия'\n",
      " 'Нидерланды - Россия - Германия'\n",
      " 'Великобритания - Нидерланды - Франция - Хорватия' 'Канада - Южная Корея'\n",
      " 'Великобритания - Польша - КНР - Индия - Норвегия'\n",
      " 'Япония - Франция - США - Южная Корея - Турция'\n",
      " 'Мексика - Аргентина - Великобритания' 'Израиль - Франция'\n",
      " 'Польша - Португалия - Франция - Великобритания' 'Австралия - США'\n",
      " 'Франция - Люксембург - Бельгия' 'Армения'\n",
      " 'Бельгия - Люксембург - Франция - Швейцария'\n",
      " 'США - Великобритания - Канада' 'Норвегия - Швеция' 'Канада - Франция'\n",
      " 'КНР - Гонконг - США' 'США - Сингапур - Малайзия - Индонезия'\n",
      " 'Германия - Россия' 'Япония - Канада'\n",
      " 'Финляндия - Дания - Германия - Ирландия'\n",
      " 'Франция - Люксембург - Германия - Бельгия - Швейцария - Великобритания'\n",
      " 'Канада - США' 'США-Италия-Испания' 'США-Испания'\n",
      " 'США - Швейцария - Франция' 'Испания - США - Колумбия' 'Канада-ЮАР'\n",
      " 'Франция - Россия' 'Германия - Финляндия - Австралия' 'Дания - Швеция'\n",
      " 'Бельгия' 'Германия - Франция - Австрия' 'Франция-Индия' 'ЮАР'\n",
      " 'Франция-Перу' 'Франция - Канада' 'Республика Беларусь'\n",
      " 'Великобритания - Австрия - Франция - США' 'Австрия-Германия-Франция'\n",
      " 'США-Россия' 'Германия-США' 'США - Южная Корея' 'Канада - КНР'\n",
      " 'Дания - Швеция - Италия - Франция - Германия'\n",
      " 'Франция-Италия-Испания-Венгрия' 'Франция - Германия - Бельгия'\n",
      " 'Франция-Великобритания-Чехия' 'Румыния - Франция - Бельгия'\n",
      " 'Болгария - Франция - Изриль'\n",
      " 'Израиль - Германия - Польша - Бельгия - Франция - Люксембург'\n",
      " 'Россия, Германия, Франция, Бельгия' 'Индонезия' 'Франция - Португалия'\n",
      " 'Великобритания - Пуэрто-Рико' 'СССР, ФРГ, Западный Берлин'\n",
      " 'Россия, Республика Беларусь' 'США, Великобритания' 'Франция - Австрия'\n",
      " 'Бельгия-Нидерланды' 'Великобритания - США - Индия'\n",
      " 'США - Великобритания - Австралия'\n",
      " 'Канада - Франция - США - ОАЭ - Великобритания'\n",
      " 'США - Австралия - Франция'\n",
      " 'Дания-Франция-Бельгия-Германия-Великобритания' 'Испания - Аргентина'\n",
      " 'Исландия - Финляндия' 'Россия-Польша-Голландия-Словакия'\n",
      " 'Дания - Германия - Швеция' 'Южная Корея - США - Канада' 'Таиланд'\n",
      " 'США-Мальта' 'США -Германия'\n",
      " 'Великобритания - Германия - Франция - Кипр - США' 'Мексика'\n",
      " 'США - Великобритания - Ирландия' 'США - Украина'\n",
      " 'США - Финляндия - Испания - Великобритания - Франция'\n",
      " 'Австралия-Великобритания'\n",
      " 'США - Канада - Афганистан - Бельгия - Франция'\n",
      " 'США - Великобритания - Германия - Новая Зеландия - Бельгия - Франция'\n",
      " 'Франция-Канада'\n",
      " 'Ирландия - Финляндия - Бельгия - Великобритания - США - Швейцария'\n",
      " 'Малайзия - США' 'Германия - Италия' 'США - Франция - Бельгия - Италия'\n",
      " 'Франция - Ирландия - Швеция' 'Азербайджан-Россия'\n",
      " 'Великобритания - Италия - Швейцария' 'США - Германия - Великобритания'\n",
      " 'Германия - Бельгия - США -Франция' 'США-Китай' 'Чили - Испания'\n",
      " 'Франция - Швейцария' 'Канада - Испания' 'США - Румыния - Великобритания'\n",
      " 'США - Япония' 'США - Россия - Франция' 'Франция-США' 'Парагвай'\n",
      " 'Германия - Канада' 'США - Канада - Великобритания' 'Финляндия - Канада'\n",
      " 'Уругвай-Мексика-Германия' 'США - Чили'\n",
      " 'Германия - Аргентина - Нидерланды - Чили' 'США - Канада - Индонезия'\n",
      " 'Армения - Казахстан' 'Финляндия' 'Испания - Италия - Франция'\n",
      " 'Бельгия - Испания - Канада - Нидерланды'\n",
      " 'Великобритания - Франция - Швеция - Бельгия'\n",
      " 'Мексика - Эквадор - Канада - США - Франция - Малайзия - Италия - Аргентина - Германия - Индия'\n",
      " 'Франция - Бенльгия' 'Индия - Великобритания'\n",
      " 'Япония - Великобритания - Франция' 'Испания - Уругвай - Аргентина'\n",
      " 'Франция - Италия - Бельгия - Люксембург'\n",
      " 'Франция - Украина - Грузия - Армения' 'Сербия - Германия - Венгрия'\n",
      " 'Франция-Польша' 'Румыния-США' 'Россия-Азербайджан'\n",
      " 'США - Нидерланды - Бельгия - Венгрия - Греция - Канада'\n",
      " 'Германия - Франция - Люксембург' 'США - Россия'\n",
      " 'Великобритания - США - Франция' 'США - Австралия - Дания'\n",
      " 'Бельгия-Франция' 'США-Мексика'\n",
      " 'Норвегия - Азербайджан - Россия - Колумбия - Великобритания - Венгрия - Румыния - Франция - Грузия'\n",
      " 'СЩА' 'Бразилия - Испания' 'Россия, Франция, Латвия'\n",
      " 'Нидерланды - США - Германия - Канада - Франция - Ирландия - Великобритания'\n",
      " 'Уругвай - Колумбия' 'США - Испания - Болгария' 'Армения - Германия'\n",
      " 'США - Великобритания- Франция - Швеция' 'США - Мексика'\n",
      " 'Австралия-Турция-США' 'Швеция - Германия' 'Польша - Италия - Россия'\n",
      " 'Франция - Бразилия' 'США - Канада - КНР' 'СССР, Венгрия, ЧССР, ГДР'\n",
      " 'Бельгия - Германия - Люксембург' 'США - Австралия' 'Бразилия - США'\n",
      " 'США - Великобритания - Канада - КНР' 'Франция - Чили'\n",
      " 'Франция - США - Великобритания - Колумбия - Бельгия - Россия'\n",
      " 'Дания - Великобритания - ЮАР' 'Россия-США-Канада-Люксембург'\n",
      " 'Россия - Республика Кипр' 'Германия - США - Швеция - Франция'\n",
      " 'Великобритания-Германия-Канада-ЮАР' 'Ирландия, Канада'\n",
      " 'Япония - Великобритания - Швейцария - Ирландия - Дания - Франция - Польша - Австралия - Канада'\n",
      " 'Великобритания, Канада' 'Бельгия - США' 'Великобритания - США - Россия'\n",
      " 'Россия-Украина' 'Германия - США - Великобритания - Израиль'\n",
      " 'Канада - Германия' 'США- Ю.Корея' 'Индия - Мексика'\n",
      " 'Великобритания - Франция - Республика Кипр - Швейцария - США - Сербия'\n",
      " 'Испания - Аргентина - Индия - США'\n",
      " 'Норвегия - Исландия - США - Великобритания' 'Турция - Германя - Франция'\n",
      " 'Германия - Великобритания' 'Австралия - Германия' 'Мексика - Испания'\n",
      " 'Великобритания - США - Германия - Бельгия' 'США - Чехия - Франция'\n",
      " 'Россия - Италия' 'Франция-Россия' 'Норвегия - Дания - Швеция'\n",
      " 'Франция - Швейцария - Германия' 'Грузия - Украина'\n",
      " 'Россия - Эстония - Финляндия - Беларусь' 'США - Франция - ЮАР'\n",
      " 'Великобритания - США - Швейцария' 'Канада-США'\n",
      " 'Мексика - Нидерланды - Германия - Франция' 'США - Испания - Франция'\n",
      " 'США - Великобритания - КНР' 'США-Франция-Канада'\n",
      " 'Япония, Великобритания, Австрия, Германия, Ю.Корея'\n",
      " 'Великобритания - Ирландия - США' 'Бельгия - Италия - Франция'\n",
      " 'Швейцария-Германия-ЮАР' 'Великобритания - США - Германия'\n",
      " 'Германия - Исландия' 'Испания - США' 'Хорватия'\n",
      " 'Финляндия - Исландия - Швеция' 'Канада - США - Германия - Франция'\n",
      " 'США - Великобритания - Испания' 'Ирландия-Великобритания'\n",
      " 'Аргентина - Испания' 'Австрия - Германия'\n",
      " 'Германия - Швейцария - Франция - Южная Корея - США'\n",
      " 'Украина - Нидерланды' 'Венгрия - Германия - Швеция'\n",
      " 'Германия - Франция -  Польша - Турция - Канада - Италия - Россия'\n",
      " 'СССР, Афганистан' 'СССР, Монголия' 'Россия-Кипр'\n",
      " 'Россия, Грузия, Испания'\n",
      " 'Великобритания - Нидерланды - Германия - Франция - Бельгия - Австрия'\n",
      " 'Испания - Великобритания - Франция' 'Дания - Норвегия - Великобритания'\n",
      " 'Бельгия - Франция - Люксембург'\n",
      " 'Италия - Франция - Швейцария - Великобритания'\n",
      " 'Франция - Бельгия - Великобритания - Испания - Германия - США'\n",
      " 'Швейцария - Израиль - Франция - Великобритания'\n",
      " 'Великобритания - США - Канада - Нидерланды - Франция' 'Россия, Италия'\n",
      " 'СССР, Албания' 'Россия, Украина, Республика Беларусь, Литва'\n",
      " 'Финляндия - Великобритания - Германия' 'Россия, Украина, Польша'\n",
      " 'Франция - Италия - Бельгия - КНР'\n",
      " 'Германия - Бельгия - Люксембург - Ирландия' 'КНР - Сингапур'\n",
      " 'Франция - Бельгия - Великобритания - США - Нидерланды - Канада'\n",
      " 'США - Россия - Польша - Германия - Пуэрто Рико'\n",
      " 'Франция - Бельгия - Канада' 'Мексика - США' 'США - Гонконг - КНР'\n",
      " 'Греция - Россия' 'Ирландия - Дания - Бельгия - Люксембург - Франция'\n",
      " 'Эстония - Россия'\n",
      " 'Великобритания - Исландия - Испания - Швейцария - США'\n",
      " 'Австралия - Великобритания - Бельгия - Индия'\n",
      " 'Швеция - Германия - Франция - Норвегия'\n",
      " 'Нидерланды - Бельгия - Германия - Ирландия'\n",
      " 'Нидерланды - Великобритания - Бельгия' 'США - Колумбия - Испания'\n",
      " 'Франция-Испания-Бельгия-Панама' 'США-Великобритания-Чехия-Румыния'\n",
      " 'Аргентина - Уругвай - Россия - Германия - Франция - Нидерланды'\n",
      " 'Швеция - Франция - Норвегия - Дания' 'Италия-Франция-Великобритания'\n",
      " 'Великобритания, Франция' 'Австралия, США' 'Венесуэла'\n",
      " 'Великобритания - США - Австралия - Ирландия - Германия - Куба - Канада'\n",
      " 'Южная Корея - КНР' 'Аргентина - Мексика - Бразилия - Франция - США'\n",
      " 'Швеция - США' 'Франция - Германия - Турция - Катар' 'Франция-Китай'\n",
      " 'Россия, Германия, Великобритания' 'Великобритания - Италия - Испания'\n",
      " 'Италия - Россия' 'Япония - КНР - Южная Корея' 'Россия, Германия'\n",
      " 'Россия-Ирландия' 'Македония - Франция - Великобритания'\n",
      " 'Франция - Бразилия - Италия' 'Россия-США' 'Армения-Россия'\n",
      " 'Россия, Румыния' 'Франция -  Бельгия' 'Грузия-Франция' 'ЮАР - США'\n",
      " 'Великобритания-США-Франция'\n",
      " 'Великобритания - США - Германия - Канада - Австралия' 'США-Ирландия'\n",
      " 'Россия, Республика Кипр' 'Германия - Люксембург - Франция'\n",
      " 'Россия-Франция' 'США - Нидерланды - Финляндия - Великобритания - Италия'\n",
      " 'Республика Кипр' 'Венгрия' 'Франция - США - Норвегия - Дания'\n",
      " 'Германия - Австрия - Ирландия' 'США - Финляндия' 'Италия-Великобритания'\n",
      " 'Россия, Испания' 'США - Великобритания - Болгария'\n",
      " 'Великобритания - Люксембург' 'Индия - США'\n",
      " 'США - Канада - Россия - Франция - Чили - Ирландия' 'Грузия-Россия'\n",
      " 'Дания - Австрия - Ирландия - Финляндия - Норвегия - Швеция - Нидерланды'\n",
      " 'США-КНР' 'Грузия' 'Австралия - Ирландия' 'Великобритания - Канада'\n",
      " 'Италия - Аргентина - Словения'\n",
      " 'Испания - Франция - Нидерланды - Германия - Бельгия - Великобритания - Канада'\n",
      " 'Франция - Чехия - Бельгия' 'Великобритания - Франция - Германия - США'\n",
      " 'Ирландия - Великобритания - Франция - США - Германия - Нидерланды'\n",
      " 'США - Канада - Япония - КНР' 'Италия-Франция'\n",
      " 'США - Великобритания - Исландия' 'Великобритания-Франция'\n",
      " 'Франция - Германия - Нидерланды'\n",
      " 'Франция - Германия - Швеция - США - Чехия - Словакия - Великобритания - Нидерланды'\n",
      " 'Франция - Канада - Н.Зеландия - США - Нидерланды - Германия - Швеция - Россия'\n",
      " 'Турция - США'\n",
      " 'Великобритания - США - Канада - Бельгия - Нидерланды - Австрия - Германия'\n",
      " 'Израиль - Франция - Германия - Палестина - США - Австрия - Великобритания'\n",
      " 'Аргентина - Франция - Испания' 'СССР, Россия'\n",
      " 'Великобритания - Франция - Италия - Индия - Дания - КНР - Бангладеш - Камбоджа - Гаити - Уганда'\n",
      " 'Италия - Франция - Швейцария' 'Ирландия - Великобритания - Канада'\n",
      " 'Перу' 'США - Норвегия' 'Испания-Канада' 'Китай-Гонконг'\n",
      " 'США - Германия - КНР' 'Великобритания - Новая Зеландия'\n",
      " 'Франция - Дания - Швеция - КНР'\n",
      " 'США - Великобритания - Германия - Бельгия - Дания'\n",
      " 'США - Франция - Канада - Германия - Австралия - Индия'\n",
      " 'СССР, Румыния, Франция' 'СССР, ГДР' 'Австралия-Ирландия' 'США - Китай'\n",
      " 'Великобритания - Франция - Австрия - Швеция' 'Россия, Таджикистан'\n",
      " 'Нидерланды - Бельгия - Болгария' 'Великобритания - Канада - США'\n",
      " 'Франция - Бельгия - Испания' 'Китай-Гонконг-США'\n",
      " 'Франция - Великобритания' 'США - Вьетнам' 'США - Германия - Франция'\n",
      " 'Германия - Франция - Бельгия' 'США - Италия'\n",
      " 'Германия - Дания - Испания - Швеция - Канада - Эстония - Франция'\n",
      " 'Княжество Андорра - Украина' 'Германия - Люксембург - Бельгия'\n",
      " 'Великобритания - Россия - Украина - США'\n",
      " 'Германия - Бельгия - Люксембург - Норвегия'\n",
      " 'США - Австралия - Новая Зеландия - Великобритания'\n",
      " 'США - Франция - Канада - Великобритания' 'Испания-Колумбия'\n",
      " 'Великобритания - Чехия - Франция' 'Россия, Украина' 'Исландия'\n",
      " 'Великобритания - Франция - Венгрия' 'Россия, Франция, Германия, Бельгия'\n",
      " 'Франция - Македония'\n",
      " 'Нидерланды - Франция - Германия - Бельгия - Швеция - Великобритания'\n",
      " 'Испания - США - Великобритания - Канада' 'Германия - Австрия'\n",
      " 'Республика Казахстан' 'Франция - Испания - Дания - Венгрия - Швейцария'\n",
      " 'Франция-КНР' 'США - Пуэрто-Рико - Франция' 'Мексика - Тайвань - США'\n",
      " 'Великобритания - Испания - Непал - Индия - Венгрия - Гонконг - Германия - Дания - Бахрейн'\n",
      " 'Великобритания - Аргентина - США - Франция - Россия - Испания'\n",
      " 'КНР - США' 'Италия - США' 'Финляндия - Швеция - Германия'\n",
      " 'Канада- Испания' 'Франция - Бельгия - Чехия' 'Франция-Бельгия-Канада'\n",
      " 'Франция - Германия - США' 'США - Дания' 'Индия - КНР'\n",
      " 'Чехия-Великобритания-США' 'США-ФРГ-Россия'\n",
      " 'Ирландия-Нидерланды-Франция-США-Великобритания'\n",
      " 'Россия, Грузия, Хорватия, Испания' 'Финляндия - Швеция - Норвегия'\n",
      " 'Сербия - Великобритания - США'\n",
      " 'США - Великобритания - Франция - Гонконг' 'Швейцария - Франция'\n",
      " 'Швейцария - Великобритания' 'ОАЭ - США'\n",
      " 'США - Франция - Германия - Канада - Австралия' 'Германия - Австралия'\n",
      " 'Иран, Франция' 'США - Великобритания - Новая Зеландия' 'США-Колумбия'\n",
      " 'США-Франция-Ирландия' 'Великобритания - Франция - Бельгия'\n",
      " 'США - Великобритания - Япония' 'США - Франция - Германия'\n",
      " 'Польша - Ирландия' 'Ирландия - Великобритания - Франция - США'\n",
      " 'США - Бельгия - Великобритания' 'СССР, ВНР'\n",
      " 'Испания - Франция - США - Великобритания - Бельгия'\n",
      " 'Франция - Дания - США' 'США - Гонконг' 'Бразилия - К;анада'\n",
      " 'Франция-Германия' 'США - Колумбия'\n",
      " 'США - Ирландия - Великобритания - Франция'\n",
      " 'Великобритания - США - Канада' 'Польша - Франция'\n",
      " 'Канада - США - Нидерланды - Великобритания - Аргентина'\n",
      " 'Великобритания - Дания' 'Франция - Бельгия - Япония' 'Россия,  Испания'\n",
      " 'Франция -Бельгия' 'США - Канада - Германия - Франция'\n",
      " 'США-Канада-Франция' 'Россия - Германия' 'Россия-Италия'\n",
      " 'Китай - Гонконг' 'Германия-Австрия-Франция-Италия' 'США-Япония'\n",
      " 'США - Германия - Канада' 'Испания-Мексика'\n",
      " 'США - Япония - Канада - Великобритания - Германия - Франция'\n",
      " 'США -Великобритания - Австралия' 'Россия-Украина-Германия'\n",
      " 'Израиль - Франция - Великобритания - Германия' 'Корея'\n",
      " 'Россия - Болгария' 'США-Индия' 'Германия-Канада-Франция-Бельгия'\n",
      " 'Германия-Кения' 'Франция - Монако' 'Франция-Испания-Швейцария'\n",
      " 'Австрия-Франция-Германия' 'Румыния' 'США-Великобритания-Франция'\n",
      " 'Канада-Великобритания' 'Канада-Бразилия-Япония'\n",
      " 'Германия - Дания - Норвегия' 'Дания - Германия' 'СССР - Италия'\n",
      " 'СССР - ГДР - Польша - Италия' 'США - Испания - Франция - Великобритания'\n",
      " 'Китай' 'Мексика-Аргентина'\n",
      " 'Германия - Великобритания - Италия - Испания'\n",
      " 'Франция-Германия-Великобритания' 'Россия - Германия - Швейцария'\n",
      " 'Франция-Австралия' 'Голландия' 'Швейцария-Франция' 'Россия-Белоруссия'\n",
      " 'Франция - Испания - Тайвань' 'США-Южная Корея-Новая Зеландия'\n",
      " 'Великобритания-Венгрия' 'Россия-Германия'\n",
      " 'Великобритания-Франция-Германия' 'Франция-Германия-Италия'\n",
      " 'Швеция-Финляндия-Франция-Норвегия' 'Франция-Италия' 'Германия-Израиль'\n",
      " 'Швеция - Германия - Дания - Норвегия' 'США-Бельгия'\n",
      " 'Франция-Гонконг-Ирландия' 'Эстония' 'Литва-Россия-Украина'\n",
      " 'Германия - Италия - Франция' 'Великобритания - Австрия - Германия'\n",
      " 'Бельгия - Франция' 'Россия-Казахстан' 'Испания - Мальта'\n",
      " 'Франция-Россия-Румыния-Италия-Бельгия' 'Россия - Польша'\n",
      " 'Испания - Мексика' 'США-Аргентина' 'Израиль-США-Франция'\n",
      " 'США - Новая Зеландия - Япония' 'Франция - Чехия - Великобритания'\n",
      " 'Россия-Польша' 'Германия-Франция-Великобритания' 'США-Германия-Канада'\n",
      " 'США-Гонконг-Китай' 'США - Великобритания - Германия'\n",
      " 'США-Канада-Австралия' 'Япония-США-Франция' 'Франция-Испания-Германия'\n",
      " 'США - Хорватия - Босния-Герцеговина'\n",
      " 'Великобритания - Чехия - Франция - Италия' 'США - Германия - Нидерланды'\n",
      " 'Германия - Франция - Канада'\n",
      " 'Франция-Грузия-Германия-Россия-Украина-Бельгия'\n",
      " 'Великобритания - Франция - Италия' 'Россия - США'\n",
      " 'Франция - Италия - Иран' 'Россия - Азербайджан' 'Греция' 'Дания - США'\n",
      " 'США-Великобритания-Новая Зеландия' 'США-Германия-Австралия'\n",
      " 'США-Канада-Италия' 'США - Япония - Германия' 'Австралия-США'\n",
      " 'Франция - Великобритания - Багамские острова - США'\n",
      " 'Швейцария - Люксембург' 'Швейцария - Австрия' 'Германия - Швейцария'\n",
      " 'Дания-Швеция-Франция-Германия' 'Польша' 'Швейцария-Австрия'\n",
      " 'Бразилия - Канада - США' 'Нидерланды - Россия' 'Португалия'\n",
      " 'Франция-Аргентина' 'Швеция-Франция' 'Франция-Украина'\n",
      " 'Германия-Украина-Нидерланды' 'Италия-Швейцария'\n",
      " 'США-Германия-Великобритания' 'Латвия - Россия'\n",
      " 'Германия-Франция-Великобритания-США' 'Канада - Италия'\n",
      " 'США - Объединенные Арабские Эмираты' 'США-Венгрия' 'Малайзия'\n",
      " 'Россия - Германия - Украина' 'США - Австралия - Мексика'\n",
      " 'Литва - Венгрия' 'Германия - Китай' 'Казахстан' 'Республика Корея'\n",
      " 'США - Германия - Франция - Великобритания - Канада'\n",
      " 'Бельгия - Германия - Люксембург - Франция' 'Франция - Греция'\n",
      " 'Италия - Канада' 'США - Великобритания - Франция' 'США-Италия-Греция'\n",
      " 'Германия - США - Великобритания - Ирландия'\n",
      " 'Великобритания - Франция - Германия' 'Германия - Нидерланды - ЮАР'\n",
      " 'США-Япония-Германия-Великобритания-Нидерланды'\n",
      " 'США-Япония-Германия-Великобритания' 'Германия - Франция - Польша'\n",
      " 'Таиланд-Великобритания-Франция-Германия-Испания-Нидерланды'\n",
      " 'Германия-Италия-Швейцария'\n",
      " 'Дания - Швеция - Великобритания - Франция - Германия - Нидерланды - Норвегия - Финляндия'\n",
      " 'Франция - Великобритания - Нидерланды - Люксембург'\n",
      " 'Нидерланды-Великобритания-Франция-Италия-Япония'\n",
      " 'Финляндия-Дания-Германия-Ирландия' 'Испания-Аргентина'\n",
      " 'Великобритания - Нидерланды - Франция - США' 'Канада - Мексика'\n",
      " 'США, Франция' 'Канада-Южная Корея-США'\n",
      " 'Великобритания - Франция - Бельгия - США' 'КНР - Канада - США'\n",
      " 'Италия - Франция - Германия' 'Швеция - Германия - Франция - Дания'\n",
      " 'Франция - США - Бельгия' 'Украина - Германия - Латвия - Эстония'\n",
      " 'Австрия - Люксембург' 'Великобритания - КНР' 'Монголия'\n",
      " 'Франция - Дания' 'Швеция - Дания - Финляндия'\n",
      " 'Сингапур - Великобритания - Индонезия - Канада - США'\n",
      " 'США - Германия - Япония' 'Таиланд - США' 'Франция - Нидерланды'\n",
      " 'Великобритания - Румыния' 'США - Мальта'\n",
      " 'Великобритания - Германия - Нидерланды - Дания'\n",
      " 'Франция - Германия - Литва - Нидерланды - Россия' 'США - ЮАР - Гонконг'\n",
      " 'Австралия - Колумбия' 'Великобритания - Польша'\n",
      " 'США - Великобритания - Швеция' 'Франция - Швеция - Дания - Норвегия'\n",
      " 'Болгария - США' 'СССР, ФРГ' 'Бельгия - Нидерланды - Франция'\n",
      " 'Финляндия - Германия' 'Болгария'\n",
      " 'Грузия - Россия - Украина - Хорватия - Германия' 'Франция - Люксембург'\n",
      " 'Франция - Германия - Австрия' 'Норвегия - США' 'Германия-Швеция'\n",
      " 'Франция - Германия - Италия' 'Франция-Германия-Австрия' 'КНР-США'\n",
      " 'Дания - Латвия - Россия - США' 'Финляндия - Польша' 'Германия - Бельгия'\n",
      " 'Германия - США - Франция - Испания'\n",
      " 'Бельгия-Германия-Канада-Франция-США-Великобритания'\n",
      " 'Нидерланды - Бельгия - Люксембург' 'Канада-Германия'\n",
      " 'Люксембург - Бельгия - Франция' 'США-Великобритания-Австралия'\n",
      " 'Великобритания, Новая Зеландия' 'Бельгия, Великобритания, США'\n",
      " 'Великобритания, Австралия' 'Исландия, Бельгия'\n",
      " 'Испания - Швейцария - Великобритания - Германия - Новая Зеландия - Нидерланды - Канада'\n",
      " 'Франция, Бельгия' 'Великобритания, США' 'Киргизия-Россия'\n",
      " 'Германия, США' 'Великобритания, США, Испания'\n",
      " 'Италия - Швейцария - Германия' 'Россия, Армения' 'Франция, Германия'\n",
      " 'Китай, Канада, США' 'Германия, Австралия' 'КНР, США'\n",
      " 'США, Великобритания, Люксембург' 'Испания, Ирландия, Бельгия, Франция'\n",
      " 'Великобритания - Гонконг - Венгрия - США - Ирландия' 'США - Пуэрто Рико'\n",
      " 'Аргентина - Испания - Уругвай'\n",
      " 'Израиль - Германия - Франция - Швейцария'\n",
      " 'Великобритания - Мексика - США' 'Испания - Болгария - США'\n",
      " 'Россия-Словакия-Чехия'\n",
      " 'Швейцария - КНР - США - Россия - Республика Корея - Великобритания'\n",
      " 'Россия, Нидерланды, Финляндия'\n",
      " 'Испания - Бельгия - Франция - Португалия - Великобритания'\n",
      " 'Бразилия - Португалия - Франция' 'Швеция - Норвегия'\n",
      " 'Франция - Польша - Бельгия' 'CША' 'Китай, США'\n",
      " 'Италия, Франция, Германия' 'Германия - Австрия - Франция'\n",
      " 'Чехия - Словакия - Хорватия' 'Россия, Польша, Финляндия'\n",
      " 'Россия, Латвия, Чешская Республика'\n",
      " 'Франция - Великобритания - Камбоджа - США - КНР' 'Чехия - Испания - США'\n",
      " 'Германия - Люксембург - Дания' 'Великобритания - Испания - Германия'\n",
      " 'Дания - Исландия' 'Германия, Франция, Великобритания'\n",
      " 'Великобритания - Испания - Италия - Латвия - Франция - Эстония'\n",
      " 'Дания, Швеция, Великобритания, Франция, Германия, Норвегия, Финляндия, Нидерланды, Италия'\n",
      " 'Польша - Франция - Великобритания' 'Дания, Норвегия, Венгрия, Чехия'\n",
      " 'Дания - Франция - Германия - Швеция' 'Великобритания, Швеция, США'\n",
      " 'Канада, Франция, Италия, Швейцария, США' 'США, Индия'\n",
      " 'США - Великобритания - Германия - - Швеция - Канада' 'Италия, Франция'\n",
      " 'Республика Беларусь, Германия, США, Россия'\n",
      " 'Италия-Швейцария-Франция-Германия'\n",
      " 'Россия - Франция - Великобритания - Латвия' 'Россия-Беларусь'\n",
      " 'Франция - Испания - Румыния - США - Бельгия' 'Италия-США'\n",
      " 'Россия, Австрия' 'Ирландия - Великобритания - США'\n",
      " 'Швейцария, Великобритания, Франция, США, Ирландия'\n",
      " 'Мексика, Франция, Германия, Дания, Швеция' 'Нидерланды, Бельгия'\n",
      " 'Швеция, Норвегия, Финляндия, Франция' 'Испания, Франция, Италия'\n",
      " 'Испания-Франция-Греция-Индия-США-Россия-Великобритания'\n",
      " 'Великобритания - Япония - США' 'Дания, Канада, Норвегия, Австралия, США'\n",
      " 'Аргентина, Испания' 'Россия, Германия, Казахстан, Польша, Китай'\n",
      " 'Португалия, Франция, Польша, США' 'США - Канада - Аргентина' 'Ливан-США'\n",
      " 'Япония - США' 'США, Гонконг'\n",
      " 'Франция - Россия - Швейцария - Румыния - Венгрия' 'Аргентина-Испания'\n",
      " 'Россия, Сербия' 'США - Болгария - Мексика'\n",
      " 'США - Великобритания - Швейцария - Франция' 'Таиланд - КНР - США'\n",
      " 'Великобритания, Нидерланды, Польша, Швейцария, Франция' 'Ирландия - США'\n",
      " 'Германия - Франция - Великобритания - Польша - США'\n",
      " 'Великобритания-Франция-Италия' 'США - Австралия - Индия' 'Франция - КНР'\n",
      " 'Великобритания - Израиль' 'Великобритания - Норвегия - Кения - Хорватия'\n",
      " 'США - Бразилия - Великобритания - Канада' 'Германия, Бельгия'\n",
      " 'Австралия, Канада' 'США, Великобритания, Франция' 'Кения, Германия'\n",
      " 'Нидерланды, Бельгия, Люксембург' 'Колумбия' 'Латвия - Франция'\n",
      " 'Ирландия, Великобритания' 'Франция - Израиль - Германия'\n",
      " 'Швеция, Франция, Великобритания' 'Бельгия - Люксембург'\n",
      " 'Германия - Бельгия - Великобритания'\n",
      " 'Испания, Франция, Великобритания, Дания, Бельгия, Германия'\n",
      " 'Румыния, ЮАР, Иран, Франция, Канада, Великобритания' 'Германия, Франция'\n",
      " 'США, Япония' 'США, Великобритания, Ирландия, Люксембург'\n",
      " 'Республика Армения' 'США, Франция, Япония' 'Япония, США' 'Канада, США'\n",
      " 'Республика Кипр - Россия'\n",
      " 'Дания - Франция - Италия - Бельгия - Нидерланды' 'Россия - Грузия'\n",
      " 'Италия, Германия' 'Норвегия, Швеция, Дания' 'Республика Кипр, Россия'\n",
      " 'КНР, Индия, Гонконг, США' 'Израиль, Украина' 'США, Россия'\n",
      " 'США - КНР - Индия - Ю.Корея' 'США - Швеция' 'Франция, Канада'\n",
      " 'Россия-Китай' 'Канада, Великобритания' 'США, Германия'\n",
      " 'Канада, США, Каймановы острова'\n",
      " 'Бразилия, Уругвай, Дания, Норвегия, Чили, Швеция'\n",
      " 'Пуэрто-Рико, Великобритания, США' 'Уругвай - Аргентина - Испания'\n",
      " 'США - Великобритания - Италия - Израиль - Сербия - Индия'\n",
      " 'США - Канада - Франция - Индия' 'Великобритания - Россия - КНР'\n",
      " 'Франция, Новая Зеландия' 'Франция, Люксембург, Бельгия'\n",
      " 'Канада, США, Норвегия' 'Италия, Испания'\n",
      " 'Испания - Германия - Нидерланды' 'Бразилия - США - КНР'\n",
      " 'Великобритания, Германия, Дания, США' '2019'\n",
      " 'Италия - Фрация - Бразилия - Германия' 'Норвегия - Швеция - Россия'\n",
      " 'Великобритания, Япония, США' 'Сша, Канада' 'Бельгия, Канада'\n",
      " 'Великобритания - Австралия - США' 'США, Канада' 'Франция - Финляндия'\n",
      " 'Колумбия - США' 'Великобритания, Франция, Бельгия'\n",
      " 'Норвегия - Нидерланды' 'Великобритания, Канада, США'\n",
      " 'Япония, Великобритания' 'Италия - Бельгия - Франция'\n",
      " 'Россия, Бельгия, Финляндия' 'США, Украина' 'Франция, Норвегия'\n",
      " 'Великобритания, Южная Корея, Канада, США, Индия, Китай, Япония'\n",
      " 'Канада - Норвегия' 'Республика Кипр-Россия' 'Германия, Россия'\n",
      " 'Польша - Франция - Испания - Бразилия - Швеция'\n",
      " 'Австрия, Великобритания, Германия' 'Франция - Сенегал - Бельгия'\n",
      " 'Франция, Бельгия, Люксембург' 'Финляндия, Латвия' 'Пакистан'\n",
      " 'Германия, Франция, США' 'Германия - Великобритания - США'\n",
      " 'КНР - Франция' 'Дания, Норвегия, Швеция, Исландия'\n",
      " 'Республика Кипр, США, Россия' 'Новая Зеландия - КНР'\n",
      " 'Дания - Канада - Швеция - Франция - Германия - Великобритания - США']\n"
     ]
    }
   ],
   "source": [
    "print(df['production_country'].unique())"
   ]
  },
  {
   "cell_type": "markdown",
   "metadata": {},
   "source": [
    "Так как текстовые данные, как правило, заносятся вручную, в них содержится и самое большее количество *'артефактов'*. Написав простой цикл, автоматически обработали все столбцы с текстовыми данными. В одних были лишние символы, в других нет, но данные стали более упорядоченными. Рекордсменом по лишним символам становятся данные о названиях фильмов.\n",
    "\n",
    "Несмотря на обработку, в данных всё ещё содержится огромное количество ошибок, исправить которые крайне сложно. Так, в столбце со странами-производителями есть записи с годами, в самих названиях стран много ошибок, например `'Сша'` и даже `'СЩА'`, кроме того, если в производстве фильма принимали участие несколько стран, они могут быть перечислены через запятую, а могут через тире или дефис. На данном этапе оставим эти данные в этом виде."
   ]
  },
  {
   "cell_type": "markdown",
   "metadata": {},
   "source": [
    " "
   ]
  },
  {
   "cell_type": "markdown",
   "metadata": {
    "id": "XFSN5lrEgFyR"
   },
   "source": [
    "#### Проверим количественные значения"
   ]
  },
  {
   "cell_type": "markdown",
   "metadata": {},
   "source": [
    "Проверим есть ли в данных фильмы, бюджет которых меньше, чем сумма объёмов возвратных и невозвратных средств государственной поддержки."
   ]
  },
  {
   "cell_type": "code",
   "execution_count": 97,
   "metadata": {
    "scrolled": false
   },
   "outputs": [
    {
     "name": "stdout",
     "output_type": "stream",
     "text": [
      "Количество фильмов с бюджетом, меньшим, чем гос. поддержка: 17\n"
     ]
    }
   ],
   "source": [
    "print('Количество фильмов с бюджетом, меньшим, чем гос. поддержка:', \n",
    "      len(df.loc[df['budget'] < (df['refundable_support']+df['nonrefundable_support'])]))"
   ]
  },
  {
   "cell_type": "markdown",
   "metadata": {},
   "source": [
    "Есть инсайдерская информация, что данные о бюджетах фильмов сильно искажены, для уменьшения налогооблагаемой бызы бюджет могут занизить или для более успешных продаж, наоборот, исскуственно завысить. Однако, нулевые бюджеты при выделенной государственной подержке это невозможная ситуация. Бюджет, как минимум, должен быть не меньше суммы объёмов возвратных и невозвратных средств, в любом случае такое значение будет ближе к истине, чем нулевое. Исправим это, заменив нулевые значения в столбце `'budget'` на сумму значений столбцов `'refundable_support'` и `'nonrefundable_support'`."
   ]
  },
  {
   "cell_type": "code",
   "execution_count": 98,
   "metadata": {},
   "outputs": [],
   "source": [
    "# заменим нулевые значения в столбце 'budget' на сумму средств гос. поддержки\n",
    "df.loc[df['budget'] == 0, 'budget'] = df['refundable_support'] + df['nonrefundable_support']"
   ]
  },
  {
   "cell_type": "markdown",
   "metadata": {},
   "source": [
    "Проверим эту же теорию, но для записей с пропущенными значениями в столбце `'budget'`."
   ]
  },
  {
   "cell_type": "code",
   "execution_count": 99,
   "metadata": {},
   "outputs": [
    {
     "name": "stdout",
     "output_type": "stream",
     "text": [
      "Количество фильмов с пропусками в бюджете, и гос. поддержкой: 0\n"
     ]
    }
   ],
   "source": [
    "# выведем на экран количество записей с пропусками в столбце 'budget' и с гос. поддержкой\n",
    "print('Количество фильмов с пропусками в бюджете, и гос. поддержкой:', \n",
    "      len(df.loc[(df['budget'].isna()) & \n",
    "                 (df['refundable_support']+df['nonrefundable_support'] > 0)]))"
   ]
  },
  {
   "cell_type": "markdown",
   "metadata": {},
   "source": [
    "Таких записей не оказалось.\n",
    "\n",
    "Для дальнейших исследований понадобится сделать некоторые преобразования существующих данных."
   ]
  },
  {
   "cell_type": "markdown",
   "metadata": {},
   "source": [
    " "
   ]
  },
  {
   "cell_type": "markdown",
   "metadata": {
    "id": "Eu6oWp2CgFyS"
   },
   "source": [
    "#### Добавим новые столбцы"
   ]
  },
  {
   "cell_type": "markdown",
   "metadata": {
    "id": "7GgW-UpAgFyS"
   },
   "source": [
    "- Создадим новый столбец `'rental_year'` с информацией о годе проката. Для этого выделим год из даты премьеры фильма."
   ]
  },
  {
   "cell_type": "code",
   "execution_count": 100,
   "metadata": {
    "id": "I-yd1DkWgFyT"
   },
   "outputs": [],
   "source": [
    "df['rental_year'] = df['show_start_date'].dt.year"
   ]
  },
  {
   "cell_type": "markdown",
   "metadata": {
    "id": "nFTDLDYOgFyT"
   },
   "source": [
    "- Создадим два столбца: `'main_director'` с именем и фамилией главного режиссёра и `'main_genre'` основным жанром фильма. В столбцы войдут первые значения из списка режиссёров и жанров соответственно."
   ]
  },
  {
   "cell_type": "code",
   "execution_count": 101,
   "metadata": {
    "id": "LSbRZKbMgFyU"
   },
   "outputs": [],
   "source": [
    "# создадим столбец 'main_director' и поместим в него первое значение после запятой из колонки 'director'\n",
    "df['main_director'] = df['director'].str.split(pat=',').str[0]\n",
    "\n",
    "# создадим столбец 'main_genre' и поместим в него первое значение после запятой из колонки 'genres'\n",
    "df['main_genre'] = df['genres'].str.split(pat=',').str[0]"
   ]
  },
  {
   "cell_type": "markdown",
   "metadata": {
    "id": "1FsCXHwdgFyU"
   },
   "source": [
    "- Посчитаем, какую долю от общего бюджета фильма составляет государственная поддержка."
   ]
  },
  {
   "cell_type": "code",
   "execution_count": 102,
   "metadata": {},
   "outputs": [],
   "source": [
    "df['share_total_budget'] = df['budget'] / (df['refundable_support'] + df['nonrefundable_support'])"
   ]
  },
  {
   "cell_type": "markdown",
   "metadata": {},
   "source": [
    "Выведем для проверки случайные значения из добавленных столбцов, исключив пропущенные в столбце `'share_total_budget'`, а также отобразим название фильма, чтобы было понятно."
   ]
  },
  {
   "cell_type": "code",
   "execution_count": 103,
   "metadata": {
    "scrolled": true
   },
   "outputs": [
    {
     "data": {
      "text/html": [
       "<div>\n",
       "<style scoped>\n",
       "    .dataframe tbody tr th:only-of-type {\n",
       "        vertical-align: middle;\n",
       "    }\n",
       "\n",
       "    .dataframe tbody tr th {\n",
       "        vertical-align: top;\n",
       "    }\n",
       "\n",
       "    .dataframe thead th {\n",
       "        text-align: right;\n",
       "    }\n",
       "</style>\n",
       "<table border=\"1\" class=\"dataframe\">\n",
       "  <thead>\n",
       "    <tr style=\"text-align: right;\">\n",
       "      <th></th>\n",
       "      <th>title</th>\n",
       "      <th>rental_year</th>\n",
       "      <th>main_director</th>\n",
       "      <th>main_genre</th>\n",
       "      <th>share_total_budget</th>\n",
       "    </tr>\n",
       "  </thead>\n",
       "  <tbody>\n",
       "    <tr>\n",
       "      <th>7009</th>\n",
       "      <td>Куратор</td>\n",
       "      <td>2019</td>\n",
       "      <td>П.Левченко</td>\n",
       "      <td>драма</td>\n",
       "      <td>2.43</td>\n",
       "    </tr>\n",
       "    <tr>\n",
       "      <th>5437</th>\n",
       "      <td>Матильда</td>\n",
       "      <td>2017</td>\n",
       "      <td>А.Учитель</td>\n",
       "      <td>фэнтези</td>\n",
       "      <td>3.44</td>\n",
       "    </tr>\n",
       "    <tr>\n",
       "      <th>3412</th>\n",
       "      <td>ХОЛОДНОЕ ТАНГО</td>\n",
       "      <td>2016</td>\n",
       "      <td>П.Чухрай</td>\n",
       "      <td>мелодрама</td>\n",
       "      <td>2.71</td>\n",
       "    </tr>\n",
       "    <tr>\n",
       "      <th>3708</th>\n",
       "      <td>Три дня до весны</td>\n",
       "      <td>2017</td>\n",
       "      <td>А.Касаткин</td>\n",
       "      <td>военный</td>\n",
       "      <td>1.61</td>\n",
       "    </tr>\n",
       "    <tr>\n",
       "      <th>2536</th>\n",
       "      <td>Частное пионерское-2</td>\n",
       "      <td>2015</td>\n",
       "      <td>А.Карпиловский</td>\n",
       "      <td>детский</td>\n",
       "      <td>1.43</td>\n",
       "    </tr>\n",
       "  </tbody>\n",
       "</table>\n",
       "</div>"
      ],
      "text/plain": [
       "                     title  rental_year   main_director main_genre  \\\n",
       "7009               Куратор         2019      П.Левченко      драма   \n",
       "5437              Матильда         2017       А.Учитель    фэнтези   \n",
       "3412        ХОЛОДНОЕ ТАНГО         2016        П.Чухрай  мелодрама   \n",
       "3708      Три дня до весны         2017      А.Касаткин    военный   \n",
       "2536  Частное пионерское-2         2015  А.Карпиловский    детский   \n",
       "\n",
       "      share_total_budget  \n",
       "7009                2.43  \n",
       "5437                3.44  \n",
       "3412                2.71  \n",
       "3708                1.61  \n",
       "2536                1.43  "
      ]
     },
     "execution_count": 103,
     "metadata": {},
     "output_type": "execute_result"
    }
   ],
   "source": [
    "df.loc[df['share_total_budget'].isna() == False, \n",
    "       ['title', 'rental_year', 'main_director', 'main_genre', 'share_total_budget']].sample(5)"
   ]
  },
  {
   "cell_type": "markdown",
   "metadata": {},
   "source": [
    "Интересующие нас данные добавлены в новые столбцы."
   ]
  },
  {
   "cell_type": "markdown",
   "metadata": {},
   "source": [
    " "
   ]
  },
  {
   "cell_type": "markdown",
   "metadata": {},
   "source": [
    "#### Выводы по предобработке данных"
   ]
  },
  {
   "cell_type": "markdown",
   "metadata": {},
   "source": [
    "В результате проделанной работы, данные были приведены в соответствие их типу, изучены пропуски, причины их появления, по возможности, пропущенные значения были заменены на достоверные. В целом, данные приведены в удобный вид, готовый для дальнейшей обработки и исследований. Также были добавлены новые столбцы с данными, необходимыми для дальнейшего анализа."
   ]
  },
  {
   "cell_type": "markdown",
   "metadata": {},
   "source": [
    " "
   ]
  },
  {
   "cell_type": "markdown",
   "metadata": {
    "id": "6t4EukPLgFyV"
   },
   "source": [
    "### Исследовательский анализ данных"
   ]
  },
  {
   "cell_type": "markdown",
   "metadata": {},
   "source": [
    "####  Анализ данных по годам"
   ]
  },
  {
   "cell_type": "markdown",
   "metadata": {
    "id": "vAH8WCzugFyV"
   },
   "source": [
    "- Посмотрим, сколько фильмов выходило в прокат каждый год. Посчитаем, какую долю составляют фильмы с указанной информацией о прокате в кинотеатрах."
   ]
  },
  {
   "cell_type": "code",
   "execution_count": 104,
   "metadata": {},
   "outputs": [
    {
     "data": {
      "text/html": [
       "<style type=\"text/css\">\n",
       "</style>\n",
       "<table id=\"T_8cd52\">\n",
       "  <thead>\n",
       "    <tr>\n",
       "      <th class=\"blank level0\" >&nbsp;</th>\n",
       "      <th id=\"T_8cd52_level0_col0\" class=\"col_heading level0 col0\" >Год проката</th>\n",
       "      <th id=\"T_8cd52_level0_col1\" class=\"col_heading level0 col1\" >Фильмы с информацией о прокате</th>\n",
       "      <th id=\"T_8cd52_level0_col2\" class=\"col_heading level0 col2\" >Всего фильмов</th>\n",
       "      <th id=\"T_8cd52_level0_col3\" class=\"col_heading level0 col3\" >Сумма сборов</th>\n",
       "      <th id=\"T_8cd52_level0_col4\" class=\"col_heading level0 col4\" >Доля фильмов с указанной информацией</th>\n",
       "    </tr>\n",
       "  </thead>\n",
       "  <tbody>\n",
       "    <tr>\n",
       "      <th id=\"T_8cd52_level0_row0\" class=\"row_heading level0 row0\" >0</th>\n",
       "      <td id=\"T_8cd52_row0_col0\" class=\"data row0 col0\" >2010.00</td>\n",
       "      <td id=\"T_8cd52_row0_col1\" class=\"data row0 col1\" >105.00</td>\n",
       "      <td id=\"T_8cd52_row0_col2\" class=\"data row0 col2\" >985.00</td>\n",
       "      <td id=\"T_8cd52_row0_col3\" class=\"data row0 col3\" >2428654.00</td>\n",
       "      <td id=\"T_8cd52_row0_col4\" class=\"data row0 col4\" >10.66</td>\n",
       "    </tr>\n",
       "    <tr>\n",
       "      <th id=\"T_8cd52_level0_row1\" class=\"row_heading level0 row1\" >1</th>\n",
       "      <td id=\"T_8cd52_row1_col0\" class=\"data row1 col0\" >2011.00</td>\n",
       "      <td id=\"T_8cd52_row1_col1\" class=\"data row1 col1\" >109.00</td>\n",
       "      <td id=\"T_8cd52_row1_col2\" class=\"data row1 col2\" >622.00</td>\n",
       "      <td id=\"T_8cd52_row1_col3\" class=\"data row1 col3\" >14102765.00</td>\n",
       "      <td id=\"T_8cd52_row1_col4\" class=\"data row1 col4\" >17.52</td>\n",
       "    </tr>\n",
       "    <tr>\n",
       "      <th id=\"T_8cd52_level0_row2\" class=\"row_heading level0 row2\" >2</th>\n",
       "      <td id=\"T_8cd52_row2_col0\" class=\"data row2 col0\" >2012.00</td>\n",
       "      <td id=\"T_8cd52_row2_col1\" class=\"data row2 col1\" >128.00</td>\n",
       "      <td id=\"T_8cd52_row2_col2\" class=\"data row2 col2\" >593.00</td>\n",
       "      <td id=\"T_8cd52_row2_col3\" class=\"data row2 col3\" >6955423.00</td>\n",
       "      <td id=\"T_8cd52_row2_col4\" class=\"data row2 col4\" >21.59</td>\n",
       "    </tr>\n",
       "    <tr>\n",
       "      <th id=\"T_8cd52_level0_row3\" class=\"row_heading level0 row3\" >3</th>\n",
       "      <td id=\"T_8cd52_row3_col0\" class=\"data row3 col0\" >2013.00</td>\n",
       "      <td id=\"T_8cd52_row3_col1\" class=\"data row3 col1\" >184.00</td>\n",
       "      <td id=\"T_8cd52_row3_col2\" class=\"data row3 col2\" >630.00</td>\n",
       "      <td id=\"T_8cd52_row3_col3\" class=\"data row3 col3\" >29799706.20</td>\n",
       "      <td id=\"T_8cd52_row3_col4\" class=\"data row3 col4\" >29.21</td>\n",
       "    </tr>\n",
       "    <tr>\n",
       "      <th id=\"T_8cd52_level0_row4\" class=\"row_heading level0 row4\" >4</th>\n",
       "      <td id=\"T_8cd52_row4_col0\" class=\"data row4 col0\" >2014.00</td>\n",
       "      <td id=\"T_8cd52_row4_col1\" class=\"data row4 col1\" >279.00</td>\n",
       "      <td id=\"T_8cd52_row4_col2\" class=\"data row4 col2\" >806.00</td>\n",
       "      <td id=\"T_8cd52_row4_col3\" class=\"data row4 col3\" >7444951859.20</td>\n",
       "      <td id=\"T_8cd52_row4_col4\" class=\"data row4 col4\" >34.62</td>\n",
       "    </tr>\n",
       "    <tr>\n",
       "      <th id=\"T_8cd52_level0_row5\" class=\"row_heading level0 row5\" >5</th>\n",
       "      <td id=\"T_8cd52_row5_col0\" class=\"data row5 col0\" >2015.00</td>\n",
       "      <td id=\"T_8cd52_row5_col1\" class=\"data row5 col1\" >465.00</td>\n",
       "      <td id=\"T_8cd52_row5_col2\" class=\"data row5 col2\" >705.00</td>\n",
       "      <td id=\"T_8cd52_row5_col3\" class=\"data row5 col3\" >39497365196.40</td>\n",
       "      <td id=\"T_8cd52_row5_col4\" class=\"data row5 col4\" >65.96</td>\n",
       "    </tr>\n",
       "    <tr>\n",
       "      <th id=\"T_8cd52_level0_row6\" class=\"row_heading level0 row6\" >6</th>\n",
       "      <td id=\"T_8cd52_row6_col0\" class=\"data row6 col0\" >2016.00</td>\n",
       "      <td id=\"T_8cd52_row6_col1\" class=\"data row6 col1\" >526.00</td>\n",
       "      <td id=\"T_8cd52_row6_col2\" class=\"data row6 col2\" >818.00</td>\n",
       "      <td id=\"T_8cd52_row6_col3\" class=\"data row6 col3\" >47866299741.91</td>\n",
       "      <td id=\"T_8cd52_row6_col4\" class=\"data row6 col4\" >64.30</td>\n",
       "    </tr>\n",
       "    <tr>\n",
       "      <th id=\"T_8cd52_level0_row7\" class=\"row_heading level0 row7\" >7</th>\n",
       "      <td id=\"T_8cd52_row7_col0\" class=\"data row7 col0\" >2017.00</td>\n",
       "      <td id=\"T_8cd52_row7_col1\" class=\"data row7 col1\" >357.00</td>\n",
       "      <td id=\"T_8cd52_row7_col2\" class=\"data row7 col2\" >505.00</td>\n",
       "      <td id=\"T_8cd52_row7_col3\" class=\"data row7 col3\" >48563707217.51</td>\n",
       "      <td id=\"T_8cd52_row7_col4\" class=\"data row7 col4\" >70.69</td>\n",
       "    </tr>\n",
       "    <tr>\n",
       "      <th id=\"T_8cd52_level0_row8\" class=\"row_heading level0 row8\" >8</th>\n",
       "      <td id=\"T_8cd52_row8_col0\" class=\"data row8 col0\" >2018.00</td>\n",
       "      <td id=\"T_8cd52_row8_col1\" class=\"data row8 col1\" >475.00</td>\n",
       "      <td id=\"T_8cd52_row8_col2\" class=\"data row8 col2\" >891.00</td>\n",
       "      <td id=\"T_8cd52_row8_col3\" class=\"data row8 col3\" >49668403134.32</td>\n",
       "      <td id=\"T_8cd52_row8_col4\" class=\"data row8 col4\" >53.31</td>\n",
       "    </tr>\n",
       "    <tr>\n",
       "      <th id=\"T_8cd52_level0_row9\" class=\"row_heading level0 row9\" >9</th>\n",
       "      <td id=\"T_8cd52_row9_col0\" class=\"data row9 col0\" >2019.00</td>\n",
       "      <td id=\"T_8cd52_row9_col1\" class=\"data row9 col1\" >530.00</td>\n",
       "      <td id=\"T_8cd52_row9_col2\" class=\"data row9 col2\" >930.00</td>\n",
       "      <td id=\"T_8cd52_row9_col3\" class=\"data row9 col3\" >48425708779.59</td>\n",
       "      <td id=\"T_8cd52_row9_col4\" class=\"data row9 col4\" >56.99</td>\n",
       "    </tr>\n",
       "  </tbody>\n",
       "</table>\n"
      ],
      "text/plain": [
       "<pandas.io.formats.style.Styler at 0x7fefbdb56c70>"
      ]
     },
     "metadata": {},
     "output_type": "display_data"
    },
    {
     "name": "stdout",
     "output_type": "stream",
     "text": [
      "Общая доля фильмов с указанной информацией о прокате составляет: 42.19%\n"
     ]
    }
   ],
   "source": [
    "# создадим отдельный датасет с данными, сгруппированными по годам\n",
    "df_years = df.groupby('rental_year').agg({'box_office': ['count', 'size', 'sum']}).reset_index()\n",
    "df_years['ratio'] = df_years['box_office']['count'] / df_years['box_office']['size'] * 100\n",
    "\n",
    "# переименуем колонки для презентации\n",
    "df_years.columns = ['Год проката', 'Фильмы с информацией о прокате', 'Всего фильмов', \n",
    "                    'Сумма сборов', 'Доля фильмов с указанной информацией']\n",
    "\n",
    "# выведем датафрейм на экран\n",
    "display(df_years.style.format('{:.2f}'))\n",
    "\n",
    "# вернём колонкам короткие названия для обращения к ним\n",
    "df_years.columns = ['rental_year', 'count', 'size', 'sum', 'ratio']\n",
    "\n",
    "# выведем на экран общую долю фильмов с указанной информацией о прокате\n",
    "print('Общая доля фильмов с указанной информацией о прокате составляет: {:.2%}'\n",
    "      .format(df['box_office'].notna().mean()))"
   ]
  },
  {
   "cell_type": "markdown",
   "metadata": {},
   "source": [
    "Посмотрим график доли фильмов с указанной информацией о прокате по годам и гистограмму, отображающую количество фильмов с указанной информацией о прокате и общее количество фильмов."
   ]
  },
  {
   "cell_type": "code",
   "execution_count": 105,
   "metadata": {
    "scrolled": false
   },
   "outputs": [
    {
     "data": {
      "image/png": "[encoded data removed]",
      "text/plain": [
       "<Figure size 1080x720 with 1 Axes>"
      ]
     },
     "metadata": {},
     "output_type": "display_data"
    },
    {
     "data": {
      "image/png": "[encoded data removed]",
      "text/plain": [
       "<Figure size 1080x720 with 1 Axes>"
      ]
     },
     "metadata": {},
     "output_type": "display_data"
    }
   ],
   "source": [
    "# построим график\n",
    "df_years.plot(x='rental_year', y='ratio', style='-o', label='Доля фильмов с указанной информацией')\n",
    "plt.title('График доли фильмов с указанной информацией о прокате', fontsize=18)\n",
    "plt.xlabel('Годы', color='grey')\n",
    "plt.ylabel('Доля, %', color='grey')\n",
    "\n",
    "# построим гистограмму\n",
    "df_years.plot.bar(x='rental_year', y=['count', 'size'],  \n",
    "                  label=['Фильмы с информацией о прокате', 'Общее количество фильмов'])\n",
    "plt.title('Гистограмма количества фильмов с указанной информацией о прокате и общем количестве', fontsize=18)\n",
    "plt.xlabel('Годы', color='grey')\n",
    "plt.ylabel('Количество фильмов', color='grey')\n",
    "plt.show()"
   ]
  },
  {
   "cell_type": "markdown",
   "metadata": {},
   "source": [
    "Общая доля фильмов с указанной информацией о прокате составляет: 42.19%.\n",
    "С 2015 по 2017 годы доля фильмов с информацией о прокате была более 60% с пиком почти в 71% в 2017 году.\n",
    "\n",
    "Максимальное количество фильмов, вышедших в прокат было в 2010 году - **985**, в то же время, в этом году меньше всего информации о прокате в кинотеатрах - всего есть информация о **105** фильмах или **10.66%**. Наиболее полно данные представлены в период 2015-2017 годов."
   ]
  },
  {
   "cell_type": "markdown",
   "metadata": {},
   "source": [
    " "
   ]
  },
  {
   "cell_type": "markdown",
   "metadata": {
    "id": "BEOdcIrIgFyW"
   },
   "source": [
    "- Изучим, как менялась динамика проката по годам.\n",
    "\n",
    "Выведем на экран ранее созданную таблицу `'df_years'`, подсветим максимальное и минимальное значение суммы прокатных сборов, построим график, отражающий динамику суммы сборов по годам."
   ]
  },
  {
   "cell_type": "code",
   "execution_count": 86,
   "metadata": {},
   "outputs": [
    {
     "data": {
      "text/html": [
       "<style type=\"text/css\">\n",
       "#T_4fe3f_row0_col3 {\n",
       "  background-color: coral;\n",
       "}\n",
       "#T_4fe3f_row8_col3 {\n",
       "  background-color: yellowgreen;\n",
       "}\n",
       "</style>\n",
       "<table id=\"T_4fe3f\">\n",
       "  <thead>\n",
       "    <tr>\n",
       "      <th class=\"blank level0\" >&nbsp;</th>\n",
       "      <th id=\"T_4fe3f_level0_col0\" class=\"col_heading level0 col0\" >Год проката</th>\n",
       "      <th id=\"T_4fe3f_level0_col1\" class=\"col_heading level0 col1\" >Фильмы с информацией о прокате</th>\n",
       "      <th id=\"T_4fe3f_level0_col2\" class=\"col_heading level0 col2\" >Всего фильмов</th>\n",
       "      <th id=\"T_4fe3f_level0_col3\" class=\"col_heading level0 col3\" >Сумма сборов</th>\n",
       "      <th id=\"T_4fe3f_level0_col4\" class=\"col_heading level0 col4\" >Доля фильмов с указанной информацией</th>\n",
       "    </tr>\n",
       "  </thead>\n",
       "  <tbody>\n",
       "    <tr>\n",
       "      <th id=\"T_4fe3f_level0_row0\" class=\"row_heading level0 row0\" >0</th>\n",
       "      <td id=\"T_4fe3f_row0_col0\" class=\"data row0 col0\" >2010.00</td>\n",
       "      <td id=\"T_4fe3f_row0_col1\" class=\"data row0 col1\" >105.00</td>\n",
       "      <td id=\"T_4fe3f_row0_col2\" class=\"data row0 col2\" >985.00</td>\n",
       "      <td id=\"T_4fe3f_row0_col3\" class=\"data row0 col3\" >2428654.00</td>\n",
       "      <td id=\"T_4fe3f_row0_col4\" class=\"data row0 col4\" >10.66</td>\n",
       "    </tr>\n",
       "    <tr>\n",
       "      <th id=\"T_4fe3f_level0_row1\" class=\"row_heading level0 row1\" >1</th>\n",
       "      <td id=\"T_4fe3f_row1_col0\" class=\"data row1 col0\" >2011.00</td>\n",
       "      <td id=\"T_4fe3f_row1_col1\" class=\"data row1 col1\" >109.00</td>\n",
       "      <td id=\"T_4fe3f_row1_col2\" class=\"data row1 col2\" >622.00</td>\n",
       "      <td id=\"T_4fe3f_row1_col3\" class=\"data row1 col3\" >14102765.00</td>\n",
       "      <td id=\"T_4fe3f_row1_col4\" class=\"data row1 col4\" >17.52</td>\n",
       "    </tr>\n",
       "    <tr>\n",
       "      <th id=\"T_4fe3f_level0_row2\" class=\"row_heading level0 row2\" >2</th>\n",
       "      <td id=\"T_4fe3f_row2_col0\" class=\"data row2 col0\" >2012.00</td>\n",
       "      <td id=\"T_4fe3f_row2_col1\" class=\"data row2 col1\" >128.00</td>\n",
       "      <td id=\"T_4fe3f_row2_col2\" class=\"data row2 col2\" >593.00</td>\n",
       "      <td id=\"T_4fe3f_row2_col3\" class=\"data row2 col3\" >6955423.00</td>\n",
       "      <td id=\"T_4fe3f_row2_col4\" class=\"data row2 col4\" >21.59</td>\n",
       "    </tr>\n",
       "    <tr>\n",
       "      <th id=\"T_4fe3f_level0_row3\" class=\"row_heading level0 row3\" >3</th>\n",
       "      <td id=\"T_4fe3f_row3_col0\" class=\"data row3 col0\" >2013.00</td>\n",
       "      <td id=\"T_4fe3f_row3_col1\" class=\"data row3 col1\" >184.00</td>\n",
       "      <td id=\"T_4fe3f_row3_col2\" class=\"data row3 col2\" >630.00</td>\n",
       "      <td id=\"T_4fe3f_row3_col3\" class=\"data row3 col3\" >29799706.20</td>\n",
       "      <td id=\"T_4fe3f_row3_col4\" class=\"data row3 col4\" >29.21</td>\n",
       "    </tr>\n",
       "    <tr>\n",
       "      <th id=\"T_4fe3f_level0_row4\" class=\"row_heading level0 row4\" >4</th>\n",
       "      <td id=\"T_4fe3f_row4_col0\" class=\"data row4 col0\" >2014.00</td>\n",
       "      <td id=\"T_4fe3f_row4_col1\" class=\"data row4 col1\" >279.00</td>\n",
       "      <td id=\"T_4fe3f_row4_col2\" class=\"data row4 col2\" >806.00</td>\n",
       "      <td id=\"T_4fe3f_row4_col3\" class=\"data row4 col3\" >7444951859.20</td>\n",
       "      <td id=\"T_4fe3f_row4_col4\" class=\"data row4 col4\" >34.62</td>\n",
       "    </tr>\n",
       "    <tr>\n",
       "      <th id=\"T_4fe3f_level0_row5\" class=\"row_heading level0 row5\" >5</th>\n",
       "      <td id=\"T_4fe3f_row5_col0\" class=\"data row5 col0\" >2015.00</td>\n",
       "      <td id=\"T_4fe3f_row5_col1\" class=\"data row5 col1\" >465.00</td>\n",
       "      <td id=\"T_4fe3f_row5_col2\" class=\"data row5 col2\" >705.00</td>\n",
       "      <td id=\"T_4fe3f_row5_col3\" class=\"data row5 col3\" >39497365196.40</td>\n",
       "      <td id=\"T_4fe3f_row5_col4\" class=\"data row5 col4\" >65.96</td>\n",
       "    </tr>\n",
       "    <tr>\n",
       "      <th id=\"T_4fe3f_level0_row6\" class=\"row_heading level0 row6\" >6</th>\n",
       "      <td id=\"T_4fe3f_row6_col0\" class=\"data row6 col0\" >2016.00</td>\n",
       "      <td id=\"T_4fe3f_row6_col1\" class=\"data row6 col1\" >526.00</td>\n",
       "      <td id=\"T_4fe3f_row6_col2\" class=\"data row6 col2\" >818.00</td>\n",
       "      <td id=\"T_4fe3f_row6_col3\" class=\"data row6 col3\" >47866299741.91</td>\n",
       "      <td id=\"T_4fe3f_row6_col4\" class=\"data row6 col4\" >64.30</td>\n",
       "    </tr>\n",
       "    <tr>\n",
       "      <th id=\"T_4fe3f_level0_row7\" class=\"row_heading level0 row7\" >7</th>\n",
       "      <td id=\"T_4fe3f_row7_col0\" class=\"data row7 col0\" >2017.00</td>\n",
       "      <td id=\"T_4fe3f_row7_col1\" class=\"data row7 col1\" >357.00</td>\n",
       "      <td id=\"T_4fe3f_row7_col2\" class=\"data row7 col2\" >505.00</td>\n",
       "      <td id=\"T_4fe3f_row7_col3\" class=\"data row7 col3\" >48563707217.51</td>\n",
       "      <td id=\"T_4fe3f_row7_col4\" class=\"data row7 col4\" >70.69</td>\n",
       "    </tr>\n",
       "    <tr>\n",
       "      <th id=\"T_4fe3f_level0_row8\" class=\"row_heading level0 row8\" >8</th>\n",
       "      <td id=\"T_4fe3f_row8_col0\" class=\"data row8 col0\" >2018.00</td>\n",
       "      <td id=\"T_4fe3f_row8_col1\" class=\"data row8 col1\" >475.00</td>\n",
       "      <td id=\"T_4fe3f_row8_col2\" class=\"data row8 col2\" >891.00</td>\n",
       "      <td id=\"T_4fe3f_row8_col3\" class=\"data row8 col3\" >49668403134.32</td>\n",
       "      <td id=\"T_4fe3f_row8_col4\" class=\"data row8 col4\" >53.31</td>\n",
       "    </tr>\n",
       "    <tr>\n",
       "      <th id=\"T_4fe3f_level0_row9\" class=\"row_heading level0 row9\" >9</th>\n",
       "      <td id=\"T_4fe3f_row9_col0\" class=\"data row9 col0\" >2019.00</td>\n",
       "      <td id=\"T_4fe3f_row9_col1\" class=\"data row9 col1\" >530.00</td>\n",
       "      <td id=\"T_4fe3f_row9_col2\" class=\"data row9 col2\" >930.00</td>\n",
       "      <td id=\"T_4fe3f_row9_col3\" class=\"data row9 col3\" >48425708779.59</td>\n",
       "      <td id=\"T_4fe3f_row9_col4\" class=\"data row9 col4\" >56.99</td>\n",
       "    </tr>\n",
       "  </tbody>\n",
       "</table>\n"
      ],
      "text/plain": [
       "<pandas.io.formats.style.Styler at 0x7fd7f455ea90>"
      ]
     },
     "metadata": {},
     "output_type": "display_data"
    },
    {
     "data": {
      "image/png": "[encoded data removed]",
      "text/plain": [
       "<Figure size 1080x720 with 1 Axes>"
      ]
     },
     "metadata": {},
     "output_type": "display_data"
    }
   ],
   "source": [
    "# переименуем колонки для презентации\n",
    "df_years.columns = ['Год проката', 'Фильмы с информацией о прокате', 'Всего фильмов', \n",
    "                    'Сумма сборов', 'Доля фильмов с указанной информацией']\n",
    "\n",
    "# выведем датафрейм на экран, подсветим максимальные и минимальные значения для сборов\n",
    "display(df_years.style.format('{:.2f}')\n",
    "        .highlight_max(color='yellowgreen', subset='Сумма сборов')\n",
    "        .highlight_min(color='coral', subset='Сумма сборов'))\n",
    "\n",
    "# вернём колонкам короткие названия для обращения к ним\n",
    "df_years.columns = ['rental_year', 'count', 'size', 'sum', 'ratio']\n",
    "\n",
    "# построим график\n",
    "df_years.plot(x='rental_year', y='sum', style='-o', label='Сумма сборов')\n",
    "plt.title('Динамика проката по годам', fontsize=18)\n",
    "plt.xlabel('Годы', color='grey')\n",
    "plt.ylabel('Сумма сборов, руб.', color='grey')\n",
    "plt.show()"
   ]
  },
  {
   "cell_type": "markdown",
   "metadata": {},
   "source": [
    "Посмотрим, какой же это фильм 'сделал' 2018 год. Насколько я помню, самый кассовый был **'Мстители: Война Бесконечности**."
   ]
  },
  {
   "cell_type": "code",
   "execution_count": 87,
   "metadata": {},
   "outputs": [
    {
     "data": {
      "text/html": [
       "<div>\n",
       "<style scoped>\n",
       "    .dataframe tbody tr th:only-of-type {\n",
       "        vertical-align: middle;\n",
       "    }\n",
       "\n",
       "    .dataframe tbody tr th {\n",
       "        vertical-align: top;\n",
       "    }\n",
       "\n",
       "    .dataframe thead th {\n",
       "        text-align: right;\n",
       "    }\n",
       "</style>\n",
       "<table border=\"1\" class=\"dataframe\">\n",
       "  <thead>\n",
       "    <tr style=\"text-align: right;\">\n",
       "      <th></th>\n",
       "      <th>title</th>\n",
       "      <th>rental_year</th>\n",
       "      <th>main_director</th>\n",
       "      <th>ratings</th>\n",
       "      <th>age_restriction</th>\n",
       "      <th>genres</th>\n",
       "      <th>box_office</th>\n",
       "    </tr>\n",
       "  </thead>\n",
       "  <tbody>\n",
       "    <tr>\n",
       "      <th>6549</th>\n",
       "      <td>Т-34</td>\n",
       "      <td>2018</td>\n",
       "      <td>А.Сидоров</td>\n",
       "      <td>6.50</td>\n",
       "      <td>«12+» - для детей старше 12 лет</td>\n",
       "      <td>драма,военный,боевик</td>\n",
       "      <td>2,271,754,004.52</td>\n",
       "    </tr>\n",
       "    <tr>\n",
       "      <th>6274</th>\n",
       "      <td>Веном</td>\n",
       "      <td>2018</td>\n",
       "      <td>Рубен Флейшер</td>\n",
       "      <td>6.80</td>\n",
       "      <td>«16+» - для детей старше 16 лет</td>\n",
       "      <td>боевик,фантастика,триллер</td>\n",
       "      <td>1,913,257,923.06</td>\n",
       "    </tr>\n",
       "    <tr>\n",
       "      <th>5864</th>\n",
       "      <td>Мстители: Война бесконечности</td>\n",
       "      <td>2018</td>\n",
       "      <td>Энтони Руссо</td>\n",
       "      <td>7.90</td>\n",
       "      <td>«16+» - для детей старше 16 лет</td>\n",
       "      <td>фантастика,боевик,приключения</td>\n",
       "      <td>1,875,989,712.42</td>\n",
       "    </tr>\n",
       "    <tr>\n",
       "      <th>6470</th>\n",
       "      <td>Полицейский с рублевки. Новогодний беспредел</td>\n",
       "      <td>2018</td>\n",
       "      <td>И.Куликов</td>\n",
       "      <td>5.80</td>\n",
       "      <td>«16+» - для детей старше 16 лет</td>\n",
       "      <td>комедия,приключения</td>\n",
       "      <td>1,682,680,039.03</td>\n",
       "    </tr>\n",
       "    <tr>\n",
       "      <th>6392</th>\n",
       "      <td>Фантастические твари: Преступления Грин-де-Вальда</td>\n",
       "      <td>2018</td>\n",
       "      <td>Дэвид Йейтс</td>\n",
       "      <td>6.60</td>\n",
       "      <td>«12+» - для детей старше 12 лет</td>\n",
       "      <td>фэнтези,приключения,семейный</td>\n",
       "      <td>1,520,626,501.45</td>\n",
       "    </tr>\n",
       "  </tbody>\n",
       "</table>\n",
       "</div>"
      ],
      "text/plain": [
       "                                                  title  rental_year  \\\n",
       "6549                                               Т-34         2018   \n",
       "6274                                              Веном         2018   \n",
       "5864                      Мстители: Война бесконечности         2018   \n",
       "6470       Полицейский с рублевки. Новогодний беспредел         2018   \n",
       "6392  Фантастические твари: Преступления Грин-де-Вальда         2018   \n",
       "\n",
       "      main_director  ratings                  age_restriction  \\\n",
       "6549      А.Сидоров     6.50  «12+» - для детей старше 12 лет   \n",
       "6274  Рубен Флейшер     6.80  «16+» - для детей старше 16 лет   \n",
       "5864   Энтони Руссо     7.90  «16+» - для детей старше 16 лет   \n",
       "6470      И.Куликов     5.80  «16+» - для детей старше 16 лет   \n",
       "6392    Дэвид Йейтс     6.60  «12+» - для детей старше 12 лет   \n",
       "\n",
       "                             genres       box_office  \n",
       "6549           драма,военный,боевик 2,271,754,004.52  \n",
       "6274      боевик,фантастика,триллер 1,913,257,923.06  \n",
       "5864  фантастика,боевик,приключения 1,875,989,712.42  \n",
       "6470            комедия,приключения 1,682,680,039.03  \n",
       "6392   фэнтези,приключения,семейный 1,520,626,501.45  "
      ]
     },
     "execution_count": 87,
     "metadata": {},
     "output_type": "execute_result"
    }
   ],
   "source": [
    "df.loc[df['rental_year'] == 2018, \n",
    "       ['title', 'rental_year', 'main_director', 'ratings', 'age_restriction',\n",
    "        'genres', 'box_office']].sort_values('box_office', ascending=False).head()"
   ]
  },
  {
   "cell_type": "markdown",
   "metadata": {},
   "source": [
    "Наблюдается взрывной рост объёмов кинопроката начиная с 2013 года, несмотря на сильное снижение количества фильмов, показанных в 2017 году, сумма сборов не уменьшилась и даже немного увеличилась. Самая низкая собираемость по нашим данным была в 2010 году и составила **2'428'654 ₽**, скорее всего, такая низкая сумма связана с неполными данными за этот год. Пик роста сбора с проката был в 2018 году и составил рекордные **49'668'403'134 ₽**. Самым кассовым фильмом в Российском кинопрокате была картина **А. Сидорова 'Т-34'** со сборами в **2'271'754'004 ₽**, при этом рейтинг этого фильма не самый впечатляющий, всего **6.5**. Ну а 'Мстители' лидировали в мировом прокате."
   ]
  },
  {
   "cell_type": "markdown",
   "metadata": {},
   "source": [
    " "
   ]
  },
  {
   "cell_type": "markdown",
   "metadata": {
    "id": "G-7qS-N-gFyY"
   },
   "source": [
    "- С помощью сводной таблицы посчитаем среднюю и медианную сумму сборов для каждого года. Сравним эти метрики в динамике по годам."
   ]
  },
  {
   "cell_type": "code",
   "execution_count": 88,
   "metadata": {
    "id": "jmp-rgg9gFyY"
   },
   "outputs": [
    {
     "data": {
      "text/html": [
       "<div>\n",
       "<style scoped>\n",
       "    .dataframe tbody tr th:only-of-type {\n",
       "        vertical-align: middle;\n",
       "    }\n",
       "\n",
       "    .dataframe tbody tr th {\n",
       "        vertical-align: top;\n",
       "    }\n",
       "\n",
       "    .dataframe thead tr th {\n",
       "        text-align: left;\n",
       "    }\n",
       "\n",
       "    .dataframe thead tr:last-of-type th {\n",
       "        text-align: right;\n",
       "    }\n",
       "</style>\n",
       "<table border=\"1\" class=\"dataframe\">\n",
       "  <thead>\n",
       "    <tr>\n",
       "      <th></th>\n",
       "      <th>mean</th>\n",
       "      <th>median</th>\n",
       "    </tr>\n",
       "    <tr>\n",
       "      <th></th>\n",
       "      <th>box_office</th>\n",
       "      <th>box_office</th>\n",
       "    </tr>\n",
       "    <tr>\n",
       "      <th>rental_year</th>\n",
       "      <th></th>\n",
       "      <th></th>\n",
       "    </tr>\n",
       "  </thead>\n",
       "  <tbody>\n",
       "    <tr>\n",
       "      <th>2010</th>\n",
       "      <td>23,130.04</td>\n",
       "      <td>1,700.00</td>\n",
       "    </tr>\n",
       "    <tr>\n",
       "      <th>2011</th>\n",
       "      <td>129,383.17</td>\n",
       "      <td>3,000.00</td>\n",
       "    </tr>\n",
       "    <tr>\n",
       "      <th>2012</th>\n",
       "      <td>54,339.24</td>\n",
       "      <td>5,660.00</td>\n",
       "    </tr>\n",
       "    <tr>\n",
       "      <th>2013</th>\n",
       "      <td>161,954.92</td>\n",
       "      <td>3,522.50</td>\n",
       "    </tr>\n",
       "    <tr>\n",
       "      <th>2014</th>\n",
       "      <td>26,684,415.27</td>\n",
       "      <td>18,160.00</td>\n",
       "    </tr>\n",
       "    <tr>\n",
       "      <th>2015</th>\n",
       "      <td>84,940,570.31</td>\n",
       "      <td>4,920,933.00</td>\n",
       "    </tr>\n",
       "    <tr>\n",
       "      <th>2016</th>\n",
       "      <td>91,000,569.85</td>\n",
       "      <td>3,846,679.41</td>\n",
       "    </tr>\n",
       "    <tr>\n",
       "      <th>2017</th>\n",
       "      <td>136,032,793.33</td>\n",
       "      <td>9,968,340.00</td>\n",
       "    </tr>\n",
       "    <tr>\n",
       "      <th>2018</th>\n",
       "      <td>104,565,059.23</td>\n",
       "      <td>8,891,102.21</td>\n",
       "    </tr>\n",
       "    <tr>\n",
       "      <th>2019</th>\n",
       "      <td>91,369,261.85</td>\n",
       "      <td>4,627,798.34</td>\n",
       "    </tr>\n",
       "  </tbody>\n",
       "</table>\n",
       "</div>"
      ],
      "text/plain": [
       "                      mean       median\n",
       "                box_office   box_office\n",
       "rental_year                            \n",
       "2010             23,130.04     1,700.00\n",
       "2011            129,383.17     3,000.00\n",
       "2012             54,339.24     5,660.00\n",
       "2013            161,954.92     3,522.50\n",
       "2014         26,684,415.27    18,160.00\n",
       "2015         84,940,570.31 4,920,933.00\n",
       "2016         91,000,569.85 3,846,679.41\n",
       "2017        136,032,793.33 9,968,340.00\n",
       "2018        104,565,059.23 8,891,102.21\n",
       "2019         91,369,261.85 4,627,798.34"
      ]
     },
     "metadata": {},
     "output_type": "display_data"
    },
    {
     "data": {
      "image/png": "[encoded data removed]",
      "text/plain": [
       "<Figure size 1080x720 with 1 Axes>"
      ]
     },
     "metadata": {},
     "output_type": "display_data"
    }
   ],
   "source": [
    "# выведем на экран сводную таблицу со средними и медианными значениями сумм сбора по годам\n",
    "display(df.pivot_table(index='rental_year', values='box_office', \n",
    "                       aggfunc=['mean', 'median']).sort_values(by='rental_year'))\n",
    "\n",
    "# построим графики по этой таблице\n",
    "(\n",
    "    df.pivot_table(index='rental_year', values='box_office', aggfunc=['mean', 'median'])\n",
    "    .sort_values(by='rental_year')\n",
    "    .plot(style='-o')\n",
    ")\n",
    "plt.title('Динамика усреднённых значений сумм сбора по годам', fontsize=18)\n",
    "plt.xlabel('Годы', color='grey')\n",
    "plt.ylabel('Сумма сборов, руб.', color='grey')\n",
    "plt.legend(['Среднее значение суммы сборов', 'Медианное значение суммы сборов'])\n",
    "plt.show()"
   ]
  },
  {
   "cell_type": "markdown",
   "metadata": {},
   "source": [
    "На графике отлично видно, что благодаря нескольким отдельным фильмам состоялся такой бурный рост сборов за прокат, потому что медианное значение говорит о том, что ничего не случилось. Кроме того, можно сказать, что такие интересные и приносящие большие прибыли фильмы стали появляться в прокате с 2014 года. К-сожалению, основная масса кинокартин не приносит больших сборов и, наверное, не доставляет большого удовольствия зрителю от просмотра."
   ]
  },
  {
   "cell_type": "markdown",
   "metadata": {},
   "source": [
    " "
   ]
  },
  {
   "cell_type": "markdown",
   "metadata": {},
   "source": [
    "#### Исследование данных по возрастным категориям"
   ]
  },
  {
   "cell_type": "markdown",
   "metadata": {
    "id": "Ok89WFwJgFyZ"
   },
   "source": [
    "- Определим, влияет ли возрастное ограничение аудитории («6+», «12+», «16+», «18+» и т. д.) на сборы фильма в прокате в период с 2015 по 2019 год. Посмотрим какие фильмы с каким возрастным ограничением собрали больше всего денег в прокате. Меняется ли картина в зависимости от года и если меняется, попробуем разобраться, с чем это может быть связано."
   ]
  },
  {
   "cell_type": "code",
   "execution_count": 89,
   "metadata": {},
   "outputs": [
    {
     "data": {
      "text/html": [
       "<style type=\"text/css\">\n",
       "#T_b6d7b_row0_col0, #T_b6d7b_row2_col2, #T_b6d7b_row3_col1, #T_b6d7b_row4_col3, #T_b6d7b_row4_col4 {\n",
       "  background-color: yellowgreen;\n",
       "}\n",
       "#T_b6d7b_row0_col2, #T_b6d7b_row0_col3, #T_b6d7b_row0_col4, #T_b6d7b_row2_col1, #T_b6d7b_row4_col0 {\n",
       "  background-color: coral;\n",
       "}\n",
       "</style>\n",
       "<table id=\"T_b6d7b\">\n",
       "  <thead>\n",
       "    <tr>\n",
       "      <th class=\"index_name level0\" >age_restriction</th>\n",
       "      <th id=\"T_b6d7b_level0_col0\" class=\"col_heading level0 col0\" >«0+» - для любой зрительской аудитории</th>\n",
       "      <th id=\"T_b6d7b_level0_col1\" class=\"col_heading level0 col1\" >«12+» - для детей старше 12 лет</th>\n",
       "      <th id=\"T_b6d7b_level0_col2\" class=\"col_heading level0 col2\" >«16+» - для детей старше 16 лет</th>\n",
       "      <th id=\"T_b6d7b_level0_col3\" class=\"col_heading level0 col3\" >«18+» - запрещено для детей</th>\n",
       "      <th id=\"T_b6d7b_level0_col4\" class=\"col_heading level0 col4\" >«6+» - для детей старше 6 лет</th>\n",
       "    </tr>\n",
       "    <tr>\n",
       "      <th class=\"index_name level0\" >rental_year</th>\n",
       "      <th class=\"blank col0\" >&nbsp;</th>\n",
       "      <th class=\"blank col1\" >&nbsp;</th>\n",
       "      <th class=\"blank col2\" >&nbsp;</th>\n",
       "      <th class=\"blank col3\" >&nbsp;</th>\n",
       "      <th class=\"blank col4\" >&nbsp;</th>\n",
       "    </tr>\n",
       "  </thead>\n",
       "  <tbody>\n",
       "    <tr>\n",
       "      <th id=\"T_b6d7b_level0_row0\" class=\"row_heading level0 row0\" >2015.000000</th>\n",
       "      <td id=\"T_b6d7b_row0_col0\" class=\"data row0 col0\" >379054578.37</td>\n",
       "      <td id=\"T_b6d7b_row0_col1\" class=\"data row0 col1\" >13616082008.91</td>\n",
       "      <td id=\"T_b6d7b_row0_col2\" class=\"data row0 col2\" >11368120870.27</td>\n",
       "      <td id=\"T_b6d7b_row0_col3\" class=\"data row0 col3\" >5432308367.44</td>\n",
       "      <td id=\"T_b6d7b_row0_col4\" class=\"data row0 col4\" >8701799371.41</td>\n",
       "    </tr>\n",
       "    <tr>\n",
       "      <th id=\"T_b6d7b_level0_row1\" class=\"row_heading level0 row1\" >2016.000000</th>\n",
       "      <td id=\"T_b6d7b_row1_col0\" class=\"data row1 col0\" >150228848.67</td>\n",
       "      <td id=\"T_b6d7b_row1_col1\" class=\"data row1 col1\" >12204446524.39</td>\n",
       "      <td id=\"T_b6d7b_row1_col2\" class=\"data row1 col2\" >16664548541.74</td>\n",
       "      <td id=\"T_b6d7b_row1_col3\" class=\"data row1 col3\" >6793929818.87</td>\n",
       "      <td id=\"T_b6d7b_row1_col4\" class=\"data row1 col4\" >12053146008.24</td>\n",
       "    </tr>\n",
       "    <tr>\n",
       "      <th id=\"T_b6d7b_level0_row2\" class=\"row_heading level0 row2\" >2017.000000</th>\n",
       "      <td id=\"T_b6d7b_row2_col0\" class=\"data row2 col0\" >229598930.00</td>\n",
       "      <td id=\"T_b6d7b_row2_col1\" class=\"data row2 col1\" >7851427660.67</td>\n",
       "      <td id=\"T_b6d7b_row2_col2\" class=\"data row2 col2\" >18745042900.06</td>\n",
       "      <td id=\"T_b6d7b_row2_col3\" class=\"data row2 col3\" >9651495581.02</td>\n",
       "      <td id=\"T_b6d7b_row2_col4\" class=\"data row2 col4\" >12086142145.76</td>\n",
       "    </tr>\n",
       "    <tr>\n",
       "      <th id=\"T_b6d7b_level0_row3\" class=\"row_heading level0 row3\" >2018.000000</th>\n",
       "      <td id=\"T_b6d7b_row3_col0\" class=\"data row3 col0\" >32449002.11</td>\n",
       "      <td id=\"T_b6d7b_row3_col1\" class=\"data row3 col1\" >14267291660.69</td>\n",
       "      <td id=\"T_b6d7b_row3_col2\" class=\"data row3 col2\" >16503602346.96</td>\n",
       "      <td id=\"T_b6d7b_row3_col3\" class=\"data row3 col3\" >8760085501.15</td>\n",
       "      <td id=\"T_b6d7b_row3_col4\" class=\"data row3 col4\" >10104974623.41</td>\n",
       "    </tr>\n",
       "    <tr>\n",
       "      <th id=\"T_b6d7b_level0_row4\" class=\"row_heading level0 row4\" >2019.000000</th>\n",
       "      <td id=\"T_b6d7b_row4_col0\" class=\"data row4 col0\" >17746066.82</td>\n",
       "      <td id=\"T_b6d7b_row4_col1\" class=\"data row4 col1\" >12680198773.67</td>\n",
       "      <td id=\"T_b6d7b_row4_col2\" class=\"data row4 col2\" >12753418984.60</td>\n",
       "      <td id=\"T_b6d7b_row4_col3\" class=\"data row4 col3\" >10121796303.64</td>\n",
       "      <td id=\"T_b6d7b_row4_col4\" class=\"data row4 col4\" >12852548650.86</td>\n",
       "    </tr>\n",
       "  </tbody>\n",
       "</table>\n"
      ],
      "text/plain": [
       "<pandas.io.formats.style.Styler at 0x7fd7f4748190>"
      ]
     },
     "metadata": {},
     "output_type": "display_data"
    },
    {
     "data": {
      "image/png": "[encoded data removed]",
      "text/plain": [
       "<Figure size 1080x720 with 1 Axes>"
      ]
     },
     "metadata": {},
     "output_type": "display_data"
    }
   ],
   "source": [
    "# создадим сводную таблицу возрастных ограничений по годам, подсветим минимальные и максимальные значения\n",
    "(\n",
    "    display(df.pivot_table(index=df.loc[df['rental_year'] >= 2015, 'rental_year'], \n",
    "                           columns='age_restriction', values='box_office', aggfunc='sum')\n",
    "            .sort_values(by='rental_year')\n",
    "            .style\n",
    "            .format('{:.2f}')\n",
    "            .highlight_max(color='yellowgreen')\n",
    "            .highlight_min(color='coral'))\n",
    ")\n",
    "\n",
    "# выведем по этой таблице гистограмму\n",
    "(\n",
    "    df.pivot_table(index=df.loc[df['rental_year'] >= 2015, 'rental_year'], \n",
    "                   columns='age_restriction', values='box_office', aggfunc='sum')\n",
    "    .sort_values(by='rental_year')\n",
    "    .plot.bar()\n",
    ")\n",
    "plt.title('Гистограмма сборов в прокате по возрастным категориям', fontsize=18)\n",
    "plt.xlabel('Годы', color='grey')\n",
    "plt.ylabel('Сборы в прокате, руб.', color='grey')\n",
    "plt.legend(loc='upper left', fontsize=14)\n",
    "plt.show()"
   ]
  },
  {
   "cell_type": "markdown",
   "metadata": {},
   "source": [
    "Выведем по 5 топовых кинокартин 2015-2019 годов для того, чтобы разобраться с гистограммой по возрастным категориям."
   ]
  },
  {
   "cell_type": "code",
   "execution_count": 90,
   "metadata": {},
   "outputs": [
    {
     "data": {
      "text/html": [
       "<div>\n",
       "<style scoped>\n",
       "    .dataframe tbody tr th:only-of-type {\n",
       "        vertical-align: middle;\n",
       "    }\n",
       "\n",
       "    .dataframe tbody tr th {\n",
       "        vertical-align: top;\n",
       "    }\n",
       "\n",
       "    .dataframe thead th {\n",
       "        text-align: right;\n",
       "    }\n",
       "</style>\n",
       "<table border=\"1\" class=\"dataframe\">\n",
       "  <thead>\n",
       "    <tr style=\"text-align: right;\">\n",
       "      <th></th>\n",
       "      <th>title</th>\n",
       "      <th>rental_year</th>\n",
       "      <th>age_restriction</th>\n",
       "      <th>main_genre</th>\n",
       "      <th>box_office</th>\n",
       "    </tr>\n",
       "  </thead>\n",
       "  <tbody>\n",
       "    <tr>\n",
       "      <th>3117</th>\n",
       "      <td>Звёздные войны: Пробуждение силы</td>\n",
       "      <td>2015</td>\n",
       "      <td>«12+» - для детей старше 12 лет</td>\n",
       "      <td>фантастика</td>\n",
       "      <td>1,658,861,425.50</td>\n",
       "    </tr>\n",
       "    <tr>\n",
       "      <th>2578</th>\n",
       "      <td>Миньоны</td>\n",
       "      <td>2015</td>\n",
       "      <td>«6+» - для детей старше 6 лет</td>\n",
       "      <td>мультфильм</td>\n",
       "      <td>1,646,580,645.70</td>\n",
       "    </tr>\n",
       "    <tr>\n",
       "      <th>2159</th>\n",
       "      <td>Мстители: Эра Альтрона</td>\n",
       "      <td>2015</td>\n",
       "      <td>«12+» - для детей старше 12 лет</td>\n",
       "      <td>фантастика</td>\n",
       "      <td>1,500,989,281.90</td>\n",
       "    </tr>\n",
       "    <tr>\n",
       "      <th>2105</th>\n",
       "      <td>Форсаж 7</td>\n",
       "      <td>2015</td>\n",
       "      <td>«16+» - для детей старше 16 лет</td>\n",
       "      <td>боевик</td>\n",
       "      <td>1,486,131,019.00</td>\n",
       "    </tr>\n",
       "    <tr>\n",
       "      <th>2579</th>\n",
       "      <td>Мир Юрского периода</td>\n",
       "      <td>2015</td>\n",
       "      <td>«12+» - для детей старше 12 лет</td>\n",
       "      <td>фантастика</td>\n",
       "      <td>1,211,158,990.00</td>\n",
       "    </tr>\n",
       "  </tbody>\n",
       "</table>\n",
       "</div>"
      ],
      "text/plain": [
       "                                 title  rental_year  \\\n",
       "3117  Звёздные войны: Пробуждение силы         2015   \n",
       "2578                           Миньоны         2015   \n",
       "2159            Мстители: Эра Альтрона         2015   \n",
       "2105                          Форсаж 7         2015   \n",
       "2579               Мир Юрского периода         2015   \n",
       "\n",
       "                      age_restriction  main_genre       box_office  \n",
       "3117  «12+» - для детей старше 12 лет  фантастика 1,658,861,425.50  \n",
       "2578    «6+» - для детей старше 6 лет  мультфильм 1,646,580,645.70  \n",
       "2159  «12+» - для детей старше 12 лет  фантастика 1,500,989,281.90  \n",
       "2105  «16+» - для детей старше 16 лет      боевик 1,486,131,019.00  \n",
       "2579  «12+» - для детей старше 12 лет  фантастика 1,211,158,990.00  "
      ]
     },
     "metadata": {},
     "output_type": "display_data"
    },
    {
     "data": {
      "text/html": [
       "<div>\n",
       "<style scoped>\n",
       "    .dataframe tbody tr th:only-of-type {\n",
       "        vertical-align: middle;\n",
       "    }\n",
       "\n",
       "    .dataframe tbody tr th {\n",
       "        vertical-align: top;\n",
       "    }\n",
       "\n",
       "    .dataframe thead th {\n",
       "        text-align: right;\n",
       "    }\n",
       "</style>\n",
       "<table border=\"1\" class=\"dataframe\">\n",
       "  <thead>\n",
       "    <tr style=\"text-align: right;\">\n",
       "      <th></th>\n",
       "      <th>title</th>\n",
       "      <th>rental_year</th>\n",
       "      <th>age_restriction</th>\n",
       "      <th>main_genre</th>\n",
       "      <th>box_office</th>\n",
       "    </tr>\n",
       "  </thead>\n",
       "  <tbody>\n",
       "    <tr>\n",
       "      <th>2859</th>\n",
       "      <td>Зверополис</td>\n",
       "      <td>2016</td>\n",
       "      <td>«6+» - для детей старше 6 лет</td>\n",
       "      <td>мультфильм</td>\n",
       "      <td>2,048,126,108.00</td>\n",
       "    </tr>\n",
       "    <tr>\n",
       "      <th>3755</th>\n",
       "      <td>Тайная жизнь домашних животных. Миньоны против...</td>\n",
       "      <td>2016</td>\n",
       "      <td>«6+» - для детей старше 6 лет</td>\n",
       "      <td>мультфильм</td>\n",
       "      <td>1,971,005,085.00</td>\n",
       "    </tr>\n",
       "    <tr>\n",
       "      <th>2840</th>\n",
       "      <td>Дэдпул</td>\n",
       "      <td>2016</td>\n",
       "      <td>«18+» - запрещено для детей</td>\n",
       "      <td>фантастика</td>\n",
       "      <td>1,587,516,389.00</td>\n",
       "    </tr>\n",
       "    <tr>\n",
       "      <th>3396</th>\n",
       "      <td>Отряд самоубийц</td>\n",
       "      <td>2016</td>\n",
       "      <td>«16+» - для детей старше 16 лет</td>\n",
       "      <td>фантастика</td>\n",
       "      <td>1,570,380,294.00</td>\n",
       "    </tr>\n",
       "    <tr>\n",
       "      <th>2920</th>\n",
       "      <td>Экипаж</td>\n",
       "      <td>2016</td>\n",
       "      <td>«6+» - для детей старше 6 лет</td>\n",
       "      <td>драма</td>\n",
       "      <td>1,402,255,390.00</td>\n",
       "    </tr>\n",
       "  </tbody>\n",
       "</table>\n",
       "</div>"
      ],
      "text/plain": [
       "                                                  title  rental_year  \\\n",
       "2859                                         Зверополис         2016   \n",
       "3755  Тайная жизнь домашних животных. Миньоны против...         2016   \n",
       "2840                                             Дэдпул         2016   \n",
       "3396                                    Отряд самоубийц         2016   \n",
       "2920                                            Экипаж          2016   \n",
       "\n",
       "                      age_restriction  main_genre       box_office  \n",
       "2859    «6+» - для детей старше 6 лет  мультфильм 2,048,126,108.00  \n",
       "3755    «6+» - для детей старше 6 лет  мультфильм 1,971,005,085.00  \n",
       "2840      «18+» - запрещено для детей  фантастика 1,587,516,389.00  \n",
       "3396  «16+» - для детей старше 16 лет  фантастика 1,570,380,294.00  \n",
       "2920    «6+» - для детей старше 6 лет       драма 1,402,255,390.00  "
      ]
     },
     "metadata": {},
     "output_type": "display_data"
    },
    {
     "data": {
      "text/html": [
       "<div>\n",
       "<style scoped>\n",
       "    .dataframe tbody tr th:only-of-type {\n",
       "        vertical-align: middle;\n",
       "    }\n",
       "\n",
       "    .dataframe tbody tr th {\n",
       "        vertical-align: top;\n",
       "    }\n",
       "\n",
       "    .dataframe thead th {\n",
       "        text-align: right;\n",
       "    }\n",
       "</style>\n",
       "<table border=\"1\" class=\"dataframe\">\n",
       "  <thead>\n",
       "    <tr style=\"text-align: right;\">\n",
       "      <th></th>\n",
       "      <th>title</th>\n",
       "      <th>rental_year</th>\n",
       "      <th>age_restriction</th>\n",
       "      <th>main_genre</th>\n",
       "      <th>box_office</th>\n",
       "    </tr>\n",
       "  </thead>\n",
       "  <tbody>\n",
       "    <tr>\n",
       "      <th>5653</th>\n",
       "      <td>Движение вверх</td>\n",
       "      <td>2017</td>\n",
       "      <td>«6+» - для детей старше 6 лет</td>\n",
       "      <td>спорт</td>\n",
       "      <td>2,779,686,144.00</td>\n",
       "    </tr>\n",
       "    <tr>\n",
       "      <th>3488</th>\n",
       "      <td>Пираты Карибского моря: Мертвецы не рассказыва...</td>\n",
       "      <td>2017</td>\n",
       "      <td>«16+» - для детей старше 16 лет</td>\n",
       "      <td>фэнтези</td>\n",
       "      <td>2,118,396,119.00</td>\n",
       "    </tr>\n",
       "    <tr>\n",
       "      <th>5505</th>\n",
       "      <td>Последний богатырь</td>\n",
       "      <td>2017</td>\n",
       "      <td>«12+» - для детей старше 12 лет</td>\n",
       "      <td>комедия</td>\n",
       "      <td>1,655,037,688.00</td>\n",
       "    </tr>\n",
       "    <tr>\n",
       "      <th>3523</th>\n",
       "      <td>Стражи Галактики. Часть 2</td>\n",
       "      <td>2017</td>\n",
       "      <td>«16+» - для детей старше 16 лет</td>\n",
       "      <td>фантастика</td>\n",
       "      <td>1,468,779,681.00</td>\n",
       "    </tr>\n",
       "    <tr>\n",
       "      <th>3371</th>\n",
       "      <td>Форсаж 8</td>\n",
       "      <td>2017</td>\n",
       "      <td>«12+» - для детей старше 12 лет</td>\n",
       "      <td>боевик</td>\n",
       "      <td>1,429,976,813.00</td>\n",
       "    </tr>\n",
       "  </tbody>\n",
       "</table>\n",
       "</div>"
      ],
      "text/plain": [
       "                                                  title  rental_year  \\\n",
       "5653                                     Движение вверх         2017   \n",
       "3488  Пираты Карибского моря: Мертвецы не рассказыва...         2017   \n",
       "5505                                 Последний богатырь         2017   \n",
       "3523                          Стражи Галактики. Часть 2         2017   \n",
       "3371                                           Форсаж 8         2017   \n",
       "\n",
       "                      age_restriction  main_genre       box_office  \n",
       "5653    «6+» - для детей старше 6 лет       спорт 2,779,686,144.00  \n",
       "3488  «16+» - для детей старше 16 лет     фэнтези 2,118,396,119.00  \n",
       "5505  «12+» - для детей старше 12 лет     комедия 1,655,037,688.00  \n",
       "3523  «16+» - для детей старше 16 лет  фантастика 1,468,779,681.00  \n",
       "3371  «12+» - для детей старше 12 лет      боевик 1,429,976,813.00  "
      ]
     },
     "metadata": {},
     "output_type": "display_data"
    },
    {
     "data": {
      "text/html": [
       "<div>\n",
       "<style scoped>\n",
       "    .dataframe tbody tr th:only-of-type {\n",
       "        vertical-align: middle;\n",
       "    }\n",
       "\n",
       "    .dataframe tbody tr th {\n",
       "        vertical-align: top;\n",
       "    }\n",
       "\n",
       "    .dataframe thead th {\n",
       "        text-align: right;\n",
       "    }\n",
       "</style>\n",
       "<table border=\"1\" class=\"dataframe\">\n",
       "  <thead>\n",
       "    <tr style=\"text-align: right;\">\n",
       "      <th></th>\n",
       "      <th>title</th>\n",
       "      <th>rental_year</th>\n",
       "      <th>age_restriction</th>\n",
       "      <th>main_genre</th>\n",
       "      <th>box_office</th>\n",
       "    </tr>\n",
       "  </thead>\n",
       "  <tbody>\n",
       "    <tr>\n",
       "      <th>6549</th>\n",
       "      <td>Т-34</td>\n",
       "      <td>2018</td>\n",
       "      <td>«12+» - для детей старше 12 лет</td>\n",
       "      <td>драма</td>\n",
       "      <td>2,271,754,004.52</td>\n",
       "    </tr>\n",
       "    <tr>\n",
       "      <th>6274</th>\n",
       "      <td>Веном</td>\n",
       "      <td>2018</td>\n",
       "      <td>«16+» - для детей старше 16 лет</td>\n",
       "      <td>боевик</td>\n",
       "      <td>1,913,257,923.06</td>\n",
       "    </tr>\n",
       "    <tr>\n",
       "      <th>5864</th>\n",
       "      <td>Мстители: Война бесконечности</td>\n",
       "      <td>2018</td>\n",
       "      <td>«16+» - для детей старше 16 лет</td>\n",
       "      <td>фантастика</td>\n",
       "      <td>1,875,989,712.42</td>\n",
       "    </tr>\n",
       "    <tr>\n",
       "      <th>6470</th>\n",
       "      <td>Полицейский с рублевки. Новогодний беспредел</td>\n",
       "      <td>2018</td>\n",
       "      <td>«16+» - для детей старше 16 лет</td>\n",
       "      <td>комедия</td>\n",
       "      <td>1,682,680,039.03</td>\n",
       "    </tr>\n",
       "    <tr>\n",
       "      <th>6392</th>\n",
       "      <td>Фантастические твари: Преступления Грин-де-Вальда</td>\n",
       "      <td>2018</td>\n",
       "      <td>«12+» - для детей старше 12 лет</td>\n",
       "      <td>фэнтези</td>\n",
       "      <td>1,520,626,501.45</td>\n",
       "    </tr>\n",
       "  </tbody>\n",
       "</table>\n",
       "</div>"
      ],
      "text/plain": [
       "                                                  title  rental_year  \\\n",
       "6549                                               Т-34         2018   \n",
       "6274                                              Веном         2018   \n",
       "5864                      Мстители: Война бесконечности         2018   \n",
       "6470       Полицейский с рублевки. Новогодний беспредел         2018   \n",
       "6392  Фантастические твари: Преступления Грин-де-Вальда         2018   \n",
       "\n",
       "                      age_restriction  main_genre       box_office  \n",
       "6549  «12+» - для детей старше 12 лет       драма 2,271,754,004.52  \n",
       "6274  «16+» - для детей старше 16 лет      боевик 1,913,257,923.06  \n",
       "5864  «16+» - для детей старше 16 лет  фантастика 1,875,989,712.42  \n",
       "6470  «16+» - для детей старше 16 лет     комедия 1,682,680,039.03  \n",
       "6392  «12+» - для детей старше 12 лет     фэнтези 1,520,626,501.45  "
      ]
     },
     "metadata": {},
     "output_type": "display_data"
    },
    {
     "data": {
      "text/html": [
       "<div>\n",
       "<style scoped>\n",
       "    .dataframe tbody tr th:only-of-type {\n",
       "        vertical-align: middle;\n",
       "    }\n",
       "\n",
       "    .dataframe tbody tr th {\n",
       "        vertical-align: top;\n",
       "    }\n",
       "\n",
       "    .dataframe thead th {\n",
       "        text-align: right;\n",
       "    }\n",
       "</style>\n",
       "<table border=\"1\" class=\"dataframe\">\n",
       "  <thead>\n",
       "    <tr style=\"text-align: right;\">\n",
       "      <th></th>\n",
       "      <th>title</th>\n",
       "      <th>rental_year</th>\n",
       "      <th>age_restriction</th>\n",
       "      <th>main_genre</th>\n",
       "      <th>box_office</th>\n",
       "    </tr>\n",
       "  </thead>\n",
       "  <tbody>\n",
       "    <tr>\n",
       "      <th>7456</th>\n",
       "      <td>Холоп</td>\n",
       "      <td>2019</td>\n",
       "      <td>«12+» - для детей старше 12 лет</td>\n",
       "      <td>комедия</td>\n",
       "      <td>3,073,568,690.79</td>\n",
       "    </tr>\n",
       "    <tr>\n",
       "      <th>6820</th>\n",
       "      <td>Мстители: Финал</td>\n",
       "      <td>2019</td>\n",
       "      <td>«16+» - для детей старше 16 лет</td>\n",
       "      <td>фантастика</td>\n",
       "      <td>2,576,613,776.83</td>\n",
       "    </tr>\n",
       "    <tr>\n",
       "      <th>7216</th>\n",
       "      <td>Малефисента: Владычица тьмы</td>\n",
       "      <td>2019</td>\n",
       "      <td>«6+» - для детей старше 6 лет</td>\n",
       "      <td>фэнтези</td>\n",
       "      <td>1,911,944,865.95</td>\n",
       "    </tr>\n",
       "    <tr>\n",
       "      <th>7258</th>\n",
       "      <td>Джокер</td>\n",
       "      <td>2019</td>\n",
       "      <td>«18+» - запрещено для детей</td>\n",
       "      <td>триллер</td>\n",
       "      <td>1,890,368,076.47</td>\n",
       "    </tr>\n",
       "    <tr>\n",
       "      <th>7383</th>\n",
       "      <td>Холодное сердце II</td>\n",
       "      <td>2019</td>\n",
       "      <td>«6+» - для детей старше 6 лет</td>\n",
       "      <td>мультфильм</td>\n",
       "      <td>1,827,244,672.81</td>\n",
       "    </tr>\n",
       "  </tbody>\n",
       "</table>\n",
       "</div>"
      ],
      "text/plain": [
       "                            title  rental_year  \\\n",
       "7456                        Холоп         2019   \n",
       "6820              Мстители: Финал         2019   \n",
       "7216  Малефисента: Владычица тьмы         2019   \n",
       "7258                       Джокер         2019   \n",
       "7383           Холодное сердце II         2019   \n",
       "\n",
       "                      age_restriction  main_genre       box_office  \n",
       "7456  «12+» - для детей старше 12 лет     комедия 3,073,568,690.79  \n",
       "6820  «16+» - для детей старше 16 лет  фантастика 2,576,613,776.83  \n",
       "7216    «6+» - для детей старше 6 лет     фэнтези 1,911,944,865.95  \n",
       "7258      «18+» - запрещено для детей     триллер 1,890,368,076.47  \n",
       "7383    «6+» - для детей старше 6 лет  мультфильм 1,827,244,672.81  "
      ]
     },
     "metadata": {},
     "output_type": "display_data"
    }
   ],
   "source": [
    "# переберём в цикле года и выведем срезы отсортированные по убыванию\n",
    "for year in range(2015, 2020):\n",
    "    display(\n",
    "        df.loc[(df['rental_year'] == year), \n",
    "               ['title', 'rental_year', 'age_restriction', 'main_genre', 'box_office']]\n",
    "        .sort_values('box_office', ascending=False).head()\n",
    "    )"
   ]
  },
  {
   "cell_type": "markdown",
   "metadata": {},
   "source": [
    "Гистограмма отлично показывает, что самая доходная категория фильмов это **'16+'**. Меньше всего кассовых сборов с фильмов категории **'0+'**.\n",
    "\n",
    "Производители фильмов явно стараются, чтобы их кинокартины не вошли в категорию '18+', потому что потеряют огромную часть аудитории в виде детей. Дети это и совместные семейные просмотры и походы в кинотеатр классом, что положительно сказывается на кассовых сборах. Несмотря на ощутимый спад в 2018 году, для категории '12+' именно этот год стал максимальным по сборам и всё это благодаря кинофильму **'Т-34'**. По таблицам видно, что 2017 год, за счёт кинокартин **'Пираты Карибского моря: Мертвецы не рассказывают сказки'** и **'Стражи Галактики. Часть 2'**, позволил собрать максимальное количество денег для категории '16+'."
   ]
  },
  {
   "cell_type": "markdown",
   "metadata": {},
   "source": [
    " "
   ]
  },
  {
   "cell_type": "markdown",
   "metadata": {},
   "source": [
    "#### Выявление текущих трендов"
   ]
  },
  {
   "cell_type": "markdown",
   "metadata": {},
   "source": [
    "Выведем пять фильмов с самыми большими сборами в прокате, пять жанров, которые лидируют по сборам, а также гистограмму, показывающую суммы сборов по жанрам."
   ]
  },
  {
   "cell_type": "code",
   "execution_count": 91,
   "metadata": {
    "scrolled": false
   },
   "outputs": [
    {
     "name": "stdout",
     "output_type": "stream",
     "text": [
      "Фильмы, лидирующие по сборам в прокате:\n"
     ]
    },
    {
     "data": {
      "text/html": [
       "<div>\n",
       "<style scoped>\n",
       "    .dataframe tbody tr th:only-of-type {\n",
       "        vertical-align: middle;\n",
       "    }\n",
       "\n",
       "    .dataframe tbody tr th {\n",
       "        vertical-align: top;\n",
       "    }\n",
       "\n",
       "    .dataframe thead th {\n",
       "        text-align: right;\n",
       "    }\n",
       "</style>\n",
       "<table border=\"1\" class=\"dataframe\">\n",
       "  <thead>\n",
       "    <tr style=\"text-align: right;\">\n",
       "      <th></th>\n",
       "      <th>title</th>\n",
       "      <th>rental_year</th>\n",
       "      <th>main_director</th>\n",
       "      <th>main_genre</th>\n",
       "      <th>ratings</th>\n",
       "      <th>box_office</th>\n",
       "    </tr>\n",
       "  </thead>\n",
       "  <tbody>\n",
       "    <tr>\n",
       "      <th>7456</th>\n",
       "      <td>Холоп</td>\n",
       "      <td>2019</td>\n",
       "      <td>К.Шипенко</td>\n",
       "      <td>комедия</td>\n",
       "      <td>6.80</td>\n",
       "      <td>3,073,568,690.79</td>\n",
       "    </tr>\n",
       "    <tr>\n",
       "      <th>5653</th>\n",
       "      <td>Движение вверх</td>\n",
       "      <td>2017</td>\n",
       "      <td>А.Мегердичев</td>\n",
       "      <td>спорт</td>\n",
       "      <td>7.50</td>\n",
       "      <td>2,779,686,144.00</td>\n",
       "    </tr>\n",
       "    <tr>\n",
       "      <th>6820</th>\n",
       "      <td>Мстители: Финал</td>\n",
       "      <td>2019</td>\n",
       "      <td>Джо Руссо</td>\n",
       "      <td>фантастика</td>\n",
       "      <td>7.60</td>\n",
       "      <td>2,576,613,776.83</td>\n",
       "    </tr>\n",
       "    <tr>\n",
       "      <th>6549</th>\n",
       "      <td>Т-34</td>\n",
       "      <td>2018</td>\n",
       "      <td>А.Сидоров</td>\n",
       "      <td>драма</td>\n",
       "      <td>6.50</td>\n",
       "      <td>2,271,754,004.52</td>\n",
       "    </tr>\n",
       "    <tr>\n",
       "      <th>3488</th>\n",
       "      <td>Пираты Карибского моря: Мертвецы не рассказыва...</td>\n",
       "      <td>2017</td>\n",
       "      <td>Йоаким Реннинг</td>\n",
       "      <td>фэнтези</td>\n",
       "      <td>6.60</td>\n",
       "      <td>2,118,396,119.00</td>\n",
       "    </tr>\n",
       "  </tbody>\n",
       "</table>\n",
       "</div>"
      ],
      "text/plain": [
       "                                                  title  rental_year  \\\n",
       "7456                                              Холоп         2019   \n",
       "5653                                     Движение вверх         2017   \n",
       "6820                                    Мстители: Финал         2019   \n",
       "6549                                               Т-34         2018   \n",
       "3488  Пираты Карибского моря: Мертвецы не рассказыва...         2017   \n",
       "\n",
       "       main_director  main_genre  ratings       box_office  \n",
       "7456       К.Шипенко     комедия     6.80 3,073,568,690.79  \n",
       "5653    А.Мегердичев       спорт     7.50 2,779,686,144.00  \n",
       "6820       Джо Руссо  фантастика     7.60 2,576,613,776.83  \n",
       "6549       А.Сидоров       драма     6.50 2,271,754,004.52  \n",
       "3488  Йоаким Реннинг     фэнтези     6.60 2,118,396,119.00  "
      ]
     },
     "metadata": {},
     "output_type": "display_data"
    },
    {
     "name": "stdout",
     "output_type": "stream",
     "text": [
      "Жанры, лидирующие по сборам в прокате:\n"
     ]
    },
    {
     "data": {
      "text/html": [
       "<div>\n",
       "<style scoped>\n",
       "    .dataframe tbody tr th:only-of-type {\n",
       "        vertical-align: middle;\n",
       "    }\n",
       "\n",
       "    .dataframe tbody tr th {\n",
       "        vertical-align: top;\n",
       "    }\n",
       "\n",
       "    .dataframe thead th {\n",
       "        text-align: right;\n",
       "    }\n",
       "</style>\n",
       "<table border=\"1\" class=\"dataframe\">\n",
       "  <thead>\n",
       "    <tr style=\"text-align: right;\">\n",
       "      <th></th>\n",
       "      <th>box_office</th>\n",
       "    </tr>\n",
       "    <tr>\n",
       "      <th>main_genre</th>\n",
       "      <th></th>\n",
       "    </tr>\n",
       "  </thead>\n",
       "  <tbody>\n",
       "    <tr>\n",
       "      <th>фантастика</th>\n",
       "      <td>50,986,431,810.00</td>\n",
       "    </tr>\n",
       "    <tr>\n",
       "      <th>мультфильм</th>\n",
       "      <td>40,691,034,300.73</td>\n",
       "    </tr>\n",
       "    <tr>\n",
       "      <th>боевик</th>\n",
       "      <td>27,598,666,334.18</td>\n",
       "    </tr>\n",
       "    <tr>\n",
       "      <th>фэнтези</th>\n",
       "      <td>26,508,737,382.60</td>\n",
       "    </tr>\n",
       "    <tr>\n",
       "      <th>комедия</th>\n",
       "      <td>24,476,443,354.63</td>\n",
       "    </tr>\n",
       "  </tbody>\n",
       "</table>\n",
       "</div>"
      ],
      "text/plain": [
       "                  box_office\n",
       "main_genre                  \n",
       "фантастика 50,986,431,810.00\n",
       "мультфильм 40,691,034,300.73\n",
       "боевик     27,598,666,334.18\n",
       "фэнтези    26,508,737,382.60\n",
       "комедия    24,476,443,354.63"
      ]
     },
     "metadata": {},
     "output_type": "display_data"
    },
    {
     "data": {
      "image/png": "[encoded data removed]",
      "text/plain": [
       "<Figure size 1080x720 with 1 Axes>"
      ]
     },
     "metadata": {},
     "output_type": "display_data"
    }
   ],
   "source": [
    "# выведем пять фильмов, лидирующих по сборам\n",
    "print('Фильмы, лидирующие по сборам в прокате:')\n",
    "display(df[['title', 'rental_year', 'main_director', 'main_genre', 'ratings', 'box_office']]\n",
    "        .sort_values(by='box_office', ascending=False).head())\n",
    "\n",
    "# выведем жанры, собравшие больше всех средств в прокате\n",
    "print('Жанры, лидирующие по сборам в прокате:')\n",
    "display(pd.DataFrame(df.groupby('main_genre')['box_office']\n",
    "                     .agg('sum').sort_values(ascending=False)).head())\n",
    "\n",
    "# гистограмма сборов в прокате по жанрам\n",
    "df.groupby('main_genre')['box_office'].agg('sum').sort_values().plot.bar()\n",
    "plt.title('Гистограмма сборов в прокате по жанрам', fontsize=18)\n",
    "plt.xlabel('Жанры', color='grey')\n",
    "plt.ylabel('Сборы в прокате, руб.', color='grey')\n",
    "plt.show()"
   ]
  },
  {
   "cell_type": "markdown",
   "metadata": {},
   "source": [
    "Фильмы, которые собрали больше всего денег, абсолютно разные по жанрам. Лидеры сбора в прокате по годам тоже имеют разные жанры, казалось бы, зависимости нет. Однако, самыми кассовыми жанрами оказались **фантастика** и **мультфильмы** - они с большим отрывом опережают боевики, фэнтэзи и комедии."
   ]
  },
  {
   "cell_type": "markdown",
   "metadata": {},
   "source": [
    " "
   ]
  },
  {
   "cell_type": "markdown",
   "metadata": {
    "id": "l_Kg6Ku4gFya"
   },
   "source": [
    "### Исследуем фильмы, которые получили государственную поддержку"
   ]
  },
  {
   "cell_type": "markdown",
   "metadata": {},
   "source": [
    "Так как сумма государственного финансирования фильма складывается из сумм возвратных и невозвратных средств государственной поддрежки, то для дальнейшего исследования, добавим к нашим данным столбец `'governmental_support'`, который и будет состоять из этих сумм. Затем создадим датафрейм `'df_support'`, в который войдут записи с фильмами, которым была оказана государственная поддержка."
   ]
  },
  {
   "cell_type": "code",
   "execution_count": 92,
   "metadata": {},
   "outputs": [],
   "source": [
    "df['governmental_support'] = df['refundable_support'] + df['nonrefundable_support']\n",
    "# создадим таблицу с фильмами, которые финансировались государством\n",
    "df_support = df.loc[df['governmental_support'] > 0, \n",
    "                    ['title', 'pu_number', 'type', 'film_studio', 'production_country', \n",
    "                     'director', 'producer', 'age_restriction', 'budget', 'financing_source', \n",
    "                     'ratings', 'genres', 'box_office', 'rental_year', 'main_director', \n",
    "                     'main_genre', 'governmental_support']]"
   ]
  },
  {
   "cell_type": "markdown",
   "metadata": {},
   "source": [
    " "
   ]
  },
  {
   "cell_type": "markdown",
   "metadata": {},
   "source": [
    "#### Общие объёмы государственного финансирования"
   ]
  },
  {
   "cell_type": "markdown",
   "metadata": {},
   "source": [
    "Выведем количество фильмов, общую сумма государственного финансирования и количество лет, которые есть в нашем распоряжении."
   ]
  },
  {
   "cell_type": "code",
   "execution_count": 93,
   "metadata": {},
   "outputs": [
    {
     "name": "stdout",
     "output_type": "stream",
     "text": [
      "Количество фильмов, получивших государственную поддержку: 332 фильма\n",
      "Общая сумма государственного финансирования: 20,200,688,312.0 ₽ за 7 лет\n"
     ]
    }
   ],
   "source": [
    "print(f'Количество фильмов, получивших государственную поддержку: {len(df_support)} фильма')\n",
    "print(f'Общая сумма государственного финансирования: '\\\n",
    "      f'{df_support.governmental_support.sum():,} ₽ за '\\\n",
    "      f'{len(df_support.rental_year.unique())} лет')"
   ]
  },
  {
   "cell_type": "markdown",
   "metadata": {},
   "source": [
    "За 7 лет на государственную поддержку киноиндустрии было выделено **20 с лишним миллиардов рублей**, что приблизительно сопоставимо со стоимостью полёта двух космических туристов на МКС и их выходом в открытый космос."
   ]
  },
  {
   "cell_type": "markdown",
   "metadata": {},
   "source": [
    " "
   ]
  },
  {
   "cell_type": "markdown",
   "metadata": {},
   "source": [
    "#### Распределение государственной поддержки по годам"
   ]
  },
  {
   "cell_type": "markdown",
   "metadata": {},
   "source": [
    "Посмотрим, в каком количестве выделялись государственные средства на поддержание киноиндустрии по годам."
   ]
  },
  {
   "cell_type": "code",
   "execution_count": 94,
   "metadata": {},
   "outputs": [
    {
     "data": {
      "image/png": "[encoded data removed]",
      "text/plain": [
       "<Figure size 1080x720 with 1 Axes>"
      ]
     },
     "metadata": {},
     "output_type": "display_data"
    }
   ],
   "source": [
    "# построим гистограмму распределения финансирования по годам\n",
    "(\n",
    "    df_support.pivot_table(index='rental_year', values=['governmental_support'], aggfunc='sum')\n",
    "    .plot.bar(y='governmental_support', label='Сумма государственной поддержки')\n",
    ")\n",
    "plt.title('Гистограмма распределения государственной поддержки по годам', fontsize=18)\n",
    "plt.xlabel('Годы', color='grey')\n",
    "plt.ylabel('Сумма, руб.', color='grey')\n",
    "plt.show()"
   ]
  },
  {
   "cell_type": "markdown",
   "metadata": {},
   "source": [
    "Хорошо заметно снижение государственного финансирования в 2017-2018 годах и возобновление тренда на увеличение в 2019 году."
   ]
  },
  {
   "cell_type": "markdown",
   "metadata": {},
   "source": [
    " "
   ]
  },
  {
   "cell_type": "markdown",
   "metadata": {},
   "source": [
    "#### Окупаемость фильмов, получивших государственное финансирование"
   ]
  },
  {
   "cell_type": "markdown",
   "metadata": {},
   "source": [
    "Выведем графики сборов кинопроката и государственного финансирования по годам."
   ]
  },
  {
   "cell_type": "code",
   "execution_count": 95,
   "metadata": {},
   "outputs": [
    {
     "data": {
      "image/png": "[encoded data removed]",
      "text/plain": [
       "<Figure size 1080x720 with 1 Axes>"
      ]
     },
     "metadata": {},
     "output_type": "display_data"
    }
   ],
   "source": [
    "(\n",
    "    df_support.groupby('rental_year')\n",
    "    .agg({'governmental_support': 'sum', 'box_office': 'sum'})\n",
    "    .plot(style='-o')\n",
    ")\n",
    "plt.title('Графики сборов кинопроката и государственного финансирования по годам', fontsize=18)\n",
    "plt.xlabel('Годы', color='grey')\n",
    "plt.ylabel('Сумма, руб.', color='grey')\n",
    "plt.legend(['Сумма государственной поддержки', 'Сумма сборов'])\n",
    "plt.show()"
   ]
  },
  {
   "cell_type": "markdown",
   "metadata": {},
   "source": [
    "Как видно из графиков, в-целом, вложенные государством в кинопроекты деньги, окупались (2013 год в расчёт не берём, возможно, по нему не полные данные). Рассмотрим подробнее какие фильмы окупили себя больше всего, также посмотрим на аутсайдеров. Для этого создадим ещё один столбец `'profit_ratio'` с коэффициентом рентабельности и выведем пятёрку наиболее и наименее рентабельных фильмов, а также посмотрим на самый успешный фильм в каждом году."
   ]
  },
  {
   "cell_type": "code",
   "execution_count": 96,
   "metadata": {},
   "outputs": [
    {
     "name": "stdout",
     "output_type": "stream",
     "text": [
      "ТОП-5 наиболее рентабельных фильмов:\n"
     ]
    },
    {
     "data": {
      "text/html": [
       "<div>\n",
       "<style scoped>\n",
       "    .dataframe tbody tr th:only-of-type {\n",
       "        vertical-align: middle;\n",
       "    }\n",
       "\n",
       "    .dataframe tbody tr th {\n",
       "        vertical-align: top;\n",
       "    }\n",
       "\n",
       "    .dataframe thead th {\n",
       "        text-align: right;\n",
       "    }\n",
       "</style>\n",
       "<table border=\"1\" class=\"dataframe\">\n",
       "  <thead>\n",
       "    <tr style=\"text-align: right;\">\n",
       "      <th></th>\n",
       "      <th>title</th>\n",
       "      <th>rental_year</th>\n",
       "      <th>main_director</th>\n",
       "      <th>main_genre</th>\n",
       "      <th>ratings</th>\n",
       "      <th>box_office</th>\n",
       "      <th>governmental_support</th>\n",
       "      <th>profit_ratio</th>\n",
       "    </tr>\n",
       "  </thead>\n",
       "  <tbody>\n",
       "    <tr>\n",
       "      <th>7456</th>\n",
       "      <td>Холоп</td>\n",
       "      <td>2019</td>\n",
       "      <td>К.Шипенко</td>\n",
       "      <td>комедия</td>\n",
       "      <td>6.80</td>\n",
       "      <td>3,073,568,690.79</td>\n",
       "      <td>60,000,000.00</td>\n",
       "      <td>51.23</td>\n",
       "    </tr>\n",
       "    <tr>\n",
       "      <th>5600</th>\n",
       "      <td>За гранью реальности</td>\n",
       "      <td>2017</td>\n",
       "      <td>А.Богуславский</td>\n",
       "      <td>приключения</td>\n",
       "      <td>5.20</td>\n",
       "      <td>126,713,450.16</td>\n",
       "      <td>6,000,000.00</td>\n",
       "      <td>21.12</td>\n",
       "    </tr>\n",
       "    <tr>\n",
       "      <th>5749</th>\n",
       "      <td>Я худею</td>\n",
       "      <td>2018</td>\n",
       "      <td>А.Черномазов (псевдоним Алексей Нужный)</td>\n",
       "      <td>комедия</td>\n",
       "      <td>6.90</td>\n",
       "      <td>633,462,266.74</td>\n",
       "      <td>30,000,000.00</td>\n",
       "      <td>21.12</td>\n",
       "    </tr>\n",
       "    <tr>\n",
       "      <th>3105</th>\n",
       "      <td>Иван Царевич и Серый Волк 3</td>\n",
       "      <td>2015</td>\n",
       "      <td>Д.Шмидт</td>\n",
       "      <td>мультфильм</td>\n",
       "      <td>6.20</td>\n",
       "      <td>704,928,216.00</td>\n",
       "      <td>40,000,000.00</td>\n",
       "      <td>17.62</td>\n",
       "    </tr>\n",
       "    <tr>\n",
       "      <th>5708</th>\n",
       "      <td>Лёд</td>\n",
       "      <td>2018</td>\n",
       "      <td>О.Трофим</td>\n",
       "      <td>не указан</td>\n",
       "      <td>NaN</td>\n",
       "      <td>1,445,731,797.89</td>\n",
       "      <td>85,000,000.00</td>\n",
       "      <td>17.01</td>\n",
       "    </tr>\n",
       "  </tbody>\n",
       "</table>\n",
       "</div>"
      ],
      "text/plain": [
       "                            title  rental_year  \\\n",
       "7456                        Холоп         2019   \n",
       "5600         За гранью реальности         2017   \n",
       "5749                      Я худею         2018   \n",
       "3105  Иван Царевич и Серый Волк 3         2015   \n",
       "5708                          Лёд         2018   \n",
       "\n",
       "                                main_director   main_genre  ratings  \\\n",
       "7456                                К.Шипенко      комедия     6.80   \n",
       "5600                           А.Богуславский  приключения     5.20   \n",
       "5749  А.Черномазов (псевдоним Алексей Нужный)      комедия     6.90   \n",
       "3105                                  Д.Шмидт   мультфильм     6.20   \n",
       "5708                                 О.Трофим    не указан      NaN   \n",
       "\n",
       "           box_office  governmental_support  profit_ratio  \n",
       "7456 3,073,568,690.79         60,000,000.00         51.23  \n",
       "5600   126,713,450.16          6,000,000.00         21.12  \n",
       "5749   633,462,266.74         30,000,000.00         21.12  \n",
       "3105   704,928,216.00         40,000,000.00         17.62  \n",
       "5708 1,445,731,797.89         85,000,000.00         17.01  "
      ]
     },
     "metadata": {},
     "output_type": "display_data"
    },
    {
     "name": "stdout",
     "output_type": "stream",
     "text": [
      "ТОП-5 наименее рентабельных фильмов:\n"
     ]
    },
    {
     "data": {
      "text/html": [
       "<div>\n",
       "<style scoped>\n",
       "    .dataframe tbody tr th:only-of-type {\n",
       "        vertical-align: middle;\n",
       "    }\n",
       "\n",
       "    .dataframe tbody tr th {\n",
       "        vertical-align: top;\n",
       "    }\n",
       "\n",
       "    .dataframe thead th {\n",
       "        text-align: right;\n",
       "    }\n",
       "</style>\n",
       "<table border=\"1\" class=\"dataframe\">\n",
       "  <thead>\n",
       "    <tr style=\"text-align: right;\">\n",
       "      <th></th>\n",
       "      <th>title</th>\n",
       "      <th>rental_year</th>\n",
       "      <th>main_director</th>\n",
       "      <th>main_genre</th>\n",
       "      <th>ratings</th>\n",
       "      <th>box_office</th>\n",
       "      <th>governmental_support</th>\n",
       "      <th>profit_ratio</th>\n",
       "    </tr>\n",
       "  </thead>\n",
       "  <tbody>\n",
       "    <tr>\n",
       "      <th>3149</th>\n",
       "      <td>Я-Учитель</td>\n",
       "      <td>2015</td>\n",
       "      <td>С.Мокрицкий</td>\n",
       "      <td>мелодрама</td>\n",
       "      <td>7.40</td>\n",
       "      <td>1,550.00</td>\n",
       "      <td>35,000,000.00</td>\n",
       "      <td>0.00</td>\n",
       "    </tr>\n",
       "    <tr>\n",
       "      <th>2527</th>\n",
       "      <td>Вдвоем на льдине</td>\n",
       "      <td>2015</td>\n",
       "      <td>Н.Джорджадзе</td>\n",
       "      <td>мелодрама</td>\n",
       "      <td>6.60</td>\n",
       "      <td>4,450.00</td>\n",
       "      <td>26,500,000.00</td>\n",
       "      <td>0.00</td>\n",
       "    </tr>\n",
       "    <tr>\n",
       "      <th>3504</th>\n",
       "      <td>День До</td>\n",
       "      <td>2016</td>\n",
       "      <td>А.Котт</td>\n",
       "      <td>драма</td>\n",
       "      <td>4.80</td>\n",
       "      <td>9,000.00</td>\n",
       "      <td>50,000,000.00</td>\n",
       "      <td>0.00</td>\n",
       "    </tr>\n",
       "    <tr>\n",
       "      <th>2803</th>\n",
       "      <td>Битва с экстрасенсами</td>\n",
       "      <td>2015</td>\n",
       "      <td>И.Кордзаия</td>\n",
       "      <td>фэнтези</td>\n",
       "      <td>5.40</td>\n",
       "      <td>6,000.00</td>\n",
       "      <td>25,900,000.00</td>\n",
       "      <td>0.00</td>\n",
       "    </tr>\n",
       "    <tr>\n",
       "      <th>2150</th>\n",
       "      <td>РЕВЕРБЕРАЦИЯ</td>\n",
       "      <td>2015</td>\n",
       "      <td>К.Сухарьков</td>\n",
       "      <td>не указан</td>\n",
       "      <td>NaN</td>\n",
       "      <td>19,820.00</td>\n",
       "      <td>25,000,000.00</td>\n",
       "      <td>0.00</td>\n",
       "    </tr>\n",
       "  </tbody>\n",
       "</table>\n",
       "</div>"
      ],
      "text/plain": [
       "                      title  rental_year main_director main_genre  ratings  \\\n",
       "3149              Я-Учитель         2015   С.Мокрицкий  мелодрама     7.40   \n",
       "2527       Вдвоем на льдине         2015  Н.Джорджадзе  мелодрама     6.60   \n",
       "3504                День До         2016        А.Котт      драма     4.80   \n",
       "2803  Битва с экстрасенсами         2015    И.Кордзаия    фэнтези     5.40   \n",
       "2150           РЕВЕРБЕРАЦИЯ         2015   К.Сухарьков  не указан      NaN   \n",
       "\n",
       "      box_office  governmental_support  profit_ratio  \n",
       "3149    1,550.00         35,000,000.00          0.00  \n",
       "2527    4,450.00         26,500,000.00          0.00  \n",
       "3504    9,000.00         50,000,000.00          0.00  \n",
       "2803    6,000.00         25,900,000.00          0.00  \n",
       "2150   19,820.00         25,000,000.00          0.00  "
      ]
     },
     "metadata": {},
     "output_type": "display_data"
    },
    {
     "name": "stdout",
     "output_type": "stream",
     "text": [
      "Самый успешный фильм года:\n"
     ]
    },
    {
     "data": {
      "text/html": [
       "<div>\n",
       "<style scoped>\n",
       "    .dataframe tbody tr th:only-of-type {\n",
       "        vertical-align: middle;\n",
       "    }\n",
       "\n",
       "    .dataframe tbody tr th {\n",
       "        vertical-align: top;\n",
       "    }\n",
       "\n",
       "    .dataframe thead th {\n",
       "        text-align: right;\n",
       "    }\n",
       "</style>\n",
       "<table border=\"1\" class=\"dataframe\">\n",
       "  <thead>\n",
       "    <tr style=\"text-align: right;\">\n",
       "      <th></th>\n",
       "      <th>title</th>\n",
       "      <th>rental_year</th>\n",
       "      <th>main_director</th>\n",
       "      <th>main_genre</th>\n",
       "      <th>ratings</th>\n",
       "      <th>box_office</th>\n",
       "      <th>governmental_support</th>\n",
       "      <th>profit_ratio</th>\n",
       "    </tr>\n",
       "  </thead>\n",
       "  <tbody>\n",
       "    <tr>\n",
       "      <th>1498</th>\n",
       "      <td>Невидимки</td>\n",
       "      <td>2013</td>\n",
       "      <td>Р.Давлетьяров</td>\n",
       "      <td>комедия</td>\n",
       "      <td>5.30</td>\n",
       "      <td>19,957,031.50</td>\n",
       "      <td>107,847,945.00</td>\n",
       "      <td>0.19</td>\n",
       "    </tr>\n",
       "    <tr>\n",
       "      <th>2205</th>\n",
       "      <td>8 новых свиданий</td>\n",
       "      <td>2014</td>\n",
       "      <td>М.Бальчюнас</td>\n",
       "      <td>комедия</td>\n",
       "      <td>6.00</td>\n",
       "      <td>393,344,626.30</td>\n",
       "      <td>30,000,000.00</td>\n",
       "      <td>13.11</td>\n",
       "    </tr>\n",
       "    <tr>\n",
       "      <th>3105</th>\n",
       "      <td>Иван Царевич и Серый Волк 3</td>\n",
       "      <td>2015</td>\n",
       "      <td>Д.Шмидт</td>\n",
       "      <td>мультфильм</td>\n",
       "      <td>6.20</td>\n",
       "      <td>704,928,216.00</td>\n",
       "      <td>40,000,000.00</td>\n",
       "      <td>17.62</td>\n",
       "    </tr>\n",
       "    <tr>\n",
       "      <th>2858</th>\n",
       "      <td>28 Панфиловцев</td>\n",
       "      <td>2016</td>\n",
       "      <td>К.Дружинин</td>\n",
       "      <td>военный</td>\n",
       "      <td>7.50</td>\n",
       "      <td>363,622,804.90</td>\n",
       "      <td>30,000,000.00</td>\n",
       "      <td>12.12</td>\n",
       "    </tr>\n",
       "    <tr>\n",
       "      <th>5600</th>\n",
       "      <td>За гранью реальности</td>\n",
       "      <td>2017</td>\n",
       "      <td>А.Богуславский</td>\n",
       "      <td>приключения</td>\n",
       "      <td>5.20</td>\n",
       "      <td>126,713,450.16</td>\n",
       "      <td>6,000,000.00</td>\n",
       "      <td>21.12</td>\n",
       "    </tr>\n",
       "    <tr>\n",
       "      <th>5749</th>\n",
       "      <td>Я худею</td>\n",
       "      <td>2018</td>\n",
       "      <td>А.Черномазов (псевдоним Алексей Нужный)</td>\n",
       "      <td>комедия</td>\n",
       "      <td>6.90</td>\n",
       "      <td>633,462,266.74</td>\n",
       "      <td>30,000,000.00</td>\n",
       "      <td>21.12</td>\n",
       "    </tr>\n",
       "    <tr>\n",
       "      <th>7456</th>\n",
       "      <td>Холоп</td>\n",
       "      <td>2019</td>\n",
       "      <td>К.Шипенко</td>\n",
       "      <td>комедия</td>\n",
       "      <td>6.80</td>\n",
       "      <td>3,073,568,690.79</td>\n",
       "      <td>60,000,000.00</td>\n",
       "      <td>51.23</td>\n",
       "    </tr>\n",
       "  </tbody>\n",
       "</table>\n",
       "</div>"
      ],
      "text/plain": [
       "                            title  rental_year  \\\n",
       "1498                    Невидимки         2013   \n",
       "2205             8 новых свиданий         2014   \n",
       "3105  Иван Царевич и Серый Волк 3         2015   \n",
       "2858               28 Панфиловцев         2016   \n",
       "5600         За гранью реальности         2017   \n",
       "5749                      Я худею         2018   \n",
       "7456                        Холоп         2019   \n",
       "\n",
       "                                main_director   main_genre  ratings  \\\n",
       "1498                            Р.Давлетьяров      комедия     5.30   \n",
       "2205                              М.Бальчюнас      комедия     6.00   \n",
       "3105                                  Д.Шмидт   мультфильм     6.20   \n",
       "2858                               К.Дружинин      военный     7.50   \n",
       "5600                           А.Богуславский  приключения     5.20   \n",
       "5749  А.Черномазов (псевдоним Алексей Нужный)      комедия     6.90   \n",
       "7456                                К.Шипенко      комедия     6.80   \n",
       "\n",
       "           box_office  governmental_support  profit_ratio  \n",
       "1498    19,957,031.50        107,847,945.00          0.19  \n",
       "2205   393,344,626.30         30,000,000.00         13.11  \n",
       "3105   704,928,216.00         40,000,000.00         17.62  \n",
       "2858   363,622,804.90         30,000,000.00         12.12  \n",
       "5600   126,713,450.16          6,000,000.00         21.12  \n",
       "5749   633,462,266.74         30,000,000.00         21.12  \n",
       "7456 3,073,568,690.79         60,000,000.00         51.23  "
      ]
     },
     "metadata": {},
     "output_type": "display_data"
    }
   ],
   "source": [
    "# добавим столбец с коэффициентом рентабельности\n",
    "df_support['profit_ratio'] = df_support['box_office'] / df_support['governmental_support']\n",
    "# выведем пять наиболее рентабельных фильмов\n",
    "print('ТОП-5 наиболее рентабельных фильмов:')\n",
    "(\n",
    "    display(df_support[['title', 'rental_year', 'main_director', 'main_genre', 'ratings', \n",
    "                        'box_office', 'governmental_support', 'profit_ratio']]\n",
    "            .sort_values(by='profit_ratio', ascending=False).head())\n",
    ")\n",
    "# выведем пять наименее рентабельных фильмов\n",
    "print('ТОП-5 наименее рентабельных фильмов:')\n",
    "(\n",
    "    display(df_support[['title', 'rental_year', 'main_director', 'main_genre', 'ratings', \n",
    "                        'box_office', 'governmental_support', 'profit_ratio']]\n",
    "            .sort_values(by='profit_ratio').head())\n",
    ")\n",
    "# выведем самые успешные фильмы в каждом году\n",
    "print('Самый успешный фильм года:')\n",
    "(\n",
    "    display(df_support.loc[df_support.groupby('rental_year')['profit_ratio'].idxmax(), \n",
    "                           ['title', 'rental_year', 'main_director', 'main_genre', 'ratings', \n",
    "                            'box_office', 'governmental_support', 'profit_ratio']])\n",
    ")"
   ]
  },
  {
   "cell_type": "markdown",
   "metadata": {},
   "source": [
    "Самый успешный фильм **'Холоп', 2019 года, режиссёр К. Шипенко**, на вложенные в него государством 60 миллионов рублей, он собрал в прокате сверху ещё более **3-х миллардов рублей**! Странная ситуация с кинокартиной 'Невидимки', 2013 года, он был профинансирован почти на 108 миллионов рублей, а принёс в прокате менее 20 миллионов рублей, возможно, это ошибка из-за отсутствия части данных по этому году."
   ]
  },
  {
   "cell_type": "markdown",
   "metadata": {},
   "source": [
    " "
   ]
  },
  {
   "cell_type": "markdown",
   "metadata": {},
   "source": [
    "#### Зависимость финансовых показателей от рейтинга фильма"
   ]
  },
  {
   "cell_type": "markdown",
   "metadata": {},
   "source": [
    "Рассмотрим зависимость таких показателей, как кассовый сбор, общий бюджет фильма и коэффициента рентабельности от рейтинга. Выведем на экран соответствующие графики зависимостей."
   ]
  },
  {
   "cell_type": "code",
   "execution_count": 97,
   "metadata": {
    "scrolled": false
   },
   "outputs": [
    {
     "data": {
      "image/png": "[encoded data removed]",
      "text/plain": [
       "<Figure size 1080x720 with 1 Axes>"
      ]
     },
     "metadata": {},
     "output_type": "display_data"
    },
    {
     "data": {
      "image/png": "[encoded data removed]",
      "text/plain": [
       "<Figure size 1080x720 with 1 Axes>"
      ]
     },
     "metadata": {},
     "output_type": "display_data"
    },
    {
     "data": {
      "image/png": "[encoded data removed]",
      "text/plain": [
       "<Figure size 1080x720 with 1 Axes>"
      ]
     },
     "metadata": {},
     "output_type": "display_data"
    }
   ],
   "source": [
    "# создадим список интересующих столбцов \n",
    "columns = ['box_office', 'budget', 'profit_ratio']\n",
    "# создадим цикл, в котором отобразим графики зависимости данных из столбцов 'columns' от 'ratings'\n",
    "for column in columns:\n",
    "    df_support.pivot_table(index='ratings', values=[column]).plot(style='-o')\n",
    "    plt.title(f'График зависимости {column} от рейтинга', fontsize=18)\n",
    "    plt.xlabel('Рейтинг', color='grey')\n",
    "    plt.ylabel('руб.', color='grey')\n",
    "    plt.show()"
   ]
  },
  {
   "cell_type": "markdown",
   "metadata": {},
   "source": [
    "Как показывают графики, нет никакой взаимосвязи рейтинга фильма ни с кассовыми сборами, ни с величиной бюджета фильма, ни с коэффициентом его окупаемости, а значит, нет связи и с объёмом вложенных в него государственных средств. 'Выстрелит' кинолента или нет на этапе её создания не знает никто."
   ]
  },
  {
   "cell_type": "markdown",
   "metadata": {},
   "source": [
    " "
   ]
  },
  {
   "cell_type": "markdown",
   "metadata": {},
   "source": [
    "#### Изучим фильмы с самой большой государственной поддержкой"
   ]
  },
  {
   "cell_type": "markdown",
   "metadata": {},
   "source": [
    "Выведем пятёрку фильмов с самой большой государственной поддержкой, а также продюсеров, которым государство выделило больше всего средств."
   ]
  },
  {
   "cell_type": "code",
   "execution_count": 98,
   "metadata": {},
   "outputs": [
    {
     "name": "stdout",
     "output_type": "stream",
     "text": [
      "Самые финансируемые фильмы:\n"
     ]
    },
    {
     "data": {
      "text/html": [
       "<div>\n",
       "<style scoped>\n",
       "    .dataframe tbody tr th:only-of-type {\n",
       "        vertical-align: middle;\n",
       "    }\n",
       "\n",
       "    .dataframe tbody tr th {\n",
       "        vertical-align: top;\n",
       "    }\n",
       "\n",
       "    .dataframe thead th {\n",
       "        text-align: right;\n",
       "    }\n",
       "</style>\n",
       "<table border=\"1\" class=\"dataframe\">\n",
       "  <thead>\n",
       "    <tr style=\"text-align: right;\">\n",
       "      <th></th>\n",
       "      <th>title</th>\n",
       "      <th>main_director</th>\n",
       "      <th>main_genre</th>\n",
       "      <th>ratings</th>\n",
       "      <th>film_studio</th>\n",
       "      <th>box_office</th>\n",
       "      <th>governmental_support</th>\n",
       "      <th>profit_ratio</th>\n",
       "    </tr>\n",
       "  </thead>\n",
       "  <tbody>\n",
       "    <tr>\n",
       "      <th>7474</th>\n",
       "      <td>Вторжение</td>\n",
       "      <td>Ф.Бондарчук</td>\n",
       "      <td>фантастика</td>\n",
       "      <td>5.70</td>\n",
       "      <td>ООО \"Арт Пикчерс Студия\", ООО \"Водород 2011\"</td>\n",
       "      <td>NaN</td>\n",
       "      <td>500,000,000.00</td>\n",
       "      <td>NaN</td>\n",
       "    </tr>\n",
       "    <tr>\n",
       "      <th>7464</th>\n",
       "      <td>Союз спасения</td>\n",
       "      <td>А.Кравчук</td>\n",
       "      <td>история</td>\n",
       "      <td>6.00</td>\n",
       "      <td>ЗАО \"Дирекция кино\"</td>\n",
       "      <td>717,703,185.53</td>\n",
       "      <td>500,000,000.00</td>\n",
       "      <td>1.44</td>\n",
       "    </tr>\n",
       "    <tr>\n",
       "      <th>3351</th>\n",
       "      <td>Дуэлянт</td>\n",
       "      <td>А.Мизгирев</td>\n",
       "      <td>драма</td>\n",
       "      <td>6.60</td>\n",
       "      <td>ООО \"Нон-Стоп Продакшн\"</td>\n",
       "      <td>364,285,139.60</td>\n",
       "      <td>450,000,000.00</td>\n",
       "      <td>0.81</td>\n",
       "    </tr>\n",
       "    <tr>\n",
       "      <th>2920</th>\n",
       "      <td>Экипаж</td>\n",
       "      <td>Н.Лебедев</td>\n",
       "      <td>драма</td>\n",
       "      <td>7.60</td>\n",
       "      <td>ООО \"Студия \"ТРИТЭ\" Никиты Михалкова\"</td>\n",
       "      <td>1,402,255,390.00</td>\n",
       "      <td>442,104,482.00</td>\n",
       "      <td>3.17</td>\n",
       "    </tr>\n",
       "    <tr>\n",
       "      <th>5653</th>\n",
       "      <td>Движение вверх</td>\n",
       "      <td>А.Мегердичев</td>\n",
       "      <td>спорт</td>\n",
       "      <td>7.50</td>\n",
       "      <td>ООО \"Студия \"ТРИТЭ\" Никиты Михалкова\"</td>\n",
       "      <td>2,779,686,144.00</td>\n",
       "      <td>400,000,000.00</td>\n",
       "      <td>6.95</td>\n",
       "    </tr>\n",
       "  </tbody>\n",
       "</table>\n",
       "</div>"
      ],
      "text/plain": [
       "               title main_director  main_genre  ratings  \\\n",
       "7474       Вторжение   Ф.Бондарчук  фантастика     5.70   \n",
       "7464   Союз спасения     А.Кравчук     история     6.00   \n",
       "3351         Дуэлянт    А.Мизгирев       драма     6.60   \n",
       "2920         Экипаж      Н.Лебедев       драма     7.60   \n",
       "5653  Движение вверх  А.Мегердичев       спорт     7.50   \n",
       "\n",
       "                                       film_studio       box_office  \\\n",
       "7474  ООО \"Арт Пикчерс Студия\", ООО \"Водород 2011\"              NaN   \n",
       "7464                           ЗАО \"Дирекция кино\"   717,703,185.53   \n",
       "3351                       ООО \"Нон-Стоп Продакшн\"   364,285,139.60   \n",
       "2920         ООО \"Студия \"ТРИТЭ\" Никиты Михалкова\" 1,402,255,390.00   \n",
       "5653         ООО \"Студия \"ТРИТЭ\" Никиты Михалкова\" 2,779,686,144.00   \n",
       "\n",
       "      governmental_support  profit_ratio  \n",
       "7474        500,000,000.00           NaN  \n",
       "7464        500,000,000.00          1.44  \n",
       "3351        450,000,000.00          0.81  \n",
       "2920        442,104,482.00          3.17  \n",
       "5653        400,000,000.00          6.95  "
      ]
     },
     "metadata": {},
     "output_type": "display_data"
    },
    {
     "name": "stdout",
     "output_type": "stream",
     "text": [
      "Самые финансируемые продюсеры:\n"
     ]
    },
    {
     "data": {
      "text/html": [
       "<div>\n",
       "<style scoped>\n",
       "    .dataframe tbody tr th:only-of-type {\n",
       "        vertical-align: middle;\n",
       "    }\n",
       "\n",
       "    .dataframe tbody tr th {\n",
       "        vertical-align: top;\n",
       "    }\n",
       "\n",
       "    .dataframe thead th {\n",
       "        text-align: right;\n",
       "    }\n",
       "</style>\n",
       "<table border=\"1\" class=\"dataframe\">\n",
       "  <thead>\n",
       "    <tr style=\"text-align: right;\">\n",
       "      <th></th>\n",
       "      <th>governmental_support</th>\n",
       "    </tr>\n",
       "    <tr>\n",
       "      <th>producer</th>\n",
       "      <th></th>\n",
       "    </tr>\n",
       "  </thead>\n",
       "  <tbody>\n",
       "    <tr>\n",
       "      <th>Ф.Бондарчук, М.Врубель, А.Андрющенко, Д.Рудовский</th>\n",
       "      <td>500,000,000.00</td>\n",
       "    </tr>\n",
       "    <tr>\n",
       "      <th>А.Максимов, К.Эрнст</th>\n",
       "      <td>500,000,000.00</td>\n",
       "    </tr>\n",
       "    <tr>\n",
       "      <th>Л.Верещагин, А.Златопольский, Н.Михалков, ООО \"Студия \"ТРИТЭ\" Никиты Михалкова\"</th>\n",
       "      <td>421,052,241.00</td>\n",
       "    </tr>\n",
       "    <tr>\n",
       "      <th>ООО \"Централ Партнершип\",              АО \"Телекомпания\"</th>\n",
       "      <td>350,000,000.00</td>\n",
       "    </tr>\n",
       "    <tr>\n",
       "      <th>А.Учитель, А.Достман, В.Винокур</th>\n",
       "      <td>300,000,000.00</td>\n",
       "    </tr>\n",
       "  </tbody>\n",
       "</table>\n",
       "</div>"
      ],
      "text/plain": [
       "                                                    governmental_support\n",
       "producer                                                                \n",
       "Ф.Бондарчук, М.Врубель, А.Андрющенко, Д.Рудовский         500,000,000.00\n",
       "А.Максимов, К.Эрнст                                       500,000,000.00\n",
       "Л.Верещагин, А.Златопольский, Н.Михалков, ООО \"...        421,052,241.00\n",
       "ООО \"Централ Партнершип\",              АО \"Теле...        350,000,000.00\n",
       "А.Учитель, А.Достман, В.Винокур                           300,000,000.00"
      ]
     },
     "execution_count": 98,
     "metadata": {},
     "output_type": "execute_result"
    }
   ],
   "source": [
    "# ТОП-5 фильмов с государственной поддержкой\n",
    "print('Самые финансируемые фильмы:')\n",
    "(\n",
    "    display(df_support[['title', 'main_director', 'main_genre', 'ratings', 'film_studio',\n",
    "                        'box_office', 'governmental_support', 'profit_ratio']]\n",
    "            .sort_values(by='governmental_support', ascending=False).head())\n",
    ")\n",
    "# ТОП-5 финансируемых продюсеров\n",
    "print('Самые финансируемые продюсеры:')\n",
    "(\n",
    "    df_support.pivot_table(index= 'producer', values = ['governmental_support'])\n",
    "    .sort_values(by='governmental_support',ascending=False).head()\n",
    ")"
   ]
  },
  {
   "cell_type": "markdown",
   "metadata": {},
   "source": [
    "Фильмы, в которые были вложены самые большие средства окупились с большим трудом, а фильм 'Дуэлянт', режиссёра А. Мизгирёва в прокате вообще 'провалился'.\n",
    "\n",
    "Можно отметить, что больше всего средств выделяется на исторические фильмы и драмы.\n",
    "\n",
    "Вторая таблица показывает каким продюсерам выделяется больше всего государственных средств на развитие нашего кинематографа, видим с кого надно спрашивать."
   ]
  },
  {
   "cell_type": "markdown",
   "metadata": {},
   "source": [
    " "
   ]
  },
  {
   "cell_type": "markdown",
   "metadata": {
    "id": "V2gYwMcPgFyd"
   },
   "source": [
    "### Общий вывод исследования данных о российском кинопрокате"
   ]
  },
  {
   "cell_type": "markdown",
   "metadata": {
    "id": "AYRg3dzXgFye"
   },
   "source": [
    "Целью нашего исследования является изучение рынка российского кинопроката, а также задача выявления текущих трендов. Отдельно изучить фильмы, которые получили государственную поддержку. Выяснить, насколько такие фильмы интересны зрителю.\n",
    "\n",
    "В результате проделанной работы, данные были приведены в соответствие их типу, изучены пропуски, причины их появления, по возможности, пропущенные значения были заменены на достоверные. В целом, данные приведены в удобный вид, готовый для дальнейшей обработки и исследований.\n",
    "\n",
    "Исследование данных по годам показало, что резкий рост сборов с 2015 года состоялся благодаря нескольким отдельным фильмам. Анализ данных по возрастным категориям выявил самую доходную категорию фильмов это **'16+'**. Также мы выяснили, что самые трендовые жанровые направления это **фантастика** и **мультфильмы** - эти жанры составляют основную часть кассовых сборов.\n",
    "\n",
    "Также мы рассмотрели фильмы, получившие государственную поддержку, всего получилось 332 фильма за 7 лет с общей суммой государственного финансирования в **20,200,688,312.0 ₽**. Кроме того, выяснили, что государственная поддержка кинематографа растёт каждый год, с небольшим 'провалом' в 2017-2018 годах. Самое интересное, что вложенные государством средства полностью окупаются в российском кинопоркате. Однако, оккупаются не все фильмы, так фильмы, получившие самое большое государственное финансирование имеют слабые коэффициенты рентабельности, а кинокартина 'Дуэлянт' 2016 года вообще 'провалилась' в прокате. Основные жанры фильмов, получивших поддержку от государства это **исторические фильмы** и **драмы**. Удалось выяснить, что финансовые показатели, такие как кассовые сборы, общий бюджет фильма и коэффициента рентабельности никак не зависят от рейтинга кинокартины.\n",
    "\n",
    "Если мы хотим в дальнейшем получать больше прибыли, то для вложения средств стоит рассмотреть такие трендовые жанры, как фантастика для возрастной категории '12+' и мультипликационные фильмы для возрастной категории '6+'. Но, возможно, есть и другие цели, не только заработок денег, чтобы провести такие исследования понадобятся и другие данные."
   ]
  },
  {
   "cell_type": "markdown",
   "metadata": {},
   "source": []
  }
 ],
 "metadata": {
  "ExecuteTimeLog": [
   {
    "duration": 537,
    "start_time": "2021-07-07T10:12:08.634Z"
   },
   {
    "duration": 206,
    "start_time": "2021-07-07T10:12:30.191Z"
   },
   {
    "duration": 227,
    "start_time": "2021-07-07T10:12:33.078Z"
   },
   {
    "duration": 153,
    "start_time": "2021-07-07T10:13:42.146Z"
   },
   {
    "duration": 233,
    "start_time": "2021-07-07T10:30:09.252Z"
   },
   {
    "duration": 19,
    "start_time": "2021-07-07T10:30:15.577Z"
   },
   {
    "duration": 18,
    "start_time": "2021-07-07T10:30:57.348Z"
   },
   {
    "duration": 19,
    "start_time": "2021-07-07T10:31:17.452Z"
   },
   {
    "duration": 21,
    "start_time": "2021-07-07T10:31:32.227Z"
   },
   {
    "duration": 27,
    "start_time": "2021-07-07T10:32:06.588Z"
   },
   {
    "duration": 23,
    "start_time": "2021-07-07T10:32:43.645Z"
   },
   {
    "duration": 24,
    "start_time": "2021-07-07T10:33:06.948Z"
   },
   {
    "duration": 7,
    "start_time": "2021-07-07T10:33:28.558Z"
   },
   {
    "duration": 23,
    "start_time": "2021-07-07T10:33:43.761Z"
   },
   {
    "duration": 28,
    "start_time": "2021-07-07T10:34:13.466Z"
   },
   {
    "duration": 23,
    "start_time": "2021-07-07T10:35:56.187Z"
   },
   {
    "duration": 6,
    "start_time": "2021-07-07T10:36:48.182Z"
   },
   {
    "duration": 14,
    "start_time": "2021-07-07T10:37:49.641Z"
   },
   {
    "duration": 6,
    "start_time": "2021-07-07T10:38:06.694Z"
   },
   {
    "duration": 6,
    "start_time": "2021-07-07T10:38:13.493Z"
   },
   {
    "duration": 19,
    "start_time": "2021-07-07T10:38:44.056Z"
   },
   {
    "duration": 186,
    "start_time": "2021-07-07T10:48:35.618Z"
   },
   {
    "duration": 24,
    "start_time": "2021-07-07T10:48:51.498Z"
   },
   {
    "duration": 20,
    "start_time": "2021-07-07T10:48:59.415Z"
   },
   {
    "duration": 20,
    "start_time": "2021-07-07T10:53:02.195Z"
   },
   {
    "duration": 188,
    "start_time": "2021-07-07T10:54:40.486Z"
   },
   {
    "duration": 115,
    "start_time": "2021-07-07T10:54:52.552Z"
   },
   {
    "duration": 214,
    "start_time": "2021-07-07T10:54:56.354Z"
   },
   {
    "duration": 47,
    "start_time": "2021-07-07T10:54:58.282Z"
   },
   {
    "duration": 217,
    "start_time": "2021-07-07T10:59:16.075Z"
   },
   {
    "duration": 51,
    "start_time": "2021-07-07T10:59:16.243Z"
   },
   {
    "duration": 578,
    "start_time": "2021-07-07T10:59:18.774Z"
   },
   {
    "duration": 161,
    "start_time": "2021-07-07T10:59:21.238Z"
   },
   {
    "duration": 59,
    "start_time": "2021-07-07T10:59:21.453Z"
   },
   {
    "duration": 3,
    "start_time": "2021-07-07T11:02:10.786Z"
   },
   {
    "duration": 13,
    "start_time": "2021-07-07T11:07:07.722Z"
   },
   {
    "duration": 26,
    "start_time": "2021-07-07T11:07:17.958Z"
   },
   {
    "duration": 22,
    "start_time": "2021-07-07T11:08:17.939Z"
   },
   {
    "duration": 212,
    "start_time": "2021-07-07T11:08:19.665Z"
   },
   {
    "duration": 21,
    "start_time": "2021-07-07T11:08:29.945Z"
   },
   {
    "duration": 31,
    "start_time": "2021-07-07T11:08:38.899Z"
   },
   {
    "duration": 23,
    "start_time": "2021-07-07T11:08:54.527Z"
   },
   {
    "duration": 8,
    "start_time": "2021-07-07T11:18:55.974Z"
   },
   {
    "duration": 7,
    "start_time": "2021-07-07T11:19:03.639Z"
   },
   {
    "duration": 7,
    "start_time": "2021-07-07T11:19:06.444Z"
   },
   {
    "duration": 578,
    "start_time": "2021-07-07T12:09:59.576Z"
   },
   {
    "duration": 195,
    "start_time": "2021-07-07T12:10:00.156Z"
   },
   {
    "duration": 115,
    "start_time": "2021-07-07T12:10:00.353Z"
   },
   {
    "duration": 3,
    "start_time": "2021-07-07T12:10:00.470Z"
   },
   {
    "duration": 32,
    "start_time": "2021-07-07T12:10:00.474Z"
   },
   {
    "duration": 23,
    "start_time": "2021-07-07T12:10:00.508Z"
   },
   {
    "duration": 19,
    "start_time": "2021-07-07T12:10:00.533Z"
   },
   {
    "duration": 44,
    "start_time": "2021-07-07T12:10:00.553Z"
   },
   {
    "duration": 7,
    "start_time": "2021-07-07T12:10:00.600Z"
   },
   {
    "duration": 7,
    "start_time": "2021-07-07T12:19:45.761Z"
   },
   {
    "duration": 21,
    "start_time": "2021-07-07T12:21:35.482Z"
   },
   {
    "duration": 21,
    "start_time": "2021-07-07T12:29:23.569Z"
   },
   {
    "duration": 525,
    "start_time": "2021-07-07T12:29:44.542Z"
   },
   {
    "duration": 214,
    "start_time": "2021-07-07T12:29:45.069Z"
   },
   {
    "duration": 92,
    "start_time": "2021-07-07T12:29:45.285Z"
   },
   {
    "duration": 3,
    "start_time": "2021-07-07T12:29:45.379Z"
   },
   {
    "duration": 28,
    "start_time": "2021-07-07T12:29:45.384Z"
   },
   {
    "duration": 23,
    "start_time": "2021-07-07T12:29:45.413Z"
   },
   {
    "duration": 21,
    "start_time": "2021-07-07T12:29:45.437Z"
   },
   {
    "duration": 41,
    "start_time": "2021-07-07T12:29:45.460Z"
   },
   {
    "duration": 7,
    "start_time": "2021-07-07T12:29:45.502Z"
   },
   {
    "duration": 20,
    "start_time": "2021-07-07T12:29:45.511Z"
   },
   {
    "duration": 12,
    "start_time": "2021-07-07T12:34:02.800Z"
   },
   {
    "duration": 7,
    "start_time": "2021-07-07T12:35:10.479Z"
   },
   {
    "duration": 8,
    "start_time": "2021-07-07T12:35:22.440Z"
   },
   {
    "duration": 6,
    "start_time": "2021-07-07T12:35:35.649Z"
   },
   {
    "duration": 6,
    "start_time": "2021-07-07T12:35:43.107Z"
   },
   {
    "duration": 22,
    "start_time": "2021-07-07T12:38:03.029Z"
   },
   {
    "duration": 10,
    "start_time": "2021-07-07T12:38:06.592Z"
   },
   {
    "duration": 563,
    "start_time": "2021-07-07T12:38:46.493Z"
   },
   {
    "duration": 265,
    "start_time": "2021-07-07T12:38:47.058Z"
   },
   {
    "duration": 94,
    "start_time": "2021-07-07T12:38:47.325Z"
   },
   {
    "duration": 3,
    "start_time": "2021-07-07T12:38:47.422Z"
   },
   {
    "duration": 30,
    "start_time": "2021-07-07T12:38:47.427Z"
   },
   {
    "duration": 16,
    "start_time": "2021-07-07T12:38:53.305Z"
   },
   {
    "duration": 10,
    "start_time": "2021-07-07T12:38:53.499Z"
   },
   {
    "duration": 8,
    "start_time": "2021-07-07T12:39:48.161Z"
   },
   {
    "duration": 27,
    "start_time": "2021-07-07T12:41:17.629Z"
   },
   {
    "duration": 17,
    "start_time": "2021-07-07T12:41:17.867Z"
   },
   {
    "duration": 21,
    "start_time": "2021-07-07T12:41:19.310Z"
   },
   {
    "duration": 7,
    "start_time": "2021-07-07T12:41:19.544Z"
   },
   {
    "duration": 20,
    "start_time": "2021-07-07T12:41:20.504Z"
   },
   {
    "duration": 554,
    "start_time": "2021-07-07T12:56:23.696Z"
   },
   {
    "duration": 200,
    "start_time": "2021-07-07T12:56:25.234Z"
   },
   {
    "duration": 119,
    "start_time": "2021-07-07T12:56:25.480Z"
   },
   {
    "duration": 4,
    "start_time": "2021-07-07T12:56:25.762Z"
   },
   {
    "duration": 26,
    "start_time": "2021-07-07T12:56:27.172Z"
   },
   {
    "duration": 12,
    "start_time": "2021-07-07T12:56:29.051Z"
   },
   {
    "duration": 10,
    "start_time": "2021-07-07T12:56:29.291Z"
   },
   {
    "duration": 8,
    "start_time": "2021-07-07T12:56:29.623Z"
   },
   {
    "duration": 28,
    "start_time": "2021-07-07T12:56:32.137Z"
   },
   {
    "duration": 19,
    "start_time": "2021-07-07T12:56:39.785Z"
   },
   {
    "duration": 20,
    "start_time": "2021-07-07T12:56:44.297Z"
   },
   {
    "duration": 7,
    "start_time": "2021-07-07T12:56:45.392Z"
   },
   {
    "duration": 23,
    "start_time": "2021-07-07T12:56:46.615Z"
   },
   {
    "duration": 4,
    "start_time": "2021-07-07T12:57:06.625Z"
   },
   {
    "duration": 32,
    "start_time": "2021-07-07T12:57:36.690Z"
   },
   {
    "duration": 18,
    "start_time": "2021-07-07T12:58:00.149Z"
   },
   {
    "duration": 15,
    "start_time": "2021-07-07T12:59:16.793Z"
   },
   {
    "duration": 7,
    "start_time": "2021-07-07T13:19:22.624Z"
   },
   {
    "duration": 6,
    "start_time": "2021-07-07T14:17:33.527Z"
   },
   {
    "duration": 9,
    "start_time": "2021-07-07T14:17:48.409Z"
   },
   {
    "duration": 8,
    "start_time": "2021-07-07T14:20:13.060Z"
   },
   {
    "duration": 8,
    "start_time": "2021-07-07T14:20:37.957Z"
   },
   {
    "duration": 8,
    "start_time": "2021-07-07T14:20:47.470Z"
   },
   {
    "duration": 9,
    "start_time": "2021-07-07T14:20:54.503Z"
   },
   {
    "duration": 10,
    "start_time": "2021-07-07T14:28:57.763Z"
   },
   {
    "duration": 3,
    "start_time": "2021-07-07T14:30:23.377Z"
   },
   {
    "duration": 3,
    "start_time": "2021-07-07T14:30:36.489Z"
   },
   {
    "duration": 103,
    "start_time": "2021-07-07T14:30:52.351Z"
   },
   {
    "duration": 8,
    "start_time": "2021-07-07T14:30:54.763Z"
   },
   {
    "duration": 8,
    "start_time": "2021-07-07T14:31:29.301Z"
   },
   {
    "duration": 13,
    "start_time": "2021-07-07T14:31:44.516Z"
   },
   {
    "duration": 7,
    "start_time": "2021-07-07T14:33:10.972Z"
   },
   {
    "duration": 11,
    "start_time": "2021-07-07T14:33:27.780Z"
   },
   {
    "duration": 8,
    "start_time": "2021-07-07T14:34:44.588Z"
   },
   {
    "duration": 57,
    "start_time": "2021-07-07T14:35:59.042Z"
   },
   {
    "duration": 3,
    "start_time": "2021-07-07T14:36:28.168Z"
   },
   {
    "duration": 5,
    "start_time": "2021-07-07T14:36:46.254Z"
   },
   {
    "duration": 4,
    "start_time": "2021-07-07T14:36:52.714Z"
   },
   {
    "duration": 3,
    "start_time": "2021-07-07T14:36:56.612Z"
   },
   {
    "duration": 4,
    "start_time": "2021-07-07T14:36:57.049Z"
   },
   {
    "duration": 3,
    "start_time": "2021-07-07T14:39:21.214Z"
   },
   {
    "duration": 7,
    "start_time": "2021-07-07T14:39:52.406Z"
   },
   {
    "duration": 11,
    "start_time": "2021-07-07T14:39:58.576Z"
   },
   {
    "duration": 9,
    "start_time": "2021-07-07T14:40:26.301Z"
   },
   {
    "duration": 10,
    "start_time": "2021-07-07T14:40:31.704Z"
   },
   {
    "duration": 11,
    "start_time": "2021-07-07T14:40:36.249Z"
   },
   {
    "duration": 10,
    "start_time": "2021-07-07T14:40:39.783Z"
   },
   {
    "duration": 9,
    "start_time": "2021-07-07T14:40:48.558Z"
   },
   {
    "duration": 10,
    "start_time": "2021-07-07T14:40:57.143Z"
   },
   {
    "duration": 9,
    "start_time": "2021-07-07T14:41:06.074Z"
   },
   {
    "duration": 4324,
    "start_time": "2021-07-07T14:41:22.004Z"
   },
   {
    "duration": 11,
    "start_time": "2021-07-07T14:41:33.392Z"
   },
   {
    "duration": 9,
    "start_time": "2021-07-07T14:41:39.288Z"
   },
   {
    "duration": 569,
    "start_time": "2021-07-07T14:42:14.387Z"
   },
   {
    "duration": 197,
    "start_time": "2021-07-07T14:42:14.959Z"
   },
   {
    "duration": 84,
    "start_time": "2021-07-07T14:42:16.052Z"
   },
   {
    "duration": 4,
    "start_time": "2021-07-07T14:42:16.900Z"
   },
   {
    "duration": 27,
    "start_time": "2021-07-07T14:42:19.898Z"
   },
   {
    "duration": 12,
    "start_time": "2021-07-07T14:42:21.577Z"
   },
   {
    "duration": 9,
    "start_time": "2021-07-07T14:42:21.813Z"
   },
   {
    "duration": 9,
    "start_time": "2021-07-07T14:42:22.569Z"
   },
   {
    "duration": 29,
    "start_time": "2021-07-07T14:42:25.837Z"
   },
   {
    "duration": 20,
    "start_time": "2021-07-07T14:42:27.003Z"
   },
   {
    "duration": 21,
    "start_time": "2021-07-07T14:42:28.767Z"
   },
   {
    "duration": 7,
    "start_time": "2021-07-07T14:42:29.838Z"
   },
   {
    "duration": 4,
    "start_time": "2021-07-07T14:43:25.493Z"
   },
   {
    "duration": 7,
    "start_time": "2021-07-07T14:43:26.573Z"
   },
   {
    "duration": 10,
    "start_time": "2021-07-07T14:43:31.639Z"
   },
   {
    "duration": 9,
    "start_time": "2021-07-07T14:43:32.046Z"
   },
   {
    "duration": 10,
    "start_time": "2021-07-07T14:43:33.301Z"
   },
   {
    "duration": 12,
    "start_time": "2021-07-07T14:43:33.658Z"
   },
   {
    "duration": 8,
    "start_time": "2021-07-07T14:43:34.552Z"
   },
   {
    "duration": 9,
    "start_time": "2021-07-07T14:43:35.058Z"
   },
   {
    "duration": 12,
    "start_time": "2021-07-07T14:43:35.914Z"
   },
   {
    "duration": 17,
    "start_time": "2021-07-07T14:45:34.368Z"
   },
   {
    "duration": 512,
    "start_time": "2021-07-07T14:51:58.236Z"
   },
   {
    "duration": 223,
    "start_time": "2021-07-07T14:51:58.750Z"
   },
   {
    "duration": 93,
    "start_time": "2021-07-07T14:51:58.977Z"
   },
   {
    "duration": 4,
    "start_time": "2021-07-07T14:51:59.071Z"
   },
   {
    "duration": 37,
    "start_time": "2021-07-07T14:51:59.077Z"
   },
   {
    "duration": 18,
    "start_time": "2021-07-07T14:51:59.116Z"
   },
   {
    "duration": 10,
    "start_time": "2021-07-07T14:51:59.137Z"
   },
   {
    "duration": 8,
    "start_time": "2021-07-07T14:51:59.149Z"
   },
   {
    "duration": 54,
    "start_time": "2021-07-07T14:51:59.158Z"
   },
   {
    "duration": 18,
    "start_time": "2021-07-07T14:51:59.213Z"
   },
   {
    "duration": 22,
    "start_time": "2021-07-07T14:51:59.232Z"
   },
   {
    "duration": 36,
    "start_time": "2021-07-07T14:51:59.255Z"
   },
   {
    "duration": 7,
    "start_time": "2021-07-07T14:51:59.293Z"
   },
   {
    "duration": 10,
    "start_time": "2021-07-07T14:51:59.302Z"
   },
   {
    "duration": 9,
    "start_time": "2021-07-07T14:51:59.313Z"
   },
   {
    "duration": 11,
    "start_time": "2021-07-07T14:51:59.324Z"
   },
   {
    "duration": 8,
    "start_time": "2021-07-07T14:51:59.337Z"
   },
   {
    "duration": 46,
    "start_time": "2021-07-07T14:51:59.347Z"
   },
   {
    "duration": 22,
    "start_time": "2021-07-07T14:51:59.395Z"
   },
   {
    "duration": 24,
    "start_time": "2021-07-07T14:57:32.911Z"
   },
   {
    "duration": 7,
    "start_time": "2021-07-07T14:58:22.070Z"
   },
   {
    "duration": 4,
    "start_time": "2021-07-07T14:59:11.239Z"
   },
   {
    "duration": 25,
    "start_time": "2021-07-07T15:07:22.208Z"
   },
   {
    "duration": 16,
    "start_time": "2021-07-07T15:08:25.560Z"
   },
   {
    "duration": 15,
    "start_time": "2021-07-07T15:08:40.647Z"
   },
   {
    "duration": 14,
    "start_time": "2021-07-07T15:08:46.669Z"
   },
   {
    "duration": 533,
    "start_time": "2021-07-07T15:18:07.440Z"
   },
   {
    "duration": 173,
    "start_time": "2021-07-07T15:18:07.974Z"
   },
   {
    "duration": 84,
    "start_time": "2021-07-07T15:18:08.149Z"
   },
   {
    "duration": 3,
    "start_time": "2021-07-07T15:18:08.235Z"
   },
   {
    "duration": 30,
    "start_time": "2021-07-07T15:18:08.240Z"
   },
   {
    "duration": 22,
    "start_time": "2021-07-07T15:18:08.272Z"
   },
   {
    "duration": 11,
    "start_time": "2021-07-07T15:18:08.295Z"
   },
   {
    "duration": 11,
    "start_time": "2021-07-07T15:18:08.309Z"
   },
   {
    "duration": 40,
    "start_time": "2021-07-07T15:18:08.322Z"
   },
   {
    "duration": 42,
    "start_time": "2021-07-07T15:18:08.364Z"
   },
   {
    "duration": 22,
    "start_time": "2021-07-07T15:18:08.408Z"
   },
   {
    "duration": 5,
    "start_time": "2021-07-07T15:18:08.432Z"
   },
   {
    "duration": 13,
    "start_time": "2021-07-07T15:18:08.439Z"
   },
   {
    "duration": 9,
    "start_time": "2021-07-07T15:18:08.454Z"
   },
   {
    "duration": 32,
    "start_time": "2021-07-07T15:18:08.465Z"
   },
   {
    "duration": 10,
    "start_time": "2021-07-07T15:18:08.501Z"
   },
   {
    "duration": 7,
    "start_time": "2021-07-07T15:18:08.513Z"
   },
   {
    "duration": 11,
    "start_time": "2021-07-07T15:18:08.521Z"
   },
   {
    "duration": 17,
    "start_time": "2021-07-07T15:18:08.534Z"
   },
   {
    "duration": 44,
    "start_time": "2021-07-07T15:18:08.553Z"
   },
   {
    "duration": 22,
    "start_time": "2021-07-07T15:18:08.599Z"
   },
   {
    "duration": 61,
    "start_time": "2021-07-07T15:18:08.622Z"
   },
   {
    "duration": 7,
    "start_time": "2021-07-07T15:18:39.457Z"
   },
   {
    "duration": 5,
    "start_time": "2021-07-07T16:05:17.020Z"
   },
   {
    "duration": 5,
    "start_time": "2021-07-07T16:51:28.794Z"
   },
   {
    "duration": 546,
    "start_time": "2021-07-07T16:52:26.306Z"
   },
   {
    "duration": 203,
    "start_time": "2021-07-07T16:52:27.523Z"
   },
   {
    "duration": 85,
    "start_time": "2021-07-07T16:52:27.736Z"
   },
   {
    "duration": 4,
    "start_time": "2021-07-07T16:52:27.899Z"
   },
   {
    "duration": 25,
    "start_time": "2021-07-07T16:52:28.674Z"
   },
   {
    "duration": 8,
    "start_time": "2021-07-07T16:52:32.956Z"
   },
   {
    "duration": 18,
    "start_time": "2021-07-07T16:52:35.616Z"
   },
   {
    "duration": 6,
    "start_time": "2021-07-07T16:52:36.913Z"
   },
   {
    "duration": 11,
    "start_time": "2021-07-07T16:52:40.258Z"
   },
   {
    "duration": 10,
    "start_time": "2021-07-07T16:52:46.251Z"
   },
   {
    "duration": 8,
    "start_time": "2021-07-07T16:52:47.182Z"
   },
   {
    "duration": 27,
    "start_time": "2021-07-07T16:53:20.391Z"
   },
   {
    "duration": 20,
    "start_time": "2021-07-07T16:53:22.022Z"
   },
   {
    "duration": 23,
    "start_time": "2021-07-07T16:53:23.690Z"
   },
   {
    "duration": 8,
    "start_time": "2021-07-07T16:53:24.261Z"
   },
   {
    "duration": 4,
    "start_time": "2021-07-07T16:53:38.733Z"
   },
   {
    "duration": 7,
    "start_time": "2021-07-07T16:53:40.445Z"
   },
   {
    "duration": 11,
    "start_time": "2021-07-07T16:53:41.348Z"
   },
   {
    "duration": 13,
    "start_time": "2021-07-07T16:53:45.250Z"
   },
   {
    "duration": 12,
    "start_time": "2021-07-07T16:53:45.467Z"
   },
   {
    "duration": 4,
    "start_time": "2021-07-07T16:55:32.704Z"
   },
   {
    "duration": 12,
    "start_time": "2021-07-07T16:55:49.012Z"
   },
   {
    "duration": 18,
    "start_time": "2021-07-07T16:55:49.547Z"
   },
   {
    "duration": 611,
    "start_time": "2021-07-07T16:58:35.156Z"
   },
   {
    "duration": 200,
    "start_time": "2021-07-07T16:58:35.770Z"
   },
   {
    "duration": 86,
    "start_time": "2021-07-07T16:58:35.972Z"
   },
   {
    "duration": 3,
    "start_time": "2021-07-07T16:58:36.060Z"
   },
   {
    "duration": 27,
    "start_time": "2021-07-07T16:58:36.065Z"
   },
   {
    "duration": 8,
    "start_time": "2021-07-07T16:58:36.094Z"
   },
   {
    "duration": 17,
    "start_time": "2021-07-07T16:58:36.103Z"
   },
   {
    "duration": 5,
    "start_time": "2021-07-07T16:58:36.123Z"
   },
   {
    "duration": 11,
    "start_time": "2021-07-07T16:58:36.130Z"
   },
   {
    "duration": 7,
    "start_time": "2021-07-07T16:58:36.143Z"
   },
   {
    "duration": 37,
    "start_time": "2021-07-07T16:58:36.152Z"
   },
   {
    "duration": 27,
    "start_time": "2021-07-07T16:58:36.191Z"
   },
   {
    "duration": 19,
    "start_time": "2021-07-07T16:58:36.219Z"
   },
   {
    "duration": 49,
    "start_time": "2021-07-07T16:58:36.240Z"
   },
   {
    "duration": 6,
    "start_time": "2021-07-07T16:58:36.291Z"
   },
   {
    "duration": 3,
    "start_time": "2021-07-07T16:58:36.299Z"
   },
   {
    "duration": 13,
    "start_time": "2021-07-07T16:58:36.304Z"
   },
   {
    "duration": 10,
    "start_time": "2021-07-07T16:58:36.319Z"
   },
   {
    "duration": 10,
    "start_time": "2021-07-07T16:58:36.331Z"
   },
   {
    "duration": 44,
    "start_time": "2021-07-07T16:58:36.343Z"
   },
   {
    "duration": 4,
    "start_time": "2021-07-07T16:58:36.388Z"
   },
   {
    "duration": 13,
    "start_time": "2021-07-07T16:58:36.394Z"
   },
   {
    "duration": 16,
    "start_time": "2021-07-07T16:58:36.410Z"
   },
   {
    "duration": 8,
    "start_time": "2021-07-07T17:02:31.629Z"
   },
   {
    "duration": 8,
    "start_time": "2021-07-07T17:02:34.308Z"
   },
   {
    "duration": 6,
    "start_time": "2021-07-07T17:05:13.483Z"
   },
   {
    "duration": 17,
    "start_time": "2021-07-07T17:05:20.606Z"
   },
   {
    "duration": 7,
    "start_time": "2021-07-07T17:05:34.638Z"
   },
   {
    "duration": 3,
    "start_time": "2021-07-07T17:06:31.883Z"
   },
   {
    "duration": 570,
    "start_time": "2021-07-07T17:06:37.165Z"
   },
   {
    "duration": 174,
    "start_time": "2021-07-07T17:06:37.737Z"
   },
   {
    "duration": 47,
    "start_time": "2021-07-07T17:06:37.913Z"
   },
   {
    "duration": 3,
    "start_time": "2021-07-07T17:06:37.962Z"
   },
   {
    "duration": 27,
    "start_time": "2021-07-07T17:06:37.967Z"
   },
   {
    "duration": 7,
    "start_time": "2021-07-07T17:06:37.996Z"
   },
   {
    "duration": 16,
    "start_time": "2021-07-07T17:06:38.005Z"
   },
   {
    "duration": 6,
    "start_time": "2021-07-07T17:06:38.024Z"
   },
   {
    "duration": 12,
    "start_time": "2021-07-07T17:06:38.031Z"
   },
   {
    "duration": 41,
    "start_time": "2021-07-07T17:06:38.045Z"
   },
   {
    "duration": 8,
    "start_time": "2021-07-07T17:06:38.088Z"
   },
   {
    "duration": 26,
    "start_time": "2021-07-07T17:06:38.098Z"
   },
   {
    "duration": 17,
    "start_time": "2021-07-07T17:06:38.126Z"
   },
   {
    "duration": 43,
    "start_time": "2021-07-07T17:06:38.144Z"
   },
   {
    "duration": 6,
    "start_time": "2021-07-07T17:06:38.188Z"
   },
   {
    "duration": 5,
    "start_time": "2021-07-07T17:06:38.195Z"
   },
   {
    "duration": 9,
    "start_time": "2021-07-07T17:06:38.201Z"
   },
   {
    "duration": 12,
    "start_time": "2021-07-07T17:06:38.212Z"
   },
   {
    "duration": 11,
    "start_time": "2021-07-07T17:06:38.226Z"
   },
   {
    "duration": 47,
    "start_time": "2021-07-07T17:06:38.239Z"
   },
   {
    "duration": 4,
    "start_time": "2021-07-07T17:06:38.288Z"
   },
   {
    "duration": 13,
    "start_time": "2021-07-07T17:06:38.293Z"
   },
   {
    "duration": 5,
    "start_time": "2021-07-07T17:06:38.309Z"
   },
   {
    "duration": 18,
    "start_time": "2021-07-07T17:06:38.325Z"
   },
   {
    "duration": 20,
    "start_time": "2021-07-07T17:07:02.805Z"
   },
   {
    "duration": 19,
    "start_time": "2021-07-07T17:07:08.527Z"
   },
   {
    "duration": 19,
    "start_time": "2021-07-07T17:07:12.758Z"
   },
   {
    "duration": 22,
    "start_time": "2021-07-07T17:07:17.497Z"
   },
   {
    "duration": 19,
    "start_time": "2021-07-07T17:07:19.645Z"
   },
   {
    "duration": 10,
    "start_time": "2021-07-07T17:07:34.239Z"
   },
   {
    "duration": 17,
    "start_time": "2021-07-07T17:07:54.144Z"
   },
   {
    "duration": 14,
    "start_time": "2021-07-07T17:08:14.357Z"
   },
   {
    "duration": 616,
    "start_time": "2021-07-07T17:08:45.254Z"
   },
   {
    "duration": 178,
    "start_time": "2021-07-07T17:08:45.872Z"
   },
   {
    "duration": 60,
    "start_time": "2021-07-07T17:08:46.054Z"
   },
   {
    "duration": 3,
    "start_time": "2021-07-07T17:08:46.116Z"
   },
   {
    "duration": 26,
    "start_time": "2021-07-07T17:08:46.121Z"
   },
   {
    "duration": 7,
    "start_time": "2021-07-07T17:08:46.149Z"
   },
   {
    "duration": 17,
    "start_time": "2021-07-07T17:08:46.158Z"
   },
   {
    "duration": 14,
    "start_time": "2021-07-07T17:08:46.176Z"
   },
   {
    "duration": 17,
    "start_time": "2021-07-07T17:08:46.193Z"
   },
   {
    "duration": 9,
    "start_time": "2021-07-07T17:08:46.211Z"
   },
   {
    "duration": 21,
    "start_time": "2021-07-07T17:08:46.221Z"
   },
   {
    "duration": 49,
    "start_time": "2021-07-07T17:08:46.244Z"
   },
   {
    "duration": 24,
    "start_time": "2021-07-07T17:08:46.295Z"
   },
   {
    "duration": 22,
    "start_time": "2021-07-07T17:08:46.321Z"
   },
   {
    "duration": 6,
    "start_time": "2021-07-07T17:08:46.345Z"
   },
   {
    "duration": 5,
    "start_time": "2021-07-07T17:08:46.353Z"
   },
   {
    "duration": 13,
    "start_time": "2021-07-07T17:08:46.386Z"
   },
   {
    "duration": 12,
    "start_time": "2021-07-07T17:08:46.402Z"
   },
   {
    "duration": 10,
    "start_time": "2021-07-07T17:08:46.415Z"
   },
   {
    "duration": 7,
    "start_time": "2021-07-07T17:08:46.427Z"
   },
   {
    "duration": 8,
    "start_time": "2021-07-07T17:08:46.435Z"
   },
   {
    "duration": 68,
    "start_time": "2021-07-07T17:08:46.446Z"
   },
   {
    "duration": 13,
    "start_time": "2021-07-07T17:08:46.516Z"
   },
   {
    "duration": 78,
    "start_time": "2021-07-07T17:08:46.530Z"
   },
   {
    "duration": 40,
    "start_time": "2021-07-07T17:09:08.185Z"
   },
   {
    "duration": 16,
    "start_time": "2021-07-07T17:09:19.324Z"
   },
   {
    "duration": 21,
    "start_time": "2021-07-07T17:09:23.290Z"
   },
   {
    "duration": 13,
    "start_time": "2021-07-07T17:09:54.812Z"
   },
   {
    "duration": 13,
    "start_time": "2021-07-07T17:10:02.039Z"
   },
   {
    "duration": 10,
    "start_time": "2021-07-07T17:10:29.632Z"
   },
   {
    "duration": 13,
    "start_time": "2021-07-07T17:10:52.372Z"
   },
   {
    "duration": 13,
    "start_time": "2021-07-07T17:11:17.270Z"
   },
   {
    "duration": 13,
    "start_time": "2021-07-07T17:14:59.284Z"
   },
   {
    "duration": 547,
    "start_time": "2021-07-07T17:18:52.403Z"
   },
   {
    "duration": 163,
    "start_time": "2021-07-07T17:18:52.952Z"
   },
   {
    "duration": 44,
    "start_time": "2021-07-07T17:18:53.117Z"
   },
   {
    "duration": 3,
    "start_time": "2021-07-07T17:18:53.162Z"
   },
   {
    "duration": 26,
    "start_time": "2021-07-07T17:18:53.167Z"
   },
   {
    "duration": 6,
    "start_time": "2021-07-07T17:18:53.195Z"
   },
   {
    "duration": 15,
    "start_time": "2021-07-07T17:18:53.203Z"
   },
   {
    "duration": 5,
    "start_time": "2021-07-07T17:18:53.220Z"
   },
   {
    "duration": 11,
    "start_time": "2021-07-07T17:18:53.228Z"
   },
   {
    "duration": 9,
    "start_time": "2021-07-07T17:18:53.241Z"
   },
   {
    "duration": 41,
    "start_time": "2021-07-07T17:18:53.252Z"
   },
   {
    "duration": 33,
    "start_time": "2021-07-07T17:18:53.295Z"
   },
   {
    "duration": 19,
    "start_time": "2021-07-07T17:18:53.330Z"
   },
   {
    "duration": 49,
    "start_time": "2021-07-07T17:18:53.350Z"
   },
   {
    "duration": 5,
    "start_time": "2021-07-07T17:18:53.401Z"
   },
   {
    "duration": 5,
    "start_time": "2021-07-07T17:18:53.408Z"
   },
   {
    "duration": 11,
    "start_time": "2021-07-07T17:18:53.414Z"
   },
   {
    "duration": 9,
    "start_time": "2021-07-07T17:18:53.427Z"
   },
   {
    "duration": 10,
    "start_time": "2021-07-07T17:18:53.437Z"
   },
   {
    "duration": 39,
    "start_time": "2021-07-07T17:18:53.448Z"
   },
   {
    "duration": 26,
    "start_time": "2021-07-07T17:18:55.799Z"
   },
   {
    "duration": 598,
    "start_time": "2021-07-07T17:20:17.862Z"
   },
   {
    "duration": 161,
    "start_time": "2021-07-07T17:20:18.462Z"
   },
   {
    "duration": 45,
    "start_time": "2021-07-07T17:20:18.626Z"
   },
   {
    "duration": 4,
    "start_time": "2021-07-07T17:20:18.673Z"
   },
   {
    "duration": 38,
    "start_time": "2021-07-07T17:20:26.877Z"
   },
   {
    "duration": 7,
    "start_time": "2021-07-07T17:20:37.405Z"
   },
   {
    "duration": 19,
    "start_time": "2021-07-07T17:20:51.534Z"
   },
   {
    "duration": 5,
    "start_time": "2021-07-07T17:20:57.228Z"
   },
   {
    "duration": 7,
    "start_time": "2021-07-07T17:21:08.235Z"
   },
   {
    "duration": 19,
    "start_time": "2021-07-07T17:21:42.158Z"
   },
   {
    "duration": 14,
    "start_time": "2021-07-07T17:21:50.225Z"
   },
   {
    "duration": 22,
    "start_time": "2021-07-07T17:22:54.104Z"
   },
   {
    "duration": 5,
    "start_time": "2021-07-07T17:22:56.371Z"
   },
   {
    "duration": 14,
    "start_time": "2021-07-07T17:22:58.316Z"
   },
   {
    "duration": 5,
    "start_time": "2021-07-07T17:22:58.493Z"
   },
   {
    "duration": 35,
    "start_time": "2021-07-07T17:22:59.666Z"
   },
   {
    "duration": 6,
    "start_time": "2021-07-07T17:23:02.410Z"
   },
   {
    "duration": 611,
    "start_time": "2021-07-07T17:24:59.664Z"
   },
   {
    "duration": 178,
    "start_time": "2021-07-07T17:25:01.945Z"
   },
   {
    "duration": 47,
    "start_time": "2021-07-07T17:25:02.125Z"
   },
   {
    "duration": 2,
    "start_time": "2021-07-07T17:25:07.903Z"
   },
   {
    "duration": 254,
    "start_time": "2021-07-07T17:25:08.232Z"
   },
   {
    "duration": 182,
    "start_time": "2021-07-07T17:25:08.671Z"
   },
   {
    "duration": 6,
    "start_time": "2021-07-07T17:25:13.104Z"
   },
   {
    "duration": 36,
    "start_time": "2021-07-07T17:25:13.662Z"
   },
   {
    "duration": 7,
    "start_time": "2021-07-07T17:25:14.528Z"
   },
   {
    "duration": 24,
    "start_time": "2021-07-07T17:25:27.982Z"
   },
   {
    "duration": 3,
    "start_time": "2021-07-07T17:25:48.982Z"
   },
   {
    "duration": 165,
    "start_time": "2021-07-07T17:25:48.987Z"
   },
   {
    "duration": 50,
    "start_time": "2021-07-07T17:25:49.154Z"
   },
   {
    "duration": 4,
    "start_time": "2021-07-07T17:25:49.206Z"
   },
   {
    "duration": 26,
    "start_time": "2021-07-07T17:25:49.212Z"
   },
   {
    "duration": 7,
    "start_time": "2021-07-07T17:25:49.240Z"
   },
   {
    "duration": 16,
    "start_time": "2021-07-07T17:25:49.249Z"
   },
   {
    "duration": 22,
    "start_time": "2021-07-07T17:25:49.266Z"
   },
   {
    "duration": 16,
    "start_time": "2021-07-07T17:25:49.291Z"
   },
   {
    "duration": 9,
    "start_time": "2021-07-07T17:25:49.309Z"
   },
   {
    "duration": 7,
    "start_time": "2021-07-07T17:25:49.319Z"
   },
   {
    "duration": 28,
    "start_time": "2021-07-07T17:25:49.328Z"
   },
   {
    "duration": 44,
    "start_time": "2021-07-07T17:25:49.357Z"
   },
   {
    "duration": 22,
    "start_time": "2021-07-07T17:25:49.403Z"
   },
   {
    "duration": 7,
    "start_time": "2021-07-07T17:25:49.427Z"
   },
   {
    "duration": 3,
    "start_time": "2021-07-07T17:25:49.436Z"
   },
   {
    "duration": 44,
    "start_time": "2021-07-07T17:25:49.441Z"
   },
   {
    "duration": 12,
    "start_time": "2021-07-07T17:25:49.488Z"
   },
   {
    "duration": 13,
    "start_time": "2021-07-07T17:25:49.502Z"
   },
   {
    "duration": 10,
    "start_time": "2021-07-07T17:25:49.516Z"
   },
   {
    "duration": 62,
    "start_time": "2021-07-07T17:25:49.527Z"
   },
   {
    "duration": 26,
    "start_time": "2021-07-07T17:26:51.809Z"
   },
   {
    "duration": 26,
    "start_time": "2021-07-07T17:26:55.759Z"
   },
   {
    "duration": 26,
    "start_time": "2021-07-07T17:27:04.501Z"
   },
   {
    "duration": 25,
    "start_time": "2021-07-07T17:28:24.859Z"
   },
   {
    "duration": 21,
    "start_time": "2021-07-07T17:28:55.250Z"
   },
   {
    "duration": 21,
    "start_time": "2021-07-07T17:28:58.885Z"
   },
   {
    "duration": 7,
    "start_time": "2021-07-07T17:45:40.972Z"
   },
   {
    "duration": 13,
    "start_time": "2021-07-07T17:45:42.529Z"
   },
   {
    "duration": 27,
    "start_time": "2021-07-07T17:45:51.026Z"
   },
   {
    "duration": 518,
    "start_time": "2021-07-07T17:46:15.532Z"
   },
   {
    "duration": 235,
    "start_time": "2021-07-07T17:46:16.053Z"
   },
   {
    "duration": 80,
    "start_time": "2021-07-07T17:46:16.292Z"
   },
   {
    "duration": 5,
    "start_time": "2021-07-07T17:46:16.373Z"
   },
   {
    "duration": 26,
    "start_time": "2021-07-07T17:46:16.380Z"
   },
   {
    "duration": 7,
    "start_time": "2021-07-07T17:46:16.408Z"
   },
   {
    "duration": 16,
    "start_time": "2021-07-07T17:46:16.418Z"
   },
   {
    "duration": 5,
    "start_time": "2021-07-07T17:46:16.436Z"
   },
   {
    "duration": 13,
    "start_time": "2021-07-07T17:46:16.442Z"
   },
   {
    "duration": 35,
    "start_time": "2021-07-07T17:46:16.456Z"
   },
   {
    "duration": 8,
    "start_time": "2021-07-07T17:46:16.493Z"
   },
   {
    "duration": 28,
    "start_time": "2021-07-07T17:46:16.502Z"
   },
   {
    "duration": 17,
    "start_time": "2021-07-07T17:46:16.532Z"
   },
   {
    "duration": 44,
    "start_time": "2021-07-07T17:46:16.551Z"
   },
   {
    "duration": 6,
    "start_time": "2021-07-07T17:46:16.597Z"
   },
   {
    "duration": 4,
    "start_time": "2021-07-07T17:46:16.605Z"
   },
   {
    "duration": 9,
    "start_time": "2021-07-07T17:46:16.610Z"
   },
   {
    "duration": 9,
    "start_time": "2021-07-07T17:46:16.621Z"
   },
   {
    "duration": 10,
    "start_time": "2021-07-07T17:46:16.632Z"
   },
   {
    "duration": 43,
    "start_time": "2021-07-07T17:46:16.644Z"
   },
   {
    "duration": 26,
    "start_time": "2021-07-07T17:46:16.689Z"
   },
   {
    "duration": 19,
    "start_time": "2021-07-07T17:46:16.718Z"
   },
   {
    "duration": 8,
    "start_time": "2021-07-07T17:46:16.738Z"
   },
   {
    "duration": 43,
    "start_time": "2021-07-07T17:46:16.747Z"
   },
   {
    "duration": 19,
    "start_time": "2021-07-07T17:46:16.791Z"
   },
   {
    "duration": 9,
    "start_time": "2021-07-07T17:46:16.812Z"
   },
   {
    "duration": 60,
    "start_time": "2021-07-07T17:46:16.822Z"
   },
   {
    "duration": -8,
    "start_time": "2021-07-07T17:46:16.892Z"
   },
   {
    "duration": 12,
    "start_time": "2021-07-07T17:48:47.707Z"
   },
   {
    "duration": 553,
    "start_time": "2021-07-07T18:10:09.350Z"
   },
   {
    "duration": 230,
    "start_time": "2021-07-07T18:10:09.905Z"
   },
   {
    "duration": 97,
    "start_time": "2021-07-07T18:10:10.137Z"
   },
   {
    "duration": 5,
    "start_time": "2021-07-07T18:10:10.236Z"
   },
   {
    "duration": 29,
    "start_time": "2021-07-07T18:10:10.242Z"
   },
   {
    "duration": 7,
    "start_time": "2021-07-07T18:10:10.272Z"
   },
   {
    "duration": 15,
    "start_time": "2021-07-07T18:10:10.281Z"
   },
   {
    "duration": 4,
    "start_time": "2021-07-07T18:10:10.299Z"
   },
   {
    "duration": 14,
    "start_time": "2021-07-07T18:10:10.305Z"
   },
   {
    "duration": 8,
    "start_time": "2021-07-07T18:10:10.321Z"
   },
   {
    "duration": 8,
    "start_time": "2021-07-07T18:10:10.331Z"
   },
   {
    "duration": 56,
    "start_time": "2021-07-07T18:10:10.341Z"
   },
   {
    "duration": 19,
    "start_time": "2021-07-07T18:10:10.399Z"
   },
   {
    "duration": 23,
    "start_time": "2021-07-07T18:10:10.419Z"
   },
   {
    "duration": 6,
    "start_time": "2021-07-07T18:10:10.444Z"
   },
   {
    "duration": 9,
    "start_time": "2021-07-07T18:10:10.451Z"
   },
   {
    "duration": 30,
    "start_time": "2021-07-07T18:10:10.462Z"
   },
   {
    "duration": 9,
    "start_time": "2021-07-07T18:10:10.494Z"
   },
   {
    "duration": 14,
    "start_time": "2021-07-07T18:10:10.505Z"
   },
   {
    "duration": 7,
    "start_time": "2021-07-07T18:10:10.521Z"
   },
   {
    "duration": 26,
    "start_time": "2021-07-07T18:10:10.530Z"
   },
   {
    "duration": 44,
    "start_time": "2021-07-07T18:10:10.558Z"
   },
   {
    "duration": 7,
    "start_time": "2021-07-07T18:10:10.605Z"
   },
   {
    "duration": 11,
    "start_time": "2021-07-07T18:10:10.614Z"
   },
   {
    "duration": 19,
    "start_time": "2021-07-07T18:10:10.626Z"
   },
   {
    "duration": 44,
    "start_time": "2021-07-07T18:10:10.646Z"
   },
   {
    "duration": 516,
    "start_time": "2021-07-07T18:14:00.826Z"
   },
   {
    "duration": 230,
    "start_time": "2021-07-07T18:14:01.344Z"
   },
   {
    "duration": 105,
    "start_time": "2021-07-07T18:14:01.576Z"
   },
   {
    "duration": 5,
    "start_time": "2021-07-07T18:14:01.683Z"
   },
   {
    "duration": 46,
    "start_time": "2021-07-07T18:14:01.690Z"
   },
   {
    "duration": 7,
    "start_time": "2021-07-07T18:14:01.738Z"
   },
   {
    "duration": 20,
    "start_time": "2021-07-07T18:14:01.747Z"
   },
   {
    "duration": 16,
    "start_time": "2021-07-07T18:14:01.769Z"
   },
   {
    "duration": 14,
    "start_time": "2021-07-07T18:14:01.787Z"
   },
   {
    "duration": 15,
    "start_time": "2021-07-07T18:14:01.803Z"
   },
   {
    "duration": 12,
    "start_time": "2021-07-07T18:14:01.820Z"
   },
   {
    "duration": 35,
    "start_time": "2021-07-07T18:14:01.833Z"
   },
   {
    "duration": 31,
    "start_time": "2021-07-07T18:14:01.869Z"
   },
   {
    "duration": 37,
    "start_time": "2021-07-07T18:14:01.902Z"
   },
   {
    "duration": 8,
    "start_time": "2021-07-07T18:14:01.942Z"
   },
   {
    "duration": 16,
    "start_time": "2021-07-07T18:14:01.952Z"
   },
   {
    "duration": 13,
    "start_time": "2021-07-07T18:14:01.970Z"
   },
   {
    "duration": 32,
    "start_time": "2021-07-07T18:14:01.985Z"
   },
   {
    "duration": 11,
    "start_time": "2021-07-07T18:14:02.019Z"
   },
   {
    "duration": 22,
    "start_time": "2021-07-07T18:14:02.031Z"
   },
   {
    "duration": 27,
    "start_time": "2021-07-07T18:14:02.055Z"
   },
   {
    "duration": 18,
    "start_time": "2021-07-07T18:14:02.084Z"
   },
   {
    "duration": 18,
    "start_time": "2021-07-07T18:14:02.106Z"
   },
   {
    "duration": 11,
    "start_time": "2021-07-07T18:14:02.126Z"
   },
   {
    "duration": 21,
    "start_time": "2021-07-07T18:14:02.138Z"
   },
   {
    "duration": 32,
    "start_time": "2021-07-07T18:14:02.161Z"
   },
   {
    "duration": 28,
    "start_time": "2021-07-07T18:14:44.295Z"
   },
   {
    "duration": 6,
    "start_time": "2021-07-07T18:15:05.834Z"
   },
   {
    "duration": 511,
    "start_time": "2021-07-07T18:15:41.541Z"
   },
   {
    "duration": 183,
    "start_time": "2021-07-07T18:15:42.054Z"
   },
   {
    "duration": 50,
    "start_time": "2021-07-07T18:15:42.239Z"
   },
   {
    "duration": 5,
    "start_time": "2021-07-07T18:15:42.291Z"
   },
   {
    "duration": 48,
    "start_time": "2021-07-07T18:15:42.297Z"
   },
   {
    "duration": 8,
    "start_time": "2021-07-07T18:15:42.346Z"
   },
   {
    "duration": 17,
    "start_time": "2021-07-07T18:15:42.356Z"
   },
   {
    "duration": 15,
    "start_time": "2021-07-07T18:15:42.375Z"
   },
   {
    "duration": 12,
    "start_time": "2021-07-07T18:15:42.392Z"
   },
   {
    "duration": 7,
    "start_time": "2021-07-07T18:15:42.406Z"
   },
   {
    "duration": 7,
    "start_time": "2021-07-07T18:15:42.415Z"
   },
   {
    "duration": 29,
    "start_time": "2021-07-07T18:15:42.423Z"
   },
   {
    "duration": 43,
    "start_time": "2021-07-07T18:15:42.453Z"
   },
   {
    "duration": 18,
    "start_time": "2021-07-07T18:15:42.497Z"
   },
   {
    "duration": 6,
    "start_time": "2021-07-07T18:15:42.516Z"
   },
   {
    "duration": 3,
    "start_time": "2021-07-07T18:15:42.523Z"
   },
   {
    "duration": 18,
    "start_time": "2021-07-07T18:15:42.528Z"
   },
   {
    "duration": 10,
    "start_time": "2021-07-07T18:15:42.547Z"
   },
   {
    "duration": 36,
    "start_time": "2021-07-07T18:15:42.559Z"
   },
   {
    "duration": 8,
    "start_time": "2021-07-07T18:15:42.597Z"
   },
   {
    "duration": 28,
    "start_time": "2021-07-07T18:15:42.606Z"
   },
   {
    "duration": 52,
    "start_time": "2021-07-07T18:15:42.635Z"
   },
   {
    "duration": 7,
    "start_time": "2021-07-07T18:15:42.690Z"
   },
   {
    "duration": 10,
    "start_time": "2021-07-07T18:15:42.699Z"
   },
   {
    "duration": 19,
    "start_time": "2021-07-07T18:15:42.711Z"
   },
   {
    "duration": 9,
    "start_time": "2021-07-07T18:15:42.732Z"
   },
   {
    "duration": 5,
    "start_time": "2021-07-07T18:15:42.743Z"
   },
   {
    "duration": 1450,
    "start_time": "2021-07-07T18:15:51.984Z"
   },
   {
    "duration": 161,
    "start_time": "2021-07-07T18:15:53.435Z"
   },
   {
    "duration": 124,
    "start_time": "2021-07-07T18:15:53.598Z"
   },
   {
    "duration": 5,
    "start_time": "2021-07-07T18:15:53.724Z"
   },
   {
    "duration": 34,
    "start_time": "2021-07-07T18:15:53.730Z"
   },
   {
    "duration": 7,
    "start_time": "2021-07-07T18:15:53.765Z"
   },
   {
    "duration": 15,
    "start_time": "2021-07-07T18:15:53.773Z"
   },
   {
    "duration": 5,
    "start_time": "2021-07-07T18:15:53.791Z"
   },
   {
    "duration": 19,
    "start_time": "2021-07-07T18:15:53.798Z"
   },
   {
    "duration": 9,
    "start_time": "2021-07-07T18:15:53.818Z"
   },
   {
    "duration": 19,
    "start_time": "2021-07-07T18:15:53.828Z"
   },
   {
    "duration": 27,
    "start_time": "2021-07-07T18:15:53.848Z"
   },
   {
    "duration": 16,
    "start_time": "2021-07-07T18:15:53.884Z"
   },
   {
    "duration": 29,
    "start_time": "2021-07-07T18:15:53.901Z"
   },
   {
    "duration": 5,
    "start_time": "2021-07-07T18:15:53.932Z"
   },
   {
    "duration": 15,
    "start_time": "2021-07-07T18:15:53.939Z"
   },
   {
    "duration": 13,
    "start_time": "2021-07-07T18:15:53.956Z"
   },
   {
    "duration": 20,
    "start_time": "2021-07-07T18:15:53.971Z"
   },
   {
    "duration": 14,
    "start_time": "2021-07-07T18:15:53.992Z"
   },
   {
    "duration": 9,
    "start_time": "2021-07-07T18:15:54.009Z"
   },
   {
    "duration": 28,
    "start_time": "2021-07-07T18:15:54.020Z"
   },
   {
    "duration": 50,
    "start_time": "2021-07-07T18:15:54.051Z"
   },
   {
    "duration": 8,
    "start_time": "2021-07-07T18:15:54.105Z"
   },
   {
    "duration": 11,
    "start_time": "2021-07-07T18:15:54.115Z"
   },
   {
    "duration": 20,
    "start_time": "2021-07-07T18:15:54.128Z"
   },
   {
    "duration": 13,
    "start_time": "2021-07-07T18:15:54.184Z"
   },
   {
    "duration": 7,
    "start_time": "2021-07-07T18:15:54.199Z"
   },
   {
    "duration": 7,
    "start_time": "2021-07-07T18:17:08.042Z"
   },
   {
    "duration": 8,
    "start_time": "2021-07-07T18:17:21.008Z"
   },
   {
    "duration": 7,
    "start_time": "2021-07-07T18:17:29.003Z"
   },
   {
    "duration": 8,
    "start_time": "2021-07-07T18:17:32.492Z"
   },
   {
    "duration": 9,
    "start_time": "2021-07-07T18:17:41.758Z"
   },
   {
    "duration": 255,
    "start_time": "2021-07-07T18:20:20.897Z"
   },
   {
    "duration": 173,
    "start_time": "2021-07-07T18:20:26.636Z"
   },
   {
    "duration": 7,
    "start_time": "2021-07-07T18:21:47.164Z"
   },
   {
    "duration": 254,
    "start_time": "2021-07-07T18:23:08.703Z"
   },
   {
    "duration": 21,
    "start_time": "2021-07-07T18:23:22.506Z"
   },
   {
    "duration": 315,
    "start_time": "2021-07-07T18:25:54.801Z"
   },
   {
    "duration": 34,
    "start_time": "2021-07-07T18:26:51.817Z"
   },
   {
    "duration": 327,
    "start_time": "2021-07-07T18:26:56.147Z"
   },
   {
    "duration": 342,
    "start_time": "2021-07-07T18:27:15.887Z"
   },
   {
    "duration": 302,
    "start_time": "2021-07-07T18:28:18.569Z"
   },
   {
    "duration": 226,
    "start_time": "2021-07-07T18:29:20.879Z"
   },
   {
    "duration": 207,
    "start_time": "2021-07-07T18:29:58.114Z"
   },
   {
    "duration": 140,
    "start_time": "2021-07-07T18:32:04.372Z"
   },
   {
    "duration": 158,
    "start_time": "2021-07-07T18:32:32.508Z"
   },
   {
    "duration": 145,
    "start_time": "2021-07-07T18:32:41.365Z"
   },
   {
    "duration": 132,
    "start_time": "2021-07-07T18:32:45.199Z"
   },
   {
    "duration": 11,
    "start_time": "2021-07-07T18:35:24.679Z"
   },
   {
    "duration": 268,
    "start_time": "2021-07-07T18:36:16.145Z"
   },
   {
    "duration": 227,
    "start_time": "2021-07-07T18:37:04.918Z"
   },
   {
    "duration": 3,
    "start_time": "2021-07-07T18:37:33.012Z"
   },
   {
    "duration": 671,
    "start_time": "2021-07-07T18:37:38.295Z"
   },
   {
    "duration": 54,
    "start_time": "2021-07-07T18:37:53.406Z"
   },
   {
    "duration": 631,
    "start_time": "2021-07-07T18:37:56.463Z"
   },
   {
    "duration": 19,
    "start_time": "2021-07-07T18:39:40.535Z"
   },
   {
    "duration": 20,
    "start_time": "2021-07-07T18:40:12.236Z"
   },
   {
    "duration": 633,
    "start_time": "2021-07-07T18:42:00.398Z"
   },
   {
    "duration": 218,
    "start_time": "2021-07-07T18:42:01.033Z"
   },
   {
    "duration": 49,
    "start_time": "2021-07-07T18:42:01.253Z"
   },
   {
    "duration": 5,
    "start_time": "2021-07-07T18:42:01.303Z"
   },
   {
    "duration": 27,
    "start_time": "2021-07-07T18:42:01.310Z"
   },
   {
    "duration": 8,
    "start_time": "2021-07-07T18:42:01.339Z"
   },
   {
    "duration": 20,
    "start_time": "2021-07-07T18:42:01.348Z"
   },
   {
    "duration": 6,
    "start_time": "2021-07-07T18:42:01.386Z"
   },
   {
    "duration": 16,
    "start_time": "2021-07-07T18:42:01.394Z"
   },
   {
    "duration": 9,
    "start_time": "2021-07-07T18:42:01.411Z"
   },
   {
    "duration": 11,
    "start_time": "2021-07-07T18:42:01.421Z"
   },
   {
    "duration": 31,
    "start_time": "2021-07-07T18:42:01.434Z"
   },
   {
    "duration": 18,
    "start_time": "2021-07-07T18:42:01.485Z"
   },
   {
    "duration": 23,
    "start_time": "2021-07-07T18:42:01.505Z"
   },
   {
    "duration": 6,
    "start_time": "2021-07-07T18:42:01.530Z"
   },
   {
    "duration": 10,
    "start_time": "2021-07-07T18:42:01.538Z"
   },
   {
    "duration": 13,
    "start_time": "2021-07-07T18:42:01.550Z"
   },
   {
    "duration": 24,
    "start_time": "2021-07-07T18:42:01.564Z"
   },
   {
    "duration": 20,
    "start_time": "2021-07-07T18:42:01.590Z"
   },
   {
    "duration": 8,
    "start_time": "2021-07-07T18:42:01.611Z"
   },
   {
    "duration": 31,
    "start_time": "2021-07-07T18:42:01.620Z"
   },
   {
    "duration": 39,
    "start_time": "2021-07-07T18:42:01.653Z"
   },
   {
    "duration": 8,
    "start_time": "2021-07-07T18:42:01.696Z"
   },
   {
    "duration": 13,
    "start_time": "2021-07-07T18:42:01.705Z"
   },
   {
    "duration": 20,
    "start_time": "2021-07-07T18:42:01.720Z"
   },
   {
    "duration": 12,
    "start_time": "2021-07-07T18:42:01.741Z"
   },
   {
    "duration": 35,
    "start_time": "2021-07-07T18:42:01.755Z"
   },
   {
    "duration": 14,
    "start_time": "2021-07-07T18:42:01.792Z"
   },
   {
    "duration": 188,
    "start_time": "2021-07-07T18:42:01.808Z"
   },
   {
    "duration": 19,
    "start_time": "2021-07-07T18:42:01.998Z"
   },
   {
    "duration": 175,
    "start_time": "2021-07-07T18:42:02.019Z"
   },
   {
    "duration": 134,
    "start_time": "2021-07-07T18:42:02.196Z"
   },
   {
    "duration": 10,
    "start_time": "2021-07-07T18:42:02.331Z"
   },
   {
    "duration": 19,
    "start_time": "2021-07-07T18:42:02.343Z"
   },
   {
    "duration": 628,
    "start_time": "2021-07-07T18:46:30.701Z"
   },
   {
    "duration": 183,
    "start_time": "2021-07-07T18:46:31.331Z"
   },
   {
    "duration": 48,
    "start_time": "2021-07-07T18:46:31.516Z"
   },
   {
    "duration": 5,
    "start_time": "2021-07-07T18:46:31.566Z"
   },
   {
    "duration": 28,
    "start_time": "2021-07-07T18:46:31.572Z"
   },
   {
    "duration": 8,
    "start_time": "2021-07-07T18:46:31.602Z"
   },
   {
    "duration": 19,
    "start_time": "2021-07-07T18:46:31.611Z"
   },
   {
    "duration": 6,
    "start_time": "2021-07-07T18:46:31.633Z"
   },
   {
    "duration": 17,
    "start_time": "2021-07-07T18:46:31.642Z"
   },
   {
    "duration": 10,
    "start_time": "2021-07-07T18:46:31.684Z"
   },
   {
    "duration": 9,
    "start_time": "2021-07-07T18:46:31.695Z"
   },
   {
    "duration": 28,
    "start_time": "2021-07-07T18:46:31.705Z"
   },
   {
    "duration": 18,
    "start_time": "2021-07-07T18:46:31.735Z"
   },
   {
    "duration": 48,
    "start_time": "2021-07-07T18:46:31.755Z"
   },
   {
    "duration": 6,
    "start_time": "2021-07-07T18:46:31.804Z"
   },
   {
    "duration": 4,
    "start_time": "2021-07-07T18:46:31.812Z"
   },
   {
    "duration": 9,
    "start_time": "2021-07-07T18:46:31.817Z"
   },
   {
    "duration": 10,
    "start_time": "2021-07-07T18:46:31.827Z"
   },
   {
    "duration": 12,
    "start_time": "2021-07-07T18:46:31.838Z"
   },
   {
    "duration": 39,
    "start_time": "2021-07-07T18:46:31.851Z"
   },
   {
    "duration": 24,
    "start_time": "2021-07-07T18:46:31.892Z"
   },
   {
    "duration": 15,
    "start_time": "2021-07-07T18:46:31.918Z"
   },
   {
    "duration": 7,
    "start_time": "2021-07-07T18:46:31.936Z"
   },
   {
    "duration": 8,
    "start_time": "2021-07-07T18:46:31.944Z"
   },
   {
    "duration": 19,
    "start_time": "2021-07-07T18:46:31.984Z"
   },
   {
    "duration": 10,
    "start_time": "2021-07-07T18:46:32.004Z"
   },
   {
    "duration": 5,
    "start_time": "2021-07-07T18:46:32.016Z"
   },
   {
    "duration": 9,
    "start_time": "2021-07-07T18:46:32.023Z"
   },
   {
    "duration": 199,
    "start_time": "2021-07-07T18:46:32.033Z"
   },
   {
    "duration": 19,
    "start_time": "2021-07-07T18:46:32.234Z"
   },
   {
    "duration": 159,
    "start_time": "2021-07-07T18:46:32.255Z"
   },
   {
    "duration": 134,
    "start_time": "2021-07-07T18:46:32.416Z"
   },
   {
    "duration": 10,
    "start_time": "2021-07-07T18:46:32.552Z"
   },
   {
    "duration": 34,
    "start_time": "2021-07-07T18:46:32.563Z"
   },
   {
    "duration": 1039,
    "start_time": "2021-07-08T08:41:09.419Z"
   },
   {
    "duration": 333,
    "start_time": "2021-07-08T08:41:10.459Z"
   },
   {
    "duration": 173,
    "start_time": "2021-07-08T08:41:10.794Z"
   },
   {
    "duration": 5,
    "start_time": "2021-07-08T08:41:10.968Z"
   },
   {
    "duration": 25,
    "start_time": "2021-07-08T08:41:10.975Z"
   },
   {
    "duration": 9,
    "start_time": "2021-07-08T08:41:11.002Z"
   },
   {
    "duration": 18,
    "start_time": "2021-07-08T08:41:11.013Z"
   },
   {
    "duration": 6,
    "start_time": "2021-07-08T08:41:11.033Z"
   },
   {
    "duration": 44,
    "start_time": "2021-07-08T08:41:11.042Z"
   },
   {
    "duration": 10,
    "start_time": "2021-07-08T08:41:11.088Z"
   },
   {
    "duration": 9,
    "start_time": "2021-07-08T08:41:11.100Z"
   },
   {
    "duration": 27,
    "start_time": "2021-07-08T08:41:11.111Z"
   },
   {
    "duration": 46,
    "start_time": "2021-07-08T08:41:11.140Z"
   },
   {
    "duration": 17,
    "start_time": "2021-07-08T08:41:11.187Z"
   },
   {
    "duration": 6,
    "start_time": "2021-07-08T08:41:11.206Z"
   },
   {
    "duration": 5,
    "start_time": "2021-07-08T08:41:11.213Z"
   },
   {
    "duration": 10,
    "start_time": "2021-07-08T08:41:11.219Z"
   },
   {
    "duration": 9,
    "start_time": "2021-07-08T08:41:11.230Z"
   },
   {
    "duration": 45,
    "start_time": "2021-07-08T08:41:11.241Z"
   },
   {
    "duration": 7,
    "start_time": "2021-07-08T08:41:11.287Z"
   },
   {
    "duration": 24,
    "start_time": "2021-07-08T08:41:11.296Z"
   },
   {
    "duration": 16,
    "start_time": "2021-07-08T08:41:11.322Z"
   },
   {
    "duration": 7,
    "start_time": "2021-07-08T08:41:11.341Z"
   },
   {
    "duration": 41,
    "start_time": "2021-07-08T08:41:11.349Z"
   },
   {
    "duration": 17,
    "start_time": "2021-07-08T08:41:11.391Z"
   },
   {
    "duration": 9,
    "start_time": "2021-07-08T08:41:11.410Z"
   },
   {
    "duration": 5,
    "start_time": "2021-07-08T08:41:11.421Z"
   },
   {
    "duration": 6,
    "start_time": "2021-07-08T08:41:11.428Z"
   },
   {
    "duration": 198,
    "start_time": "2021-07-08T08:41:11.435Z"
   },
   {
    "duration": 18,
    "start_time": "2021-07-08T08:41:11.635Z"
   },
   {
    "duration": 155,
    "start_time": "2021-07-08T08:41:11.655Z"
   },
   {
    "duration": 138,
    "start_time": "2021-07-08T08:41:11.811Z"
   },
   {
    "duration": 10,
    "start_time": "2021-07-08T08:41:11.950Z"
   },
   {
    "duration": 29,
    "start_time": "2021-07-08T08:41:11.961Z"
   },
   {
    "duration": 171,
    "start_time": "2021-07-08T08:47:44.522Z"
   },
   {
    "duration": 124,
    "start_time": "2021-07-08T08:47:46.872Z"
   },
   {
    "duration": 191,
    "start_time": "2021-07-08T08:47:58.148Z"
   },
   {
    "duration": 191,
    "start_time": "2021-07-08T08:48:07.412Z"
   },
   {
    "duration": 261,
    "start_time": "2021-07-08T08:48:10.385Z"
   },
   {
    "duration": 255,
    "start_time": "2021-07-08T08:48:14.494Z"
   },
   {
    "duration": 219,
    "start_time": "2021-07-08T08:48:22.752Z"
   },
   {
    "duration": 173,
    "start_time": "2021-07-08T08:49:06.395Z"
   },
   {
    "duration": 180,
    "start_time": "2021-07-08T08:49:21.011Z"
   },
   {
    "duration": 6,
    "start_time": "2021-07-08T08:50:31.697Z"
   },
   {
    "duration": 10,
    "start_time": "2021-07-08T08:50:47.394Z"
   },
   {
    "duration": 11,
    "start_time": "2021-07-08T08:53:49.332Z"
   },
   {
    "duration": 171,
    "start_time": "2021-07-08T08:54:28.408Z"
   },
   {
    "duration": 636,
    "start_time": "2021-07-08T09:02:48.385Z"
   },
   {
    "duration": 227,
    "start_time": "2021-07-08T09:02:49.023Z"
   },
   {
    "duration": 104,
    "start_time": "2021-07-08T09:02:49.252Z"
   },
   {
    "duration": 5,
    "start_time": "2021-07-08T09:02:49.358Z"
   },
   {
    "duration": 27,
    "start_time": "2021-07-08T09:02:49.365Z"
   },
   {
    "duration": 8,
    "start_time": "2021-07-08T09:02:49.394Z"
   },
   {
    "duration": 18,
    "start_time": "2021-07-08T09:02:49.404Z"
   },
   {
    "duration": 6,
    "start_time": "2021-07-08T09:02:49.424Z"
   },
   {
    "duration": 11,
    "start_time": "2021-07-08T09:02:49.433Z"
   },
   {
    "duration": 13,
    "start_time": "2021-07-08T09:02:49.485Z"
   },
   {
    "duration": 9,
    "start_time": "2021-07-08T09:02:49.500Z"
   },
   {
    "duration": 38,
    "start_time": "2021-07-08T09:02:49.511Z"
   },
   {
    "duration": 42,
    "start_time": "2021-07-08T09:02:49.551Z"
   },
   {
    "duration": 21,
    "start_time": "2021-07-08T09:02:49.594Z"
   },
   {
    "duration": 6,
    "start_time": "2021-07-08T09:02:49.616Z"
   },
   {
    "duration": 3,
    "start_time": "2021-07-08T09:02:49.623Z"
   },
   {
    "duration": 9,
    "start_time": "2021-07-08T09:02:49.628Z"
   },
   {
    "duration": 52,
    "start_time": "2021-07-08T09:02:49.638Z"
   },
   {
    "duration": 11,
    "start_time": "2021-07-08T09:02:49.692Z"
   },
   {
    "duration": 8,
    "start_time": "2021-07-08T09:02:49.704Z"
   },
   {
    "duration": 27,
    "start_time": "2021-07-08T09:02:49.713Z"
   },
   {
    "duration": 59,
    "start_time": "2021-07-08T09:02:49.741Z"
   },
   {
    "duration": 8,
    "start_time": "2021-07-08T09:02:49.803Z"
   },
   {
    "duration": 14,
    "start_time": "2021-07-08T09:02:49.813Z"
   },
   {
    "duration": 20,
    "start_time": "2021-07-08T09:02:49.829Z"
   },
   {
    "duration": 44,
    "start_time": "2021-07-08T09:02:49.851Z"
   },
   {
    "duration": 14,
    "start_time": "2021-07-08T09:02:49.896Z"
   },
   {
    "duration": 221,
    "start_time": "2021-07-08T09:02:49.912Z"
   },
   {
    "duration": 6,
    "start_time": "2021-07-08T09:02:50.134Z"
   },
   {
    "duration": 206,
    "start_time": "2021-07-08T09:02:50.142Z"
   },
   {
    "duration": 19,
    "start_time": "2021-07-08T09:02:50.350Z"
   },
   {
    "duration": 21,
    "start_time": "2021-07-08T09:02:50.370Z"
   },
   {
    "duration": 20,
    "start_time": "2021-07-08T09:02:50.393Z"
   },
   {
    "duration": 5,
    "start_time": "2021-07-08T09:02:50.414Z"
   },
   {
    "duration": 5,
    "start_time": "2021-07-08T09:03:34.173Z"
   },
   {
    "duration": 6,
    "start_time": "2021-07-08T09:04:49.062Z"
   },
   {
    "duration": 9,
    "start_time": "2021-07-08T09:04:50.118Z"
   },
   {
    "duration": 14,
    "start_time": "2021-07-08T09:04:58.512Z"
   },
   {
    "duration": 9,
    "start_time": "2021-07-08T09:05:10.988Z"
   },
   {
    "duration": 11,
    "start_time": "2021-07-08T09:05:11.743Z"
   },
   {
    "duration": 7,
    "start_time": "2021-07-08T09:05:25.677Z"
   },
   {
    "duration": 13,
    "start_time": "2021-07-08T09:05:47.189Z"
   },
   {
    "duration": 13,
    "start_time": "2021-07-08T09:05:54.755Z"
   },
   {
    "duration": 4,
    "start_time": "2021-07-08T09:06:29.189Z"
   },
   {
    "duration": 244,
    "start_time": "2021-07-08T09:06:29.195Z"
   },
   {
    "duration": 91,
    "start_time": "2021-07-08T09:06:29.441Z"
   },
   {
    "duration": 4,
    "start_time": "2021-07-08T09:06:29.534Z"
   },
   {
    "duration": 28,
    "start_time": "2021-07-08T09:06:29.540Z"
   },
   {
    "duration": 6,
    "start_time": "2021-07-08T09:06:29.570Z"
   },
   {
    "duration": 18,
    "start_time": "2021-07-08T09:06:29.578Z"
   },
   {
    "duration": 5,
    "start_time": "2021-07-08T09:06:29.597Z"
   },
   {
    "duration": 13,
    "start_time": "2021-07-08T09:06:29.605Z"
   },
   {
    "duration": 8,
    "start_time": "2021-07-08T09:06:29.620Z"
   },
   {
    "duration": 7,
    "start_time": "2021-07-08T09:06:29.630Z"
   },
   {
    "duration": 63,
    "start_time": "2021-07-08T09:06:29.639Z"
   },
   {
    "duration": 17,
    "start_time": "2021-07-08T09:06:29.704Z"
   },
   {
    "duration": 20,
    "start_time": "2021-07-08T09:06:29.723Z"
   },
   {
    "duration": 6,
    "start_time": "2021-07-08T09:06:29.745Z"
   },
   {
    "duration": 3,
    "start_time": "2021-07-08T09:06:29.752Z"
   },
   {
    "duration": 7,
    "start_time": "2021-07-08T09:06:29.785Z"
   },
   {
    "duration": 11,
    "start_time": "2021-07-08T09:06:29.794Z"
   },
   {
    "duration": 15,
    "start_time": "2021-07-08T09:06:29.807Z"
   },
   {
    "duration": 8,
    "start_time": "2021-07-08T09:06:29.823Z"
   },
   {
    "duration": 70,
    "start_time": "2021-07-08T09:06:29.832Z"
   },
   {
    "duration": 17,
    "start_time": "2021-07-08T09:06:29.903Z"
   },
   {
    "duration": 9,
    "start_time": "2021-07-08T09:06:29.921Z"
   },
   {
    "duration": 9,
    "start_time": "2021-07-08T09:06:29.932Z"
   },
   {
    "duration": 57,
    "start_time": "2021-07-08T09:06:29.942Z"
   },
   {
    "duration": 11,
    "start_time": "2021-07-08T09:06:30.001Z"
   },
   {
    "duration": 19,
    "start_time": "2021-07-08T09:06:30.016Z"
   },
   {
    "duration": 217,
    "start_time": "2021-07-08T09:06:30.037Z"
   },
   {
    "duration": 6,
    "start_time": "2021-07-08T09:06:30.255Z"
   },
   {
    "duration": 205,
    "start_time": "2021-07-08T09:06:30.263Z"
   },
   {
    "duration": 27,
    "start_time": "2021-07-08T09:06:30.470Z"
   },
   {
    "duration": 11,
    "start_time": "2021-07-08T09:06:30.500Z"
   },
   {
    "duration": 31,
    "start_time": "2021-07-08T09:06:30.513Z"
   },
   {
    "duration": 18,
    "start_time": "2021-07-08T09:06:30.546Z"
   },
   {
    "duration": 11,
    "start_time": "2021-07-08T09:06:30.566Z"
   },
   {
    "duration": 19,
    "start_time": "2021-07-08T09:06:30.579Z"
   },
   {
    "duration": 20,
    "start_time": "2021-07-08T09:06:49.466Z"
   },
   {
    "duration": 9,
    "start_time": "2021-07-08T09:06:51.994Z"
   },
   {
    "duration": 20,
    "start_time": "2021-07-08T09:06:52.273Z"
   },
   {
    "duration": 246,
    "start_time": "2021-07-08T09:10:21.272Z"
   },
   {
    "duration": 84,
    "start_time": "2021-07-08T09:10:21.436Z"
   },
   {
    "duration": 7,
    "start_time": "2021-07-08T09:10:37.608Z"
   },
   {
    "duration": 189,
    "start_time": "2021-07-08T09:10:38.573Z"
   },
   {
    "duration": 185,
    "start_time": "2021-07-08T09:10:53.181Z"
   },
   {
    "duration": 11,
    "start_time": "2021-07-08T09:10:59.549Z"
   },
   {
    "duration": 42,
    "start_time": "2021-07-08T09:10:59.709Z"
   },
   {
    "duration": 12,
    "start_time": "2021-07-08T09:11:02.857Z"
   },
   {
    "duration": 28,
    "start_time": "2021-07-08T09:11:10.062Z"
   },
   {
    "duration": 249,
    "start_time": "2021-07-08T09:11:37.388Z"
   },
   {
    "duration": 232,
    "start_time": "2021-07-08T09:11:49.485Z"
   },
   {
    "duration": 453,
    "start_time": "2021-07-08T09:12:01.546Z"
   },
   {
    "duration": 440,
    "start_time": "2021-07-08T09:12:12.347Z"
   },
   {
    "duration": 213,
    "start_time": "2021-07-08T09:13:32.196Z"
   },
   {
    "duration": 172,
    "start_time": "2021-07-08T09:14:07.400Z"
   },
   {
    "duration": 185,
    "start_time": "2021-07-08T09:14:14.905Z"
   },
   {
    "duration": 209,
    "start_time": "2021-07-08T09:14:40.109Z"
   },
   {
    "duration": 201,
    "start_time": "2021-07-08T09:14:54.506Z"
   },
   {
    "duration": 622,
    "start_time": "2021-07-08T09:18:14.497Z"
   },
   {
    "duration": 220,
    "start_time": "2021-07-08T09:18:15.121Z"
   },
   {
    "duration": 79,
    "start_time": "2021-07-08T09:18:15.343Z"
   },
   {
    "duration": 4,
    "start_time": "2021-07-08T09:18:15.425Z"
   },
   {
    "duration": 24,
    "start_time": "2021-07-08T09:18:15.431Z"
   },
   {
    "duration": 8,
    "start_time": "2021-07-08T09:18:15.457Z"
   },
   {
    "duration": 16,
    "start_time": "2021-07-08T09:18:15.466Z"
   },
   {
    "duration": 5,
    "start_time": "2021-07-08T09:18:15.484Z"
   },
   {
    "duration": 10,
    "start_time": "2021-07-08T09:18:15.493Z"
   },
   {
    "duration": 8,
    "start_time": "2021-07-08T09:18:15.504Z"
   },
   {
    "duration": 7,
    "start_time": "2021-07-08T09:18:15.513Z"
   },
   {
    "duration": 26,
    "start_time": "2021-07-08T09:18:15.522Z"
   },
   {
    "duration": 49,
    "start_time": "2021-07-08T09:18:15.550Z"
   },
   {
    "duration": 21,
    "start_time": "2021-07-08T09:18:15.601Z"
   },
   {
    "duration": 8,
    "start_time": "2021-07-08T09:18:15.624Z"
   },
   {
    "duration": 3,
    "start_time": "2021-07-08T09:18:15.634Z"
   },
   {
    "duration": 8,
    "start_time": "2021-07-08T09:18:15.639Z"
   },
   {
    "duration": 45,
    "start_time": "2021-07-08T09:18:15.649Z"
   },
   {
    "duration": 13,
    "start_time": "2021-07-08T09:18:15.696Z"
   },
   {
    "duration": 10,
    "start_time": "2021-07-08T09:18:15.711Z"
   },
   {
    "duration": 64,
    "start_time": "2021-07-08T09:18:15.722Z"
   },
   {
    "duration": 19,
    "start_time": "2021-07-08T09:18:15.788Z"
   },
   {
    "duration": 9,
    "start_time": "2021-07-08T09:18:15.809Z"
   },
   {
    "duration": 9,
    "start_time": "2021-07-08T09:18:15.820Z"
   },
   {
    "duration": 18,
    "start_time": "2021-07-08T09:18:15.831Z"
   },
   {
    "duration": 43,
    "start_time": "2021-07-08T09:18:15.851Z"
   },
   {
    "duration": 12,
    "start_time": "2021-07-08T09:18:15.897Z"
   },
   {
    "duration": 219,
    "start_time": "2021-07-08T09:18:15.911Z"
   },
   {
    "duration": 8,
    "start_time": "2021-07-08T09:18:16.132Z"
   },
   {
    "duration": 199,
    "start_time": "2021-07-08T09:18:16.141Z"
   },
   {
    "duration": 18,
    "start_time": "2021-07-08T09:18:16.341Z"
   },
   {
    "duration": 24,
    "start_time": "2021-07-08T09:18:16.361Z"
   },
   {
    "duration": 24,
    "start_time": "2021-07-08T09:18:16.387Z"
   },
   {
    "duration": 211,
    "start_time": "2021-07-08T09:18:16.413Z"
   },
   {
    "duration": 18,
    "start_time": "2021-07-08T09:18:16.626Z"
   },
   {
    "duration": 596,
    "start_time": "2021-07-08T10:06:33.623Z"
   },
   {
    "duration": 181,
    "start_time": "2021-07-08T10:06:34.221Z"
   },
   {
    "duration": 176,
    "start_time": "2021-07-08T10:06:34.635Z"
   },
   {
    "duration": 239,
    "start_time": "2021-07-08T10:06:55.572Z"
   },
   {
    "duration": 6,
    "start_time": "2021-07-08T10:06:57.687Z"
   },
   {
    "duration": 4,
    "start_time": "2021-07-08T10:07:03.956Z"
   },
   {
    "duration": 4,
    "start_time": "2021-07-08T10:07:10.376Z"
   },
   {
    "duration": 4,
    "start_time": "2021-07-08T10:17:19.889Z"
   },
   {
    "duration": 3,
    "start_time": "2021-07-08T10:19:19.407Z"
   },
   {
    "duration": 197,
    "start_time": "2021-07-08T10:19:19.412Z"
   },
   {
    "duration": 127,
    "start_time": "2021-07-08T10:19:19.611Z"
   },
   {
    "duration": 4,
    "start_time": "2021-07-08T10:19:19.740Z"
   },
   {
    "duration": 27,
    "start_time": "2021-07-08T10:19:19.746Z"
   },
   {
    "duration": 7,
    "start_time": "2021-07-08T10:19:19.775Z"
   },
   {
    "duration": 30,
    "start_time": "2021-07-08T10:19:19.784Z"
   },
   {
    "duration": 7,
    "start_time": "2021-07-08T10:19:19.817Z"
   },
   {
    "duration": 26,
    "start_time": "2021-07-08T10:19:19.826Z"
   },
   {
    "duration": 18,
    "start_time": "2021-07-08T10:19:19.854Z"
   },
   {
    "duration": 14,
    "start_time": "2021-07-08T10:19:19.874Z"
   },
   {
    "duration": 48,
    "start_time": "2021-07-08T10:19:19.890Z"
   },
   {
    "duration": 17,
    "start_time": "2021-07-08T10:19:19.940Z"
   },
   {
    "duration": 38,
    "start_time": "2021-07-08T10:19:19.959Z"
   },
   {
    "duration": 8,
    "start_time": "2021-07-08T10:19:19.999Z"
   },
   {
    "duration": 15,
    "start_time": "2021-07-08T10:19:20.009Z"
   },
   {
    "duration": 22,
    "start_time": "2021-07-08T10:19:20.026Z"
   },
   {
    "duration": 10,
    "start_time": "2021-07-08T10:19:20.050Z"
   },
   {
    "duration": 10,
    "start_time": "2021-07-08T10:19:20.062Z"
   },
   {
    "duration": 20,
    "start_time": "2021-07-08T10:19:20.073Z"
   },
   {
    "duration": 29,
    "start_time": "2021-07-08T10:19:20.095Z"
   },
   {
    "duration": 17,
    "start_time": "2021-07-08T10:19:20.126Z"
   },
   {
    "duration": 40,
    "start_time": "2021-07-08T10:19:20.146Z"
   },
   {
    "duration": 15,
    "start_time": "2021-07-08T10:19:20.189Z"
   },
   {
    "duration": 19,
    "start_time": "2021-07-08T10:19:20.206Z"
   },
   {
    "duration": 10,
    "start_time": "2021-07-08T10:19:20.226Z"
   },
   {
    "duration": 11,
    "start_time": "2021-07-08T10:19:20.238Z"
   },
   {
    "duration": 297,
    "start_time": "2021-07-08T10:19:20.250Z"
   },
   {
    "duration": 6,
    "start_time": "2021-07-08T10:19:20.549Z"
   },
   {
    "duration": 191,
    "start_time": "2021-07-08T10:19:20.557Z"
   },
   {
    "duration": 19,
    "start_time": "2021-07-08T10:19:20.750Z"
   },
   {
    "duration": 20,
    "start_time": "2021-07-08T10:19:20.771Z"
   },
   {
    "duration": 15,
    "start_time": "2021-07-08T10:19:20.793Z"
   },
   {
    "duration": 222,
    "start_time": "2021-07-08T10:19:20.809Z"
   },
   {
    "duration": 20,
    "start_time": "2021-07-08T10:19:21.033Z"
   },
   {
    "duration": 27,
    "start_time": "2021-07-08T10:45:04.055Z"
   },
   {
    "duration": 8,
    "start_time": "2021-07-08T10:45:08.478Z"
   },
   {
    "duration": 8,
    "start_time": "2021-07-08T10:45:31.982Z"
   },
   {
    "duration": 10,
    "start_time": "2021-07-08T10:46:01.221Z"
   },
   {
    "duration": 17,
    "start_time": "2021-07-08T10:46:40.011Z"
   },
   {
    "duration": 193,
    "start_time": "2021-07-08T10:48:19.471Z"
   },
   {
    "duration": 225,
    "start_time": "2021-07-08T10:49:26.480Z"
   },
   {
    "duration": 204,
    "start_time": "2021-07-08T10:49:59.992Z"
   },
   {
    "duration": 435,
    "start_time": "2021-07-08T10:50:06.779Z"
   },
   {
    "duration": 199,
    "start_time": "2021-07-08T10:50:14.891Z"
   },
   {
    "duration": 204,
    "start_time": "2021-07-08T10:50:18.501Z"
   },
   {
    "duration": 244,
    "start_time": "2021-07-08T10:50:23.359Z"
   },
   {
    "duration": 192,
    "start_time": "2021-07-08T10:50:29.135Z"
   },
   {
    "duration": 218,
    "start_time": "2021-07-08T10:50:33.092Z"
   },
   {
    "duration": 207,
    "start_time": "2021-07-08T10:52:45.381Z"
   },
   {
    "duration": 5,
    "start_time": "2021-07-08T10:53:34.641Z"
   },
   {
    "duration": 196,
    "start_time": "2021-07-08T10:53:41.478Z"
   },
   {
    "duration": 43,
    "start_time": "2021-07-08T10:53:50.335Z"
   },
   {
    "duration": 32,
    "start_time": "2021-07-08T10:53:55.294Z"
   },
   {
    "duration": 55,
    "start_time": "2021-07-08T10:54:09.675Z"
   },
   {
    "duration": 16,
    "start_time": "2021-07-08T10:54:12.260Z"
   },
   {
    "duration": 15,
    "start_time": "2021-07-08T10:54:49.150Z"
   },
   {
    "duration": 20,
    "start_time": "2021-07-08T10:56:07.596Z"
   },
   {
    "duration": 16,
    "start_time": "2021-07-08T10:58:26.276Z"
   },
   {
    "duration": 22,
    "start_time": "2021-07-08T10:59:00.486Z"
   },
   {
    "duration": 18,
    "start_time": "2021-07-08T11:02:09.653Z"
   },
   {
    "duration": 10,
    "start_time": "2021-07-08T11:03:44.331Z"
   },
   {
    "duration": 10,
    "start_time": "2021-07-08T11:03:54.055Z"
   },
   {
    "duration": 12,
    "start_time": "2021-07-08T11:04:41.967Z"
   },
   {
    "duration": 24,
    "start_time": "2021-07-08T11:07:30.732Z"
   },
   {
    "duration": 6,
    "start_time": "2021-07-08T11:07:37.364Z"
   },
   {
    "duration": 16,
    "start_time": "2021-07-08T11:08:01.819Z"
   },
   {
    "duration": 17,
    "start_time": "2021-07-08T11:09:47.488Z"
   },
   {
    "duration": 246,
    "start_time": "2021-07-08T11:10:00.830Z"
   },
   {
    "duration": 18,
    "start_time": "2021-07-08T11:13:55.195Z"
   },
   {
    "duration": 204,
    "start_time": "2021-07-08T11:14:04.951Z"
   },
   {
    "duration": 19,
    "start_time": "2021-07-08T11:15:10.613Z"
   },
   {
    "duration": 680,
    "start_time": "2021-07-08T11:16:25.793Z"
   },
   {
    "duration": 451,
    "start_time": "2021-07-08T11:16:40.313Z"
   },
   {
    "duration": 469,
    "start_time": "2021-07-08T11:17:21.286Z"
   },
   {
    "duration": 20,
    "start_time": "2021-07-08T11:19:12.554Z"
   },
   {
    "duration": 35,
    "start_time": "2021-07-08T11:20:05.484Z"
   },
   {
    "duration": 53,
    "start_time": "2021-07-08T11:21:40.050Z"
   },
   {
    "duration": 13,
    "start_time": "2021-07-08T11:22:26.059Z"
   },
   {
    "duration": 19,
    "start_time": "2021-07-08T11:22:47.419Z"
   },
   {
    "duration": 25,
    "start_time": "2021-07-08T11:23:19.958Z"
   },
   {
    "duration": 29,
    "start_time": "2021-07-08T11:23:25.415Z"
   },
   {
    "duration": 10,
    "start_time": "2021-07-08T11:24:45.138Z"
   },
   {
    "duration": 19,
    "start_time": "2021-07-08T11:24:54.498Z"
   },
   {
    "duration": 12,
    "start_time": "2021-07-08T11:25:32.225Z"
   },
   {
    "duration": 19,
    "start_time": "2021-07-08T11:25:37.092Z"
   },
   {
    "duration": 17,
    "start_time": "2021-07-08T11:25:58.116Z"
   },
   {
    "duration": 15,
    "start_time": "2021-07-08T11:26:02.258Z"
   },
   {
    "duration": 8,
    "start_time": "2021-07-08T11:26:59.682Z"
   },
   {
    "duration": 184,
    "start_time": "2021-07-08T11:27:21.894Z"
   },
   {
    "duration": 8,
    "start_time": "2021-07-08T11:27:23.824Z"
   },
   {
    "duration": 202,
    "start_time": "2021-07-08T11:27:23.962Z"
   },
   {
    "duration": 360,
    "start_time": "2021-07-08T11:28:33.215Z"
   },
   {
    "duration": 231,
    "start_time": "2021-07-08T11:32:05.542Z"
   },
   {
    "duration": 607,
    "start_time": "2021-07-08T11:36:27.854Z"
   },
   {
    "duration": 241,
    "start_time": "2021-07-08T11:36:28.463Z"
   },
   {
    "duration": 67,
    "start_time": "2021-07-08T11:36:28.709Z"
   },
   {
    "duration": 5,
    "start_time": "2021-07-08T11:36:28.778Z"
   },
   {
    "duration": 32,
    "start_time": "2021-07-08T11:36:28.784Z"
   },
   {
    "duration": 11,
    "start_time": "2021-07-08T11:36:28.819Z"
   },
   {
    "duration": 20,
    "start_time": "2021-07-08T11:36:28.834Z"
   },
   {
    "duration": 36,
    "start_time": "2021-07-08T11:36:28.857Z"
   },
   {
    "duration": 16,
    "start_time": "2021-07-08T11:36:28.895Z"
   },
   {
    "duration": 14,
    "start_time": "2021-07-08T11:36:28.913Z"
   },
   {
    "duration": 9,
    "start_time": "2021-07-08T11:36:28.930Z"
   },
   {
    "duration": 55,
    "start_time": "2021-07-08T11:36:28.941Z"
   },
   {
    "duration": 27,
    "start_time": "2021-07-08T11:36:28.999Z"
   },
   {
    "duration": 30,
    "start_time": "2021-07-08T11:36:29.028Z"
   },
   {
    "duration": 31,
    "start_time": "2021-07-08T11:36:29.060Z"
   },
   {
    "duration": 3,
    "start_time": "2021-07-08T11:36:29.093Z"
   },
   {
    "duration": 12,
    "start_time": "2021-07-08T11:36:29.099Z"
   },
   {
    "duration": 11,
    "start_time": "2021-07-08T11:36:29.112Z"
   },
   {
    "duration": 12,
    "start_time": "2021-07-08T11:36:29.125Z"
   },
   {
    "duration": 9,
    "start_time": "2021-07-08T11:36:29.139Z"
   },
   {
    "duration": 31,
    "start_time": "2021-07-08T11:36:29.191Z"
   },
   {
    "duration": 17,
    "start_time": "2021-07-08T11:36:29.226Z"
   },
   {
    "duration": 7,
    "start_time": "2021-07-08T11:36:29.245Z"
   },
   {
    "duration": 10,
    "start_time": "2021-07-08T11:36:29.254Z"
   },
   {
    "duration": 30,
    "start_time": "2021-07-08T11:36:29.292Z"
   },
   {
    "duration": 11,
    "start_time": "2021-07-08T11:36:29.324Z"
   },
   {
    "duration": 11,
    "start_time": "2021-07-08T11:36:29.337Z"
   },
   {
    "duration": 230,
    "start_time": "2021-07-08T11:36:29.349Z"
   },
   {
    "duration": 13,
    "start_time": "2021-07-08T11:36:29.588Z"
   },
   {
    "duration": 205,
    "start_time": "2021-07-08T11:36:29.603Z"
   },
   {
    "duration": 20,
    "start_time": "2021-07-08T11:36:29.810Z"
   },
   {
    "duration": 9,
    "start_time": "2021-07-08T11:36:29.832Z"
   },
   {
    "duration": 16,
    "start_time": "2021-07-08T11:36:29.843Z"
   },
   {
    "duration": 283,
    "start_time": "2021-07-08T11:36:29.861Z"
   },
   {
    "duration": 50,
    "start_time": "2021-07-08T11:36:30.146Z"
   },
   {
    "duration": 14,
    "start_time": "2021-07-08T11:36:30.198Z"
   },
   {
    "duration": 11,
    "start_time": "2021-07-08T11:36:30.214Z"
   },
   {
    "duration": 245,
    "start_time": "2021-07-08T11:36:30.227Z"
   },
   {
    "duration": 439,
    "start_time": "2021-07-08T11:36:30.474Z"
   },
   {
    "duration": 210,
    "start_time": "2021-07-08T11:36:30.915Z"
   },
   {
    "duration": 15,
    "start_time": "2021-07-08T11:36:31.127Z"
   },
   {
    "duration": 17,
    "start_time": "2021-07-08T11:38:20.451Z"
   },
   {
    "duration": 642,
    "start_time": "2021-07-08T11:46:17.881Z"
   },
   {
    "duration": 210,
    "start_time": "2021-07-08T11:46:18.525Z"
   },
   {
    "duration": 104,
    "start_time": "2021-07-08T11:46:18.741Z"
   },
   {
    "duration": 8,
    "start_time": "2021-07-08T11:46:18.847Z"
   },
   {
    "duration": 25,
    "start_time": "2021-07-08T11:46:18.857Z"
   },
   {
    "duration": 14,
    "start_time": "2021-07-08T11:46:18.884Z"
   },
   {
    "duration": 22,
    "start_time": "2021-07-08T11:46:18.900Z"
   },
   {
    "duration": 5,
    "start_time": "2021-07-08T11:46:18.924Z"
   },
   {
    "duration": 13,
    "start_time": "2021-07-08T11:46:18.931Z"
   },
   {
    "duration": 45,
    "start_time": "2021-07-08T11:46:18.946Z"
   },
   {
    "duration": 12,
    "start_time": "2021-07-08T11:46:18.993Z"
   },
   {
    "duration": 38,
    "start_time": "2021-07-08T11:46:19.006Z"
   },
   {
    "duration": 50,
    "start_time": "2021-07-08T11:46:19.046Z"
   },
   {
    "duration": 29,
    "start_time": "2021-07-08T11:46:19.099Z"
   },
   {
    "duration": 7,
    "start_time": "2021-07-08T11:46:19.130Z"
   },
   {
    "duration": 3,
    "start_time": "2021-07-08T11:46:19.139Z"
   },
   {
    "duration": 11,
    "start_time": "2021-07-08T11:46:19.144Z"
   },
   {
    "duration": 40,
    "start_time": "2021-07-08T11:46:19.157Z"
   },
   {
    "duration": 15,
    "start_time": "2021-07-08T11:46:19.199Z"
   },
   {
    "duration": 10,
    "start_time": "2021-07-08T11:46:19.217Z"
   },
   {
    "duration": 68,
    "start_time": "2021-07-08T11:46:19.230Z"
   },
   {
    "duration": 17,
    "start_time": "2021-07-08T11:46:19.301Z"
   },
   {
    "duration": 7,
    "start_time": "2021-07-08T11:46:19.321Z"
   },
   {
    "duration": 11,
    "start_time": "2021-07-08T11:46:19.330Z"
   },
   {
    "duration": 59,
    "start_time": "2021-07-08T11:46:19.343Z"
   },
   {
    "duration": 17,
    "start_time": "2021-07-08T11:46:19.405Z"
   },
   {
    "duration": 16,
    "start_time": "2021-07-08T11:46:19.424Z"
   },
   {
    "duration": 252,
    "start_time": "2021-07-08T11:46:19.443Z"
   },
   {
    "duration": 9,
    "start_time": "2021-07-08T11:46:19.697Z"
   },
   {
    "duration": 224,
    "start_time": "2021-07-08T11:46:19.708Z"
   },
   {
    "duration": 21,
    "start_time": "2021-07-08T11:46:19.934Z"
   },
   {
    "duration": 9,
    "start_time": "2021-07-08T11:46:19.956Z"
   },
   {
    "duration": 32,
    "start_time": "2021-07-08T11:46:19.967Z"
   },
   {
    "duration": 288,
    "start_time": "2021-07-08T11:46:20.004Z"
   },
   {
    "duration": 23,
    "start_time": "2021-07-08T11:46:20.300Z"
   },
   {
    "duration": 11,
    "start_time": "2021-07-08T11:46:20.325Z"
   },
   {
    "duration": 11,
    "start_time": "2021-07-08T11:46:20.339Z"
   },
   {
    "duration": 259,
    "start_time": "2021-07-08T11:46:20.352Z"
   },
   {
    "duration": 438,
    "start_time": "2021-07-08T11:46:20.613Z"
   },
   {
    "duration": 207,
    "start_time": "2021-07-08T11:46:21.054Z"
   },
   {
    "duration": 27,
    "start_time": "2021-07-08T11:46:21.262Z"
   },
   {
    "duration": 19,
    "start_time": "2021-07-08T11:46:21.291Z"
   },
   {
    "duration": 820,
    "start_time": "2021-07-08T11:49:01.655Z"
   },
   {
    "duration": 372,
    "start_time": "2021-07-08T11:49:02.478Z"
   },
   {
    "duration": 98,
    "start_time": "2021-07-08T11:49:02.853Z"
   },
   {
    "duration": 6,
    "start_time": "2021-07-08T11:49:02.953Z"
   },
   {
    "duration": 39,
    "start_time": "2021-07-08T11:49:02.960Z"
   },
   {
    "duration": 9,
    "start_time": "2021-07-08T11:49:03.003Z"
   },
   {
    "duration": 23,
    "start_time": "2021-07-08T11:49:03.014Z"
   },
   {
    "duration": 6,
    "start_time": "2021-07-08T11:49:03.041Z"
   },
   {
    "duration": 20,
    "start_time": "2021-07-08T11:49:03.049Z"
   },
   {
    "duration": 18,
    "start_time": "2021-07-08T11:49:03.084Z"
   },
   {
    "duration": 14,
    "start_time": "2021-07-08T11:49:03.104Z"
   },
   {
    "duration": 39,
    "start_time": "2021-07-08T11:49:03.119Z"
   },
   {
    "duration": 38,
    "start_time": "2021-07-08T11:49:03.160Z"
   },
   {
    "duration": 26,
    "start_time": "2021-07-08T11:49:03.200Z"
   },
   {
    "duration": 7,
    "start_time": "2021-07-08T11:49:03.227Z"
   },
   {
    "duration": 4,
    "start_time": "2021-07-08T11:49:03.236Z"
   },
   {
    "duration": 15,
    "start_time": "2021-07-08T11:49:03.243Z"
   },
   {
    "duration": 21,
    "start_time": "2021-07-08T11:49:03.285Z"
   },
   {
    "duration": 17,
    "start_time": "2021-07-08T11:49:03.309Z"
   },
   {
    "duration": 10,
    "start_time": "2021-07-08T11:49:03.328Z"
   },
   {
    "duration": 65,
    "start_time": "2021-07-08T11:49:03.340Z"
   },
   {
    "duration": 18,
    "start_time": "2021-07-08T11:49:03.407Z"
   },
   {
    "duration": 8,
    "start_time": "2021-07-08T11:49:03.428Z"
   },
   {
    "duration": 15,
    "start_time": "2021-07-08T11:49:03.438Z"
   },
   {
    "duration": 40,
    "start_time": "2021-07-08T11:49:03.455Z"
   },
   {
    "duration": 12,
    "start_time": "2021-07-08T11:49:03.497Z"
   },
   {
    "duration": 29,
    "start_time": "2021-07-08T11:49:03.511Z"
   },
   {
    "duration": 285,
    "start_time": "2021-07-08T11:49:03.542Z"
   },
   {
    "duration": 8,
    "start_time": "2021-07-08T11:49:03.829Z"
   },
   {
    "duration": 227,
    "start_time": "2021-07-08T11:49:03.838Z"
   },
   {
    "duration": 40,
    "start_time": "2021-07-08T11:49:04.066Z"
   },
   {
    "duration": 10,
    "start_time": "2021-07-08T11:49:04.108Z"
   },
   {
    "duration": 26,
    "start_time": "2021-07-08T11:49:04.121Z"
   },
   {
    "duration": 290,
    "start_time": "2021-07-08T11:49:04.149Z"
   },
   {
    "duration": 26,
    "start_time": "2021-07-08T11:49:04.441Z"
   },
   {
    "duration": 31,
    "start_time": "2021-07-08T11:49:04.470Z"
   },
   {
    "duration": 14,
    "start_time": "2021-07-08T11:49:04.503Z"
   },
   {
    "duration": 259,
    "start_time": "2021-07-08T11:49:04.521Z"
   },
   {
    "duration": 480,
    "start_time": "2021-07-08T11:49:04.782Z"
   },
   {
    "duration": 225,
    "start_time": "2021-07-08T11:49:05.264Z"
   },
   {
    "duration": 22,
    "start_time": "2021-07-08T11:49:05.491Z"
   },
   {
    "duration": 24,
    "start_time": "2021-07-08T11:49:05.515Z"
   },
   {
    "duration": 634,
    "start_time": "2021-07-08T11:52:24.960Z"
   },
   {
    "duration": 199,
    "start_time": "2021-07-08T11:52:25.599Z"
   },
   {
    "duration": 106,
    "start_time": "2021-07-08T11:52:25.803Z"
   },
   {
    "duration": 7,
    "start_time": "2021-07-08T11:52:25.911Z"
   },
   {
    "duration": 29,
    "start_time": "2021-07-08T11:52:25.920Z"
   },
   {
    "duration": 7,
    "start_time": "2021-07-08T11:52:25.951Z"
   },
   {
    "duration": 26,
    "start_time": "2021-07-08T11:52:25.961Z"
   },
   {
    "duration": 11,
    "start_time": "2021-07-08T11:52:25.990Z"
   },
   {
    "duration": 29,
    "start_time": "2021-07-08T11:52:26.005Z"
   },
   {
    "duration": 9,
    "start_time": "2021-07-08T11:52:26.036Z"
   },
   {
    "duration": 8,
    "start_time": "2021-07-08T11:52:26.047Z"
   },
   {
    "duration": 63,
    "start_time": "2021-07-08T11:52:26.057Z"
   },
   {
    "duration": 17,
    "start_time": "2021-07-08T11:52:26.122Z"
   },
   {
    "duration": 43,
    "start_time": "2021-07-08T11:52:26.142Z"
   },
   {
    "duration": 17,
    "start_time": "2021-07-08T11:52:26.187Z"
   },
   {
    "duration": 5,
    "start_time": "2021-07-08T11:52:26.206Z"
   },
   {
    "duration": 12,
    "start_time": "2021-07-08T11:52:26.212Z"
   },
   {
    "duration": 11,
    "start_time": "2021-07-08T11:52:26.226Z"
   },
   {
    "duration": 12,
    "start_time": "2021-07-08T11:52:26.238Z"
   },
   {
    "duration": 38,
    "start_time": "2021-07-08T11:52:26.252Z"
   },
   {
    "duration": 40,
    "start_time": "2021-07-08T11:52:26.292Z"
   },
   {
    "duration": 17,
    "start_time": "2021-07-08T11:52:26.336Z"
   },
   {
    "duration": 39,
    "start_time": "2021-07-08T11:52:26.355Z"
   },
   {
    "duration": 11,
    "start_time": "2021-07-08T11:52:26.395Z"
   },
   {
    "duration": 23,
    "start_time": "2021-07-08T11:52:26.408Z"
   },
   {
    "duration": 12,
    "start_time": "2021-07-08T11:52:26.432Z"
   },
   {
    "duration": 41,
    "start_time": "2021-07-08T11:52:26.446Z"
   },
   {
    "duration": 215,
    "start_time": "2021-07-08T11:52:26.493Z"
   },
   {
    "duration": 8,
    "start_time": "2021-07-08T11:52:26.710Z"
   },
   {
    "duration": 228,
    "start_time": "2021-07-08T11:52:26.720Z"
   },
   {
    "duration": 18,
    "start_time": "2021-07-08T11:52:26.950Z"
   },
   {
    "duration": 35,
    "start_time": "2021-07-08T11:52:26.969Z"
   },
   {
    "duration": 23,
    "start_time": "2021-07-08T11:52:27.006Z"
   },
   {
    "duration": 258,
    "start_time": "2021-07-08T11:52:27.030Z"
   },
   {
    "duration": 24,
    "start_time": "2021-07-08T11:52:27.290Z"
   },
   {
    "duration": 12,
    "start_time": "2021-07-08T11:52:27.316Z"
   },
   {
    "duration": 10,
    "start_time": "2021-07-08T11:52:27.329Z"
   },
   {
    "duration": 298,
    "start_time": "2021-07-08T11:52:27.341Z"
   },
   {
    "duration": 436,
    "start_time": "2021-07-08T11:52:27.641Z"
   },
   {
    "duration": 216,
    "start_time": "2021-07-08T11:52:28.079Z"
   },
   {
    "duration": 20,
    "start_time": "2021-07-08T11:52:28.297Z"
   },
   {
    "duration": 17,
    "start_time": "2021-07-08T11:52:28.319Z"
   }
  ],
  "colab": {
   "name": "DA+. Сборный проект 1. Шаблон (1).ipynb",
   "provenance": []
  },
  "kernelspec": {
   "display_name": "Python 3 (ipykernel)",
   "language": "python",
   "name": "python3"
  },
  "language_info": {
   "codemirror_mode": {
    "name": "ipython",
    "version": 3
   },
   "file_extension": ".py",
   "mimetype": "text/x-python",
   "name": "python",
   "nbconvert_exporter": "python",
   "pygments_lexer": "ipython3",
   "version": "3.9.5"
  },
  "toc": {
   "base_numbering": 1,
   "nav_menu": {},
   "number_sections": true,
   "sideBar": true,
   "skip_h1_title": true,
   "title_cell": "Содержание",
   "title_sidebar": "Contents",
   "toc_cell": true,
   "toc_position": {
    "height": "calc(100% - 180px)",
    "left": "10px",
    "top": "150px",
    "width": "375.391px"
   },
   "toc_section_display": true,
   "toc_window_display": true
  }
 },
 "nbformat": 4,
 "nbformat_minor": 4
}
