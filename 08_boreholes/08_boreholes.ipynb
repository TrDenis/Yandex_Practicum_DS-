{
 "cells": [
  {
   "cell_type": "markdown",
   "metadata": {
    "pycharm": {
     "name": "#%% md\n"
    }
   },
   "source": [
    "# Выбор локации для скважины."
   ]
  },
  {
   "cell_type": "markdown",
   "metadata": {
    "pycharm": {
     "name": "#%% md\n"
    }
   },
   "source": [
    "## Введение"
   ]
  },
  {
   "cell_type": "markdown",
   "metadata": {
    "pycharm": {
     "name": "#%% md\n"
    }
   },
   "source": [
    "**Описание проекта**\n",
    "\n",
    "Для добывающей компании \"ГлавРосГосНефтьПромСтройСибЭлектроСнаб\" нужно решить, где бурить новую скважину.\n",
    "\n",
    "Предоставлены пробы нефти в трёх регионах: в каждом 10 000 месторождений, где измерили качество нефти и объём её запасов. Необходимо построить модель машинного обучения, которая поможет определить регион, где добыча принесёт наибольшую прибыль. Проанализировать возможную прибыль и риски техникой Bootstrap.\n",
    "\n",
    "Шаги для выбора локации:\n",
    "\n",
    "- В избранном регионе собирают характеристики для скважин: качество нефти и объём её запасов;\n",
    "- Строят модель для предсказания объёма запасов в новых скважинах;\n",
    "- Выбирают скважины с самыми высокими оценками значений;\n",
    "- Определяют регион с максимальной суммарной прибылью отобранных скважин.\n",
    "\n",
    "**Условия задачи:**\n",
    "\n",
    "Для обучения модели подходит только линейная регрессия (остальные — недостаточно предсказуемые).\n",
    "При разведке региона исследуют 500 точек, из которых с помощью машинного обучения выбирают 200 лучших для разработки.\n",
    "Бюджет на разработку скважин в регионе — 10 млрд рублей.\n",
    "При нынешних ценах один баррель сырья приносит 450 рублей дохода. Доход с каждой единицы продукта составляет 450 тыс. рублей, поскольку объём указан в тысячах баррелей.\n",
    "После оценки рисков нужно оставить лишь те регионы, в которых вероятность убытков меньше 2.5%. Среди них выбирать регион с наибольшей средней прибылью."
   ]
  },
  {
   "cell_type": "markdown",
   "metadata": {
    "pycharm": {
     "name": "#%% md\n"
    }
   },
   "source": [
    "## Описание данных"
   ]
  },
  {
   "cell_type": "markdown",
   "metadata": {
    "pycharm": {
     "name": "#%% md\n"
    }
   },
   "source": [
    "**Признаки:**\n",
    "- `id` — уникальный идентификатор месторождения;\n",
    "- `f0`, `f1`, `f2` — три признака точек (неважно, что они означают, но сами признаки значимы);\n",
    "\n",
    "**Целевой признак:**\n",
    "- `product` — объём запасов в месторождении (тыс. баррелей)."
   ]
  },
  {
   "cell_type": "markdown",
   "metadata": {
    "pycharm": {
     "name": "#%% md\n"
    }
   },
   "source": [
    "## Загрузка и подготовка данных"
   ]
  },
  {
   "cell_type": "markdown",
   "metadata": {
    "pycharm": {
     "name": "#%% md\n"
    }
   },
   "source": [
    "### Импорт используемых библиотек и методов"
   ]
  },
  {
   "cell_type": "code",
   "execution_count": 1,
   "metadata": {
    "pycharm": {
     "name": "#%%\n"
    }
   },
   "outputs": [],
   "source": [
    "# импортируем библиотеки и необходимые методы из других библиотек\n",
    "import pandas as pd\n",
    "import numpy as np\n",
    "import seaborn as sns\n",
    "import matplotlib.pyplot as plt\n",
    "from pylab import rcParams\n",
    "from sklearn.model_selection import train_test_split\n",
    "from sklearn.preprocessing import StandardScaler\n",
    "from sklearn.metrics import mean_squared_error\n",
    "from sklearn.linear_model import LinearRegression"
   ]
  },
  {
   "cell_type": "markdown",
   "metadata": {
    "pycharm": {
     "name": "#%% md\n"
    }
   },
   "source": [
    "### Настройка стилей и форматов вывода"
   ]
  },
  {
   "cell_type": "code",
   "execution_count": 2,
   "metadata": {
    "pycharm": {
     "name": "#%%\n"
    }
   },
   "outputs": [],
   "source": [
    "# настроим точность вывода до 2-х десятичных знаков и разделители тысяч (групп разрядов) для больших чисел\n",
    "pd.set_option('display.float_format', '{:,.2f}'.format)\n",
    "\n",
    "# установим графическую тему для графиков и гистограмм\n",
    "plt.style.use('seaborn')\n",
    "\n",
    "# настроим местоположение и размер шрифта для легенды и названий графиков и гистограмм\n",
    "rcParams['legend.loc'] = 'upper left'\n",
    "rcParams['legend.fontsize'] = 14\n",
    "rcParams['axes.titlesize'] = 18"
   ]
  },
  {
   "cell_type": "markdown",
   "metadata": {
    "pycharm": {
     "name": "#%% md\n"
    }
   },
   "source": [
    "### Объявление глобальных переменных"
   ]
  },
  {
   "cell_type": "code",
   "execution_count": 3,
   "metadata": {
    "pycharm": {
     "name": "#%%\n"
    }
   },
   "outputs": [],
   "source": [
    "# случайное состояние для создания псевдослучайных последовательностей\n",
    "MY_SEED = 1123581321"
   ]
  },
  {
   "cell_type": "markdown",
   "metadata": {
    "pycharm": {
     "name": "#%% md\n"
    }
   },
   "source": [
    "### Чтение данных"
   ]
  },
  {
   "cell_type": "code",
   "execution_count": 4,
   "metadata": {
    "pycharm": {
     "name": "#%%\n"
    }
   },
   "outputs": [],
   "source": [
    "# читаем данные в датафреймы с локального ПК, а если не получится, то из интернета\n",
    "try:\n",
    "    df0 = pd.read_csv('./datasets/geo_data_0.csv', sep=',')\n",
    "    df1 = pd.read_csv('./datasets/geo_data_1.csv', sep=',')\n",
    "    df2 = pd.read_csv('./datasets/geo_data_2.csv', sep=',')\n",
    "except:\n",
    "    print('ОШИБКА: Данные не были прочитаны, читаем из интернета!')\n",
    "    df0 = pd.read_csv('***', sep=',')\n",
    "    df1 = pd.read_csv('***', sep=',')\n",
    "    df2 = pd.read_csv('***', sep=',')"
   ]
  },
  {
   "cell_type": "markdown",
   "metadata": {
    "pycharm": {
     "name": "#%% md\n"
    }
   },
   "source": [
    "### Предобработка данных"
   ]
  },
  {
   "cell_type": "markdown",
   "metadata": {
    "pycharm": {
     "name": "#%% md\n"
    }
   },
   "source": [
    "#### Общая информацию о данных"
   ]
  },
  {
   "cell_type": "markdown",
   "metadata": {
    "pycharm": {
     "name": "#%% md\n"
    }
   },
   "source": [
    "Создадим функцию для вывода общей информации о датафрейме:\n",
    "- Информацию о структуре и типе данных;\n",
    "- Описание и основные характеристики данных;\n",
    "- Несколько случайных строк данных;\n",
    "- Гистограммы распределения;\n",
    "- Тепловую карту корреляции признаков;\n",
    "- Количество явных дубликатов."
   ]
  },
  {
   "cell_type": "code",
   "execution_count": 5,
   "metadata": {
    "pycharm": {
     "name": "#%%\n"
    }
   },
   "outputs": [],
   "source": [
    "# -----------------------------------------------------------------------------------------\n",
    "# функция вывода общей информации о датафрейме\n",
    "# -----------------------------------------------------------------------------------------\n",
    "def first_look(df):\n",
    "    display(df.info())\n",
    "    display(df.describe())\n",
    "    display(df.sample(5))\n",
    "    df.hist(bins=30, figsize=(15, 10))\n",
    "    plt.figure(figsize=(15, 10))\n",
    "    plt.title('Корреляция признаков', weight = 'bold')\n",
    "    sns.heatmap(df.corr(method='spearman'), annot = True, cmap='BuGn')\n",
    "    plt.show()\n",
    "    print('Количество дубликатов в данных:', df.duplicated().sum())\n",
    "    print(f'Количество столбцов: {df.shape[1]}, число записей: {df.shape[0]}')\n",
    "    return"
   ]
  },
  {
   "cell_type": "markdown",
   "metadata": {
    "pycharm": {
     "name": "#%% md\n"
    }
   },
   "source": [
    "Выведем информацио о данных последовательно вызывая функцию `first_look()` для каждого датасета."
   ]
  },
  {
   "cell_type": "code",
   "execution_count": 6,
   "metadata": {
    "pycharm": {
     "name": "#%%\n"
    }
   },
   "outputs": [
    {
     "name": "stdout",
     "output_type": "stream",
     "text": [
      "<class 'pandas.core.frame.DataFrame'>\n",
      "RangeIndex: 100000 entries, 0 to 99999\n",
      "Data columns (total 5 columns):\n",
      " #   Column   Non-Null Count   Dtype  \n",
      "---  ------   --------------   -----  \n",
      " 0   id       100000 non-null  object \n",
      " 1   f0       100000 non-null  float64\n",
      " 2   f1       100000 non-null  float64\n",
      " 3   f2       100000 non-null  float64\n",
      " 4   product  100000 non-null  float64\n",
      "dtypes: float64(4), object(1)\n",
      "memory usage: 3.8+ MB\n"
     ]
    },
    {
     "data": {
      "text/plain": [
       "None"
      ]
     },
     "metadata": {},
     "output_type": "display_data"
    },
    {
     "data": {
      "text/html": [
       "<div>\n",
       "<style scoped>\n",
       "    .dataframe tbody tr th:only-of-type {\n",
       "        vertical-align: middle;\n",
       "    }\n",
       "\n",
       "    .dataframe tbody tr th {\n",
       "        vertical-align: top;\n",
       "    }\n",
       "\n",
       "    .dataframe thead th {\n",
       "        text-align: right;\n",
       "    }\n",
       "</style>\n",
       "<table border=\"1\" class=\"dataframe\">\n",
       "  <thead>\n",
       "    <tr style=\"text-align: right;\">\n",
       "      <th></th>\n",
       "      <th>f0</th>\n",
       "      <th>f1</th>\n",
       "      <th>f2</th>\n",
       "      <th>product</th>\n",
       "    </tr>\n",
       "  </thead>\n",
       "  <tbody>\n",
       "    <tr>\n",
       "      <th>count</th>\n",
       "      <td>100,000.00</td>\n",
       "      <td>100,000.00</td>\n",
       "      <td>100,000.00</td>\n",
       "      <td>100,000.00</td>\n",
       "    </tr>\n",
       "    <tr>\n",
       "      <th>mean</th>\n",
       "      <td>0.50</td>\n",
       "      <td>0.25</td>\n",
       "      <td>2.50</td>\n",
       "      <td>92.50</td>\n",
       "    </tr>\n",
       "    <tr>\n",
       "      <th>std</th>\n",
       "      <td>0.87</td>\n",
       "      <td>0.50</td>\n",
       "      <td>3.25</td>\n",
       "      <td>44.29</td>\n",
       "    </tr>\n",
       "    <tr>\n",
       "      <th>min</th>\n",
       "      <td>-1.41</td>\n",
       "      <td>-0.85</td>\n",
       "      <td>-12.09</td>\n",
       "      <td>0.00</td>\n",
       "    </tr>\n",
       "    <tr>\n",
       "      <th>25%</th>\n",
       "      <td>-0.07</td>\n",
       "      <td>-0.20</td>\n",
       "      <td>0.29</td>\n",
       "      <td>56.50</td>\n",
       "    </tr>\n",
       "    <tr>\n",
       "      <th>50%</th>\n",
       "      <td>0.50</td>\n",
       "      <td>0.25</td>\n",
       "      <td>2.52</td>\n",
       "      <td>91.85</td>\n",
       "    </tr>\n",
       "    <tr>\n",
       "      <th>75%</th>\n",
       "      <td>1.07</td>\n",
       "      <td>0.70</td>\n",
       "      <td>4.72</td>\n",
       "      <td>128.56</td>\n",
       "    </tr>\n",
       "    <tr>\n",
       "      <th>max</th>\n",
       "      <td>2.36</td>\n",
       "      <td>1.34</td>\n",
       "      <td>16.00</td>\n",
       "      <td>185.36</td>\n",
       "    </tr>\n",
       "  </tbody>\n",
       "</table>\n",
       "</div>"
      ],
      "text/plain": [
       "              f0         f1         f2    product\n",
       "count 100,000.00 100,000.00 100,000.00 100,000.00\n",
       "mean        0.50       0.25       2.50      92.50\n",
       "std         0.87       0.50       3.25      44.29\n",
       "min        -1.41      -0.85     -12.09       0.00\n",
       "25%        -0.07      -0.20       0.29      56.50\n",
       "50%         0.50       0.25       2.52      91.85\n",
       "75%         1.07       0.70       4.72     128.56\n",
       "max         2.36       1.34      16.00     185.36"
      ]
     },
     "metadata": {},
     "output_type": "display_data"
    },
    {
     "data": {
      "text/html": [
       "<div>\n",
       "<style scoped>\n",
       "    .dataframe tbody tr th:only-of-type {\n",
       "        vertical-align: middle;\n",
       "    }\n",
       "\n",
       "    .dataframe tbody tr th {\n",
       "        vertical-align: top;\n",
       "    }\n",
       "\n",
       "    .dataframe thead th {\n",
       "        text-align: right;\n",
       "    }\n",
       "</style>\n",
       "<table border=\"1\" class=\"dataframe\">\n",
       "  <thead>\n",
       "    <tr style=\"text-align: right;\">\n",
       "      <th></th>\n",
       "      <th>id</th>\n",
       "      <th>f0</th>\n",
       "      <th>f1</th>\n",
       "      <th>f2</th>\n",
       "      <th>product</th>\n",
       "    </tr>\n",
       "  </thead>\n",
       "  <tbody>\n",
       "    <tr>\n",
       "      <th>91445</th>\n",
       "      <td>MpZCp</td>\n",
       "      <td>0.96</td>\n",
       "      <td>0.51</td>\n",
       "      <td>1.64</td>\n",
       "      <td>23.02</td>\n",
       "    </tr>\n",
       "    <tr>\n",
       "      <th>98827</th>\n",
       "      <td>BZr7B</td>\n",
       "      <td>1.66</td>\n",
       "      <td>-0.52</td>\n",
       "      <td>3.06</td>\n",
       "      <td>79.38</td>\n",
       "    </tr>\n",
       "    <tr>\n",
       "      <th>83698</th>\n",
       "      <td>TpbQj</td>\n",
       "      <td>0.03</td>\n",
       "      <td>0.30</td>\n",
       "      <td>-0.98</td>\n",
       "      <td>70.49</td>\n",
       "    </tr>\n",
       "    <tr>\n",
       "      <th>54327</th>\n",
       "      <td>vg2Oj</td>\n",
       "      <td>0.84</td>\n",
       "      <td>-0.51</td>\n",
       "      <td>2.04</td>\n",
       "      <td>123.17</td>\n",
       "    </tr>\n",
       "    <tr>\n",
       "      <th>44678</th>\n",
       "      <td>FdePp</td>\n",
       "      <td>1.83</td>\n",
       "      <td>-0.20</td>\n",
       "      <td>-3.26</td>\n",
       "      <td>55.68</td>\n",
       "    </tr>\n",
       "  </tbody>\n",
       "</table>\n",
       "</div>"
      ],
      "text/plain": [
       "          id   f0    f1    f2  product\n",
       "91445  MpZCp 0.96  0.51  1.64    23.02\n",
       "98827  BZr7B 1.66 -0.52  3.06    79.38\n",
       "83698  TpbQj 0.03  0.30 -0.98    70.49\n",
       "54327  vg2Oj 0.84 -0.51  2.04   123.17\n",
       "44678  FdePp 1.83 -0.20 -3.26    55.68"
      ]
     },
     "metadata": {},
     "output_type": "display_data"
    },
    {
     "data": {
      "image/png": "[encoded data removed]",
      "text/plain": [
       "<Figure size 1080x720 with 4 Axes>"
      ]
     },
     "metadata": {
      "needs_background": "light"
     },
     "output_type": "display_data"
    },
    {
     "data": {
      "image/png": "[encoded data removed]",
      "text/plain": [
       "<Figure size 1080x720 with 2 Axes>"
      ]
     },
     "metadata": {
      "needs_background": "light"
     },
     "output_type": "display_data"
    },
    {
     "name": "stdout",
     "output_type": "stream",
     "text": [
      "Количество дубликатов в данных: 0\n",
      "Количество столбцов: 5, число записей: 100000\n",
      "<class 'pandas.core.frame.DataFrame'>\n",
      "RangeIndex: 100000 entries, 0 to 99999\n",
      "Data columns (total 5 columns):\n",
      " #   Column   Non-Null Count   Dtype  \n",
      "---  ------   --------------   -----  \n",
      " 0   id       100000 non-null  object \n",
      " 1   f0       100000 non-null  float64\n",
      " 2   f1       100000 non-null  float64\n",
      " 3   f2       100000 non-null  float64\n",
      " 4   product  100000 non-null  float64\n",
      "dtypes: float64(4), object(1)\n",
      "memory usage: 3.8+ MB\n"
     ]
    },
    {
     "data": {
      "text/plain": [
       "None"
      ]
     },
     "metadata": {},
     "output_type": "display_data"
    },
    {
     "data": {
      "text/html": [
       "<div>\n",
       "<style scoped>\n",
       "    .dataframe tbody tr th:only-of-type {\n",
       "        vertical-align: middle;\n",
       "    }\n",
       "\n",
       "    .dataframe tbody tr th {\n",
       "        vertical-align: top;\n",
       "    }\n",
       "\n",
       "    .dataframe thead th {\n",
       "        text-align: right;\n",
       "    }\n",
       "</style>\n",
       "<table border=\"1\" class=\"dataframe\">\n",
       "  <thead>\n",
       "    <tr style=\"text-align: right;\">\n",
       "      <th></th>\n",
       "      <th>f0</th>\n",
       "      <th>f1</th>\n",
       "      <th>f2</th>\n",
       "      <th>product</th>\n",
       "    </tr>\n",
       "  </thead>\n",
       "  <tbody>\n",
       "    <tr>\n",
       "      <th>count</th>\n",
       "      <td>100,000.00</td>\n",
       "      <td>100,000.00</td>\n",
       "      <td>100,000.00</td>\n",
       "      <td>100,000.00</td>\n",
       "    </tr>\n",
       "    <tr>\n",
       "      <th>mean</th>\n",
       "      <td>1.14</td>\n",
       "      <td>-4.80</td>\n",
       "      <td>2.49</td>\n",
       "      <td>68.83</td>\n",
       "    </tr>\n",
       "    <tr>\n",
       "      <th>std</th>\n",
       "      <td>8.97</td>\n",
       "      <td>5.12</td>\n",
       "      <td>1.70</td>\n",
       "      <td>45.94</td>\n",
       "    </tr>\n",
       "    <tr>\n",
       "      <th>min</th>\n",
       "      <td>-31.61</td>\n",
       "      <td>-26.36</td>\n",
       "      <td>-0.02</td>\n",
       "      <td>0.00</td>\n",
       "    </tr>\n",
       "    <tr>\n",
       "      <th>25%</th>\n",
       "      <td>-6.30</td>\n",
       "      <td>-8.27</td>\n",
       "      <td>1.00</td>\n",
       "      <td>26.95</td>\n",
       "    </tr>\n",
       "    <tr>\n",
       "      <th>50%</th>\n",
       "      <td>1.15</td>\n",
       "      <td>-4.81</td>\n",
       "      <td>2.01</td>\n",
       "      <td>57.09</td>\n",
       "    </tr>\n",
       "    <tr>\n",
       "      <th>75%</th>\n",
       "      <td>8.62</td>\n",
       "      <td>-1.33</td>\n",
       "      <td>4.00</td>\n",
       "      <td>107.81</td>\n",
       "    </tr>\n",
       "    <tr>\n",
       "      <th>max</th>\n",
       "      <td>29.42</td>\n",
       "      <td>18.73</td>\n",
       "      <td>5.02</td>\n",
       "      <td>137.95</td>\n",
       "    </tr>\n",
       "  </tbody>\n",
       "</table>\n",
       "</div>"
      ],
      "text/plain": [
       "              f0         f1         f2    product\n",
       "count 100,000.00 100,000.00 100,000.00 100,000.00\n",
       "mean        1.14      -4.80       2.49      68.83\n",
       "std         8.97       5.12       1.70      45.94\n",
       "min       -31.61     -26.36      -0.02       0.00\n",
       "25%        -6.30      -8.27       1.00      26.95\n",
       "50%         1.15      -4.81       2.01      57.09\n",
       "75%         8.62      -1.33       4.00     107.81\n",
       "max        29.42      18.73       5.02     137.95"
      ]
     },
     "metadata": {},
     "output_type": "display_data"
    },
    {
     "data": {
      "text/html": [
       "<div>\n",
       "<style scoped>\n",
       "    .dataframe tbody tr th:only-of-type {\n",
       "        vertical-align: middle;\n",
       "    }\n",
       "\n",
       "    .dataframe tbody tr th {\n",
       "        vertical-align: top;\n",
       "    }\n",
       "\n",
       "    .dataframe thead th {\n",
       "        text-align: right;\n",
       "    }\n",
       "</style>\n",
       "<table border=\"1\" class=\"dataframe\">\n",
       "  <thead>\n",
       "    <tr style=\"text-align: right;\">\n",
       "      <th></th>\n",
       "      <th>id</th>\n",
       "      <th>f0</th>\n",
       "      <th>f1</th>\n",
       "      <th>f2</th>\n",
       "      <th>product</th>\n",
       "    </tr>\n",
       "  </thead>\n",
       "  <tbody>\n",
       "    <tr>\n",
       "      <th>30936</th>\n",
       "      <td>3kssT</td>\n",
       "      <td>-17.18</td>\n",
       "      <td>-7.75</td>\n",
       "      <td>5.00</td>\n",
       "      <td>137.95</td>\n",
       "    </tr>\n",
       "    <tr>\n",
       "      <th>65102</th>\n",
       "      <td>xUS2n</td>\n",
       "      <td>5.87</td>\n",
       "      <td>4.86</td>\n",
       "      <td>5.00</td>\n",
       "      <td>134.77</td>\n",
       "    </tr>\n",
       "    <tr>\n",
       "      <th>61183</th>\n",
       "      <td>4zViF</td>\n",
       "      <td>3.80</td>\n",
       "      <td>-0.89</td>\n",
       "      <td>1.99</td>\n",
       "      <td>53.91</td>\n",
       "    </tr>\n",
       "    <tr>\n",
       "      <th>20406</th>\n",
       "      <td>aygVo</td>\n",
       "      <td>5.35</td>\n",
       "      <td>-3.12</td>\n",
       "      <td>2.00</td>\n",
       "      <td>57.09</td>\n",
       "    </tr>\n",
       "    <tr>\n",
       "      <th>57804</th>\n",
       "      <td>N0X8T</td>\n",
       "      <td>16.11</td>\n",
       "      <td>-3.44</td>\n",
       "      <td>1.00</td>\n",
       "      <td>26.95</td>\n",
       "    </tr>\n",
       "  </tbody>\n",
       "</table>\n",
       "</div>"
      ],
      "text/plain": [
       "          id     f0    f1   f2  product\n",
       "30936  3kssT -17.18 -7.75 5.00   137.95\n",
       "65102  xUS2n   5.87  4.86 5.00   134.77\n",
       "61183  4zViF   3.80 -0.89 1.99    53.91\n",
       "20406  aygVo   5.35 -3.12 2.00    57.09\n",
       "57804  N0X8T  16.11 -3.44 1.00    26.95"
      ]
     },
     "metadata": {},
     "output_type": "display_data"
    },
    {
     "data": {
      "image/png": "[encoded data removed]",
      "text/plain": [
       "<Figure size 1080x720 with 4 Axes>"
      ]
     },
     "metadata": {
      "needs_background": "light"
     },
     "output_type": "display_data"
    },
    {
     "data": {
      "image/png": "[encoded data removed]",
      "text/plain": [
       "<Figure size 1080x720 with 2 Axes>"
      ]
     },
     "metadata": {
      "needs_background": "light"
     },
     "output_type": "display_data"
    },
    {
     "name": "stdout",
     "output_type": "stream",
     "text": [
      "Количество дубликатов в данных: 0\n",
      "Количество столбцов: 5, число записей: 100000\n",
      "<class 'pandas.core.frame.DataFrame'>\n",
      "RangeIndex: 100000 entries, 0 to 99999\n",
      "Data columns (total 5 columns):\n",
      " #   Column   Non-Null Count   Dtype  \n",
      "---  ------   --------------   -----  \n",
      " 0   id       100000 non-null  object \n",
      " 1   f0       100000 non-null  float64\n",
      " 2   f1       100000 non-null  float64\n",
      " 3   f2       100000 non-null  float64\n",
      " 4   product  100000 non-null  float64\n",
      "dtypes: float64(4), object(1)\n",
      "memory usage: 3.8+ MB\n"
     ]
    },
    {
     "data": {
      "text/plain": [
       "None"
      ]
     },
     "metadata": {},
     "output_type": "display_data"
    },
    {
     "data": {
      "text/html": [
       "<div>\n",
       "<style scoped>\n",
       "    .dataframe tbody tr th:only-of-type {\n",
       "        vertical-align: middle;\n",
       "    }\n",
       "\n",
       "    .dataframe tbody tr th {\n",
       "        vertical-align: top;\n",
       "    }\n",
       "\n",
       "    .dataframe thead th {\n",
       "        text-align: right;\n",
       "    }\n",
       "</style>\n",
       "<table border=\"1\" class=\"dataframe\">\n",
       "  <thead>\n",
       "    <tr style=\"text-align: right;\">\n",
       "      <th></th>\n",
       "      <th>f0</th>\n",
       "      <th>f1</th>\n",
       "      <th>f2</th>\n",
       "      <th>product</th>\n",
       "    </tr>\n",
       "  </thead>\n",
       "  <tbody>\n",
       "    <tr>\n",
       "      <th>count</th>\n",
       "      <td>100,000.00</td>\n",
       "      <td>100,000.00</td>\n",
       "      <td>100,000.00</td>\n",
       "      <td>100,000.00</td>\n",
       "    </tr>\n",
       "    <tr>\n",
       "      <th>mean</th>\n",
       "      <td>0.00</td>\n",
       "      <td>-0.00</td>\n",
       "      <td>2.50</td>\n",
       "      <td>95.00</td>\n",
       "    </tr>\n",
       "    <tr>\n",
       "      <th>std</th>\n",
       "      <td>1.73</td>\n",
       "      <td>1.73</td>\n",
       "      <td>3.47</td>\n",
       "      <td>44.75</td>\n",
       "    </tr>\n",
       "    <tr>\n",
       "      <th>min</th>\n",
       "      <td>-8.76</td>\n",
       "      <td>-7.08</td>\n",
       "      <td>-11.97</td>\n",
       "      <td>0.00</td>\n",
       "    </tr>\n",
       "    <tr>\n",
       "      <th>25%</th>\n",
       "      <td>-1.16</td>\n",
       "      <td>-1.17</td>\n",
       "      <td>0.13</td>\n",
       "      <td>59.45</td>\n",
       "    </tr>\n",
       "    <tr>\n",
       "      <th>50%</th>\n",
       "      <td>0.01</td>\n",
       "      <td>-0.01</td>\n",
       "      <td>2.48</td>\n",
       "      <td>94.93</td>\n",
       "    </tr>\n",
       "    <tr>\n",
       "      <th>75%</th>\n",
       "      <td>1.16</td>\n",
       "      <td>1.16</td>\n",
       "      <td>4.86</td>\n",
       "      <td>130.60</td>\n",
       "    </tr>\n",
       "    <tr>\n",
       "      <th>max</th>\n",
       "      <td>7.24</td>\n",
       "      <td>7.84</td>\n",
       "      <td>16.74</td>\n",
       "      <td>190.03</td>\n",
       "    </tr>\n",
       "  </tbody>\n",
       "</table>\n",
       "</div>"
      ],
      "text/plain": [
       "              f0         f1         f2    product\n",
       "count 100,000.00 100,000.00 100,000.00 100,000.00\n",
       "mean        0.00      -0.00       2.50      95.00\n",
       "std         1.73       1.73       3.47      44.75\n",
       "min        -8.76      -7.08     -11.97       0.00\n",
       "25%        -1.16      -1.17       0.13      59.45\n",
       "50%         0.01      -0.01       2.48      94.93\n",
       "75%         1.16       1.16       4.86     130.60\n",
       "max         7.24       7.84      16.74     190.03"
      ]
     },
     "metadata": {},
     "output_type": "display_data"
    },
    {
     "data": {
      "text/html": [
       "<div>\n",
       "<style scoped>\n",
       "    .dataframe tbody tr th:only-of-type {\n",
       "        vertical-align: middle;\n",
       "    }\n",
       "\n",
       "    .dataframe tbody tr th {\n",
       "        vertical-align: top;\n",
       "    }\n",
       "\n",
       "    .dataframe thead th {\n",
       "        text-align: right;\n",
       "    }\n",
       "</style>\n",
       "<table border=\"1\" class=\"dataframe\">\n",
       "  <thead>\n",
       "    <tr style=\"text-align: right;\">\n",
       "      <th></th>\n",
       "      <th>id</th>\n",
       "      <th>f0</th>\n",
       "      <th>f1</th>\n",
       "      <th>f2</th>\n",
       "      <th>product</th>\n",
       "    </tr>\n",
       "  </thead>\n",
       "  <tbody>\n",
       "    <tr>\n",
       "      <th>77796</th>\n",
       "      <td>geB6E</td>\n",
       "      <td>-1.81</td>\n",
       "      <td>1.03</td>\n",
       "      <td>3.26</td>\n",
       "      <td>143.77</td>\n",
       "    </tr>\n",
       "    <tr>\n",
       "      <th>94870</th>\n",
       "      <td>dXkYX</td>\n",
       "      <td>0.82</td>\n",
       "      <td>-1.78</td>\n",
       "      <td>1.76</td>\n",
       "      <td>6.79</td>\n",
       "    </tr>\n",
       "    <tr>\n",
       "      <th>47035</th>\n",
       "      <td>XUXRB</td>\n",
       "      <td>-1.08</td>\n",
       "      <td>-3.30</td>\n",
       "      <td>-2.32</td>\n",
       "      <td>76.62</td>\n",
       "    </tr>\n",
       "    <tr>\n",
       "      <th>20527</th>\n",
       "      <td>qYjPi</td>\n",
       "      <td>0.02</td>\n",
       "      <td>-4.54</td>\n",
       "      <td>2.56</td>\n",
       "      <td>155.88</td>\n",
       "    </tr>\n",
       "    <tr>\n",
       "      <th>54476</th>\n",
       "      <td>Y8tsS</td>\n",
       "      <td>1.64</td>\n",
       "      <td>-0.09</td>\n",
       "      <td>4.05</td>\n",
       "      <td>122.11</td>\n",
       "    </tr>\n",
       "  </tbody>\n",
       "</table>\n",
       "</div>"
      ],
      "text/plain": [
       "          id    f0    f1    f2  product\n",
       "77796  geB6E -1.81  1.03  3.26   143.77\n",
       "94870  dXkYX  0.82 -1.78  1.76     6.79\n",
       "47035  XUXRB -1.08 -3.30 -2.32    76.62\n",
       "20527  qYjPi  0.02 -4.54  2.56   155.88\n",
       "54476  Y8tsS  1.64 -0.09  4.05   122.11"
      ]
     },
     "metadata": {},
     "output_type": "display_data"
    },
    {
     "data": {
      "image/png": "[encoded data removed]",
      "text/plain": [
       "<Figure size 1080x720 with 4 Axes>"
      ]
     },
     "metadata": {
      "needs_background": "light"
     },
     "output_type": "display_data"
    },
    {
     "data": {
      "image/png": "[encoded data removed]",
      "text/plain": [
       "<Figure size 1080x720 with 2 Axes>"
      ]
     },
     "metadata": {
      "needs_background": "light"
     },
     "output_type": "display_data"
    },
    {
     "name": "stdout",
     "output_type": "stream",
     "text": [
      "Количество дубликатов в данных: 0\n",
      "Количество столбцов: 5, число записей: 100000\n"
     ]
    }
   ],
   "source": [
    "first_look(df0)\n",
    "first_look(df1)\n",
    "first_look(df2)"
   ]
  },
  {
   "cell_type": "markdown",
   "metadata": {
    "pycharm": {
     "name": "#%% md\n"
    }
   },
   "source": [
    "В таблицах отсутствуют пропуски. Все данные, кроме колонки `id` имеют численное значение. Столбец `id` не несет информации для обучения модели. Для региона 1, признак `f2` имеет высокую корреляцию с целевым признаком."
   ]
  },
  {
   "cell_type": "markdown",
   "metadata": {
    "pycharm": {
     "name": "#%% md\n"
    }
   },
   "source": [
    "## Обучение и проверка модели"
   ]
  },
  {
   "cell_type": "markdown",
   "metadata": {
    "pycharm": {
     "name": "#%% md\n"
    }
   },
   "source": [
    "Удалим столбец `id` из данных по всем регионам."
   ]
  },
  {
   "cell_type": "code",
   "execution_count": 7,
   "metadata": {
    "pycharm": {
     "name": "#%%\n"
    }
   },
   "outputs": [],
   "source": [
    "df0.drop(['id'], axis='columns', inplace=True)\n",
    "df1.drop(['id'], axis='columns', inplace=True)\n",
    "df2.drop(['id'], axis='columns', inplace=True)"
   ]
  },
  {
   "cell_type": "markdown",
   "metadata": {
    "pycharm": {
     "name": "#%% md\n"
    }
   },
   "source": [
    "Выделим из данных целевой признак и разобьём данные на обучающую и валидационную выборки."
   ]
  },
  {
   "cell_type": "code",
   "execution_count": 8,
   "metadata": {
    "pycharm": {
     "name": "#%%\n"
    }
   },
   "outputs": [
    {
     "name": "stdout",
     "output_type": "stream",
     "text": [
      "Данные разбиты в соотношении: 0.75:0.25\n"
     ]
    }
   ],
   "source": [
    "# выделим целевой признак\n",
    "target_0 = df0['product']\n",
    "target_1 = df1['product']\n",
    "target_2 = df2['product']\n",
    "\n",
    "# создадим признаки для модели\n",
    "features_0 = df0.drop('product', axis=1)\n",
    "features_1 = df1.drop('product', axis=1)\n",
    "features_2 = df2.drop('product', axis=1)\n",
    "\n",
    "# отделим обучающий (train) и проверочный (valid) датасеты\n",
    "features_train_0, features_valid_0, target_train_0, target_valid_0 = train_test_split(features_0, target_0, test_size=0.25, random_state=MY_SEED)\n",
    "features_train_1, features_valid_1, target_train_1, target_valid_1 = train_test_split(features_1, target_1, test_size=0.25, random_state=MY_SEED)\n",
    "features_train_2, features_valid_2, target_train_2, target_valid_2 = train_test_split(features_2, target_2, test_size=0.25, random_state=MY_SEED)\n",
    "\n",
    "# выведем сведения о разбивке данных\n",
    "print(f'Данные разбиты в соотношении: '\n",
    "      f'{len(features_train_0) / len(features_0):.2f}:'\n",
    "      f'{len(features_valid_0) / len(features_0):.2f}')"
   ]
  },
  {
   "cell_type": "markdown",
   "metadata": {
    "pycharm": {
     "name": "#%% md\n"
    }
   },
   "source": [
    "Маcштабируем признаки, используя один из методов масштабирования — стандартизации данных.\n",
    "В *sklearn* есть отдельная структура для стандартизации данных — *StandardScaler()*."
   ]
  },
  {
   "cell_type": "code",
   "execution_count": 9,
   "metadata": {
    "pycharm": {
     "name": "#%%\n"
    }
   },
   "outputs": [],
   "source": [
    "scaler = StandardScaler()\n",
    "\n",
    "# масштабируем обучающие выборки\n",
    "features_train_0 = scaler.fit_transform(features_train_0)\n",
    "features_train_1 = scaler.fit_transform(features_train_1)\n",
    "features_train_2 = scaler.fit_transform(features_train_2)\n",
    "\n",
    "# масштабируем проверочные выборки\n",
    "features_valid_0 = scaler.fit_transform(features_valid_0)\n",
    "features_valid_1 = scaler.fit_transform(features_valid_1)\n",
    "features_valid_2 = scaler.fit_transform(features_valid_2)"
   ]
  },
  {
   "cell_type": "markdown",
   "metadata": {
    "pycharm": {
     "name": "#%% md\n"
    }
   },
   "source": [
    "Данная задача относиться к задачам регрессии. Обучим модель *'Линейная регрессия'* для каждого региона.\n",
    "Напишем функцию *oil_reserves()*, которая обучит модель, сделает предсказание, выведет средний запас нефти по региону, рассчитает *RMSE* модели и вернёт массив предсказаний модели по региону."
   ]
  },
  {
   "cell_type": "code",
   "execution_count": 10,
   "metadata": {
    "pycharm": {
     "name": "#%%\n"
    }
   },
   "outputs": [],
   "source": [
    "# -----------------------------------------------------------------------------------------\n",
    "# функция расчёта запасов нефти и RMSE по региону\n",
    "# -----------------------------------------------------------------------------------------\n",
    "def oil_reserves(features_train, target_train, features_valid, target_valid):\n",
    "    model = LinearRegression().fit(features_train, target_train)\n",
    "    predicted = model.predict(features_valid)\n",
    "    rmse = (mean_squared_error(target_valid, predicted)) ** 0.5\n",
    "    print(f'Средний запас предсказанного сырья в регионе: {predicted.mean():.2f} тыс. баррелей')\n",
    "    print(f'RMSE модели {rmse:.2f}')\n",
    "    return predicted"
   ]
  },
  {
   "cell_type": "markdown",
   "metadata": {
    "pycharm": {
     "name": "#%% md\n"
    }
   },
   "source": [
    "Выведем данные по каждому региону."
   ]
  },
  {
   "cell_type": "code",
   "execution_count": 11,
   "metadata": {
    "pycharm": {
     "name": "#%%\n"
    }
   },
   "outputs": [
    {
     "name": "stdout",
     "output_type": "stream",
     "text": [
      "Регион 0\n",
      "Средний запас предсказанного сырья в регионе: 92.58 тыс. баррелей\n",
      "RMSE модели 37.63\n",
      "\n",
      "Регион 1\n",
      "Средний запас предсказанного сырья в регионе: 69.00 тыс. баррелей\n",
      "RMSE модели 1.12\n",
      "\n",
      "Регион 2\n",
      "Средний запас предсказанного сырья в регионе: 95.01 тыс. баррелей\n",
      "RMSE модели 40.22\n"
     ]
    }
   ],
   "source": [
    "print('Регион 0')\n",
    "predicted_0 = oil_reserves(features_train_0, target_train_0, features_valid_0, target_valid_0)\n",
    "print()\n",
    "\n",
    "print('Регион 1')\n",
    "predicted_1 = oil_reserves(features_train_1, target_train_1, features_valid_1, target_valid_1)\n",
    "print()\n",
    "\n",
    "print('Регион 2')\n",
    "predicted_2 = oil_reserves(features_train_2, target_train_2, features_valid_2, target_valid_2)"
   ]
  },
  {
   "cell_type": "markdown",
   "metadata": {
    "pycharm": {
     "name": "#%% md\n"
    }
   },
   "source": [
    "Лучшее значение метрики *RMSE* показала модель для региона №1 - `1.12`."
   ]
  },
  {
   "cell_type": "markdown",
   "metadata": {
    "pycharm": {
     "name": "#%% md\n"
    }
   },
   "source": [
    "## Подготовка к расчёту прибыли"
   ]
  },
  {
   "cell_type": "markdown",
   "metadata": {
    "pycharm": {
     "name": "#%% md\n"
    }
   },
   "source": [
    "Рассчитаем минимальный средний объём сырья в месторождениях региона, достаточный для его безубыточной разработки. По условиям у нас есть следующие данные:\n",
    "\n",
    "- При разведке региона исследуют 500 точек;\n",
    "- Выбирают 200 лучших точек для разработки;\n",
    "- Бюджет на разработку скважин в регионе — 10 млрд. рублей;\n",
    "- Доход с каждой единицы продукта составляет 450 тыс. рублей.\n",
    "- Количество *bootstrap* выборок - 1000;\n",
    "- Доверительный интервал 95%."
   ]
  },
  {
   "cell_type": "code",
   "execution_count": 12,
   "metadata": {
    "pycharm": {
     "name": "#%%\n"
    }
   },
   "outputs": [
    {
     "name": "stdout",
     "output_type": "stream",
     "text": [
      "Достаточный объём сырья для безубыточной разработки новой скважины: 111.11 тыс. баррелей\n"
     ]
    }
   ],
   "source": [
    "# сбросим индексы целевого признака в валидационной выборке для каждого региона:\n",
    "target_valid_0.reset_index(drop=True, inplace=True)\n",
    "target_valid_1.reset_index(drop=True, inplace=True)\n",
    "target_valid_2.reset_index(drop=True, inplace=True)\n",
    "\n",
    "# переведем предсказания в валидационной выборке в pd.Series:\n",
    "predicted_0 = pd.Series(predicted_0)\n",
    "predicted_1 = pd.Series(predicted_1)\n",
    "predicted_2 = pd.Series(predicted_2)\n",
    "\n",
    "# сохраним все ключевые значения для расчётов в отдельных глобальных переменных\n",
    "POINTS = 500                                # количество точек исследования\n",
    "TOP_POINTS = 200                            # количество лучших точек для разработки\n",
    "BUDGET = 10000000000                        # бюджет на разработку\n",
    "PROFIT = 450000                             # доход\n",
    "BOOTSTRAP_SAMPLES = 1000                    # количество bootstrap выборок\n",
    "ALPHA = 0.05                                # альфа-квантиль\n",
    "STATE = np.random.RandomState(MY_SEED)      # контейнер для генератора случайных чисел\n",
    "\n",
    "zero_profit_value = BUDGET / (TOP_POINTS * PROFIT)\n",
    "print (f'Достаточный объём сырья для безубыточной разработки новой скважины: {zero_profit_value:.2f} тыс. баррелей')"
   ]
  },
  {
   "cell_type": "markdown",
   "metadata": {
    "pycharm": {
     "name": "#%% md\n"
    }
   },
   "source": [
    "Данное значение превышает средние значения запасов скважин во всех регионах.\n",
    "\n",
    "Напишем функцию для расчёта прибыли по набору отобранных месторождений и предсказаний модели, которая принимает на вход истинные значения целевого признака, предсказания и количество скважин, возвращает общую прибыль в миллионах рублей."
   ]
  },
  {
   "cell_type": "code",
   "execution_count": 13,
   "metadata": {
    "pycharm": {
     "name": "#%%\n"
    }
   },
   "outputs": [],
   "source": [
    "# -----------------------------------------------------------------------------------------\n",
    "# функция расчёта прибыли (в миллионах рублей)\n",
    "# по набору отобранных месторождений и предсказаний модели\n",
    "# -----------------------------------------------------------------------------------------\n",
    "def revenue(target, probabilities, count):\n",
    "    probs_sorted = probabilities.sort_values(ascending=False)\n",
    "    # выбираем лучшие в количестве count штук\n",
    "    selected = target[probs_sorted.index][:count]\n",
    "    # считаем и возвращаем прибыль в миллионах рублей\n",
    "    return (PROFIT * selected.sum() - BUDGET) / 1e6"
   ]
  },
  {
   "cell_type": "markdown",
   "metadata": {
    "pycharm": {
     "name": "#%% md\n"
    }
   },
   "source": [
    "Данные подготовлены для *Bootstrap* и статистического анализа."
   ]
  },
  {
   "cell_type": "markdown",
   "metadata": {
    "pycharm": {
     "name": "#%% md\n"
    }
   },
   "source": [
    "## Расчёт прибыли и рисков"
   ]
  },
  {
   "cell_type": "markdown",
   "metadata": {
    "pycharm": {
     "name": "#%% md\n"
    }
   },
   "source": [
    "Посчитаем риски и прибыль для каждого региона.\n",
    "\n",
    "Применим технику *Bootstrap* для 1000 выборок, чтобы найти распределение прибыли.\n",
    "Найдём среднюю прибыль, 95%-й доверительный интервал и риск убытков. Убыток — это отрицательная прибыль.\n",
    "\n",
    "Создадим функцию для подсчета результатов."
   ]
  },
  {
   "cell_type": "code",
   "execution_count": 14,
   "metadata": {
    "pycharm": {
     "name": "#%%\n"
    }
   },
   "outputs": [],
   "source": [
    "# -----------------------------------------------------------------------------------------\n",
    "# функция расчёта средней прибыли техникой bootstrap,\n",
    "# доверительного интервала и риска убытков по региону\n",
    "# -----------------------------------------------------------------------------------------\n",
    "def distribution_revenue(target, probabilities):\n",
    "\n",
    "    values = []\n",
    "\n",
    "    for _ in range(BOOTSTRAP_SAMPLES):\n",
    "        target_subsample = target.sample(n=POINTS, replace=True, random_state=STATE)\n",
    "        probs_subsample = probabilities[target_subsample.index]\n",
    "        values.append(revenue(target_subsample, probs_subsample, TOP_POINTS))\n",
    "\n",
    "    values = pd.Series(values)\n",
    "\n",
    "    print(f'Средняя прибыль: {values.mean():.2f} млн.руб.')\n",
    "\n",
    "    lower = values.quantile(ALPHA/2)\n",
    "    upper = values.quantile(1-ALPHA/2)\n",
    "    print(f'95%-й доверительный интервал: {lower:.2f} - {upper:.2f} млн.руб.')\n",
    "\n",
    "    print(f'Риск получения убытков: {(values < 0).mean():.2%}')\n",
    "    return"
   ]
  },
  {
   "cell_type": "markdown",
   "metadata": {
    "pycharm": {
     "name": "#%% md\n"
    }
   },
   "source": [
    "Выведем расчёты средней прибыли, доверительного интервала и риска убытков для каждого региона."
   ]
  },
  {
   "cell_type": "code",
   "execution_count": 15,
   "metadata": {
    "pycharm": {
     "name": "#%%\n"
    },
    "scrolled": true
   },
   "outputs": [
    {
     "name": "stdout",
     "output_type": "stream",
     "text": [
      "Регион 0\n",
      "Средняя прибыль: 423.95 млн.руб.\n",
      "95%-й доверительный интервал: -52.21 - 933.25 млн.руб.\n",
      "Риск получения убытков: 4.70%\n",
      "\n",
      "Регион 1\n",
      "Средняя прибыль: 483.74 млн.руб.\n",
      "95%-й доверительный интервал: 60.37 - 902.24 млн.руб.\n",
      "Риск получения убытков: 0.90%\n",
      "\n",
      "Регион 2\n",
      "Средняя прибыль: 381.83 млн.руб.\n",
      "95%-й доверительный интервал: -201.03 - 940.73 млн.руб.\n",
      "Риск получения убытков: 8.60%\n"
     ]
    }
   ],
   "source": [
    "print('Регион 0')\n",
    "distribution_revenue(target_valid_0, predicted_0)\n",
    "print()\n",
    "print('Регион 1')\n",
    "distribution_revenue(target_valid_1, predicted_1)\n",
    "print()\n",
    "print('Регион 2')\n",
    "distribution_revenue(target_valid_2, predicted_2)"
   ]
  },
  {
   "cell_type": "markdown",
   "metadata": {
    "pycharm": {
     "name": "#%% md\n"
    }
   },
   "source": [
    "## Выводы"
   ]
  },
  {
   "cell_type": "markdown",
   "metadata": {
    "pycharm": {
     "name": "#%% md\n"
    }
   },
   "source": [
    "В регионе 0 и регионе 2 достаточно высокий средний показатель запаса предсказанного сырья. Однако, значение *RMSE* для данных регионов также высоко (**37.63** и **40.22** соответственно). Это свидетельствует о неоднозначности показателя, неточности модели регрессии.\n",
    "В регионе 1 средний показатель запаса предсказанного сырья составляет **69** тыс. баррелей (ниже остальных регионов). Однако значение *RMSE* в данном регионе также небольшое **1.12**. Это говорит о точности предсказаний и качестве построенной модели для данного региона.\n",
    "Средние показатели предсказанного сырья для одной скважины ниже теоретически необходимых *111.11* тыс. баррелей.\n",
    "\n",
    "При применении техники *bootstrap*:\n",
    "Оценка средней прибыли максимальна для региона 1: **483.74** млн. рублей.\n",
    "Только регион 1 прогнозирует прибыльную разработку по 95% доверительному интервалу.\n",
    "Риск убытков для региона 1: **0.9%**.\n",
    "\n",
    "Для остальных регионов риск получить убыток значительно выше.\n",
    "\n",
    "**Исходя из этих расчётов, только регион 1 можно рекомендовать для добычи нефти.**"
   ]
  },
  {
   "cell_type": "markdown",
   "metadata": {
    "pycharm": {
     "name": "#%% md\n"
    }
   },
   "source": [
    "## Чек-лист готовности проекта"
   ]
  },
  {
   "cell_type": "markdown",
   "metadata": {
    "pycharm": {
     "name": "#%% md\n"
    }
   },
   "source": [
    "Поставьте 'x' в выполненных пунктах. Далее нажмите Shift+Enter."
   ]
  },
  {
   "cell_type": "markdown",
   "metadata": {
    "pycharm": {
     "name": "#%% md\n"
    }
   },
   "source": [
    "- [x]  Jupyter Notebook открыт\n",
    "- [x]  Весь код выполняется без ошибок\n",
    "- [x]  Ячейки с кодом расположены в порядке исполнения\n",
    "- [x]  Выполнен шаг 1: данные подготовлены\n",
    "- [x]  Выполнен шаг 2: модели обучены и проверены\n",
    "    - [x]  Данные корректно разбиты на обучающую и валидационную выборки\n",
    "    - [x]  Модели обучены, предсказания сделаны\n",
    "    - [x]  Предсказания и правильные ответы на валидационной выборке сохранены\n",
    "    - [x]  На экране напечатаны результаты\n",
    "    - [x]  Сделаны выводы\n",
    "- [x]  Выполнен шаг 3: проведена подготовка к расчёту прибыли\n",
    "    - [x]  Для всех ключевых значений созданы константы Python\n",
    "    - [x]  Посчитано минимальное среднее количество продукта в месторождениях региона, достаточное для разработки\n",
    "    - [x]  По предыдущему пункту сделаны выводы\n",
    "    - [x]  Написана функция расчёта прибыли\n",
    "- [x]  Выполнен шаг 4: посчитаны риски и прибыль\n",
    "    - [x]  Проведена процедура *Bootstrap*\n",
    "    - [x]  Все параметры бутстрепа соответствуют условию\n",
    "    - [x]  Найдены все нужные величины\n",
    "    - [x]  Предложен регион для разработки месторождения\n",
    "    - [x]  Выбор региона обоснован"
   ]
  }
 ],
 "metadata": {
  "kernelspec": {
   "display_name": "Python 3 (ipykernel)",
   "language": "python",
   "name": "python3"
  },
  "language_info": {
   "codemirror_mode": {
    "name": "ipython",
    "version": 3
   },
   "file_extension": ".py",
   "mimetype": "text/x-python",
   "name": "python",
   "nbconvert_exporter": "python",
   "pygments_lexer": "ipython3",
   "version": "3.9.5"
  },
  "toc": {
   "base_numbering": 1,
   "nav_menu": {},
   "number_sections": true,
   "sideBar": true,
   "skip_h1_title": true,
   "title_cell": "Table of Contents",
   "title_sidebar": "Contents",
   "toc_cell": false,
   "toc_position": {},
   "toc_section_display": true,
   "toc_window_display": false
  }
 },
 "nbformat": 4,
 "nbformat_minor": 1
}